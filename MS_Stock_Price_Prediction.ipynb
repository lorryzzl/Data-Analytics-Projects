{
  "nbformat": 4,
  "nbformat_minor": 0,
  "metadata": {
    "colab": {
      "provenance": []
    },
    "kernelspec": {
      "name": "python3",
      "display_name": "Python 3"
    },
    "language_info": {
      "name": "python"
    }
  },
  "cells": [
    {
      "cell_type": "code",
      "execution_count": 20,
      "metadata": {
        "id": "TL5mQXqprxLD"
      },
      "outputs": [],
      "source": [
        "import pandas as pd\n",
        "df = pd.read_csv(\"/content/MSFT.csv\")"
      ]
    },
    {
      "cell_type": "code",
      "source": [
        "df"
      ],
      "metadata": {
        "colab": {
          "base_uri": "https://localhost:8080/",
          "height": 424
        },
        "id": "h8qALrPVsb3B",
        "outputId": "b2eae1bc-44d2-4a56-e0a2-be5b5a9fe854"
      },
      "execution_count": 21,
      "outputs": [
        {
          "output_type": "execute_result",
          "data": {
            "text/plain": [
              "            Date        Open        High         Low       Close   Adj Close  \\\n",
              "0     1986-03-13    0.088542    0.101563    0.088542    0.097222    0.060980   \n",
              "1     1986-03-14    0.097222    0.102431    0.097222    0.100694    0.063158   \n",
              "2     1986-03-17    0.100694    0.103299    0.100694    0.102431    0.064247   \n",
              "3     1986-03-18    0.102431    0.103299    0.098958    0.099826    0.062613   \n",
              "4     1986-03-19    0.099826    0.100694    0.097222    0.098090    0.061524   \n",
              "...          ...         ...         ...         ...         ...         ...   \n",
              "9209  2022-09-26  237.050003  241.449997  236.899994  237.449997  237.449997   \n",
              "9210  2022-09-27  239.979996  241.800003  234.500000  236.410004  236.410004   \n",
              "9211  2022-09-28  236.809998  242.330002  234.729996  241.070007  241.070007   \n",
              "9212  2022-09-29  238.889999  239.949997  234.410004  237.500000  237.500000   \n",
              "9213  2022-09-30  238.289993  240.539993  232.729996  232.899994  232.899994   \n",
              "\n",
              "          Volume  \n",
              "0     1031788800  \n",
              "1      308160000  \n",
              "2      133171200  \n",
              "3       67766400  \n",
              "4       47894400  \n",
              "...          ...  \n",
              "9209    27694200  \n",
              "9210    27018700  \n",
              "9211    29029700  \n",
              "9212    27484200  \n",
              "9213    35671100  \n",
              "\n",
              "[9214 rows x 7 columns]"
            ],
            "text/html": [
              "\n",
              "  <div id=\"df-81af5e9f-9a3f-497c-9222-3fcb3a8f8deb\">\n",
              "    <div class=\"colab-df-container\">\n",
              "      <div>\n",
              "<style scoped>\n",
              "    .dataframe tbody tr th:only-of-type {\n",
              "        vertical-align: middle;\n",
              "    }\n",
              "\n",
              "    .dataframe tbody tr th {\n",
              "        vertical-align: top;\n",
              "    }\n",
              "\n",
              "    .dataframe thead th {\n",
              "        text-align: right;\n",
              "    }\n",
              "</style>\n",
              "<table border=\"1\" class=\"dataframe\">\n",
              "  <thead>\n",
              "    <tr style=\"text-align: right;\">\n",
              "      <th></th>\n",
              "      <th>Date</th>\n",
              "      <th>Open</th>\n",
              "      <th>High</th>\n",
              "      <th>Low</th>\n",
              "      <th>Close</th>\n",
              "      <th>Adj Close</th>\n",
              "      <th>Volume</th>\n",
              "    </tr>\n",
              "  </thead>\n",
              "  <tbody>\n",
              "    <tr>\n",
              "      <th>0</th>\n",
              "      <td>1986-03-13</td>\n",
              "      <td>0.088542</td>\n",
              "      <td>0.101563</td>\n",
              "      <td>0.088542</td>\n",
              "      <td>0.097222</td>\n",
              "      <td>0.060980</td>\n",
              "      <td>1031788800</td>\n",
              "    </tr>\n",
              "    <tr>\n",
              "      <th>1</th>\n",
              "      <td>1986-03-14</td>\n",
              "      <td>0.097222</td>\n",
              "      <td>0.102431</td>\n",
              "      <td>0.097222</td>\n",
              "      <td>0.100694</td>\n",
              "      <td>0.063158</td>\n",
              "      <td>308160000</td>\n",
              "    </tr>\n",
              "    <tr>\n",
              "      <th>2</th>\n",
              "      <td>1986-03-17</td>\n",
              "      <td>0.100694</td>\n",
              "      <td>0.103299</td>\n",
              "      <td>0.100694</td>\n",
              "      <td>0.102431</td>\n",
              "      <td>0.064247</td>\n",
              "      <td>133171200</td>\n",
              "    </tr>\n",
              "    <tr>\n",
              "      <th>3</th>\n",
              "      <td>1986-03-18</td>\n",
              "      <td>0.102431</td>\n",
              "      <td>0.103299</td>\n",
              "      <td>0.098958</td>\n",
              "      <td>0.099826</td>\n",
              "      <td>0.062613</td>\n",
              "      <td>67766400</td>\n",
              "    </tr>\n",
              "    <tr>\n",
              "      <th>4</th>\n",
              "      <td>1986-03-19</td>\n",
              "      <td>0.099826</td>\n",
              "      <td>0.100694</td>\n",
              "      <td>0.097222</td>\n",
              "      <td>0.098090</td>\n",
              "      <td>0.061524</td>\n",
              "      <td>47894400</td>\n",
              "    </tr>\n",
              "    <tr>\n",
              "      <th>...</th>\n",
              "      <td>...</td>\n",
              "      <td>...</td>\n",
              "      <td>...</td>\n",
              "      <td>...</td>\n",
              "      <td>...</td>\n",
              "      <td>...</td>\n",
              "      <td>...</td>\n",
              "    </tr>\n",
              "    <tr>\n",
              "      <th>9209</th>\n",
              "      <td>2022-09-26</td>\n",
              "      <td>237.050003</td>\n",
              "      <td>241.449997</td>\n",
              "      <td>236.899994</td>\n",
              "      <td>237.449997</td>\n",
              "      <td>237.449997</td>\n",
              "      <td>27694200</td>\n",
              "    </tr>\n",
              "    <tr>\n",
              "      <th>9210</th>\n",
              "      <td>2022-09-27</td>\n",
              "      <td>239.979996</td>\n",
              "      <td>241.800003</td>\n",
              "      <td>234.500000</td>\n",
              "      <td>236.410004</td>\n",
              "      <td>236.410004</td>\n",
              "      <td>27018700</td>\n",
              "    </tr>\n",
              "    <tr>\n",
              "      <th>9211</th>\n",
              "      <td>2022-09-28</td>\n",
              "      <td>236.809998</td>\n",
              "      <td>242.330002</td>\n",
              "      <td>234.729996</td>\n",
              "      <td>241.070007</td>\n",
              "      <td>241.070007</td>\n",
              "      <td>29029700</td>\n",
              "    </tr>\n",
              "    <tr>\n",
              "      <th>9212</th>\n",
              "      <td>2022-09-29</td>\n",
              "      <td>238.889999</td>\n",
              "      <td>239.949997</td>\n",
              "      <td>234.410004</td>\n",
              "      <td>237.500000</td>\n",
              "      <td>237.500000</td>\n",
              "      <td>27484200</td>\n",
              "    </tr>\n",
              "    <tr>\n",
              "      <th>9213</th>\n",
              "      <td>2022-09-30</td>\n",
              "      <td>238.289993</td>\n",
              "      <td>240.539993</td>\n",
              "      <td>232.729996</td>\n",
              "      <td>232.899994</td>\n",
              "      <td>232.899994</td>\n",
              "      <td>35671100</td>\n",
              "    </tr>\n",
              "  </tbody>\n",
              "</table>\n",
              "<p>9214 rows × 7 columns</p>\n",
              "</div>\n",
              "      <button class=\"colab-df-convert\" onclick=\"convertToInteractive('df-81af5e9f-9a3f-497c-9222-3fcb3a8f8deb')\"\n",
              "              title=\"Convert this dataframe to an interactive table.\"\n",
              "              style=\"display:none;\">\n",
              "        \n",
              "  <svg xmlns=\"http://www.w3.org/2000/svg\" height=\"24px\"viewBox=\"0 0 24 24\"\n",
              "       width=\"24px\">\n",
              "    <path d=\"M0 0h24v24H0V0z\" fill=\"none\"/>\n",
              "    <path d=\"M18.56 5.44l.94 2.06.94-2.06 2.06-.94-2.06-.94-.94-2.06-.94 2.06-2.06.94zm-11 1L8.5 8.5l.94-2.06 2.06-.94-2.06-.94L8.5 2.5l-.94 2.06-2.06.94zm10 10l.94 2.06.94-2.06 2.06-.94-2.06-.94-.94-2.06-.94 2.06-2.06.94z\"/><path d=\"M17.41 7.96l-1.37-1.37c-.4-.4-.92-.59-1.43-.59-.52 0-1.04.2-1.43.59L10.3 9.45l-7.72 7.72c-.78.78-.78 2.05 0 2.83L4 21.41c.39.39.9.59 1.41.59.51 0 1.02-.2 1.41-.59l7.78-7.78 2.81-2.81c.8-.78.8-2.07 0-2.86zM5.41 20L4 18.59l7.72-7.72 1.47 1.35L5.41 20z\"/>\n",
              "  </svg>\n",
              "      </button>\n",
              "      \n",
              "  <style>\n",
              "    .colab-df-container {\n",
              "      display:flex;\n",
              "      flex-wrap:wrap;\n",
              "      gap: 12px;\n",
              "    }\n",
              "\n",
              "    .colab-df-convert {\n",
              "      background-color: #E8F0FE;\n",
              "      border: none;\n",
              "      border-radius: 50%;\n",
              "      cursor: pointer;\n",
              "      display: none;\n",
              "      fill: #1967D2;\n",
              "      height: 32px;\n",
              "      padding: 0 0 0 0;\n",
              "      width: 32px;\n",
              "    }\n",
              "\n",
              "    .colab-df-convert:hover {\n",
              "      background-color: #E2EBFA;\n",
              "      box-shadow: 0px 1px 2px rgba(60, 64, 67, 0.3), 0px 1px 3px 1px rgba(60, 64, 67, 0.15);\n",
              "      fill: #174EA6;\n",
              "    }\n",
              "\n",
              "    [theme=dark] .colab-df-convert {\n",
              "      background-color: #3B4455;\n",
              "      fill: #D2E3FC;\n",
              "    }\n",
              "\n",
              "    [theme=dark] .colab-df-convert:hover {\n",
              "      background-color: #434B5C;\n",
              "      box-shadow: 0px 1px 3px 1px rgba(0, 0, 0, 0.15);\n",
              "      filter: drop-shadow(0px 1px 2px rgba(0, 0, 0, 0.3));\n",
              "      fill: #FFFFFF;\n",
              "    }\n",
              "  </style>\n",
              "\n",
              "      <script>\n",
              "        const buttonEl =\n",
              "          document.querySelector('#df-81af5e9f-9a3f-497c-9222-3fcb3a8f8deb button.colab-df-convert');\n",
              "        buttonEl.style.display =\n",
              "          google.colab.kernel.accessAllowed ? 'block' : 'none';\n",
              "\n",
              "        async function convertToInteractive(key) {\n",
              "          const element = document.querySelector('#df-81af5e9f-9a3f-497c-9222-3fcb3a8f8deb');\n",
              "          const dataTable =\n",
              "            await google.colab.kernel.invokeFunction('convertToInteractive',\n",
              "                                                     [key], {});\n",
              "          if (!dataTable) return;\n",
              "\n",
              "          const docLinkHtml = 'Like what you see? Visit the ' +\n",
              "            '<a target=\"_blank\" href=https://colab.research.google.com/notebooks/data_table.ipynb>data table notebook</a>'\n",
              "            + ' to learn more about interactive tables.';\n",
              "          element.innerHTML = '';\n",
              "          dataTable['output_type'] = 'display_data';\n",
              "          await google.colab.output.renderOutput(dataTable, element);\n",
              "          const docLink = document.createElement('div');\n",
              "          docLink.innerHTML = docLinkHtml;\n",
              "          element.appendChild(docLink);\n",
              "        }\n",
              "      </script>\n",
              "    </div>\n",
              "  </div>\n",
              "  "
            ]
          },
          "metadata": {},
          "execution_count": 21
        }
      ]
    },
    {
      "cell_type": "code",
      "source": [
        "df = df[['Date', 'Close']]\n",
        "df"
      ],
      "metadata": {
        "colab": {
          "base_uri": "https://localhost:8080/",
          "height": 424
        },
        "id": "NUJl31otslAr",
        "outputId": "90a6ee22-ffdf-4bef-cd63-c6768806b2c1"
      },
      "execution_count": 22,
      "outputs": [
        {
          "output_type": "execute_result",
          "data": {
            "text/plain": [
              "            Date       Close\n",
              "0     1986-03-13    0.097222\n",
              "1     1986-03-14    0.100694\n",
              "2     1986-03-17    0.102431\n",
              "3     1986-03-18    0.099826\n",
              "4     1986-03-19    0.098090\n",
              "...          ...         ...\n",
              "9209  2022-09-26  237.449997\n",
              "9210  2022-09-27  236.410004\n",
              "9211  2022-09-28  241.070007\n",
              "9212  2022-09-29  237.500000\n",
              "9213  2022-09-30  232.899994\n",
              "\n",
              "[9214 rows x 2 columns]"
            ],
            "text/html": [
              "\n",
              "  <div id=\"df-5fc20129-3fcd-4174-b100-a8730c4c4aaa\">\n",
              "    <div class=\"colab-df-container\">\n",
              "      <div>\n",
              "<style scoped>\n",
              "    .dataframe tbody tr th:only-of-type {\n",
              "        vertical-align: middle;\n",
              "    }\n",
              "\n",
              "    .dataframe tbody tr th {\n",
              "        vertical-align: top;\n",
              "    }\n",
              "\n",
              "    .dataframe thead th {\n",
              "        text-align: right;\n",
              "    }\n",
              "</style>\n",
              "<table border=\"1\" class=\"dataframe\">\n",
              "  <thead>\n",
              "    <tr style=\"text-align: right;\">\n",
              "      <th></th>\n",
              "      <th>Date</th>\n",
              "      <th>Close</th>\n",
              "    </tr>\n",
              "  </thead>\n",
              "  <tbody>\n",
              "    <tr>\n",
              "      <th>0</th>\n",
              "      <td>1986-03-13</td>\n",
              "      <td>0.097222</td>\n",
              "    </tr>\n",
              "    <tr>\n",
              "      <th>1</th>\n",
              "      <td>1986-03-14</td>\n",
              "      <td>0.100694</td>\n",
              "    </tr>\n",
              "    <tr>\n",
              "      <th>2</th>\n",
              "      <td>1986-03-17</td>\n",
              "      <td>0.102431</td>\n",
              "    </tr>\n",
              "    <tr>\n",
              "      <th>3</th>\n",
              "      <td>1986-03-18</td>\n",
              "      <td>0.099826</td>\n",
              "    </tr>\n",
              "    <tr>\n",
              "      <th>4</th>\n",
              "      <td>1986-03-19</td>\n",
              "      <td>0.098090</td>\n",
              "    </tr>\n",
              "    <tr>\n",
              "      <th>...</th>\n",
              "      <td>...</td>\n",
              "      <td>...</td>\n",
              "    </tr>\n",
              "    <tr>\n",
              "      <th>9209</th>\n",
              "      <td>2022-09-26</td>\n",
              "      <td>237.449997</td>\n",
              "    </tr>\n",
              "    <tr>\n",
              "      <th>9210</th>\n",
              "      <td>2022-09-27</td>\n",
              "      <td>236.410004</td>\n",
              "    </tr>\n",
              "    <tr>\n",
              "      <th>9211</th>\n",
              "      <td>2022-09-28</td>\n",
              "      <td>241.070007</td>\n",
              "    </tr>\n",
              "    <tr>\n",
              "      <th>9212</th>\n",
              "      <td>2022-09-29</td>\n",
              "      <td>237.500000</td>\n",
              "    </tr>\n",
              "    <tr>\n",
              "      <th>9213</th>\n",
              "      <td>2022-09-30</td>\n",
              "      <td>232.899994</td>\n",
              "    </tr>\n",
              "  </tbody>\n",
              "</table>\n",
              "<p>9214 rows × 2 columns</p>\n",
              "</div>\n",
              "      <button class=\"colab-df-convert\" onclick=\"convertToInteractive('df-5fc20129-3fcd-4174-b100-a8730c4c4aaa')\"\n",
              "              title=\"Convert this dataframe to an interactive table.\"\n",
              "              style=\"display:none;\">\n",
              "        \n",
              "  <svg xmlns=\"http://www.w3.org/2000/svg\" height=\"24px\"viewBox=\"0 0 24 24\"\n",
              "       width=\"24px\">\n",
              "    <path d=\"M0 0h24v24H0V0z\" fill=\"none\"/>\n",
              "    <path d=\"M18.56 5.44l.94 2.06.94-2.06 2.06-.94-2.06-.94-.94-2.06-.94 2.06-2.06.94zm-11 1L8.5 8.5l.94-2.06 2.06-.94-2.06-.94L8.5 2.5l-.94 2.06-2.06.94zm10 10l.94 2.06.94-2.06 2.06-.94-2.06-.94-.94-2.06-.94 2.06-2.06.94z\"/><path d=\"M17.41 7.96l-1.37-1.37c-.4-.4-.92-.59-1.43-.59-.52 0-1.04.2-1.43.59L10.3 9.45l-7.72 7.72c-.78.78-.78 2.05 0 2.83L4 21.41c.39.39.9.59 1.41.59.51 0 1.02-.2 1.41-.59l7.78-7.78 2.81-2.81c.8-.78.8-2.07 0-2.86zM5.41 20L4 18.59l7.72-7.72 1.47 1.35L5.41 20z\"/>\n",
              "  </svg>\n",
              "      </button>\n",
              "      \n",
              "  <style>\n",
              "    .colab-df-container {\n",
              "      display:flex;\n",
              "      flex-wrap:wrap;\n",
              "      gap: 12px;\n",
              "    }\n",
              "\n",
              "    .colab-df-convert {\n",
              "      background-color: #E8F0FE;\n",
              "      border: none;\n",
              "      border-radius: 50%;\n",
              "      cursor: pointer;\n",
              "      display: none;\n",
              "      fill: #1967D2;\n",
              "      height: 32px;\n",
              "      padding: 0 0 0 0;\n",
              "      width: 32px;\n",
              "    }\n",
              "\n",
              "    .colab-df-convert:hover {\n",
              "      background-color: #E2EBFA;\n",
              "      box-shadow: 0px 1px 2px rgba(60, 64, 67, 0.3), 0px 1px 3px 1px rgba(60, 64, 67, 0.15);\n",
              "      fill: #174EA6;\n",
              "    }\n",
              "\n",
              "    [theme=dark] .colab-df-convert {\n",
              "      background-color: #3B4455;\n",
              "      fill: #D2E3FC;\n",
              "    }\n",
              "\n",
              "    [theme=dark] .colab-df-convert:hover {\n",
              "      background-color: #434B5C;\n",
              "      box-shadow: 0px 1px 3px 1px rgba(0, 0, 0, 0.15);\n",
              "      filter: drop-shadow(0px 1px 2px rgba(0, 0, 0, 0.3));\n",
              "      fill: #FFFFFF;\n",
              "    }\n",
              "  </style>\n",
              "\n",
              "      <script>\n",
              "        const buttonEl =\n",
              "          document.querySelector('#df-5fc20129-3fcd-4174-b100-a8730c4c4aaa button.colab-df-convert');\n",
              "        buttonEl.style.display =\n",
              "          google.colab.kernel.accessAllowed ? 'block' : 'none';\n",
              "\n",
              "        async function convertToInteractive(key) {\n",
              "          const element = document.querySelector('#df-5fc20129-3fcd-4174-b100-a8730c4c4aaa');\n",
              "          const dataTable =\n",
              "            await google.colab.kernel.invokeFunction('convertToInteractive',\n",
              "                                                     [key], {});\n",
              "          if (!dataTable) return;\n",
              "\n",
              "          const docLinkHtml = 'Like what you see? Visit the ' +\n",
              "            '<a target=\"_blank\" href=https://colab.research.google.com/notebooks/data_table.ipynb>data table notebook</a>'\n",
              "            + ' to learn more about interactive tables.';\n",
              "          element.innerHTML = '';\n",
              "          dataTable['output_type'] = 'display_data';\n",
              "          await google.colab.output.renderOutput(dataTable, element);\n",
              "          const docLink = document.createElement('div');\n",
              "          docLink.innerHTML = docLinkHtml;\n",
              "          element.appendChild(docLink);\n",
              "        }\n",
              "      </script>\n",
              "    </div>\n",
              "  </div>\n",
              "  "
            ]
          },
          "metadata": {},
          "execution_count": 22
        }
      ]
    },
    {
      "cell_type": "code",
      "source": [
        "import datetime\n",
        "def str_to_datetime(s):\n",
        "  x=s.split(\"-\")\n",
        "  year, month, day = int(x[0]), int(x[1]), int(x[2])\n",
        "  return datetime.datetime(year=year, month=month, day=day)"
      ],
      "metadata": {
        "id": "-WbHmBDiuJ4N"
      },
      "execution_count": 23,
      "outputs": []
    },
    {
      "cell_type": "code",
      "source": [
        "df['Date']= df['Date'].apply(str_to_datetime)\n",
        "df['Date']"
      ],
      "metadata": {
        "colab": {
          "base_uri": "https://localhost:8080/"
        },
        "id": "N8U3gPR4vR3_",
        "outputId": "a4ace23f-7360-4bb0-ec27-28c902619e45"
      },
      "execution_count": 24,
      "outputs": [
        {
          "output_type": "stream",
          "name": "stderr",
          "text": [
            "/usr/local/lib/python3.7/dist-packages/ipykernel_launcher.py:1: SettingWithCopyWarning: \n",
            "A value is trying to be set on a copy of a slice from a DataFrame.\n",
            "Try using .loc[row_indexer,col_indexer] = value instead\n",
            "\n",
            "See the caveats in the documentation: https://pandas.pydata.org/pandas-docs/stable/user_guide/indexing.html#returning-a-view-versus-a-copy\n",
            "  \"\"\"Entry point for launching an IPython kernel.\n"
          ]
        },
        {
          "output_type": "execute_result",
          "data": {
            "text/plain": [
              "0      1986-03-13\n",
              "1      1986-03-14\n",
              "2      1986-03-17\n",
              "3      1986-03-18\n",
              "4      1986-03-19\n",
              "          ...    \n",
              "9209   2022-09-26\n",
              "9210   2022-09-27\n",
              "9211   2022-09-28\n",
              "9212   2022-09-29\n",
              "9213   2022-09-30\n",
              "Name: Date, Length: 9214, dtype: datetime64[ns]"
            ]
          },
          "metadata": {},
          "execution_count": 24
        }
      ]
    },
    {
      "cell_type": "code",
      "source": [
        "df = df.set_index('Date')\n",
        "df.head()"
      ],
      "metadata": {
        "colab": {
          "base_uri": "https://localhost:8080/",
          "height": 237
        },
        "id": "3WvpZHFsvnOe",
        "outputId": "5ab0cd1a-0a44-4f9a-97a6-3db1872621c6"
      },
      "execution_count": 25,
      "outputs": [
        {
          "output_type": "execute_result",
          "data": {
            "text/plain": [
              "               Close\n",
              "Date                \n",
              "1986-03-13  0.097222\n",
              "1986-03-14  0.100694\n",
              "1986-03-17  0.102431\n",
              "1986-03-18  0.099826\n",
              "1986-03-19  0.098090"
            ],
            "text/html": [
              "\n",
              "  <div id=\"df-2dc358ff-9451-4cab-88cc-02422fbcaa3d\">\n",
              "    <div class=\"colab-df-container\">\n",
              "      <div>\n",
              "<style scoped>\n",
              "    .dataframe tbody tr th:only-of-type {\n",
              "        vertical-align: middle;\n",
              "    }\n",
              "\n",
              "    .dataframe tbody tr th {\n",
              "        vertical-align: top;\n",
              "    }\n",
              "\n",
              "    .dataframe thead th {\n",
              "        text-align: right;\n",
              "    }\n",
              "</style>\n",
              "<table border=\"1\" class=\"dataframe\">\n",
              "  <thead>\n",
              "    <tr style=\"text-align: right;\">\n",
              "      <th></th>\n",
              "      <th>Close</th>\n",
              "    </tr>\n",
              "    <tr>\n",
              "      <th>Date</th>\n",
              "      <th></th>\n",
              "    </tr>\n",
              "  </thead>\n",
              "  <tbody>\n",
              "    <tr>\n",
              "      <th>1986-03-13</th>\n",
              "      <td>0.097222</td>\n",
              "    </tr>\n",
              "    <tr>\n",
              "      <th>1986-03-14</th>\n",
              "      <td>0.100694</td>\n",
              "    </tr>\n",
              "    <tr>\n",
              "      <th>1986-03-17</th>\n",
              "      <td>0.102431</td>\n",
              "    </tr>\n",
              "    <tr>\n",
              "      <th>1986-03-18</th>\n",
              "      <td>0.099826</td>\n",
              "    </tr>\n",
              "    <tr>\n",
              "      <th>1986-03-19</th>\n",
              "      <td>0.098090</td>\n",
              "    </tr>\n",
              "  </tbody>\n",
              "</table>\n",
              "</div>\n",
              "      <button class=\"colab-df-convert\" onclick=\"convertToInteractive('df-2dc358ff-9451-4cab-88cc-02422fbcaa3d')\"\n",
              "              title=\"Convert this dataframe to an interactive table.\"\n",
              "              style=\"display:none;\">\n",
              "        \n",
              "  <svg xmlns=\"http://www.w3.org/2000/svg\" height=\"24px\"viewBox=\"0 0 24 24\"\n",
              "       width=\"24px\">\n",
              "    <path d=\"M0 0h24v24H0V0z\" fill=\"none\"/>\n",
              "    <path d=\"M18.56 5.44l.94 2.06.94-2.06 2.06-.94-2.06-.94-.94-2.06-.94 2.06-2.06.94zm-11 1L8.5 8.5l.94-2.06 2.06-.94-2.06-.94L8.5 2.5l-.94 2.06-2.06.94zm10 10l.94 2.06.94-2.06 2.06-.94-2.06-.94-.94-2.06-.94 2.06-2.06.94z\"/><path d=\"M17.41 7.96l-1.37-1.37c-.4-.4-.92-.59-1.43-.59-.52 0-1.04.2-1.43.59L10.3 9.45l-7.72 7.72c-.78.78-.78 2.05 0 2.83L4 21.41c.39.39.9.59 1.41.59.51 0 1.02-.2 1.41-.59l7.78-7.78 2.81-2.81c.8-.78.8-2.07 0-2.86zM5.41 20L4 18.59l7.72-7.72 1.47 1.35L5.41 20z\"/>\n",
              "  </svg>\n",
              "      </button>\n",
              "      \n",
              "  <style>\n",
              "    .colab-df-container {\n",
              "      display:flex;\n",
              "      flex-wrap:wrap;\n",
              "      gap: 12px;\n",
              "    }\n",
              "\n",
              "    .colab-df-convert {\n",
              "      background-color: #E8F0FE;\n",
              "      border: none;\n",
              "      border-radius: 50%;\n",
              "      cursor: pointer;\n",
              "      display: none;\n",
              "      fill: #1967D2;\n",
              "      height: 32px;\n",
              "      padding: 0 0 0 0;\n",
              "      width: 32px;\n",
              "    }\n",
              "\n",
              "    .colab-df-convert:hover {\n",
              "      background-color: #E2EBFA;\n",
              "      box-shadow: 0px 1px 2px rgba(60, 64, 67, 0.3), 0px 1px 3px 1px rgba(60, 64, 67, 0.15);\n",
              "      fill: #174EA6;\n",
              "    }\n",
              "\n",
              "    [theme=dark] .colab-df-convert {\n",
              "      background-color: #3B4455;\n",
              "      fill: #D2E3FC;\n",
              "    }\n",
              "\n",
              "    [theme=dark] .colab-df-convert:hover {\n",
              "      background-color: #434B5C;\n",
              "      box-shadow: 0px 1px 3px 1px rgba(0, 0, 0, 0.15);\n",
              "      filter: drop-shadow(0px 1px 2px rgba(0, 0, 0, 0.3));\n",
              "      fill: #FFFFFF;\n",
              "    }\n",
              "  </style>\n",
              "\n",
              "      <script>\n",
              "        const buttonEl =\n",
              "          document.querySelector('#df-2dc358ff-9451-4cab-88cc-02422fbcaa3d button.colab-df-convert');\n",
              "        buttonEl.style.display =\n",
              "          google.colab.kernel.accessAllowed ? 'block' : 'none';\n",
              "\n",
              "        async function convertToInteractive(key) {\n",
              "          const element = document.querySelector('#df-2dc358ff-9451-4cab-88cc-02422fbcaa3d');\n",
              "          const dataTable =\n",
              "            await google.colab.kernel.invokeFunction('convertToInteractive',\n",
              "                                                     [key], {});\n",
              "          if (!dataTable) return;\n",
              "\n",
              "          const docLinkHtml = 'Like what you see? Visit the ' +\n",
              "            '<a target=\"_blank\" href=https://colab.research.google.com/notebooks/data_table.ipynb>data table notebook</a>'\n",
              "            + ' to learn more about interactive tables.';\n",
              "          element.innerHTML = '';\n",
              "          dataTable['output_type'] = 'display_data';\n",
              "          await google.colab.output.renderOutput(dataTable, element);\n",
              "          const docLink = document.createElement('div');\n",
              "          docLink.innerHTML = docLinkHtml;\n",
              "          element.appendChild(docLink);\n",
              "        }\n",
              "      </script>\n",
              "    </div>\n",
              "  </div>\n",
              "  "
            ]
          },
          "metadata": {},
          "execution_count": 25
        }
      ]
    },
    {
      "cell_type": "code",
      "source": [
        "import matplotlib.pyplot as plt\n",
        "plt.plot(df.index, df['Close'])\n",
        "plt.show()"
      ],
      "metadata": {
        "colab": {
          "base_uri": "https://localhost:8080/",
          "height": 265
        },
        "id": "nJ71wp-pv7GJ",
        "outputId": "43b7985f-42f1-4073-8c6b-fced5ad350b9"
      },
      "execution_count": 26,
      "outputs": [
        {
          "output_type": "display_data",
          "data": {
            "text/plain": [
              "<Figure size 432x288 with 1 Axes>"
            ],
            "image/png": "[encoded data removed]"
          },
          "metadata": {
            "needs_background": "light"
          }
        }
      ]
    },
    {
      "cell_type": "code",
      "source": [
        "df['Close-1'] = df['Close'].shift(1)\n",
        "df['Close-2'] = df['Close'].shift(2)\n",
        "df['Close-3'] = df['Close'].shift(3)"
      ],
      "metadata": {
        "id": "tYb7aiFjwlzz"
      },
      "execution_count": 27,
      "outputs": []
    },
    {
      "cell_type": "code",
      "source": [
        "df = df.tail(-3)\n",
        "df = df.reset_index(drop=False)\n",
        "df.head(7)"
      ],
      "metadata": {
        "colab": {
          "base_uri": "https://localhost:8080/",
          "height": 269
        },
        "id": "iAsxOm9qBxDd",
        "outputId": "3c00d7e5-eb94-4d27-ac07-1f17c47b402e"
      },
      "execution_count": 28,
      "outputs": [
        {
          "output_type": "execute_result",
          "data": {
            "text/plain": [
              "        Date     Close   Close-1   Close-2   Close-3\n",
              "0 1986-03-18  0.099826  0.102431  0.100694  0.097222\n",
              "1 1986-03-19  0.098090  0.099826  0.102431  0.100694\n",
              "2 1986-03-20  0.095486  0.098090  0.099826  0.102431\n",
              "3 1986-03-21  0.092882  0.095486  0.098090  0.099826\n",
              "4 1986-03-24  0.090278  0.092882  0.095486  0.098090\n",
              "5 1986-03-25  0.092014  0.090278  0.092882  0.095486\n",
              "6 1986-03-26  0.094618  0.092014  0.090278  0.092882"
            ],
            "text/html": [
              "\n",
              "  <div id=\"df-3e2abdd9-913e-4c39-b33a-8c5f6db89161\">\n",
              "    <div class=\"colab-df-container\">\n",
              "      <div>\n",
              "<style scoped>\n",
              "    .dataframe tbody tr th:only-of-type {\n",
              "        vertical-align: middle;\n",
              "    }\n",
              "\n",
              "    .dataframe tbody tr th {\n",
              "        vertical-align: top;\n",
              "    }\n",
              "\n",
              "    .dataframe thead th {\n",
              "        text-align: right;\n",
              "    }\n",
              "</style>\n",
              "<table border=\"1\" class=\"dataframe\">\n",
              "  <thead>\n",
              "    <tr style=\"text-align: right;\">\n",
              "      <th></th>\n",
              "      <th>Date</th>\n",
              "      <th>Close</th>\n",
              "      <th>Close-1</th>\n",
              "      <th>Close-2</th>\n",
              "      <th>Close-3</th>\n",
              "    </tr>\n",
              "  </thead>\n",
              "  <tbody>\n",
              "    <tr>\n",
              "      <th>0</th>\n",
              "      <td>1986-03-18</td>\n",
              "      <td>0.099826</td>\n",
              "      <td>0.102431</td>\n",
              "      <td>0.100694</td>\n",
              "      <td>0.097222</td>\n",
              "    </tr>\n",
              "    <tr>\n",
              "      <th>1</th>\n",
              "      <td>1986-03-19</td>\n",
              "      <td>0.098090</td>\n",
              "      <td>0.099826</td>\n",
              "      <td>0.102431</td>\n",
              "      <td>0.100694</td>\n",
              "    </tr>\n",
              "    <tr>\n",
              "      <th>2</th>\n",
              "      <td>1986-03-20</td>\n",
              "      <td>0.095486</td>\n",
              "      <td>0.098090</td>\n",
              "      <td>0.099826</td>\n",
              "      <td>0.102431</td>\n",
              "    </tr>\n",
              "    <tr>\n",
              "      <th>3</th>\n",
              "      <td>1986-03-21</td>\n",
              "      <td>0.092882</td>\n",
              "      <td>0.095486</td>\n",
              "      <td>0.098090</td>\n",
              "      <td>0.099826</td>\n",
              "    </tr>\n",
              "    <tr>\n",
              "      <th>4</th>\n",
              "      <td>1986-03-24</td>\n",
              "      <td>0.090278</td>\n",
              "      <td>0.092882</td>\n",
              "      <td>0.095486</td>\n",
              "      <td>0.098090</td>\n",
              "    </tr>\n",
              "    <tr>\n",
              "      <th>5</th>\n",
              "      <td>1986-03-25</td>\n",
              "      <td>0.092014</td>\n",
              "      <td>0.090278</td>\n",
              "      <td>0.092882</td>\n",
              "      <td>0.095486</td>\n",
              "    </tr>\n",
              "    <tr>\n",
              "      <th>6</th>\n",
              "      <td>1986-03-26</td>\n",
              "      <td>0.094618</td>\n",
              "      <td>0.092014</td>\n",
              "      <td>0.090278</td>\n",
              "      <td>0.092882</td>\n",
              "    </tr>\n",
              "  </tbody>\n",
              "</table>\n",
              "</div>\n",
              "      <button class=\"colab-df-convert\" onclick=\"convertToInteractive('df-3e2abdd9-913e-4c39-b33a-8c5f6db89161')\"\n",
              "              title=\"Convert this dataframe to an interactive table.\"\n",
              "              style=\"display:none;\">\n",
              "        \n",
              "  <svg xmlns=\"http://www.w3.org/2000/svg\" height=\"24px\"viewBox=\"0 0 24 24\"\n",
              "       width=\"24px\">\n",
              "    <path d=\"M0 0h24v24H0V0z\" fill=\"none\"/>\n",
              "    <path d=\"M18.56 5.44l.94 2.06.94-2.06 2.06-.94-2.06-.94-.94-2.06-.94 2.06-2.06.94zm-11 1L8.5 8.5l.94-2.06 2.06-.94-2.06-.94L8.5 2.5l-.94 2.06-2.06.94zm10 10l.94 2.06.94-2.06 2.06-.94-2.06-.94-.94-2.06-.94 2.06-2.06.94z\"/><path d=\"M17.41 7.96l-1.37-1.37c-.4-.4-.92-.59-1.43-.59-.52 0-1.04.2-1.43.59L10.3 9.45l-7.72 7.72c-.78.78-.78 2.05 0 2.83L4 21.41c.39.39.9.59 1.41.59.51 0 1.02-.2 1.41-.59l7.78-7.78 2.81-2.81c.8-.78.8-2.07 0-2.86zM5.41 20L4 18.59l7.72-7.72 1.47 1.35L5.41 20z\"/>\n",
              "  </svg>\n",
              "      </button>\n",
              "      \n",
              "  <style>\n",
              "    .colab-df-container {\n",
              "      display:flex;\n",
              "      flex-wrap:wrap;\n",
              "      gap: 12px;\n",
              "    }\n",
              "\n",
              "    .colab-df-convert {\n",
              "      background-color: #E8F0FE;\n",
              "      border: none;\n",
              "      border-radius: 50%;\n",
              "      cursor: pointer;\n",
              "      display: none;\n",
              "      fill: #1967D2;\n",
              "      height: 32px;\n",
              "      padding: 0 0 0 0;\n",
              "      width: 32px;\n",
              "    }\n",
              "\n",
              "    .colab-df-convert:hover {\n",
              "      background-color: #E2EBFA;\n",
              "      box-shadow: 0px 1px 2px rgba(60, 64, 67, 0.3), 0px 1px 3px 1px rgba(60, 64, 67, 0.15);\n",
              "      fill: #174EA6;\n",
              "    }\n",
              "\n",
              "    [theme=dark] .colab-df-convert {\n",
              "      background-color: #3B4455;\n",
              "      fill: #D2E3FC;\n",
              "    }\n",
              "\n",
              "    [theme=dark] .colab-df-convert:hover {\n",
              "      background-color: #434B5C;\n",
              "      box-shadow: 0px 1px 3px 1px rgba(0, 0, 0, 0.15);\n",
              "      filter: drop-shadow(0px 1px 2px rgba(0, 0, 0, 0.3));\n",
              "      fill: #FFFFFF;\n",
              "    }\n",
              "  </style>\n",
              "\n",
              "      <script>\n",
              "        const buttonEl =\n",
              "          document.querySelector('#df-3e2abdd9-913e-4c39-b33a-8c5f6db89161 button.colab-df-convert');\n",
              "        buttonEl.style.display =\n",
              "          google.colab.kernel.accessAllowed ? 'block' : 'none';\n",
              "\n",
              "        async function convertToInteractive(key) {\n",
              "          const element = document.querySelector('#df-3e2abdd9-913e-4c39-b33a-8c5f6db89161');\n",
              "          const dataTable =\n",
              "            await google.colab.kernel.invokeFunction('convertToInteractive',\n",
              "                                                     [key], {});\n",
              "          if (!dataTable) return;\n",
              "\n",
              "          const docLinkHtml = 'Like what you see? Visit the ' +\n",
              "            '<a target=\"_blank\" href=https://colab.research.google.com/notebooks/data_table.ipynb>data table notebook</a>'\n",
              "            + ' to learn more about interactive tables.';\n",
              "          element.innerHTML = '';\n",
              "          dataTable['output_type'] = 'display_data';\n",
              "          await google.colab.output.renderOutput(dataTable, element);\n",
              "          const docLink = document.createElement('div');\n",
              "          docLink.innerHTML = docLinkHtml;\n",
              "          element.appendChild(docLink);\n",
              "        }\n",
              "      </script>\n",
              "    </div>\n",
              "  </div>\n",
              "  "
            ]
          },
          "metadata": {},
          "execution_count": 28
        }
      ]
    },
    {
      "cell_type": "code",
      "source": [
        "# To Numpy Matrix:\n",
        "import numpy as np\n",
        "df_np = df.to_numpy()\n",
        "X_date = df_np[:,0]\n",
        "X_feature = df_np[:,2:5]\n",
        "X = X_feature.reshape(len(X_date), X_feature.shape[1], 1)\n",
        "y = df_np[:,1]\n",
        "X = X.astype(np.float32)\n",
        "y = y.astype(np.float32)"
      ],
      "metadata": {
        "id": "h9Kc2u7cHa0P"
      },
      "execution_count": 29,
      "outputs": []
    },
    {
      "cell_type": "code",
      "source": [
        "print(X_date.shape, X.shape, y.shape)"
      ],
      "metadata": {
        "colab": {
          "base_uri": "https://localhost:8080/"
        },
        "id": "mFE-Qk9LOrgH",
        "outputId": "ff73b0ca-5448-4cb8-b072-8fa6e90b2369"
      },
      "execution_count": 30,
      "outputs": [
        {
          "output_type": "stream",
          "name": "stdout",
          "text": [
            "(9211,) (9211, 3, 1) (9211,)\n"
          ]
        }
      ]
    },
    {
      "cell_type": "code",
      "source": [
        "# Split\n",
        "q_80 = int(0.8*(X_date.shape[0]))\n",
        "q_90 = int(0.9*(X_date.shape[0]))\n",
        "date_train, date_val, date_test = X_date[0:q_80], X_date[q_80:q_90], X_date[q_90:]\n",
        "X_train, X_val, X_test = X[0:q_80], X[q_80:q_90], X[q_90:]\n",
        "y_train, y_val, y_test = y[0:q_80], y[q_80:q_90], y[q_90:]\n",
        "plt.plot(date_train, y_train)\n",
        "plt.plot(date_val, y_val)\n",
        "plt.plot(date_test, y_test)\n",
        "plt.legend(['Train','Validation','Test'])\n",
        "plt.show()"
      ],
      "metadata": {
        "colab": {
          "base_uri": "https://localhost:8080/",
          "height": 265
        },
        "id": "VvhDl3V3PV7x",
        "outputId": "408330ff-2725-441f-9f42-7cd66c7ea4a8"
      },
      "execution_count": 31,
      "outputs": [
        {
          "output_type": "display_data",
          "data": {
            "text/plain": [
              "<Figure size 432x288 with 1 Axes>"
            ],
            "image/png": "[encoded data removed]"
          },
          "metadata": {
            "needs_background": "light"
          }
        }
      ]
    },
    {
      "cell_type": "code",
      "source": [
        "from tensorflow.keras.models import Sequential\n",
        "from tensorflow.keras.optimizers import Adam\n",
        "from tensorflow.keras import layers\n",
        "\n",
        "model = Sequential([\n",
        "    layers.Input((3,1)),\n",
        "    layers.LSTM(64),\n",
        "    layers.Dropout(0.3),\n",
        "    layers.Dense(32, activation='relu'),\n",
        "    layers.Dense(32, activation='relu'),\n",
        "    layers.Dense(1)\n",
        "])\n",
        "model.compile(loss='mse', optimizer=Adam(learning_rate=0.0025), metrics=['mean_absolute_error'])\n",
        "model.fit(X_train, y_train, validation_data=(X_val, y_val), epochs=45)"
      ],
      "metadata": {
        "colab": {
          "base_uri": "https://localhost:8080/"
        },
        "id": "VGXZs-PEKlQ8",
        "outputId": "752be309-f6e4-4745-cd55-086eee8cf5d1"
      },
      "execution_count": 39,
      "outputs": [
        {
          "output_type": "stream",
          "name": "stdout",
          "text": [
            "Epoch 1/45\n",
            "231/231 [==============================] - 3s 4ms/step - loss: 54.0837 - mean_absolute_error: 3.5164 - val_loss: 838.6989 - val_mean_absolute_error: 21.9750\n",
            "Epoch 2/45\n",
            "231/231 [==============================] - 1s 3ms/step - loss: 5.6606 - mean_absolute_error: 1.5274 - val_loss: 701.9719 - val_mean_absolute_error: 19.8546\n",
            "Epoch 3/45\n",
            "231/231 [==============================] - 1s 3ms/step - loss: 5.0923 - mean_absolute_error: 1.4455 - val_loss: 664.3176 - val_mean_absolute_error: 18.9601\n",
            "Epoch 4/45\n",
            "231/231 [==============================] - 1s 3ms/step - loss: 4.1211 - mean_absolute_error: 1.3293 - val_loss: 570.3537 - val_mean_absolute_error: 17.9068\n",
            "Epoch 5/45\n",
            "231/231 [==============================] - 1s 3ms/step - loss: 3.6032 - mean_absolute_error: 1.2417 - val_loss: 451.4181 - val_mean_absolute_error: 14.9014\n",
            "Epoch 6/45\n",
            "231/231 [==============================] - 1s 3ms/step - loss: 2.6480 - mean_absolute_error: 1.0801 - val_loss: 344.5273 - val_mean_absolute_error: 12.1205\n",
            "Epoch 7/45\n",
            "231/231 [==============================] - 1s 3ms/step - loss: 2.4958 - mean_absolute_error: 1.0610 - val_loss: 321.9057 - val_mean_absolute_error: 11.7152\n",
            "Epoch 8/45\n",
            "231/231 [==============================] - 1s 3ms/step - loss: 2.0267 - mean_absolute_error: 0.9470 - val_loss: 241.5768 - val_mean_absolute_error: 10.5482\n",
            "Epoch 9/45\n",
            "231/231 [==============================] - 1s 3ms/step - loss: 1.5595 - mean_absolute_error: 0.8337 - val_loss: 201.9703 - val_mean_absolute_error: 9.8580\n",
            "Epoch 10/45\n",
            "231/231 [==============================] - 1s 3ms/step - loss: 1.2511 - mean_absolute_error: 0.7675 - val_loss: 160.8698 - val_mean_absolute_error: 8.3372\n",
            "Epoch 11/45\n",
            "231/231 [==============================] - 1s 3ms/step - loss: 1.2135 - mean_absolute_error: 0.7515 - val_loss: 216.6311 - val_mean_absolute_error: 10.3221\n",
            "Epoch 12/45\n",
            "231/231 [==============================] - 1s 3ms/step - loss: 1.0736 - mean_absolute_error: 0.7131 - val_loss: 174.3588 - val_mean_absolute_error: 8.7169\n",
            "Epoch 13/45\n",
            "231/231 [==============================] - 1s 3ms/step - loss: 1.1279 - mean_absolute_error: 0.7275 - val_loss: 283.3829 - val_mean_absolute_error: 12.4611\n",
            "Epoch 14/45\n",
            "231/231 [==============================] - 1s 3ms/step - loss: 1.1258 - mean_absolute_error: 0.7223 - val_loss: 226.7323 - val_mean_absolute_error: 10.6527\n",
            "Epoch 15/45\n",
            "231/231 [==============================] - 1s 2ms/step - loss: 1.0286 - mean_absolute_error: 0.6942 - val_loss: 282.5028 - val_mean_absolute_error: 12.4103\n",
            "Epoch 16/45\n",
            "231/231 [==============================] - 1s 3ms/step - loss: 0.9609 - mean_absolute_error: 0.6665 - val_loss: 317.1826 - val_mean_absolute_error: 13.6342\n",
            "Epoch 17/45\n",
            "231/231 [==============================] - 1s 3ms/step - loss: 0.9479 - mean_absolute_error: 0.6621 - val_loss: 252.8020 - val_mean_absolute_error: 11.7055\n",
            "Epoch 18/45\n",
            "231/231 [==============================] - 1s 3ms/step - loss: 0.8733 - mean_absolute_error: 0.6270 - val_loss: 234.4941 - val_mean_absolute_error: 11.4178\n",
            "Epoch 19/45\n",
            "231/231 [==============================] - 1s 3ms/step - loss: 0.8155 - mean_absolute_error: 0.6285 - val_loss: 185.9792 - val_mean_absolute_error: 9.6325\n",
            "Epoch 20/45\n",
            "231/231 [==============================] - 1s 3ms/step - loss: 0.7545 - mean_absolute_error: 0.5941 - val_loss: 207.4835 - val_mean_absolute_error: 10.1189\n",
            "Epoch 21/45\n",
            "231/231 [==============================] - 1s 3ms/step - loss: 0.7862 - mean_absolute_error: 0.6081 - val_loss: 210.2414 - val_mean_absolute_error: 10.0883\n",
            "Epoch 22/45\n",
            "231/231 [==============================] - 1s 3ms/step - loss: 0.9088 - mean_absolute_error: 0.6523 - val_loss: 198.2159 - val_mean_absolute_error: 9.7501\n",
            "Epoch 23/45\n",
            "231/231 [==============================] - 1s 3ms/step - loss: 0.7126 - mean_absolute_error: 0.5857 - val_loss: 267.0773 - val_mean_absolute_error: 12.4513\n",
            "Epoch 24/45\n",
            "231/231 [==============================] - 1s 3ms/step - loss: 0.7255 - mean_absolute_error: 0.5812 - val_loss: 211.2123 - val_mean_absolute_error: 10.0183\n",
            "Epoch 25/45\n",
            "231/231 [==============================] - 1s 3ms/step - loss: 0.7585 - mean_absolute_error: 0.6016 - val_loss: 200.8112 - val_mean_absolute_error: 10.2706\n",
            "Epoch 26/45\n",
            "231/231 [==============================] - 1s 3ms/step - loss: 0.8657 - mean_absolute_error: 0.6418 - val_loss: 261.4723 - val_mean_absolute_error: 12.2466\n",
            "Epoch 27/45\n",
            "231/231 [==============================] - 1s 3ms/step - loss: 0.6805 - mean_absolute_error: 0.5525 - val_loss: 182.0577 - val_mean_absolute_error: 9.8229\n",
            "Epoch 28/45\n",
            "231/231 [==============================] - 1s 3ms/step - loss: 0.7366 - mean_absolute_error: 0.5742 - val_loss: 226.4079 - val_mean_absolute_error: 11.0217\n",
            "Epoch 29/45\n",
            "231/231 [==============================] - 1s 3ms/step - loss: 0.7212 - mean_absolute_error: 0.5866 - val_loss: 238.8585 - val_mean_absolute_error: 11.5933\n",
            "Epoch 30/45\n",
            "231/231 [==============================] - 1s 3ms/step - loss: 0.7615 - mean_absolute_error: 0.5984 - val_loss: 100.7016 - val_mean_absolute_error: 6.8429\n",
            "Epoch 31/45\n",
            "231/231 [==============================] - 1s 3ms/step - loss: 0.8625 - mean_absolute_error: 0.6279 - val_loss: 160.6635 - val_mean_absolute_error: 8.6514\n",
            "Epoch 32/45\n",
            "231/231 [==============================] - 1s 3ms/step - loss: 0.6835 - mean_absolute_error: 0.5491 - val_loss: 171.6465 - val_mean_absolute_error: 9.7015\n",
            "Epoch 33/45\n",
            "231/231 [==============================] - 1s 3ms/step - loss: 0.7842 - mean_absolute_error: 0.5921 - val_loss: 122.8439 - val_mean_absolute_error: 7.4319\n",
            "Epoch 34/45\n",
            "231/231 [==============================] - 1s 3ms/step - loss: 0.6682 - mean_absolute_error: 0.5488 - val_loss: 176.0473 - val_mean_absolute_error: 10.0073\n",
            "Epoch 35/45\n",
            "231/231 [==============================] - 1s 3ms/step - loss: 0.6805 - mean_absolute_error: 0.5480 - val_loss: 145.9046 - val_mean_absolute_error: 9.4729\n",
            "Epoch 36/45\n",
            "231/231 [==============================] - 1s 3ms/step - loss: 0.6612 - mean_absolute_error: 0.5491 - val_loss: 157.0305 - val_mean_absolute_error: 9.7625\n",
            "Epoch 37/45\n",
            "231/231 [==============================] - 1s 3ms/step - loss: 0.5943 - mean_absolute_error: 0.5191 - val_loss: 196.0057 - val_mean_absolute_error: 10.7617\n",
            "Epoch 38/45\n",
            "231/231 [==============================] - 1s 3ms/step - loss: 0.6352 - mean_absolute_error: 0.5332 - val_loss: 111.7772 - val_mean_absolute_error: 7.0040\n",
            "Epoch 39/45\n",
            "231/231 [==============================] - 1s 3ms/step - loss: 0.6321 - mean_absolute_error: 0.5292 - val_loss: 144.4190 - val_mean_absolute_error: 8.6164\n",
            "Epoch 40/45\n",
            "231/231 [==============================] - 1s 3ms/step - loss: 0.6375 - mean_absolute_error: 0.5317 - val_loss: 115.9208 - val_mean_absolute_error: 7.8789\n",
            "Epoch 41/45\n",
            "231/231 [==============================] - 1s 3ms/step - loss: 0.6510 - mean_absolute_error: 0.5409 - val_loss: 131.7928 - val_mean_absolute_error: 8.0035\n",
            "Epoch 42/45\n",
            "231/231 [==============================] - 1s 3ms/step - loss: 0.6681 - mean_absolute_error: 0.5476 - val_loss: 120.4523 - val_mean_absolute_error: 7.6170\n",
            "Epoch 43/45\n",
            "231/231 [==============================] - 1s 3ms/step - loss: 0.6783 - mean_absolute_error: 0.5496 - val_loss: 123.4192 - val_mean_absolute_error: 8.3769\n",
            "Epoch 44/45\n",
            "231/231 [==============================] - 1s 3ms/step - loss: 0.6467 - mean_absolute_error: 0.5330 - val_loss: 171.4183 - val_mean_absolute_error: 10.3491\n",
            "Epoch 45/45\n",
            "231/231 [==============================] - 1s 2ms/step - loss: 0.6049 - mean_absolute_error: 0.5094 - val_loss: 101.0719 - val_mean_absolute_error: 6.7081\n"
          ]
        },
        {
          "output_type": "execute_result",
          "data": {
            "text/plain": [
              "<keras.callbacks.History at 0x7fd8b00d8c10>"
            ]
          },
          "metadata": {},
          "execution_count": 39
        }
      ]
    },
    {
      "cell_type": "code",
      "source": [
        "y_train_pred = model.predict(X_train)\n",
        "plt.plot(date_train, y_train_pred)\n",
        "plt.plot(date_train, y_train)\n",
        "plt.legend(['Train Prediction', 'Train Actual'])\n",
        "plt.show()"
      ],
      "metadata": {
        "colab": {
          "base_uri": "https://localhost:8080/",
          "height": 265
        },
        "id": "EmpqXqBpYt8A",
        "outputId": "51430933-989c-4bed-fdc5-d77e3b676ea3"
      },
      "execution_count": 40,
      "outputs": [
        {
          "output_type": "display_data",
          "data": {
            "text/plain": [
              "<Figure size 432x288 with 1 Axes>"
            ],
            "image/png": "[encoded data removed]"
          },
          "metadata": {
            "needs_background": "light"
          }
        }
      ]
    },
    {
      "cell_type": "code",
      "source": [
        "y_val_pred = model.predict(X_val)\n",
        "y_test_pred = model.predict(X_test)\n",
        "plt.plot(date_val, y_val_pred)\n",
        "plt.plot(date_val, y_val)\n",
        "plt.plot(date_test, y_test_pred)\n",
        "plt.plot(date_test, y_test)\n",
        "plt.legend(['Val Prediction', 'Val Actual','Test Prediction', 'Test Actual'])\n",
        "plt.show()"
      ],
      "metadata": {
        "colab": {
          "base_uri": "https://localhost:8080/",
          "height": 265
        },
        "id": "xcXTA8p_Zn1e",
        "outputId": "ec7b17c4-9651-49f9-c8b1-a745bc44a0e6"
      },
      "execution_count": 41,
      "outputs": [
        {
          "output_type": "display_data",
          "data": {
            "text/plain": [
              "<Figure size 432x288 with 1 Axes>"
            ],
            "image/png": "[encoded data removed]"
          },
          "metadata": {
            "needs_background": "light"
          }
        }
      ]
    },
    {
      "cell_type": "code",
      "source": [
        "# Doesn't extrapolate well. Only use data in the recent two years.\n",
        "df = pd.read_csv(\"/content/MSFT.csv\")\n",
        "df = df[['Date', 'Close']]\n",
        "df['Date']= df['Date'].apply(str_to_datetime)\n",
        "d = datetime.datetime(2021, 1, 1)\n",
        "df = df.loc[df['Date']>=d]\n",
        "df = df.set_index('Date')\n",
        "df['Close-1'] = df['Close'].shift(1)\n",
        "df['Close-2'] = df['Close'].shift(2)\n",
        "df['Close-3'] = df['Close'].shift(3)\n",
        "df = df.tail(-3)\n",
        "df = df.reset_index(drop=False)\n",
        "df_np = df.to_numpy()\n",
        "X_date = df_np[:,0]\n",
        "X_feature = df_np[:,2:5]\n",
        "X = X_feature.reshape(len(X_date), X_feature.shape[1], 1)\n",
        "y = df_np[:,1]\n",
        "X = X.astype(np.float32)\n",
        "y = y.astype(np.float32)\n",
        "print(X_date.shape, X.shape, y.shape)"
      ],
      "metadata": {
        "colab": {
          "base_uri": "https://localhost:8080/"
        },
        "id": "aSdCiYtJdunz",
        "outputId": "bae9cf20-5e01-49d2-9b65-bdd6406e61b2"
      },
      "execution_count": 46,
      "outputs": [
        {
          "output_type": "stream",
          "name": "stdout",
          "text": [
            "(437,) (437, 3, 1) (437,)\n"
          ]
        }
      ]
    },
    {
      "cell_type": "code",
      "source": [
        "q_80 = int(0.8*(X_date.shape[0]))\n",
        "q_90 = int(0.9*(X_date.shape[0]))\n",
        "date_train, date_val, date_test = X_date[0:q_80], X_date[q_80:q_90], X_date[q_90:]\n",
        "X_train, X_val, X_test = X[0:q_80], X[q_80:q_90], X[q_90:]\n",
        "y_train, y_val, y_test = y[0:q_80], y[q_80:q_90], y[q_90:]\n",
        "plt.plot(date_train, y_train)\n",
        "plt.plot(date_val, y_val)\n",
        "plt.plot(date_test, y_test)\n",
        "plt.legend(['Train','Validation','Test'])\n",
        "plt.show()"
      ],
      "metadata": {
        "colab": {
          "base_uri": "https://localhost:8080/",
          "height": 265
        },
        "id": "Cy7ZB_YgvaXU",
        "outputId": "3f5d0884-aabe-40e9-d184-4460d6dc4491"
      },
      "execution_count": 59,
      "outputs": [
        {
          "output_type": "display_data",
          "data": {
            "text/plain": [
              "<Figure size 432x288 with 1 Axes>"
            ],
            "image/png": "[encoded data removed]"
          },
          "metadata": {
            "needs_background": "light"
          }
        }
      ]
    },
    {
      "cell_type": "code",
      "source": [
        "model2 = Sequential([\n",
        "    layers.Input((3,1)),\n",
        "    layers.LSTM(64),\n",
        "    layers.Dense(32, activation='relu'),\n",
        "    layers.Dense(32, activation='relu'),\n",
        "    layers.Dense(1)\n",
        "])\n",
        "model2.compile(loss='mse', optimizer=Adam(learning_rate=0.001), metrics=['mean_absolute_error'])\n",
        "model2.fit(X_train, y_train, validation_data=(X_val, y_val), epochs=100)"
      ],
      "metadata": {
        "colab": {
          "base_uri": "https://localhost:8080/"
        },
        "id": "VAvD0woWy1k9",
        "outputId": "85cdb84f-c889-4c5c-91c1-a0d43d389ca5"
      },
      "execution_count": 56,
      "outputs": [
        {
          "output_type": "stream",
          "name": "stdout",
          "text": [
            "Epoch 1/100\n",
            "11/11 [==============================] - 2s 37ms/step - loss: 79693.1953 - mean_absolute_error: 280.3666 - val_loss: 67802.6562 - val_mean_absolute_error: 260.2335\n",
            "Epoch 2/100\n",
            "11/11 [==============================] - 0s 4ms/step - loss: 79128.0234 - mean_absolute_error: 279.3563 - val_loss: 67159.4219 - val_mean_absolute_error: 258.9947\n",
            "Epoch 3/100\n",
            "11/11 [==============================] - 0s 4ms/step - loss: 78313.0547 - mean_absolute_error: 277.8939 - val_loss: 66273.7188 - val_mean_absolute_error: 257.2792\n",
            "Epoch 4/100\n",
            "11/11 [==============================] - 0s 4ms/step - loss: 77283.5312 - mean_absolute_error: 276.0411 - val_loss: 65223.3867 - val_mean_absolute_error: 255.2297\n",
            "Epoch 5/100\n",
            "11/11 [==============================] - 0s 4ms/step - loss: 75949.6406 - mean_absolute_error: 273.6027 - val_loss: 63582.7227 - val_mean_absolute_error: 251.9950\n",
            "Epoch 6/100\n",
            "11/11 [==============================] - 0s 4ms/step - loss: 73721.9531 - mean_absolute_error: 269.4905 - val_loss: 61035.5898 - val_mean_absolute_error: 246.8895\n",
            "Epoch 7/100\n",
            "11/11 [==============================] - 0s 4ms/step - loss: 70621.1250 - mean_absolute_error: 263.6958 - val_loss: 57669.5859 - val_mean_absolute_error: 239.9753\n",
            "Epoch 8/100\n",
            "11/11 [==============================] - 0s 4ms/step - loss: 65562.8516 - mean_absolute_error: 253.8484 - val_loss: 50852.4883 - val_mean_absolute_error: 225.3246\n",
            "Epoch 9/100\n",
            "11/11 [==============================] - 0s 4ms/step - loss: 57453.0195 - mean_absolute_error: 237.2955 - val_loss: 43441.0898 - val_mean_absolute_error: 208.2303\n",
            "Epoch 10/100\n",
            "11/11 [==============================] - 0s 4ms/step - loss: 48876.0742 - mean_absolute_error: 218.5164 - val_loss: 34833.4102 - val_mean_absolute_error: 186.4195\n",
            "Epoch 11/100\n",
            "11/11 [==============================] - 0s 4ms/step - loss: 39080.0742 - mean_absolute_error: 194.7349 - val_loss: 25873.4316 - val_mean_absolute_error: 160.5998\n",
            "Epoch 12/100\n",
            "11/11 [==============================] - 0s 6ms/step - loss: 29044.9160 - mean_absolute_error: 167.1502 - val_loss: 17086.3887 - val_mean_absolute_error: 130.4035\n",
            "Epoch 13/100\n",
            "11/11 [==============================] - 0s 4ms/step - loss: 18867.8730 - mean_absolute_error: 132.7031 - val_loss: 8346.0352 - val_mean_absolute_error: 90.9107\n",
            "Epoch 14/100\n",
            "11/11 [==============================] - 0s 5ms/step - loss: 9976.9258 - mean_absolute_error: 93.7973 - val_loss: 3004.0156 - val_mean_absolute_error: 54.0635\n",
            "Epoch 15/100\n",
            "11/11 [==============================] - 0s 5ms/step - loss: 4523.4673 - mean_absolute_error: 58.8341 - val_loss: 460.6955 - val_mean_absolute_error: 19.4795\n",
            "Epoch 16/100\n",
            "11/11 [==============================] - 0s 6ms/step - loss: 1892.5157 - mean_absolute_error: 36.0175 - val_loss: 119.4277 - val_mean_absolute_error: 8.7415\n",
            "Epoch 17/100\n",
            "11/11 [==============================] - 0s 6ms/step - loss: 1159.0959 - mean_absolute_error: 29.0130 - val_loss: 478.3913 - val_mean_absolute_error: 19.9310\n",
            "Epoch 18/100\n",
            "11/11 [==============================] - 0s 4ms/step - loss: 1101.7969 - mean_absolute_error: 27.6225 - val_loss: 676.1429 - val_mean_absolute_error: 24.3926\n",
            "Epoch 19/100\n",
            "11/11 [==============================] - 0s 4ms/step - loss: 1108.5763 - mean_absolute_error: 27.6068 - val_loss: 616.1326 - val_mean_absolute_error: 23.1298\n",
            "Epoch 20/100\n",
            "11/11 [==============================] - 0s 4ms/step - loss: 1093.6051 - mean_absolute_error: 27.6134 - val_loss: 535.8896 - val_mean_absolute_error: 21.3248\n",
            "Epoch 21/100\n",
            "11/11 [==============================] - 0s 4ms/step - loss: 1086.0630 - mean_absolute_error: 27.7173 - val_loss: 455.1583 - val_mean_absolute_error: 19.3486\n",
            "Epoch 22/100\n",
            "11/11 [==============================] - 0s 4ms/step - loss: 1073.7773 - mean_absolute_error: 27.7082 - val_loss: 433.3439 - val_mean_absolute_error: 18.8054\n",
            "Epoch 23/100\n",
            "11/11 [==============================] - 0s 4ms/step - loss: 1071.2979 - mean_absolute_error: 27.7328 - val_loss: 430.9839 - val_mean_absolute_error: 18.7504\n",
            "Epoch 24/100\n",
            "11/11 [==============================] - 0s 6ms/step - loss: 1057.5149 - mean_absolute_error: 27.4501 - val_loss: 414.5963 - val_mean_absolute_error: 18.3348\n",
            "Epoch 25/100\n",
            "11/11 [==============================] - 0s 4ms/step - loss: 1049.6636 - mean_absolute_error: 27.3897 - val_loss: 482.7186 - val_mean_absolute_error: 20.0716\n",
            "Epoch 26/100\n",
            "11/11 [==============================] - 0s 4ms/step - loss: 1003.1112 - mean_absolute_error: 26.8216 - val_loss: 336.5800 - val_mean_absolute_error: 16.2303\n",
            "Epoch 27/100\n",
            "11/11 [==============================] - 0s 6ms/step - loss: 963.6320 - mean_absolute_error: 26.3960 - val_loss: 434.9219 - val_mean_absolute_error: 18.9309\n",
            "Epoch 28/100\n",
            "11/11 [==============================] - 0s 4ms/step - loss: 921.3627 - mean_absolute_error: 25.7226 - val_loss: 380.9218 - val_mean_absolute_error: 17.5441\n",
            "Epoch 29/100\n",
            "11/11 [==============================] - 0s 4ms/step - loss: 863.1583 - mean_absolute_error: 24.8406 - val_loss: 254.0014 - val_mean_absolute_error: 13.7375\n",
            "Epoch 30/100\n",
            "11/11 [==============================] - 0s 4ms/step - loss: 801.5735 - mean_absolute_error: 23.9755 - val_loss: 389.4318 - val_mean_absolute_error: 17.8434\n",
            "Epoch 31/100\n",
            "11/11 [==============================] - 0s 4ms/step - loss: 743.7173 - mean_absolute_error: 23.0654 - val_loss: 321.8435 - val_mean_absolute_error: 15.9470\n",
            "Epoch 32/100\n",
            "11/11 [==============================] - 0s 4ms/step - loss: 671.3517 - mean_absolute_error: 21.7670 - val_loss: 180.6102 - val_mean_absolute_error: 11.1250\n",
            "Epoch 33/100\n",
            "11/11 [==============================] - 0s 5ms/step - loss: 624.2644 - mean_absolute_error: 21.0843 - val_loss: 200.1754 - val_mean_absolute_error: 11.9607\n",
            "Epoch 34/100\n",
            "11/11 [==============================] - 0s 4ms/step - loss: 487.4000 - mean_absolute_error: 18.4530 - val_loss: 121.8637 - val_mean_absolute_error: 8.5916\n",
            "Epoch 35/100\n",
            "11/11 [==============================] - 0s 4ms/step - loss: 421.9687 - mean_absolute_error: 17.0928 - val_loss: 138.2832 - val_mean_absolute_error: 9.3581\n",
            "Epoch 36/100\n",
            "11/11 [==============================] - 0s 4ms/step - loss: 332.9657 - mean_absolute_error: 14.8532 - val_loss: 114.8812 - val_mean_absolute_error: 8.1804\n",
            "Epoch 37/100\n",
            "11/11 [==============================] - 0s 6ms/step - loss: 280.0130 - mean_absolute_error: 13.5880 - val_loss: 103.1122 - val_mean_absolute_error: 7.6130\n",
            "Epoch 38/100\n",
            "11/11 [==============================] - 0s 6ms/step - loss: 222.7178 - mean_absolute_error: 11.9232 - val_loss: 131.0017 - val_mean_absolute_error: 8.7773\n",
            "Epoch 39/100\n",
            "11/11 [==============================] - 0s 4ms/step - loss: 163.0070 - mean_absolute_error: 9.7188 - val_loss: 134.1833 - val_mean_absolute_error: 8.8243\n",
            "Epoch 40/100\n",
            "11/11 [==============================] - 0s 4ms/step - loss: 145.3811 - mean_absolute_error: 9.1779 - val_loss: 103.9536 - val_mean_absolute_error: 7.4948\n",
            "Epoch 41/100\n",
            "11/11 [==============================] - 0s 4ms/step - loss: 107.8335 - mean_absolute_error: 7.8214 - val_loss: 91.5296 - val_mean_absolute_error: 7.0445\n",
            "Epoch 42/100\n",
            "11/11 [==============================] - 0s 4ms/step - loss: 92.7830 - mean_absolute_error: 7.3262 - val_loss: 107.7760 - val_mean_absolute_error: 7.6369\n",
            "Epoch 43/100\n",
            "11/11 [==============================] - 0s 4ms/step - loss: 80.6692 - mean_absolute_error: 6.7409 - val_loss: 110.4688 - val_mean_absolute_error: 7.7449\n",
            "Epoch 44/100\n",
            "11/11 [==============================] - 0s 4ms/step - loss: 82.4769 - mean_absolute_error: 7.1950 - val_loss: 130.2401 - val_mean_absolute_error: 9.4283\n",
            "Epoch 45/100\n",
            "11/11 [==============================] - 0s 4ms/step - loss: 73.2646 - mean_absolute_error: 6.7657 - val_loss: 94.3690 - val_mean_absolute_error: 7.2947\n",
            "Epoch 46/100\n",
            "11/11 [==============================] - 0s 4ms/step - loss: 66.0669 - mean_absolute_error: 6.2136 - val_loss: 132.1645 - val_mean_absolute_error: 8.5805\n",
            "Epoch 47/100\n",
            "11/11 [==============================] - 0s 4ms/step - loss: 77.7990 - mean_absolute_error: 7.0242 - val_loss: 113.4752 - val_mean_absolute_error: 7.8676\n",
            "Epoch 48/100\n",
            "11/11 [==============================] - 0s 4ms/step - loss: 61.1537 - mean_absolute_error: 6.0640 - val_loss: 95.4971 - val_mean_absolute_error: 7.6507\n",
            "Epoch 49/100\n",
            "11/11 [==============================] - 0s 4ms/step - loss: 64.3087 - mean_absolute_error: 6.2614 - val_loss: 93.4713 - val_mean_absolute_error: 7.3354\n",
            "Epoch 50/100\n",
            "11/11 [==============================] - 0s 4ms/step - loss: 57.2215 - mean_absolute_error: 5.8847 - val_loss: 106.6014 - val_mean_absolute_error: 7.6130\n",
            "Epoch 51/100\n",
            "11/11 [==============================] - 0s 6ms/step - loss: 59.8272 - mean_absolute_error: 6.0323 - val_loss: 92.6985 - val_mean_absolute_error: 7.3363\n",
            "Epoch 52/100\n",
            "11/11 [==============================] - 0s 6ms/step - loss: 56.7641 - mean_absolute_error: 6.0034 - val_loss: 96.4377 - val_mean_absolute_error: 7.7764\n",
            "Epoch 53/100\n",
            "11/11 [==============================] - 0s 5ms/step - loss: 55.7447 - mean_absolute_error: 5.8590 - val_loss: 97.1901 - val_mean_absolute_error: 7.8505\n",
            "Epoch 54/100\n",
            "11/11 [==============================] - 0s 4ms/step - loss: 53.7085 - mean_absolute_error: 5.7037 - val_loss: 92.8715 - val_mean_absolute_error: 7.3770\n",
            "Epoch 55/100\n",
            "11/11 [==============================] - 0s 4ms/step - loss: 54.1388 - mean_absolute_error: 5.7416 - val_loss: 96.6552 - val_mean_absolute_error: 7.3254\n",
            "Epoch 56/100\n",
            "11/11 [==============================] - 0s 5ms/step - loss: 51.8551 - mean_absolute_error: 5.6416 - val_loss: 95.0361 - val_mean_absolute_error: 7.2475\n",
            "Epoch 57/100\n",
            "11/11 [==============================] - 0s 4ms/step - loss: 62.2372 - mean_absolute_error: 6.2658 - val_loss: 139.2001 - val_mean_absolute_error: 9.9210\n",
            "Epoch 58/100\n",
            "11/11 [==============================] - 0s 4ms/step - loss: 66.9225 - mean_absolute_error: 6.6873 - val_loss: 95.1632 - val_mean_absolute_error: 7.2780\n",
            "Epoch 59/100\n",
            "11/11 [==============================] - 0s 4ms/step - loss: 54.3081 - mean_absolute_error: 5.7318 - val_loss: 93.4275 - val_mean_absolute_error: 7.5205\n",
            "Epoch 60/100\n",
            "11/11 [==============================] - 0s 4ms/step - loss: 50.9766 - mean_absolute_error: 5.5904 - val_loss: 91.9986 - val_mean_absolute_error: 7.2324\n",
            "Epoch 61/100\n",
            "11/11 [==============================] - 0s 4ms/step - loss: 58.4300 - mean_absolute_error: 6.0948 - val_loss: 97.6502 - val_mean_absolute_error: 7.8906\n",
            "Epoch 62/100\n",
            "11/11 [==============================] - 0s 4ms/step - loss: 60.4247 - mean_absolute_error: 6.1938 - val_loss: 90.4147 - val_mean_absolute_error: 7.2127\n",
            "Epoch 63/100\n",
            "11/11 [==============================] - 0s 4ms/step - loss: 52.0796 - mean_absolute_error: 5.6749 - val_loss: 93.5974 - val_mean_absolute_error: 7.5970\n",
            "Epoch 64/100\n",
            "11/11 [==============================] - 0s 4ms/step - loss: 49.0883 - mean_absolute_error: 5.4069 - val_loss: 93.4105 - val_mean_absolute_error: 7.2263\n",
            "Epoch 65/100\n",
            "11/11 [==============================] - 0s 4ms/step - loss: 53.8253 - mean_absolute_error: 5.8314 - val_loss: 97.2184 - val_mean_absolute_error: 7.8720\n",
            "Epoch 66/100\n",
            "11/11 [==============================] - 0s 4ms/step - loss: 51.9356 - mean_absolute_error: 5.6233 - val_loss: 103.9274 - val_mean_absolute_error: 7.5230\n",
            "Epoch 67/100\n",
            "11/11 [==============================] - 0s 4ms/step - loss: 58.7855 - mean_absolute_error: 6.0357 - val_loss: 123.3502 - val_mean_absolute_error: 9.1475\n",
            "Epoch 68/100\n",
            "11/11 [==============================] - 0s 4ms/step - loss: 77.7581 - mean_absolute_error: 7.1160 - val_loss: 145.8167 - val_mean_absolute_error: 9.1772\n",
            "Epoch 69/100\n",
            "11/11 [==============================] - 0s 4ms/step - loss: 62.8636 - mean_absolute_error: 6.1757 - val_loss: 112.0930 - val_mean_absolute_error: 8.6470\n",
            "Epoch 70/100\n",
            "11/11 [==============================] - 0s 4ms/step - loss: 59.4999 - mean_absolute_error: 6.1619 - val_loss: 110.7169 - val_mean_absolute_error: 7.7997\n",
            "Epoch 71/100\n",
            "11/11 [==============================] - 0s 4ms/step - loss: 71.7987 - mean_absolute_error: 6.7675 - val_loss: 97.6256 - val_mean_absolute_error: 7.8968\n",
            "Epoch 72/100\n",
            "11/11 [==============================] - 0s 5ms/step - loss: 57.9717 - mean_absolute_error: 5.9989 - val_loss: 91.5999 - val_mean_absolute_error: 7.3888\n",
            "Epoch 73/100\n",
            "11/11 [==============================] - 0s 4ms/step - loss: 58.5113 - mean_absolute_error: 6.0504 - val_loss: 97.4883 - val_mean_absolute_error: 7.2974\n",
            "Epoch 74/100\n",
            "11/11 [==============================] - 0s 4ms/step - loss: 58.0861 - mean_absolute_error: 6.0771 - val_loss: 131.4639 - val_mean_absolute_error: 9.5541\n",
            "Epoch 75/100\n",
            "11/11 [==============================] - 0s 4ms/step - loss: 68.3947 - mean_absolute_error: 6.6643 - val_loss: 115.4601 - val_mean_absolute_error: 7.9772\n",
            "Epoch 76/100\n",
            "11/11 [==============================] - 0s 6ms/step - loss: 58.4614 - mean_absolute_error: 5.9609 - val_loss: 104.4082 - val_mean_absolute_error: 8.2811\n",
            "Epoch 77/100\n",
            "11/11 [==============================] - 0s 4ms/step - loss: 53.7270 - mean_absolute_error: 5.7654 - val_loss: 102.7088 - val_mean_absolute_error: 7.4685\n",
            "Epoch 78/100\n",
            "11/11 [==============================] - 0s 4ms/step - loss: 59.2027 - mean_absolute_error: 6.0076 - val_loss: 92.3205 - val_mean_absolute_error: 7.5181\n",
            "Epoch 79/100\n",
            "11/11 [==============================] - 0s 4ms/step - loss: 47.2894 - mean_absolute_error: 5.3399 - val_loss: 92.5903 - val_mean_absolute_error: 7.4722\n",
            "Epoch 80/100\n",
            "11/11 [==============================] - 0s 4ms/step - loss: 47.4688 - mean_absolute_error: 5.3759 - val_loss: 91.8729 - val_mean_absolute_error: 7.4518\n",
            "Epoch 81/100\n",
            "11/11 [==============================] - 0s 4ms/step - loss: 46.5125 - mean_absolute_error: 5.4022 - val_loss: 91.7231 - val_mean_absolute_error: 7.1908\n",
            "Epoch 82/100\n",
            "11/11 [==============================] - 0s 4ms/step - loss: 45.0770 - mean_absolute_error: 5.2074 - val_loss: 96.8746 - val_mean_absolute_error: 7.8546\n",
            "Epoch 83/100\n",
            "11/11 [==============================] - 0s 4ms/step - loss: 48.0912 - mean_absolute_error: 5.4533 - val_loss: 90.8096 - val_mean_absolute_error: 7.2784\n",
            "Epoch 84/100\n",
            "11/11 [==============================] - 0s 4ms/step - loss: 48.6783 - mean_absolute_error: 5.4439 - val_loss: 104.9572 - val_mean_absolute_error: 7.5545\n",
            "Epoch 85/100\n",
            "11/11 [==============================] - 0s 4ms/step - loss: 51.3219 - mean_absolute_error: 5.4928 - val_loss: 95.1542 - val_mean_absolute_error: 7.7388\n",
            "Epoch 86/100\n",
            "11/11 [==============================] - 0s 4ms/step - loss: 46.0492 - mean_absolute_error: 5.2790 - val_loss: 97.0172 - val_mean_absolute_error: 7.2697\n",
            "Epoch 87/100\n",
            "11/11 [==============================] - 0s 4ms/step - loss: 50.8751 - mean_absolute_error: 5.6720 - val_loss: 94.8158 - val_mean_absolute_error: 7.7347\n",
            "Epoch 88/100\n",
            "11/11 [==============================] - 0s 4ms/step - loss: 47.5431 - mean_absolute_error: 5.3821 - val_loss: 90.8277 - val_mean_absolute_error: 7.2872\n",
            "Epoch 89/100\n",
            "11/11 [==============================] - 0s 4ms/step - loss: 45.3498 - mean_absolute_error: 5.2687 - val_loss: 92.2350 - val_mean_absolute_error: 7.4896\n",
            "Epoch 90/100\n",
            "11/11 [==============================] - 0s 4ms/step - loss: 61.8245 - mean_absolute_error: 6.1364 - val_loss: 122.9253 - val_mean_absolute_error: 8.2861\n",
            "Epoch 91/100\n",
            "11/11 [==============================] - 0s 4ms/step - loss: 59.5869 - mean_absolute_error: 6.0219 - val_loss: 90.8429 - val_mean_absolute_error: 7.4136\n",
            "Epoch 92/100\n",
            "11/11 [==============================] - 0s 4ms/step - loss: 55.3836 - mean_absolute_error: 6.0688 - val_loss: 100.9898 - val_mean_absolute_error: 8.1033\n",
            "Epoch 93/100\n",
            "11/11 [==============================] - 0s 4ms/step - loss: 53.8849 - mean_absolute_error: 5.7518 - val_loss: 101.5876 - val_mean_absolute_error: 7.4245\n",
            "Epoch 94/100\n",
            "11/11 [==============================] - 0s 4ms/step - loss: 52.2612 - mean_absolute_error: 5.6479 - val_loss: 102.4230 - val_mean_absolute_error: 8.1813\n",
            "Epoch 95/100\n",
            "11/11 [==============================] - 0s 4ms/step - loss: 50.7764 - mean_absolute_error: 5.7326 - val_loss: 93.9538 - val_mean_absolute_error: 7.1767\n",
            "Epoch 96/100\n",
            "11/11 [==============================] - 0s 6ms/step - loss: 64.2099 - mean_absolute_error: 6.3257 - val_loss: 91.0758 - val_mean_absolute_error: 7.3637\n",
            "Epoch 97/100\n",
            "11/11 [==============================] - 0s 4ms/step - loss: 56.1026 - mean_absolute_error: 5.9004 - val_loss: 90.0152 - val_mean_absolute_error: 7.2549\n",
            "Epoch 98/100\n",
            "11/11 [==============================] - 0s 4ms/step - loss: 59.9857 - mean_absolute_error: 6.0190 - val_loss: 94.7678 - val_mean_absolute_error: 7.1894\n",
            "Epoch 99/100\n",
            "11/11 [==============================] - 0s 4ms/step - loss: 48.2626 - mean_absolute_error: 5.4787 - val_loss: 90.7747 - val_mean_absolute_error: 7.2385\n",
            "Epoch 100/100\n",
            "11/11 [==============================] - 0s 4ms/step - loss: 46.2850 - mean_absolute_error: 5.3524 - val_loss: 94.4947 - val_mean_absolute_error: 7.2184\n"
          ]
        },
        {
          "output_type": "execute_result",
          "data": {
            "text/plain": [
              "<keras.callbacks.History at 0x7fd8a2cb9490>"
            ]
          },
          "metadata": {},
          "execution_count": 56
        }
      ]
    },
    {
      "cell_type": "code",
      "source": [
        "y_train_pred = model2.predict(X_train)\n",
        "plt.plot(date_train, y_train_pred)\n",
        "plt.plot(date_train, y_train)\n",
        "plt.legend(['Train Prediction', 'Train Actual'])\n",
        "plt.show()"
      ],
      "metadata": {
        "colab": {
          "base_uri": "https://localhost:8080/",
          "height": 265
        },
        "id": "mjG0S_qB0eO9",
        "outputId": "9ca1a942-0ab3-4fb2-ae5a-727d876e29b2"
      },
      "execution_count": 60,
      "outputs": [
        {
          "output_type": "display_data",
          "data": {
            "text/plain": [
              "<Figure size 432x288 with 1 Axes>"
            ],
            "image/png": "[encoded data removed]"
          },
          "metadata": {
            "needs_background": "light"
          }
        }
      ]
    },
    {
      "cell_type": "code",
      "source": [
        "y_val_pred = model2.predict(X_val)\n",
        "y_test_pred = model2.predict(X_test)\n",
        "plt.figure(figsize=(8,5))\n",
        "plt.plot(date_val, y_val_pred)\n",
        "plt.plot(date_val, y_val)\n",
        "plt.plot(date_test, y_test_pred)\n",
        "plt.plot(date_test, y_test)\n",
        "plt.legend(['Val Prediction', 'Val Actual','Test Prediction', 'Test Actual'])\n",
        "plt.xticks(rotation=45)\n",
        "plt.show()"
      ],
      "metadata": {
        "colab": {
          "base_uri": "https://localhost:8080/",
          "height": 361
        },
        "id": "q1TrkFCn0r5a",
        "outputId": "77ff6ab8-ef15-4847-b85e-a0b44c356cac"
      },
      "execution_count": 70,
      "outputs": [
        {
          "output_type": "display_data",
          "data": {
            "text/plain": [
              "<Figure size 576x360 with 1 Axes>"
            ],
            "image/png": "[encoded data removed]"
          },
          "metadata": {
            "needs_background": "light"
          }
        }
      ]
    },
    {
      "cell_type": "code",
      "source": [
        "# Looks pretty good!\n",
        "# Predict long-term:\n",
        "date_last3 = date_test[-3:,]\n",
        "y_test_last3 = y_test[-3:,]\n",
        "print(date_last3)\n",
        "print(y_test_last3)"
      ],
      "metadata": {
        "colab": {
          "base_uri": "https://localhost:8080/"
        },
        "id": "TdjGkPqK4b_a",
        "outputId": "f4a62b18-3a74-4302-8d2a-636e6fbf434e"
      },
      "execution_count": 65,
      "outputs": [
        {
          "output_type": "stream",
          "name": "stdout",
          "text": [
            "[Timestamp('2022-09-28 00:00:00') Timestamp('2022-09-29 00:00:00')\n",
            " Timestamp('2022-09-30 00:00:00')]\n",
            "[241.07 237.5  232.9 ]\n"
          ]
        }
      ]
    },
    {
      "cell_type": "code",
      "source": [
        "new_X_pred = np.array([[[y_test_last3[2]],[y_test_last3[1]],[y_test_last3[0]]]])\n",
        "new_y_pred = model2.predict(new_X_pred)\n",
        "print(new_y_pred)"
      ],
      "metadata": {
        "colab": {
          "base_uri": "https://localhost:8080/"
        },
        "id": "my4xBRCctoia",
        "outputId": "46993832-8d8f-4f74-854a-a0d986819db8"
      },
      "execution_count": 75,
      "outputs": [
        {
          "output_type": "stream",
          "name": "stdout",
          "text": [
            "[[242.53241]]\n"
          ]
        }
      ]
    },
    {
      "cell_type": "code",
      "source": [
        "last1, last2 = new_X_pred[0][0][0], new_X_pred[0][1][0]\n",
        "new_X_pred = np.array([[[last1],[last2],new_y_pred[0]]])\n",
        "new_X_pred"
      ],
      "metadata": {
        "colab": {
          "base_uri": "https://localhost:8080/"
        },
        "id": "G2fN_57bvEU4",
        "outputId": "127aa43a-0f67-4cfd-a58c-ab9c4cfd83f9"
      },
      "execution_count": 87,
      "outputs": [
        {
          "output_type": "execute_result",
          "data": {
            "text/plain": [
              "array([[[232.9    ],\n",
              "        [237.5    ],\n",
              "        [242.53241]]], dtype=float32)"
            ]
          },
          "metadata": {},
          "execution_count": 87
        }
      ]
    },
    {
      "cell_type": "code",
      "source": [
        "print(model2.predict(new_X_pred)[0][0])"
      ],
      "metadata": {
        "colab": {
          "base_uri": "https://localhost:8080/"
        },
        "id": "fUoL1yJBxk8H",
        "outputId": "95ba6f29-90f2-4eee-ecd3-87cfeedaa148"
      },
      "execution_count": 89,
      "outputs": [
        {
          "output_type": "stream",
          "name": "stdout",
          "text": [
            "243.38632\n"
          ]
        }
      ]
    },
    {
      "cell_type": "code",
      "source": [
        "pred = np.array([232.899994,242.53241,243.38632])\n",
        "pred = np.asarray(pred).astype('float32')\n",
        "for i in range(30):\n",
        "  new_X_pred = np.array([[[pred[len(pred)-3]], [pred[len(pred)-2]], [pred[len(pred)-1]]]])\n",
        "  y_pred = model2.predict(new_X_pred)\n",
        "  pred = np.append(pred, y_pred[0][0])\n",
        "print(pred)\n",
        "print(new_X_pred)"
      ],
      "metadata": {
        "colab": {
          "base_uri": "https://localhost:8080/"
        },
        "id": "crBcpC6UyShQ",
        "outputId": "fde30743-d315-4641-840d-f1558d8ceca6"
      },
      "execution_count": 96,
      "outputs": [
        {
          "output_type": "stream",
          "name": "stdout",
          "text": [
            "[232.9     242.53241 243.38632 245.61476 247.39037 249.25922 251.06061\n",
            " 252.86421 254.66017 256.46454 258.28326 260.12506 261.9969  263.90573\n",
            " 265.85794 267.85968 269.91647 272.03345 274.21506 276.46512 278.78653\n",
            " 281.18134 283.65005 286.19168 288.80344 291.48    294.21344 296.9925\n",
            " 299.80182 302.62216 305.42953 308.19583 310.88937]\n",
            "[[[302.62216]\n",
            "  [305.42953]\n",
            "  [308.19583]]]\n"
          ]
        }
      ]
    },
    {
      "cell_type": "code",
      "source": [
        "# Create date array:\n",
        "import datetime\n",
        "from datetime import datetime, timedelta, date\n",
        "date0 = date(year=2022, month=9, day=30)\n",
        "date_pred = np.array([date0])\n",
        "i=1\n",
        "while (len(date_pred)<33):\n",
        "  cur_date = date0 + timedelta(days=i)\n",
        "  if (cur_date.weekday()<5):\n",
        "    date_pred = np.append(date_pred, cur_date)\n",
        "  i=i+1\n",
        "print(date_pred)"
      ],
      "metadata": {
        "colab": {
          "base_uri": "https://localhost:8080/"
        },
        "id": "8a1mHFFg3CeQ",
        "outputId": "051ee93c-5b6d-4b9f-a3e5-ebcf2a9a99c0"
      },
      "execution_count": 109,
      "outputs": [
        {
          "output_type": "stream",
          "name": "stdout",
          "text": [
            "[datetime.date(2022, 9, 30) datetime.date(2022, 10, 3)\n",
            " datetime.date(2022, 10, 4) datetime.date(2022, 10, 5)\n",
            " datetime.date(2022, 10, 6) datetime.date(2022, 10, 7)\n",
            " datetime.date(2022, 10, 10) datetime.date(2022, 10, 11)\n",
            " datetime.date(2022, 10, 12) datetime.date(2022, 10, 13)\n",
            " datetime.date(2022, 10, 14) datetime.date(2022, 10, 17)\n",
            " datetime.date(2022, 10, 18) datetime.date(2022, 10, 19)\n",
            " datetime.date(2022, 10, 20) datetime.date(2022, 10, 21)\n",
            " datetime.date(2022, 10, 24) datetime.date(2022, 10, 25)\n",
            " datetime.date(2022, 10, 26) datetime.date(2022, 10, 27)\n",
            " datetime.date(2022, 10, 28) datetime.date(2022, 10, 31)\n",
            " datetime.date(2022, 11, 1) datetime.date(2022, 11, 2)\n",
            " datetime.date(2022, 11, 3) datetime.date(2022, 11, 4)\n",
            " datetime.date(2022, 11, 7) datetime.date(2022, 11, 8)\n",
            " datetime.date(2022, 11, 9) datetime.date(2022, 11, 10)\n",
            " datetime.date(2022, 11, 11) datetime.date(2022, 11, 14)\n",
            " datetime.date(2022, 11, 15)]\n"
          ]
        }
      ]
    },
    {
      "cell_type": "code",
      "source": [
        "plt.plot(date_test, y_test)\n",
        "plt.plot(date_pred, pred)\n",
        "plt.title('Prediction of Microsoft Stock Price')\n",
        "plt.legend(['Trend', 'Prediction'])\n",
        "plt.xticks(rotation=45)\n",
        "plt.show()"
      ],
      "metadata": {
        "colab": {
          "base_uri": "https://localhost:8080/",
          "height": 320
        },
        "id": "sI5_1MexCA7i",
        "outputId": "fe192cf3-f817-4f6c-eef4-f9118b03f1c0"
      },
      "execution_count": 114,
      "outputs": [
        {
          "output_type": "display_data",
          "data": {
            "text/plain": [
              "<Figure size 432x288 with 1 Axes>"
            ],
            "image/png": "[encoded data removed]"
          },
          "metadata": {
            "needs_background": "light"
          }
        }
      ]
    }
  ]
}