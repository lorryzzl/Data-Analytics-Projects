{
 "cells": [
  {
   "cell_type": "code",
   "execution_count": 10,
   "id": "f90a99ea",
   "metadata": {},
   "outputs": [],
   "source": [
    "import pandas as pd\n",
    "import numpy as np"
   ]
  },
  {
   "cell_type": "code",
   "execution_count": 11,
   "id": "b262fd49",
   "metadata": {},
   "outputs": [
    {
     "data": {
      "text/html": [
       "<div>\n",
       "<style scoped>\n",
       "    .dataframe tbody tr th:only-of-type {\n",
       "        vertical-align: middle;\n",
       "    }\n",
       "\n",
       "    .dataframe tbody tr th {\n",
       "        vertical-align: top;\n",
       "    }\n",
       "\n",
       "    .dataframe thead th {\n",
       "        text-align: right;\n",
       "    }\n",
       "</style>\n",
       "<table border=\"1\" class=\"dataframe\">\n",
       "  <thead>\n",
       "    <tr style=\"text-align: right;\">\n",
       "      <th></th>\n",
       "      <th>player_id</th>\n",
       "      <th>nickname</th>\n",
       "      <th>real_name</th>\n",
       "      <th>age</th>\n",
       "      <th>country</th>\n",
       "      <th>current_team</th>\n",
       "      <th>teams</th>\n",
       "      <th>total_kills</th>\n",
       "      <th>total_deaths</th>\n",
       "      <th>headshot_percentage</th>\n",
       "      <th>...</th>\n",
       "      <th>3_kill_rounds</th>\n",
       "      <th>4_kill_rounds</th>\n",
       "      <th>5_kill_rounds</th>\n",
       "      <th>rifle_kills</th>\n",
       "      <th>sniper_kills</th>\n",
       "      <th>smg_kills</th>\n",
       "      <th>pistol_kills</th>\n",
       "      <th>grenade_kills</th>\n",
       "      <th>other_kills</th>\n",
       "      <th>rating</th>\n",
       "    </tr>\n",
       "  </thead>\n",
       "  <tbody>\n",
       "    <tr>\n",
       "      <th>0</th>\n",
       "      <td>11893</td>\n",
       "      <td>ZywOo</td>\n",
       "      <td>Mathieu Herbaut</td>\n",
       "      <td>21</td>\n",
       "      <td>France</td>\n",
       "      <td>Vitality</td>\n",
       "      <td>Vitality, aAa</td>\n",
       "      <td>22622</td>\n",
       "      <td>16458</td>\n",
       "      <td>41.2%</td>\n",
       "      <td>...</td>\n",
       "      <td>1474</td>\n",
       "      <td>369</td>\n",
       "      <td>71</td>\n",
       "      <td>8261</td>\n",
       "      <td>8552</td>\n",
       "      <td>1290</td>\n",
       "      <td>4262</td>\n",
       "      <td>260</td>\n",
       "      <td>49</td>\n",
       "      <td>1.32</td>\n",
       "    </tr>\n",
       "    <tr>\n",
       "      <th>1</th>\n",
       "      <td>7998</td>\n",
       "      <td>s1mple</td>\n",
       "      <td>Aleksandr Kostyliev</td>\n",
       "      <td>24</td>\n",
       "      <td>Ukraine</td>\n",
       "      <td>Natus Vincere</td>\n",
       "      <td>Natus Vincere</td>\n",
       "      <td>35512</td>\n",
       "      <td>26413</td>\n",
       "      <td>41.3%</td>\n",
       "      <td>...</td>\n",
       "      <td>2262</td>\n",
       "      <td>504</td>\n",
       "      <td>64</td>\n",
       "      <td>14717</td>\n",
       "      <td>13451</td>\n",
       "      <td>901</td>\n",
       "      <td>6057</td>\n",
       "      <td>199</td>\n",
       "      <td>254</td>\n",
       "      <td>1.25</td>\n",
       "    </tr>\n",
       "    <tr>\n",
       "      <th>2</th>\n",
       "      <td>16920</td>\n",
       "      <td>sh1ro</td>\n",
       "      <td>Dmitry Sokolov</td>\n",
       "      <td>21</td>\n",
       "      <td>Russia</td>\n",
       "      <td>Cloud9</td>\n",
       "      <td>Gambit Youngsters, Gambit</td>\n",
       "      <td>18091</td>\n",
       "      <td>12492</td>\n",
       "      <td>27.8%</td>\n",
       "      <td>...</td>\n",
       "      <td>1075</td>\n",
       "      <td>221</td>\n",
       "      <td>30</td>\n",
       "      <td>3791</td>\n",
       "      <td>10580</td>\n",
       "      <td>550</td>\n",
       "      <td>3008</td>\n",
       "      <td>175</td>\n",
       "      <td>70</td>\n",
       "      <td>1.26</td>\n",
       "    </tr>\n",
       "    <tr>\n",
       "      <th>3</th>\n",
       "      <td>20113</td>\n",
       "      <td>deko</td>\n",
       "      <td>Denis Zhukov</td>\n",
       "      <td>21</td>\n",
       "      <td>Russia</td>\n",
       "      <td>1WIN</td>\n",
       "      <td>1WIN</td>\n",
       "      <td>8738</td>\n",
       "      <td>6397</td>\n",
       "      <td>36.7%</td>\n",
       "      <td>...</td>\n",
       "      <td>518</td>\n",
       "      <td>112</td>\n",
       "      <td>8</td>\n",
       "      <td>2664</td>\n",
       "      <td>4348</td>\n",
       "      <td>181</td>\n",
       "      <td>1459</td>\n",
       "      <td>86</td>\n",
       "      <td>40</td>\n",
       "      <td>1.23</td>\n",
       "    </tr>\n",
       "    <tr>\n",
       "      <th>4</th>\n",
       "      <td>18835</td>\n",
       "      <td>saffee</td>\n",
       "      <td>Rafael Costa</td>\n",
       "      <td>27</td>\n",
       "      <td>Brazil</td>\n",
       "      <td>FURIA</td>\n",
       "      <td>FURIA, paiN</td>\n",
       "      <td>8482</td>\n",
       "      <td>6517</td>\n",
       "      <td>30.9%</td>\n",
       "      <td>...</td>\n",
       "      <td>524</td>\n",
       "      <td>114</td>\n",
       "      <td>14</td>\n",
       "      <td>2545</td>\n",
       "      <td>4412</td>\n",
       "      <td>264</td>\n",
       "      <td>1209</td>\n",
       "      <td>52</td>\n",
       "      <td>28</td>\n",
       "      <td>1.22</td>\n",
       "    </tr>\n",
       "  </tbody>\n",
       "</table>\n",
       "<p>5 rows × 41 columns</p>\n",
       "</div>"
      ],
      "text/plain": [
       "   player_id nickname            real_name  age  country   current_team  \\\n",
       "0      11893    ZywOo      Mathieu Herbaut   21   France       Vitality   \n",
       "1       7998   s1mple  Aleksandr Kostyliev   24  Ukraine  Natus Vincere   \n",
       "2      16920    sh1ro       Dmitry Sokolov   21   Russia         Cloud9   \n",
       "3      20113     deko         Denis Zhukov   21   Russia           1WIN   \n",
       "4      18835   saffee         Rafael Costa   27   Brazil          FURIA   \n",
       "\n",
       "                       teams  total_kills  total_deaths headshot_percentage  \\\n",
       "0              Vitality, aAa        22622         16458               41.2%   \n",
       "1              Natus Vincere        35512         26413               41.3%   \n",
       "2  Gambit Youngsters, Gambit        18091         12492               27.8%   \n",
       "3                       1WIN         8738          6397               36.7%   \n",
       "4                FURIA, paiN         8482          6517               30.9%   \n",
       "\n",
       "   ...  3_kill_rounds  4_kill_rounds  5_kill_rounds  rifle_kills  \\\n",
       "0  ...           1474            369             71         8261   \n",
       "1  ...           2262            504             64        14717   \n",
       "2  ...           1075            221             30         3791   \n",
       "3  ...            518            112              8         2664   \n",
       "4  ...            524            114             14         2545   \n",
       "\n",
       "   sniper_kills  smg_kills  pistol_kills  grenade_kills  other_kills  rating  \n",
       "0          8552       1290          4262            260           49    1.32  \n",
       "1         13451        901          6057            199          254    1.25  \n",
       "2         10580        550          3008            175           70    1.26  \n",
       "3          4348        181          1459             86           40    1.23  \n",
       "4          4412        264          1209             52           28    1.22  \n",
       "\n",
       "[5 rows x 41 columns]"
      ]
     },
     "execution_count": 11,
     "metadata": {},
     "output_type": "execute_result"
    }
   ],
   "source": [
    "data = pd.read_csv(\"csgo_players.csv\")\n",
    "data.head()"
   ]
  },
  {
   "cell_type": "code",
   "execution_count": 12,
   "id": "1356d303",
   "metadata": {},
   "outputs": [],
   "source": [
    "features = [\"kills_per_death\", 'sniper_kills', 'opening_kill_ratio', 'deaths_per_round', 'rating']\n",
    "df = data[features]"
   ]
  },
  {
   "cell_type": "code",
   "execution_count": 13,
   "id": "ae41c4aa",
   "metadata": {},
   "outputs": [],
   "source": [
    "from matplotlib import pyplot as plt"
   ]
  },
  {
   "cell_type": "code",
   "execution_count": 14,
   "id": "d25b6e61",
   "metadata": {},
   "outputs": [
    {
     "data": {
      "image/png": "[encoded data removed]",
      "text/plain": [
       "<Figure size 432x288 with 1 Axes>"
      ]
     },
     "metadata": {
      "needs_background": "light"
     },
     "output_type": "display_data"
    }
   ],
   "source": [
    "plt.title('kills per death - rating')\n",
    "plt.scatter(df['kills_per_death'], df['rating'])\n",
    "plt.show()"
   ]
  },
  {
   "cell_type": "code",
   "execution_count": 15,
   "id": "deed80c3",
   "metadata": {},
   "outputs": [
    {
     "data": {
      "image/png": "[encoded data removed]",
      "text/plain": [
       "<Figure size 432x288 with 1 Axes>"
      ]
     },
     "metadata": {
      "needs_background": "light"
     },
     "output_type": "display_data"
    }
   ],
   "source": [
    "plt.title('opening kill ratio - rating')\n",
    "plt.scatter(df['opening_kill_ratio'], df['rating'])\n",
    "plt.show()"
   ]
  },
  {
   "cell_type": "code",
   "execution_count": 16,
   "id": "316ffcec",
   "metadata": {},
   "outputs": [
    {
     "data": {
      "image/png": "[encoded data removed]",
      "text/plain": [
       "<Figure size 432x288 with 1 Axes>"
      ]
     },
     "metadata": {
      "needs_background": "light"
     },
     "output_type": "display_data"
    }
   ],
   "source": [
    "plt.title('sniper kills - rating')\n",
    "plt.scatter(df['sniper_kills'], df['rating'])\n",
    "plt.show()"
   ]
  },
  {
   "cell_type": "code",
   "execution_count": 19,
   "id": "042ae55d",
   "metadata": {},
   "outputs": [
    {
     "data": {
      "image/png": "[encoded data removed]",
      "text/plain": [
       "<Figure size 432x288 with 1 Axes>"
      ]
     },
     "metadata": {
      "needs_background": "light"
     },
     "output_type": "display_data"
    }
   ],
   "source": [
    "plt.title('deaths per round - rating')\n",
    "plt.scatter(df['deaths_per_round'], df['rating'])\n",
    "plt.show()"
   ]
  },
  {
   "cell_type": "code",
   "execution_count": 20,
   "id": "41582c23",
   "metadata": {},
   "outputs": [
    {
     "data": {
      "image/png": "[encoded data removed]",
      "text/plain": [
       "<Figure size 432x288 with 1 Axes>"
      ]
     },
     "metadata": {
      "needs_background": "light"
     },
     "output_type": "display_data"
    }
   ],
   "source": [
    "import seaborn as sns\n",
    "sns.kdeplot(df[\"kills_per_death\"], shade=True)\n",
    "plt.show()"
   ]
  },
  {
   "cell_type": "code",
   "execution_count": 21,
   "id": "ca05b3c6",
   "metadata": {},
   "outputs": [
    {
     "data": {
      "image/png": "[encoded data removed]",
      "text/plain": [
       "<Figure size 432x288 with 1 Axes>"
      ]
     },
     "metadata": {
      "needs_background": "light"
     },
     "output_type": "display_data"
    }
   ],
   "source": [
    "import seaborn as sns\n",
    "sns.kdeplot(df[\"sniper_kills\"], shade=True)\n",
    "plt.show()"
   ]
  },
  {
   "cell_type": "code",
   "execution_count": 22,
   "id": "dd8a420e",
   "metadata": {},
   "outputs": [
    {
     "data": {
      "image/png": "[encoded data removed]",
      "text/plain": [
       "<Figure size 432x288 with 1 Axes>"
      ]
     },
     "metadata": {
      "needs_background": "light"
     },
     "output_type": "display_data"
    }
   ],
   "source": [
    "import seaborn as sns\n",
    "sns.kdeplot(df[\"opening_kill_ratio\"], shade=True)\n",
    "plt.show()"
   ]
  },
  {
   "cell_type": "code",
   "execution_count": 24,
   "id": "8dadbe3b",
   "metadata": {},
   "outputs": [
    {
     "data": {
      "image/png": "[encoded data removed]",
      "text/plain": [
       "<Figure size 432x288 with 1 Axes>"
      ]
     },
     "metadata": {
      "needs_background": "light"
     },
     "output_type": "display_data"
    }
   ],
   "source": [
    "sns.kdeplot(df['deaths_per_round'], shade=True)\n",
    "plt.show()"
   ]
  },
  {
   "cell_type": "code",
   "execution_count": 25,
   "id": "f7b21144",
   "metadata": {},
   "outputs": [],
   "source": [
    "X= df[['kills_per_death', 'sniper_kills', 'opening_kill_ratio', 'deaths_per_round']]\n",
    "y= df['rating']\n",
    "from sklearn.linear_model import LinearRegression\n",
    "from sklearn.model_selection import train_test_split"
   ]
  },
  {
   "cell_type": "code",
   "execution_count": 44,
   "id": "06192a7c",
   "metadata": {},
   "outputs": [
    {
     "data": {
      "text/html": [
       "<div>\n",
       "<style scoped>\n",
       "    .dataframe tbody tr th:only-of-type {\n",
       "        vertical-align: middle;\n",
       "    }\n",
       "\n",
       "    .dataframe tbody tr th {\n",
       "        vertical-align: top;\n",
       "    }\n",
       "\n",
       "    .dataframe thead th {\n",
       "        text-align: right;\n",
       "    }\n",
       "</style>\n",
       "<table border=\"1\" class=\"dataframe\">\n",
       "  <thead>\n",
       "    <tr style=\"text-align: right;\">\n",
       "      <th></th>\n",
       "      <th>kills_per_death</th>\n",
       "      <th>sniper_kills</th>\n",
       "      <th>opening_kill_ratio</th>\n",
       "      <th>deaths_per_round</th>\n",
       "    </tr>\n",
       "  </thead>\n",
       "  <tbody>\n",
       "    <tr>\n",
       "      <th>757</th>\n",
       "      <td>0.91</td>\n",
       "      <td>49</td>\n",
       "      <td>0.81</td>\n",
       "      <td>0.67</td>\n",
       "    </tr>\n",
       "    <tr>\n",
       "      <th>33</th>\n",
       "      <td>1.16</td>\n",
       "      <td>1047</td>\n",
       "      <td>1.17</td>\n",
       "      <td>0.67</td>\n",
       "    </tr>\n",
       "    <tr>\n",
       "      <th>349</th>\n",
       "      <td>1.03</td>\n",
       "      <td>503</td>\n",
       "      <td>0.91</td>\n",
       "      <td>0.68</td>\n",
       "    </tr>\n",
       "    <tr>\n",
       "      <th>657</th>\n",
       "      <td>0.97</td>\n",
       "      <td>213</td>\n",
       "      <td>0.93</td>\n",
       "      <td>0.66</td>\n",
       "    </tr>\n",
       "    <tr>\n",
       "      <th>523</th>\n",
       "      <td>0.98</td>\n",
       "      <td>288</td>\n",
       "      <td>0.88</td>\n",
       "      <td>0.71</td>\n",
       "    </tr>\n",
       "  </tbody>\n",
       "</table>\n",
       "</div>"
      ],
      "text/plain": [
       "     kills_per_death  sniper_kills  opening_kill_ratio  deaths_per_round\n",
       "757             0.91            49                0.81              0.67\n",
       "33              1.16          1047                1.17              0.67\n",
       "349             1.03           503                0.91              0.68\n",
       "657             0.97           213                0.93              0.66\n",
       "523             0.98           288                0.88              0.71"
      ]
     },
     "execution_count": 44,
     "metadata": {},
     "output_type": "execute_result"
    }
   ],
   "source": [
    "X_train, X_test, y_train, y_test = train_test_split(X, y, test_size=0.3)\n",
    "X_train.head()"
   ]
  },
  {
   "cell_type": "markdown",
   "id": "4ec65595",
   "metadata": {},
   "source": [
    "### Linear Regression"
   ]
  },
  {
   "cell_type": "code",
   "execution_count": 45,
   "id": "96d57d88",
   "metadata": {},
   "outputs": [
    {
     "data": {
      "text/plain": [
       "LinearRegression()"
      ]
     },
     "execution_count": 45,
     "metadata": {},
     "output_type": "execute_result"
    }
   ],
   "source": [
    "lr = LinearRegression()\n",
    "lr.fit(X_train, y_train)"
   ]
  },
  {
   "cell_type": "code",
   "execution_count": 46,
   "id": "602152f8",
   "metadata": {},
   "outputs": [
    {
     "name": "stdout",
     "output_type": "stream",
     "text": [
      "lr.coef_: [ 8.77174107e-01 -2.05420395e-06 -1.26273737e-02  5.14478019e-01]\n",
      "lr.intercept_: -0.1999186755800264\n"
     ]
    }
   ],
   "source": [
    "print(\"lr.coef_: %s\" % lr.coef_)\n",
    "print(\"lr.intercept_: %s\" % lr.intercept_)"
   ]
  },
  {
   "cell_type": "markdown",
   "id": "ea092bb0",
   "metadata": {},
   "source": [
    "##### We can see only the coefficient of \"kills_per_death\" makes sense. The last three coefficients are all problematic."
   ]
  },
  {
   "cell_type": "code",
   "execution_count": 47,
   "id": "eab07545",
   "metadata": {},
   "outputs": [
    {
     "name": "stdout",
     "output_type": "stream",
     "text": [
      "training set score: 0.842728\n",
      "test set score: 0.848369\n"
     ]
    }
   ],
   "source": [
    "print(\"training set score: %f\" % lr.score(X_train, y_train))\n",
    "print(\"test set score: %f\" % lr.score(X_test, y_test))"
   ]
  },
  {
   "cell_type": "markdown",
   "id": "f8669850",
   "metadata": {},
   "source": [
    "### Lasso Regression"
   ]
  },
  {
   "cell_type": "code",
   "execution_count": 50,
   "id": "db020b86",
   "metadata": {},
   "outputs": [],
   "source": [
    "from sklearn.linear_model import Lasso"
   ]
  },
  {
   "cell_type": "code",
   "execution_count": 51,
   "id": "32be97a0",
   "metadata": {},
   "outputs": [
    {
     "name": "stdout",
     "output_type": "stream",
     "text": [
      "alpha = 1e-05\n",
      "lr.coef_: [ 8.66988985e-01 -2.12057201e-06 -1.00193148e-02  4.90335089e-01]\n",
      "lr.intercept_: -0.17590411698921882\n",
      "training set score: 0.842657\n",
      "test set score: 0.847509\n",
      "-----------------\n",
      "alpha = 0.0001\n",
      "lr.coef_: [ 7.92573044e-01 -2.46232793e-06 -0.00000000e+00  2.61896159e-01]\n",
      "lr.intercept_: 0.04348584745320194\n",
      "training set score: 0.836190\n",
      "test set score: 0.835364\n",
      "-----------------\n",
      "alpha = 0.001\n",
      "lr.coef_: [ 5.57501865e-01 -1.65117715e-06  3.06357785e-02  0.00000000e+00]\n",
      "lr.intercept_: 0.42742462457059593\n",
      "training set score: 0.784724\n",
      "test set score: 0.773957\n",
      "-----------------\n",
      "alpha = 0.01\n",
      "lr.coef_: [ 0.00000000e+00  6.80409434e-06  0.00000000e+00 -0.00000000e+00]\n",
      "lr.intercept_: 1.0199633437460955\n",
      "training set score: 0.103072\n",
      "test set score: 0.105871\n",
      "-----------------\n",
      "alpha = 0.1\n",
      "lr.coef_: [ 0.00000000e+00  6.79632619e-06  0.00000000e+00 -0.00000000e+00]\n",
      "lr.intercept_: 1.019979514204615\n",
      "training set score: 0.103071\n",
      "test set score: 0.105852\n",
      "-----------------\n",
      "alpha = 1\n",
      "lr.coef_: [ 0.00000000e+00  6.71864466e-06  0.00000000e+00 -0.00000000e+00]\n",
      "lr.intercept_: 1.0201412187898105\n",
      "training set score: 0.103055\n",
      "test set score: 0.105649\n",
      "-----------------\n",
      "alpha = 10\n",
      "lr.coef_: [ 0.00000000e+00  5.94182936e-06  0.00000000e+00 -0.00000000e+00]\n",
      "lr.intercept_: 1.021758264641766\n",
      "training set score: 0.101413\n",
      "test set score: 0.102337\n",
      "-----------------\n"
     ]
    }
   ],
   "source": [
    "alphas = [0.00001, 0.0001, 0.001, 0.01, 0.1, 1, 10]\n",
    "for a in alphas:\n",
    "    lasso = Lasso(alpha = a)\n",
    "    lasso.fit(X_train, y_train)\n",
    "    print(f'alpha = {a}')\n",
    "    print(\"lr.coef_: %s\" % lasso.coef_)\n",
    "    print(\"lr.intercept_: %s\" % lasso.intercept_)\n",
    "    print(\"training set score: %f\" % lasso.score(X_train, y_train))\n",
    "    print(\"test set score: %f\" % lasso.score(X_test, y_test))\n",
    "    print('-----------------')"
   ]
  },
  {
   "cell_type": "markdown",
   "id": "25302d6c",
   "metadata": {},
   "source": [
    "### Ridge Regression"
   ]
  },
  {
   "cell_type": "code",
   "execution_count": 53,
   "id": "dc22481d",
   "metadata": {},
   "outputs": [
    {
     "name": "stdout",
     "output_type": "stream",
     "text": [
      "alpha = 0.0001\n",
      "lr.coef_: [ 8.77067709e-01 -2.05469588e-06 -1.26048734e-02  5.14229832e-01]\n",
      "lr.intercept_: -0.19966588638348814\n",
      "training set score: 0.842728\n",
      "test set score: 0.848360\n",
      "-----------------\n",
      "alpha = 0.001\n",
      "lr.coef_: [ 8.76112105e-01 -2.05911604e-06 -1.24022393e-02  5.12005596e-01]\n",
      "lr.intercept_: -0.19739927001958701\n",
      "training set score: 0.842728\n",
      "test set score: 0.848283\n",
      "-----------------\n",
      "alpha = 0.01\n",
      "lr.coef_: [ 8.66745622e-01 -2.10262003e-06 -1.03644775e-02  4.90660304e-01]\n",
      "lr.intercept_: -0.1755406430320059\n",
      "training set score: 0.842658\n",
      "test set score: 0.847473\n",
      "-----------------\n",
      "alpha = 0.1\n",
      "lr.coef_: [ 7.87845243e-01 -2.47823409e-06  1.00927154e-02  3.40491411e-01]\n",
      "lr.intercept_: -0.01461685967418802\n",
      "training set score: 0.838344\n",
      "test set score: 0.837842\n",
      "-----------------\n",
      "alpha = 1\n",
      "lr.coef_: [ 4.63461843e-01 -3.78862278e-06  1.22401618e-01  5.45859725e-02]\n",
      "lr.intercept_: 0.3958467915990027\n",
      "training set score: 0.774856\n",
      "test set score: 0.762076\n",
      "-----------------\n",
      "alpha = 10\n",
      "lr.coef_: [ 1.45838586e-01 -8.76373561e-07  1.46858937e-01 -1.23652917e-02]\n",
      "lr.intercept_: 0.7376393763358262\n",
      "training set score: 0.582778\n",
      "test set score: 0.573340\n",
      "-----------------\n",
      "alpha = 100\n",
      "lr.coef_: [ 2.51842250e-02  5.14137723e-06  3.38420730e-02 -3.64166425e-03]\n",
      "lr.intercept_: 0.9639375695448186\n",
      "training set score: 0.232929\n",
      "test set score: 0.233794\n",
      "-----------------\n"
     ]
    }
   ],
   "source": [
    "from sklearn.linear_model import Ridge\n",
    "alphas = [0.0001, 0.001, 0.01, 0.1, 1, 10, 100]\n",
    "for a in alphas:\n",
    "    ridge = Ridge(alpha = a)\n",
    "    ridge.fit(X_train, y_train)\n",
    "    print(f'alpha = {a}')\n",
    "    print(\"lr.coef_: %s\" % ridge.coef_)\n",
    "    print(\"lr.intercept_: %s\" % ridge.intercept_)\n",
    "    print(\"training set score: %f\" % ridge.score(X_train, y_train))\n",
    "    print(\"test set score: %f\" % ridge.score(X_test, y_test))\n",
    "    print('-----------------')"
   ]
  },
  {
   "cell_type": "code",
   "execution_count": null,
   "id": "8f2cfe9e",
   "metadata": {},
   "outputs": [],
   "source": []
  }
 ],
 "metadata": {
  "kernelspec": {
   "display_name": "Python 3 (ipykernel)",
   "language": "python",
   "name": "python3"
  },
  "language_info": {
   "codemirror_mode": {
    "name": "ipython",
    "version": 3
   },
   "file_extension": ".py",
   "mimetype": "text/x-python",
   "name": "python",
   "nbconvert_exporter": "python",
   "pygments_lexer": "ipython3",
   "version": "3.9.7"
  }
 },
 "nbformat": 4,
 "nbformat_minor": 5
}
