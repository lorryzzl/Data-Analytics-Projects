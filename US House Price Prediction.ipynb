{
 "cells": [
  {
   "cell_type": "code",
   "execution_count": 1,
   "id": "bdaf84fe",
   "metadata": {},
   "outputs": [],
   "source": [
    "import pandas as pd\n",
    "import numpy as np\n",
    "import matplotlib.pyplot as plt"
   ]
  },
  {
   "cell_type": "code",
   "execution_count": 2,
   "id": "1c78fe2d",
   "metadata": {},
   "outputs": [
    {
     "data": {
      "text/plain": [
       "(203126, 12)"
      ]
     },
     "execution_count": 2,
     "metadata": {},
     "output_type": "execute_result"
    }
   ],
   "source": [
    "# Read in and explore data\n",
    "df = pd.read_csv(\"realtor-data.csv\")\n",
    "df.shape"
   ]
  },
  {
   "cell_type": "code",
   "execution_count": 3,
   "id": "994c46d2",
   "metadata": {},
   "outputs": [
    {
     "data": {
      "text/html": [
       "<div>\n",
       "<style scoped>\n",
       "    .dataframe tbody tr th:only-of-type {\n",
       "        vertical-align: middle;\n",
       "    }\n",
       "\n",
       "    .dataframe tbody tr th {\n",
       "        vertical-align: top;\n",
       "    }\n",
       "\n",
       "    .dataframe thead th {\n",
       "        text-align: right;\n",
       "    }\n",
       "</style>\n",
       "<table border=\"1\" class=\"dataframe\">\n",
       "  <thead>\n",
       "    <tr style=\"text-align: right;\">\n",
       "      <th></th>\n",
       "      <th>status</th>\n",
       "      <th>price</th>\n",
       "      <th>bed</th>\n",
       "      <th>bath</th>\n",
       "      <th>acre_lot</th>\n",
       "      <th>full_address</th>\n",
       "      <th>street</th>\n",
       "      <th>city</th>\n",
       "      <th>state</th>\n",
       "      <th>zip_code</th>\n",
       "      <th>house_size</th>\n",
       "      <th>sold_date</th>\n",
       "    </tr>\n",
       "  </thead>\n",
       "  <tbody>\n",
       "    <tr>\n",
       "      <th>0</th>\n",
       "      <td>for_sale</td>\n",
       "      <td>105000.0</td>\n",
       "      <td>3.0</td>\n",
       "      <td>2.0</td>\n",
       "      <td>0.12</td>\n",
       "      <td>Sector Yahuecas Titulo # V84, Adjuntas, PR, 00601</td>\n",
       "      <td>Sector Yahuecas Titulo # V84</td>\n",
       "      <td>Adjuntas</td>\n",
       "      <td>Puerto Rico</td>\n",
       "      <td>601.0</td>\n",
       "      <td>920.0</td>\n",
       "      <td>NaN</td>\n",
       "    </tr>\n",
       "    <tr>\n",
       "      <th>1</th>\n",
       "      <td>for_sale</td>\n",
       "      <td>80000.0</td>\n",
       "      <td>4.0</td>\n",
       "      <td>2.0</td>\n",
       "      <td>0.08</td>\n",
       "      <td>Km 78 9 Carr # 135, Adjuntas, PR, 00601</td>\n",
       "      <td>Km 78 9 Carr # 135</td>\n",
       "      <td>Adjuntas</td>\n",
       "      <td>Puerto Rico</td>\n",
       "      <td>601.0</td>\n",
       "      <td>1527.0</td>\n",
       "      <td>NaN</td>\n",
       "    </tr>\n",
       "    <tr>\n",
       "      <th>2</th>\n",
       "      <td>for_sale</td>\n",
       "      <td>67000.0</td>\n",
       "      <td>2.0</td>\n",
       "      <td>1.0</td>\n",
       "      <td>0.15</td>\n",
       "      <td>556G 556-G 16 St, Juana Diaz, PR, 00795</td>\n",
       "      <td>556G 556-G 16 St</td>\n",
       "      <td>Juana Diaz</td>\n",
       "      <td>Puerto Rico</td>\n",
       "      <td>795.0</td>\n",
       "      <td>748.0</td>\n",
       "      <td>NaN</td>\n",
       "    </tr>\n",
       "    <tr>\n",
       "      <th>3</th>\n",
       "      <td>for_sale</td>\n",
       "      <td>145000.0</td>\n",
       "      <td>4.0</td>\n",
       "      <td>2.0</td>\n",
       "      <td>0.10</td>\n",
       "      <td>R5 Comunidad El Paraso Calle De Oro R-5 Ponce,...</td>\n",
       "      <td>R5 Comunidad El Paraso Calle De Oro R-5 Ponce</td>\n",
       "      <td>Ponce</td>\n",
       "      <td>Puerto Rico</td>\n",
       "      <td>731.0</td>\n",
       "      <td>1800.0</td>\n",
       "      <td>NaN</td>\n",
       "    </tr>\n",
       "    <tr>\n",
       "      <th>4</th>\n",
       "      <td>for_sale</td>\n",
       "      <td>65000.0</td>\n",
       "      <td>6.0</td>\n",
       "      <td>2.0</td>\n",
       "      <td>0.05</td>\n",
       "      <td>14 Navarro, Mayaguez, PR, 00680</td>\n",
       "      <td>14 Navarro</td>\n",
       "      <td>Mayaguez</td>\n",
       "      <td>Puerto Rico</td>\n",
       "      <td>680.0</td>\n",
       "      <td>NaN</td>\n",
       "      <td>NaN</td>\n",
       "    </tr>\n",
       "  </tbody>\n",
       "</table>\n",
       "</div>"
      ],
      "text/plain": [
       "     status     price  bed  bath  acre_lot  \\\n",
       "0  for_sale  105000.0  3.0   2.0      0.12   \n",
       "1  for_sale   80000.0  4.0   2.0      0.08   \n",
       "2  for_sale   67000.0  2.0   1.0      0.15   \n",
       "3  for_sale  145000.0  4.0   2.0      0.10   \n",
       "4  for_sale   65000.0  6.0   2.0      0.05   \n",
       "\n",
       "                                        full_address  \\\n",
       "0  Sector Yahuecas Titulo # V84, Adjuntas, PR, 00601   \n",
       "1            Km 78 9 Carr # 135, Adjuntas, PR, 00601   \n",
       "2            556G 556-G 16 St, Juana Diaz, PR, 00795   \n",
       "3  R5 Comunidad El Paraso Calle De Oro R-5 Ponce,...   \n",
       "4                    14 Navarro, Mayaguez, PR, 00680   \n",
       "\n",
       "                                          street        city        state  \\\n",
       "0                   Sector Yahuecas Titulo # V84    Adjuntas  Puerto Rico   \n",
       "1                             Km 78 9 Carr # 135    Adjuntas  Puerto Rico   \n",
       "2                               556G 556-G 16 St  Juana Diaz  Puerto Rico   \n",
       "3  R5 Comunidad El Paraso Calle De Oro R-5 Ponce       Ponce  Puerto Rico   \n",
       "4                                     14 Navarro    Mayaguez  Puerto Rico   \n",
       "\n",
       "   zip_code  house_size sold_date  \n",
       "0     601.0       920.0       NaN  \n",
       "1     601.0      1527.0       NaN  \n",
       "2     795.0       748.0       NaN  \n",
       "3     731.0      1800.0       NaN  \n",
       "4     680.0         NaN       NaN  "
      ]
     },
     "execution_count": 3,
     "metadata": {},
     "output_type": "execute_result"
    }
   ],
   "source": [
    "df.head()"
   ]
  },
  {
   "cell_type": "code",
   "execution_count": 4,
   "id": "29016851",
   "metadata": {},
   "outputs": [
    {
     "data": {
      "text/plain": [
       "182207"
      ]
     },
     "execution_count": 4,
     "metadata": {},
     "output_type": "execute_result"
    }
   ],
   "source": [
    "df.duplicated().sum()"
   ]
  },
  {
   "cell_type": "code",
   "execution_count": 5,
   "id": "6b595d1d",
   "metadata": {},
   "outputs": [
    {
     "data": {
      "text/plain": [
       "(20919, 12)"
      ]
     },
     "execution_count": 5,
     "metadata": {},
     "output_type": "execute_result"
    }
   ],
   "source": [
    "df.drop_duplicates(keep='first', inplace=True)\n",
    "df.shape"
   ]
  },
  {
   "cell_type": "code",
   "execution_count": 6,
   "id": "9ac1f664",
   "metadata": {},
   "outputs": [
    {
     "name": "stdout",
     "output_type": "stream",
     "text": [
      "(13062, 7)\n",
      "0\n"
     ]
    }
   ],
   "source": [
    "df = df.drop(columns=['status','full_address','street', 'state', 'sold_date'])\n",
    "df = df.dropna(axis=0, how=\"any\")\n",
    "print(df.shape)\n",
    "print(df.isna().sum().sum())"
   ]
  },
  {
   "cell_type": "code",
   "execution_count": 7,
   "id": "12cf33bd",
   "metadata": {},
   "outputs": [
    {
     "data": {
      "text/plain": [
       "Boston         520\n",
       "Providence     314\n",
       "Warwick        215\n",
       "San Juan       199\n",
       "Hartford       182\n",
       "Cranston       170\n",
       "Springfield    142\n",
       "Pawtucket      138\n",
       "Manchester     137\n",
       "New Britain    135\n",
       "Name: city, dtype: int64"
      ]
     },
     "execution_count": 7,
     "metadata": {},
     "output_type": "execute_result"
    }
   ],
   "source": [
    "df.city.value_counts()[0:10]"
   ]
  },
  {
   "cell_type": "code",
   "execution_count": 8,
   "id": "7bd9b877",
   "metadata": {},
   "outputs": [
    {
     "name": "stdout",
     "output_type": "stream",
     "text": [
      "(520, 7) (314, 7)\n"
     ]
    }
   ],
   "source": [
    "# We will do Boston, Worcester, and Springfield seperately.\n",
    "df_bos = df.loc[df.city=='Boston']\n",
    "df_pro = df.loc[df.city=='Providence']\n",
    "print(df_bos.shape, df_pro.shape)"
   ]
  },
  {
   "cell_type": "code",
   "execution_count": 9,
   "id": "5b116f7a",
   "metadata": {},
   "outputs": [
    {
     "data": {
      "text/html": [
       "<div>\n",
       "<style scoped>\n",
       "    .dataframe tbody tr th:only-of-type {\n",
       "        vertical-align: middle;\n",
       "    }\n",
       "\n",
       "    .dataframe tbody tr th {\n",
       "        vertical-align: top;\n",
       "    }\n",
       "\n",
       "    .dataframe thead th {\n",
       "        text-align: right;\n",
       "    }\n",
       "</style>\n",
       "<table border=\"1\" class=\"dataframe\">\n",
       "  <thead>\n",
       "    <tr style=\"text-align: right;\">\n",
       "      <th></th>\n",
       "      <th>price</th>\n",
       "      <th>bed</th>\n",
       "      <th>bath</th>\n",
       "      <th>acre_lot</th>\n",
       "      <th>zip_code</th>\n",
       "      <th>house_size</th>\n",
       "    </tr>\n",
       "  </thead>\n",
       "  <tbody>\n",
       "    <tr>\n",
       "      <th>0</th>\n",
       "      <td>650000.0</td>\n",
       "      <td>1.0</td>\n",
       "      <td>1.0</td>\n",
       "      <td>0.02</td>\n",
       "      <td>2135.0</td>\n",
       "      <td>688.0</td>\n",
       "    </tr>\n",
       "    <tr>\n",
       "      <th>1</th>\n",
       "      <td>739000.0</td>\n",
       "      <td>2.0</td>\n",
       "      <td>1.0</td>\n",
       "      <td>0.03</td>\n",
       "      <td>2130.0</td>\n",
       "      <td>1250.0</td>\n",
       "    </tr>\n",
       "    <tr>\n",
       "      <th>2</th>\n",
       "      <td>1200000.0</td>\n",
       "      <td>9.0</td>\n",
       "      <td>3.0</td>\n",
       "      <td>0.09</td>\n",
       "      <td>2131.0</td>\n",
       "      <td>3204.0</td>\n",
       "    </tr>\n",
       "    <tr>\n",
       "      <th>3</th>\n",
       "      <td>949000.0</td>\n",
       "      <td>3.0</td>\n",
       "      <td>3.0</td>\n",
       "      <td>0.06</td>\n",
       "      <td>2130.0</td>\n",
       "      <td>2623.0</td>\n",
       "    </tr>\n",
       "    <tr>\n",
       "      <th>4</th>\n",
       "      <td>9750000.0</td>\n",
       "      <td>4.0</td>\n",
       "      <td>7.0</td>\n",
       "      <td>1.00</td>\n",
       "      <td>2115.0</td>\n",
       "      <td>4754.0</td>\n",
       "    </tr>\n",
       "  </tbody>\n",
       "</table>\n",
       "</div>"
      ],
      "text/plain": [
       "       price  bed  bath  acre_lot  zip_code  house_size\n",
       "0   650000.0  1.0   1.0      0.02    2135.0       688.0\n",
       "1   739000.0  2.0   1.0      0.03    2130.0      1250.0\n",
       "2  1200000.0  9.0   3.0      0.09    2131.0      3204.0\n",
       "3   949000.0  3.0   3.0      0.06    2130.0      2623.0\n",
       "4  9750000.0  4.0   7.0      1.00    2115.0      4754.0"
      ]
     },
     "execution_count": 9,
     "metadata": {},
     "output_type": "execute_result"
    }
   ],
   "source": [
    "# df_bos\n",
    "df_bos = df_bos.reset_index(drop=True)\n",
    "df_bos = df_bos.drop(columns=['city'])\n",
    "df_bos.head()"
   ]
  },
  {
   "cell_type": "code",
   "execution_count": 10,
   "id": "2bba470a",
   "metadata": {},
   "outputs": [
    {
     "data": {
      "text/html": [
       "<div>\n",
       "<style scoped>\n",
       "    .dataframe tbody tr th:only-of-type {\n",
       "        vertical-align: middle;\n",
       "    }\n",
       "\n",
       "    .dataframe tbody tr th {\n",
       "        vertical-align: top;\n",
       "    }\n",
       "\n",
       "    .dataframe thead th {\n",
       "        text-align: right;\n",
       "    }\n",
       "</style>\n",
       "<table border=\"1\" class=\"dataframe\">\n",
       "  <thead>\n",
       "    <tr style=\"text-align: right;\">\n",
       "      <th></th>\n",
       "      <th>price</th>\n",
       "      <th>bed</th>\n",
       "      <th>bath</th>\n",
       "      <th>acre_lot</th>\n",
       "      <th>zip_code</th>\n",
       "      <th>house_size</th>\n",
       "    </tr>\n",
       "  </thead>\n",
       "  <tbody>\n",
       "    <tr>\n",
       "      <th>0</th>\n",
       "      <td>150000.0</td>\n",
       "      <td>4.0</td>\n",
       "      <td>2.0</td>\n",
       "      <td>0.05</td>\n",
       "      <td>2909.0</td>\n",
       "      <td>2336.0</td>\n",
       "    </tr>\n",
       "    <tr>\n",
       "      <th>1</th>\n",
       "      <td>319900.0</td>\n",
       "      <td>3.0</td>\n",
       "      <td>3.0</td>\n",
       "      <td>0.07</td>\n",
       "      <td>2905.0</td>\n",
       "      <td>1331.0</td>\n",
       "    </tr>\n",
       "    <tr>\n",
       "      <th>2</th>\n",
       "      <td>139900.0</td>\n",
       "      <td>3.0</td>\n",
       "      <td>2.0</td>\n",
       "      <td>0.11</td>\n",
       "      <td>2908.0</td>\n",
       "      <td>1683.0</td>\n",
       "    </tr>\n",
       "    <tr>\n",
       "      <th>3</th>\n",
       "      <td>159900.0</td>\n",
       "      <td>4.0</td>\n",
       "      <td>2.0</td>\n",
       "      <td>0.11</td>\n",
       "      <td>2905.0</td>\n",
       "      <td>2147.0</td>\n",
       "    </tr>\n",
       "    <tr>\n",
       "      <th>4</th>\n",
       "      <td>239900.0</td>\n",
       "      <td>6.0</td>\n",
       "      <td>3.0</td>\n",
       "      <td>0.07</td>\n",
       "      <td>2905.0</td>\n",
       "      <td>3863.0</td>\n",
       "    </tr>\n",
       "  </tbody>\n",
       "</table>\n",
       "</div>"
      ],
      "text/plain": [
       "      price  bed  bath  acre_lot  zip_code  house_size\n",
       "0  150000.0  4.0   2.0      0.05    2909.0      2336.0\n",
       "1  319900.0  3.0   3.0      0.07    2905.0      1331.0\n",
       "2  139900.0  3.0   2.0      0.11    2908.0      1683.0\n",
       "3  159900.0  4.0   2.0      0.11    2905.0      2147.0\n",
       "4  239900.0  6.0   3.0      0.07    2905.0      3863.0"
      ]
     },
     "execution_count": 10,
     "metadata": {},
     "output_type": "execute_result"
    }
   ],
   "source": [
    "# df_pro\n",
    "df_pro = df_pro.reset_index(drop=True)\n",
    "df_pro = df_pro.drop(columns=['city'])\n",
    "df_pro.head()"
   ]
  },
  {
   "cell_type": "code",
   "execution_count": 11,
   "id": "f0ef6587",
   "metadata": {},
   "outputs": [
    {
     "data": {
      "image/png": "[encoded data removed]",
      "text/plain": [
       "<Figure size 432x288 with 1 Axes>"
      ]
     },
     "metadata": {
      "needs_background": "light"
     },
     "output_type": "display_data"
    }
   ],
   "source": [
    "# EDA\n",
    "import seaborn as sns\n",
    "sns.kdeplot(df_bos['price'], shade=True)\n",
    "plt.title('Boston House Price')\n",
    "plt.show()"
   ]
  },
  {
   "cell_type": "code",
   "execution_count": 12,
   "id": "ee36f1f9",
   "metadata": {},
   "outputs": [
    {
     "data": {
      "image/png": "[encoded data removed]",
      "text/plain": [
       "<Figure size 432x288 with 1 Axes>"
      ]
     },
     "metadata": {
      "needs_background": "light"
     },
     "output_type": "display_data"
    }
   ],
   "source": [
    "sns.kdeplot(df_pro['price'], shade=True)\n",
    "plt.title('Providence House Price')\n",
    "plt.show()"
   ]
  },
  {
   "cell_type": "code",
   "execution_count": 13,
   "id": "9e99f45f",
   "metadata": {},
   "outputs": [
    {
     "data": {
      "image/png": "[encoded data removed]",
      "text/plain": [
       "<Figure size 432x288 with 1 Axes>"
      ]
     },
     "metadata": {
      "needs_background": "light"
     },
     "output_type": "display_data"
    }
   ],
   "source": [
    "sns.lineplot(data=df_bos, x=df_bos['house_size'], y=df_bos['price'])\n",
    "plt.title(\"Boston\")\n",
    "plt.show()"
   ]
  },
  {
   "cell_type": "code",
   "execution_count": 14,
   "id": "13672cda",
   "metadata": {},
   "outputs": [
    {
     "data": {
      "image/png": "[encoded data removed]",
      "text/plain": [
       "<Figure size 432x288 with 1 Axes>"
      ]
     },
     "metadata": {
      "needs_background": "light"
     },
     "output_type": "display_data"
    }
   ],
   "source": [
    "sns.lineplot(data=df_pro, x=df_pro['house_size'], y=df_pro['price'])\n",
    "plt.title(\"Providence\")\n",
    "plt.show()"
   ]
  },
  {
   "cell_type": "code",
   "execution_count": 15,
   "id": "06b807b5",
   "metadata": {},
   "outputs": [
    {
     "data": {
      "image/png": "[encoded data removed]",
      "text/plain": [
       "<Figure size 432x288 with 1 Axes>"
      ]
     },
     "metadata": {
      "needs_background": "light"
     },
     "output_type": "display_data"
    }
   ],
   "source": [
    "sns.scatterplot(data=df_bos, x=df_bos['bed'], y=df_bos['price'], marker=\"+\")\n",
    "plt.title(\"Boston\")\n",
    "plt.show()"
   ]
  },
  {
   "cell_type": "code",
   "execution_count": 16,
   "id": "f490a435",
   "metadata": {},
   "outputs": [
    {
     "data": {
      "image/png": "[encoded data removed]",
      "text/plain": [
       "<Figure size 432x288 with 1 Axes>"
      ]
     },
     "metadata": {
      "needs_background": "light"
     },
     "output_type": "display_data"
    }
   ],
   "source": [
    "sns.scatterplot(data=df_pro, x=df_pro['bed'], y=df_pro['price'], marker=\"+\")\n",
    "plt.title(\"Providence\")\n",
    "plt.show()"
   ]
  },
  {
   "cell_type": "code",
   "execution_count": 17,
   "id": "aead9575",
   "metadata": {},
   "outputs": [
    {
     "name": "stdout",
     "output_type": "stream",
     "text": [
      "(516, 6) (310, 6)\n"
     ]
    }
   ],
   "source": [
    "# Remove outliers\n",
    "from scipy import stats\n",
    "df_bos = df_bos[(np.abs(stats.zscore(df_bos['house_size'])) < 3)]\n",
    "df_pro = df_pro[(np.abs(stats.zscore(df_pro['house_size'])) < 3)]\n",
    "print(df_bos.shape, df_pro.shape)"
   ]
  },
  {
   "cell_type": "code",
   "execution_count": 18,
   "id": "1b1e1f22",
   "metadata": {},
   "outputs": [
    {
     "data": {
      "image/png": "[encoded data removed]",
      "text/plain": [
       "<Figure size 432x288 with 1 Axes>"
      ]
     },
     "metadata": {
      "needs_background": "light"
     },
     "output_type": "display_data"
    }
   ],
   "source": [
    "# Visualization after removing outliers\n",
    "sns.lineplot(data=df_bos, x=df_bos['house_size'], y=df_bos['price'])\n",
    "plt.title(\"Boston\")\n",
    "plt.show()"
   ]
  },
  {
   "cell_type": "code",
   "execution_count": 19,
   "id": "f351d89e",
   "metadata": {},
   "outputs": [
    {
     "data": {
      "image/png": "[encoded data removed]",
      "text/plain": [
       "<Figure size 432x288 with 1 Axes>"
      ]
     },
     "metadata": {
      "needs_background": "light"
     },
     "output_type": "display_data"
    }
   ],
   "source": [
    "sns.scatterplot(data=df_bos, x=df_bos['bed'], y=df_bos['price'], marker=\"+\")\n",
    "plt.title(\"Boston\")\n",
    "plt.show()"
   ]
  },
  {
   "cell_type": "code",
   "execution_count": 20,
   "id": "f1144211",
   "metadata": {},
   "outputs": [
    {
     "data": {
      "text/plain": [
       "2127.0    57\n",
       "2128.0    49\n",
       "2116.0    39\n",
       "2135.0    33\n",
       "2125.0    33\n",
       "2118.0    31\n",
       "2124.0    30\n",
       "2131.0    26\n",
       "2130.0    23\n",
       "2114.0    21\n",
       "2136.0    18\n",
       "2132.0    17\n",
       "2134.0    15\n",
       "2119.0    15\n",
       "2121.0    14\n",
       "2111.0    13\n",
       "2122.0    10\n",
       "2115.0    10\n",
       "2129.0     9\n",
       "2126.0     9\n",
       "2113.0     8\n",
       "2110.0     8\n",
       "2108.0     7\n",
       "2109.0     6\n",
       "2467.0     4\n",
       "2210.0     4\n",
       "2120.0     3\n",
       "2199.0     2\n",
       "2215.0     2\n",
       "Name: zip_code, dtype: int64"
      ]
     },
     "execution_count": 20,
     "metadata": {},
     "output_type": "execute_result"
    }
   ],
   "source": [
    "# zip code\n",
    "df_bos.zip_code.value_counts()"
   ]
  },
  {
   "cell_type": "code",
   "execution_count": 21,
   "id": "0d390e07",
   "metadata": {},
   "outputs": [
    {
     "data": {
      "text/plain": [
       "2909.0    78\n",
       "2908.0    74\n",
       "2904.0    44\n",
       "2907.0    35\n",
       "2905.0    33\n",
       "2906.0    33\n",
       "2903.0    11\n",
       "2910.0     2\n",
       "Name: zip_code, dtype: int64"
      ]
     },
     "execution_count": 21,
     "metadata": {},
     "output_type": "execute_result"
    }
   ],
   "source": [
    "df_pro.zip_code.value_counts()"
   ]
  },
  {
   "cell_type": "code",
   "execution_count": 22,
   "id": "a1f07c55",
   "metadata": {},
   "outputs": [
    {
     "data": {
      "image/png": "[encoded data removed]",
      "text/plain": [
       "<Figure size 504x360 with 1 Axes>"
      ]
     },
     "metadata": {
      "needs_background": "light"
     },
     "output_type": "display_data"
    }
   ],
   "source": [
    "plt.figure(figsize=(7,5))\n",
    "sns.scatterplot(data=df_pro, x=df_pro['house_size'], y=df_bos['price'], hue=\"zip_code\")\n",
    "plt.title(\"Providence\")\n",
    "plt.show()"
   ]
  },
  {
   "cell_type": "code",
   "execution_count": 23,
   "id": "28297785",
   "metadata": {},
   "outputs": [
    {
     "data": {
      "text/plain": [
       "zip_code\n",
       "2903.0    894517.909091\n",
       "2904.0    351277.000000\n",
       "2905.0    308766.636364\n",
       "2906.0    961660.575758\n",
       "2907.0    330234.228571\n",
       "2908.0    355131.959459\n",
       "2909.0    363414.102564\n",
       "2910.0    247450.000000\n",
       "Name: price, dtype: float64"
      ]
     },
     "execution_count": 23,
     "metadata": {},
     "output_type": "execute_result"
    }
   ],
   "source": [
    "df_pro.groupby(df_pro.zip_code)[\"price\"].mean()"
   ]
  },
  {
   "cell_type": "code",
   "execution_count": 24,
   "id": "f2de0e41",
   "metadata": {},
   "outputs": [
    {
     "name": "stdout",
     "output_type": "stream",
     "text": [
      "(516, 5) (310, 5)\n"
     ]
    }
   ],
   "source": [
    "# Remove column zip_code but save it\n",
    "bos_zip = list(df_bos.zip_code.unique())\n",
    "pro_zip = list(df_pro.zip_code.unique())\n",
    "df_bos = df_bos.drop(columns=['zip_code'])\n",
    "df_pro = df_pro.drop(columns=['zip_code'])\n",
    "print(df_bos.shape, df_pro.shape)"
   ]
  },
  {
   "cell_type": "code",
   "execution_count": 25,
   "id": "c29689a6",
   "metadata": {},
   "outputs": [],
   "source": [
    "# Scaling data and split\n",
    "from sklearn.model_selection import train_test_split\n",
    "from sklearn.preprocessing import MinMaxScaler\n",
    "X_bos = df_bos.drop(columns=['price'])\n",
    "y_bos = df_bos['price']\n",
    "X_bos_train, X_bos_test, y_bos_train, y_bos_test = train_test_split(X_bos, y_bos, test_size=0.2, random_state=42)"
   ]
  },
  {
   "cell_type": "code",
   "execution_count": 26,
   "id": "1096f565",
   "metadata": {},
   "outputs": [
    {
     "name": "stdout",
     "output_type": "stream",
     "text": [
      "(412, 4) (104,) (248, 4) (62,)\n"
     ]
    }
   ],
   "source": [
    "X_pro = df_pro.drop(columns=['price'])\n",
    "y_pro = df_pro['price']\n",
    "X_pro_train, X_pro_test, y_pro_train, y_pro_test = train_test_split(X_pro, y_pro, test_size=0.2, random_state=42)\n",
    "\n",
    "scaler_bos = MinMaxScaler()\n",
    "X_bos_train_scaled = scaler_bos.fit_transform(X_bos_train)*10 # fit it on the training data Bos\n",
    "scaler_pro = MinMaxScaler()\n",
    "X_pro_train_scaled = scaler_pro.fit_transform(X_pro_train)*10 # fit it on the training data Pro\n",
    "\n",
    "print(X_bos_train_scaled.shape, y_bos_test.shape, X_pro_train_scaled.shape, y_pro_test.shape)"
   ]
  },
  {
   "cell_type": "code",
   "execution_count": 27,
   "id": "308830c6",
   "metadata": {},
   "outputs": [
    {
     "name": "stdout",
     "output_type": "stream",
     "text": [
      "0.0 10.000000000000002 0.0 10.000000000000002\n"
     ]
    }
   ],
   "source": [
    "print(X_bos_train_scaled.min(), X_bos_train_scaled.max(), X_pro_train_scaled.min(), X_pro_train_scaled.max())"
   ]
  },
  {
   "cell_type": "code",
   "execution_count": 28,
   "id": "fdcd3512",
   "metadata": {},
   "outputs": [
    {
     "data": {
      "text/plain": [
       "LinearRegression()"
      ]
     },
     "execution_count": 28,
     "metadata": {},
     "output_type": "execute_result"
    }
   ],
   "source": [
    "# Boston\n",
    "# Linear Regression\n",
    "from sklearn.linear_model import LinearRegression\n",
    "lin_reg = LinearRegression()\n",
    "lin_reg.fit(X_bos_train_scaled, y_bos_train)"
   ]
  },
  {
   "cell_type": "code",
   "execution_count": 29,
   "id": "e203f0c6",
   "metadata": {},
   "outputs": [
    {
     "data": {
      "text/plain": [
       "(455160.0045273255,\n",
       " array([-667205.93637495,  345107.21445382,  108853.52629967,\n",
       "         644278.80525312]))"
      ]
     },
     "execution_count": 29,
     "metadata": {},
     "output_type": "execute_result"
    }
   ],
   "source": [
    "lin_reg.intercept_, lin_reg.coef_"
   ]
  },
  {
   "cell_type": "code",
   "execution_count": 30,
   "id": "4408b22b",
   "metadata": {},
   "outputs": [
    {
     "data": {
      "text/plain": [
       "0.5877544303216063"
      ]
     },
     "execution_count": 30,
     "metadata": {},
     "output_type": "execute_result"
    }
   ],
   "source": [
    "X_bos_test_scaled = scaler_bos.transform(X_bos_test)*10\n",
    "lin_reg.score(X_bos_train_scaled, y_bos_train)\n",
    "lin_reg.score(X_bos_test_scaled, y_bos_test)"
   ]
  },
  {
   "cell_type": "code",
   "execution_count": 34,
   "id": "77f44036",
   "metadata": {},
   "outputs": [
    {
     "name": "stdout",
     "output_type": "stream",
     "text": [
      "alpha = 0.001\n",
      "lr.coef_: [-667201.90050322  345107.62718049  108852.50860622  644275.37656806]\n",
      "lr.intercept_: 455161.1665214428\n",
      "training set score: 0.503859\n",
      "test set score: 0.587756\n",
      "-----------------\n",
      "alpha = 0.01\n",
      "lr.coef_: [-667165.57977085  345111.34086676  108843.3502774   644244.52060306]\n",
      "lr.intercept_: 455171.6239204989\n",
      "training set score: 0.503859\n",
      "test set score: 0.587768\n",
      "-----------------\n",
      "alpha = 0.1\n",
      "lr.coef_: [-666802.58151649  345148.3932909   108751.85721332  643936.17865207]\n",
      "lr.intercept_: 455276.14369686623\n",
      "training set score: 0.503859\n",
      "test set score: 0.587887\n",
      "-----------------\n",
      "alpha = 1\n",
      "lr.coef_: [-663193.37460839  345510.55159253  107845.85852447  640874.37418336]\n",
      "lr.intercept_: 456315.9575062074\n",
      "training set score: 0.503854\n",
      "test set score: 0.589070\n",
      "-----------------\n",
      "alpha = 10\n",
      "lr.coef_: [-629055.77549332  348367.71232757   99596.95231408  612273.30712804]\n",
      "lr.intercept_: 466210.6426500549\n",
      "training set score: 0.503365\n",
      "test set score: 0.599706\n",
      "-----------------\n",
      "alpha = 100\n",
      "lr.coef_: [-408840.58284789  340045.01715983   57493.49432969  443697.39622744]\n",
      "lr.intercept_: 535178.888323974\n",
      "training set score: 0.481150\n",
      "test set score: 0.641927\n",
      "-----------------\n",
      "alpha = 500\n",
      "lr.coef_: [-124504.36893245  246116.2045144    20911.9381558   258552.37423789]\n",
      "lr.intercept_: 679640.1559898802\n",
      "training set score: 0.393617\n",
      "test set score: 0.600580\n",
      "-----------------\n"
     ]
    }
   ],
   "source": [
    "# Ridge Regression\n",
    "from sklearn.linear_model import Ridge\n",
    "alphas = [0.001, 0.01, 0.1, 1, 10, 100, 500]\n",
    "for a in alphas:\n",
    "    ridge = Ridge(alpha = a)\n",
    "    ridge.fit(X_bos_train_scaled, y_bos_train)\n",
    "    print(f'alpha = {a}')\n",
    "    print(\"lr.coef_: %s\" % ridge.coef_)\n",
    "    print(\"lr.intercept_: %s\" % ridge.intercept_)\n",
    "    print(\"training set score: %f\" % ridge.score(X_bos_train_scaled, y_bos_train))\n",
    "    print(\"test set score: %f\" % ridge.score(X_bos_test_scaled, y_bos_test))\n",
    "    print('-----------------')"
   ]
  },
  {
   "cell_type": "code",
   "execution_count": 36,
   "id": "aa8c5b8e",
   "metadata": {},
   "outputs": [
    {
     "data": {
      "text/plain": [
       "0.6419274619492521"
      ]
     },
     "execution_count": 36,
     "metadata": {},
     "output_type": "execute_result"
    }
   ],
   "source": [
    "# Choose alpha = 100\n",
    "ridge = Ridge(alpha = 100)\n",
    "ridge.fit(X_bos_train_scaled, y_bos_train)\n",
    "ridge.score(X_bos_test_scaled, y_bos_test)"
   ]
  },
  {
   "cell_type": "code",
   "execution_count": 50,
   "id": "cd136364",
   "metadata": {},
   "outputs": [
    {
     "name": "stdout",
     "output_type": "stream",
     "text": [
      "0.6449614692453058\n",
      "0.39911833409899267\n",
      "----------------\n",
      "0.7403206852572114\n",
      "0.5106988545826554\n",
      "----------------\n",
      "0.798628122342269\n",
      "-113.39822290920556\n",
      "----------------\n"
     ]
    }
   ],
   "source": [
    "# Polynomial Regression\n",
    "from sklearn.pipeline import Pipeline\n",
    "from sklearn.preprocessing import PolynomialFeatures\n",
    "degree = [2,3,4]\n",
    "for d in degree:\n",
    "    poly_reg = Pipeline([\n",
    "        (\"poly_features\", PolynomialFeatures(degree=d, include_bias=False)),\n",
    "        (\"lin_reg\", LinearRegression()),\n",
    "    ])\n",
    "    poly_reg.fit(X_bos_train_scaled, y_bos_train)\n",
    "    print(poly_reg.score(X_bos_train_scaled, y_bos_train))\n",
    "    print(poly_reg.score(X_bos_test_scaled, y_bos_test))\n",
    "    print(\"----------------\")\n"
   ]
  },
  {
   "cell_type": "code",
   "execution_count": 55,
   "id": "25905480",
   "metadata": {},
   "outputs": [
    {
     "name": "stdout",
     "output_type": "stream",
     "text": [
      "neighbors: 1 0.9959602003047968 0.19664356137254402\n",
      "neighbors: 2 0.8109329013614626 0.4960603219320736\n",
      "neighbors: 3 0.7240652444899449 0.5927124947577641\n",
      "neighbors: 4 0.6685050565135175 0.6941089374006539\n",
      "neighbors: 5 0.6408908903046923 0.6914591365397513\n",
      "neighbors: 6 0.6284621190551074 0.7114773027716809\n",
      "neighbors: 7 0.6213148008005578 0.7362398363477516\n",
      "neighbors: 8 0.6057157042607579 0.7428081789485685\n",
      "neighbors: 9 0.5967946686739605 0.7547598390564156\n",
      "neighbors: 10 0.6050097086642825 0.7502051128968322\n",
      "neighbors: 11 0.5810738742172248 0.7646159772301154\n",
      "neighbors: 12 0.5772660070750404 0.7672224456098442\n",
      "neighbors: 13 0.573539612660918 0.7603712719137155\n",
      "neighbors: 14 0.5618655509538923 0.7464535363508367\n",
      "neighbors: 15 0.5535315513008956 0.7353472068528233\n",
      "neighbors: 16 0.5437559409506407 0.7261681907728283\n",
      "neighbors: 17 0.5289165619889127 0.727702506210061\n",
      "neighbors: 18 0.5184556701628612 0.7361186659875092\n",
      "neighbors: 19 0.5190100001435698 0.7261425827484\n"
     ]
    }
   ],
   "source": [
    "# KNN\n",
    "from sklearn import neighbors\n",
    "for k in range(1, 20):\n",
    "    knn = neighbors.KNeighborsRegressor(n_neighbors = k)\n",
    "    knn.fit(X_bos_train_scaled, y_bos_train)\n",
    "    print(f\"neighbors: {k}\", knn.score(X_bos_train_scaled, y_bos_train), knn.score(X_bos_test_scaled, y_bos_test))"
   ]
  },
  {
   "cell_type": "code",
   "execution_count": 56,
   "id": "6e90ae0d",
   "metadata": {},
   "outputs": [
    {
     "name": "stdout",
     "output_type": "stream",
     "text": [
      "neighbors: 10  0.6050097086642825 0.7502051128968322\n"
     ]
    }
   ],
   "source": [
    "# Choose k=10\n",
    "knn = neighbors.KNeighborsRegressor(n_neighbors = 10)\n",
    "knn.fit(X_bos_train_scaled, y_bos_train)\n",
    "print(\"neighbors: 10 \", knn.score(X_bos_train_scaled, y_bos_train), knn.score(X_bos_test_scaled, y_bos_test))"
   ]
  },
  {
   "cell_type": "code",
   "execution_count": 98,
   "id": "91cff725",
   "metadata": {},
   "outputs": [
    {
     "name": "stdout",
     "output_type": "stream",
     "text": [
      "0.9254022959000151 0.7667874100983035\n"
     ]
    }
   ],
   "source": [
    "# XGB Regression\n",
    "from xgboost.sklearn import XGBRegressor\n",
    "xgb_reg = XGBRegressor(max_depth=10, eta=0.026)\n",
    "xgb_reg.fit(X_bos_train_scaled, y_bos_train)\n",
    "print(xgb_reg.score(X_bos_train_scaled, y_bos_train), xgb_reg.score(X_bos_test_scaled, y_bos_test))"
   ]
  },
  {
   "cell_type": "code",
   "execution_count": 100,
   "id": "3326f7d6",
   "metadata": {},
   "outputs": [
    {
     "name": "stdout",
     "output_type": "stream",
     "text": [
      "0.9254022959000151 0.7667874100983035\n"
     ]
    }
   ],
   "source": [
    "# Choose XGB Regression\n",
    "xgb_reg_bos = XGBRegressor(max_depth=10, eta=0.026)\n",
    "xgb_reg_bos.fit(X_bos_train_scaled, y_bos_train)\n",
    "print(xgb_reg_bos.score(X_bos_train_scaled, y_bos_train), xgb_reg_bos.score(X_bos_test_scaled, y_bos_test))"
   ]
  },
  {
   "cell_type": "code",
   "execution_count": 101,
   "id": "64aa9771",
   "metadata": {},
   "outputs": [],
   "source": [
    "# Try to apply XGB Regression to Providence data\n",
    "X_pro_test_scaled = scaler_pro.transform(X_pro_test)*10"
   ]
  },
  {
   "cell_type": "code",
   "execution_count": 139,
   "id": "23d2e45e",
   "metadata": {},
   "outputs": [
    {
     "name": "stdout",
     "output_type": "stream",
     "text": [
      "0.8906383559332484 0.6968743024196677\n"
     ]
    }
   ],
   "source": [
    "xgb_reg_pro = XGBRegressor(max_depth=8, eta=0.026)\n",
    "xgb_reg_pro.fit(X_pro_train_scaled, y_pro_train)\n",
    "print(xgb_reg_pro.score(X_pro_train_scaled, y_pro_train), xgb_reg_pro.score(X_pro_test_scaled, y_pro_test))"
   ]
  },
  {
   "cell_type": "code",
   "execution_count": null,
   "id": "d098933c",
   "metadata": {},
   "outputs": [],
   "source": []
  }
 ],
 "metadata": {
  "kernelspec": {
   "display_name": "Python 3 (ipykernel)",
   "language": "python",
   "name": "python3"
  },
  "language_info": {
   "codemirror_mode": {
    "name": "ipython",
    "version": 3
   },
   "file_extension": ".py",
   "mimetype": "text/x-python",
   "name": "python",
   "nbconvert_exporter": "python",
   "pygments_lexer": "ipython3",
   "version": "3.9.7"
  }
 },
 "nbformat": 4,
 "nbformat_minor": 5
}
