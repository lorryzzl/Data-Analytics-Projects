{
  "cells": [
    {
      "cell_type": "code",
      "execution_count": 1,
      "metadata": {
        "colab": {
          "base_uri": "https://localhost:8080/"
        },
        "id": "BdvZyEU203X-",
        "outputId": "88f86818-38ab-41b0-f838-41a7472ffe4c"
      },
      "outputs": [
        {
          "output_type": "stream",
          "name": "stdout",
          "text": [
            "Looking in indexes: https://pypi.org/simple, https://us-python.pkg.dev/colab-wheels/public/simple/\n",
            "Collecting transformers\n",
            "  Downloading transformers-4.24.0-py3-none-any.whl (5.5 MB)\n",
            "\u001b[K     |████████████████████████████████| 5.5 MB 26.1 MB/s \n",
            "\u001b[?25hCollecting tokenizers!=0.11.3,<0.14,>=0.11.1\n",
            "  Downloading tokenizers-0.13.2-cp37-cp37m-manylinux_2_17_x86_64.manylinux2014_x86_64.whl (7.6 MB)\n",
            "\u001b[K     |████████████████████████████████| 7.6 MB 53.5 MB/s \n",
            "\u001b[?25hRequirement already satisfied: numpy>=1.17 in /usr/local/lib/python3.7/dist-packages (from transformers) (1.21.6)\n",
            "Requirement already satisfied: packaging>=20.0 in /usr/local/lib/python3.7/dist-packages (from transformers) (21.3)\n",
            "Requirement already satisfied: importlib-metadata in /usr/local/lib/python3.7/dist-packages (from transformers) (4.13.0)\n",
            "Requirement already satisfied: regex!=2019.12.17 in /usr/local/lib/python3.7/dist-packages (from transformers) (2022.6.2)\n",
            "Requirement already satisfied: requests in /usr/local/lib/python3.7/dist-packages (from transformers) (2.23.0)\n",
            "Requirement already satisfied: filelock in /usr/local/lib/python3.7/dist-packages (from transformers) (3.8.0)\n",
            "Requirement already satisfied: tqdm>=4.27 in /usr/local/lib/python3.7/dist-packages (from transformers) (4.64.1)\n",
            "Collecting huggingface-hub<1.0,>=0.10.0\n",
            "  Downloading huggingface_hub-0.10.1-py3-none-any.whl (163 kB)\n",
            "\u001b[K     |████████████████████████████████| 163 kB 71.2 MB/s \n",
            "\u001b[?25hRequirement already satisfied: pyyaml>=5.1 in /usr/local/lib/python3.7/dist-packages (from transformers) (6.0)\n",
            "Requirement already satisfied: typing-extensions>=3.7.4.3 in /usr/local/lib/python3.7/dist-packages (from huggingface-hub<1.0,>=0.10.0->transformers) (4.1.1)\n",
            "Requirement already satisfied: pyparsing!=3.0.5,>=2.0.2 in /usr/local/lib/python3.7/dist-packages (from packaging>=20.0->transformers) (3.0.9)\n",
            "Requirement already satisfied: zipp>=0.5 in /usr/local/lib/python3.7/dist-packages (from importlib-metadata->transformers) (3.10.0)\n",
            "Requirement already satisfied: idna<3,>=2.5 in /usr/local/lib/python3.7/dist-packages (from requests->transformers) (2.10)\n",
            "Requirement already satisfied: certifi>=2017.4.17 in /usr/local/lib/python3.7/dist-packages (from requests->transformers) (2022.9.24)\n",
            "Requirement already satisfied: chardet<4,>=3.0.2 in /usr/local/lib/python3.7/dist-packages (from requests->transformers) (3.0.4)\n",
            "Requirement already satisfied: urllib3!=1.25.0,!=1.25.1,<1.26,>=1.21.1 in /usr/local/lib/python3.7/dist-packages (from requests->transformers) (1.24.3)\n",
            "Installing collected packages: tokenizers, huggingface-hub, transformers\n",
            "Successfully installed huggingface-hub-0.10.1 tokenizers-0.13.2 transformers-4.24.0\n"
          ]
        }
      ],
      "source": [
        "!pip install transformers"
      ],
      "id": "BdvZyEU203X-"
    },
    {
      "cell_type": "code",
      "execution_count": 2,
      "metadata": {
        "id": "b6f7100e"
      },
      "outputs": [],
      "source": [
        "import pandas as pd\n",
        "import numpy as np\n",
        "import matplotlib.pyplot as plt\n",
        "import seaborn as sns\n",
        "from wordcloud import WordCloud\n",
        "import nltk"
      ],
      "id": "b6f7100e"
    },
    {
      "cell_type": "code",
      "execution_count": 3,
      "metadata": {
        "colab": {
          "base_uri": "https://localhost:8080/",
          "height": 614
        },
        "id": "fc2dc1db",
        "outputId": "860ee663-c155-435e-a38c-bc886b6c9010"
      },
      "outputs": [
        {
          "output_type": "execute_result",
          "data": {
            "text/plain": [
              "   Id   ProductId          UserId                      ProfileName  \\\n",
              "0   1  B001E4KFG0  A3SGXH7AUHU8GW                       delmartian   \n",
              "1   2  B00813GRG4  A1D87F6ZCVE5NK                           dll pa   \n",
              "2   3  B000LQOCH0   ABXLMWJIXXAIN  Natalia Corres \"Natalia Corres\"   \n",
              "3   4  B000UA0QIQ  A395BORC6FGVXV                             Karl   \n",
              "4   5  B006K2ZZ7K  A1UQRSCLF8GW1T    Michael D. Bigham \"M. Wassir\"   \n",
              "\n",
              "   HelpfulnessNumerator  HelpfulnessDenominator  Score        Time  \\\n",
              "0                     1                       1      5  1303862400   \n",
              "1                     0                       0      1  1346976000   \n",
              "2                     1                       1      4  1219017600   \n",
              "3                     3                       3      2  1307923200   \n",
              "4                     0                       0      5  1350777600   \n",
              "\n",
              "                 Summary                                               Text  \n",
              "0  Good Quality Dog Food  I have bought several of the Vitality canned d...  \n",
              "1      Not as Advertised  Product arrived labeled as Jumbo Salted Peanut...  \n",
              "2  \"Delight\" says it all  This is a confection that has been around a fe...  \n",
              "3         Cough Medicine  If you are looking for the secret ingredient i...  \n",
              "4            Great taffy  Great taffy at a great price.  There was a wid...  "
            ],
            "text/html": [
              "\n",
              "  <div id=\"df-388eb1f2-8d49-4b1b-8fb3-1f61ec6ccb72\">\n",
              "    <div class=\"colab-df-container\">\n",
              "      <div>\n",
              "<style scoped>\n",
              "    .dataframe tbody tr th:only-of-type {\n",
              "        vertical-align: middle;\n",
              "    }\n",
              "\n",
              "    .dataframe tbody tr th {\n",
              "        vertical-align: top;\n",
              "    }\n",
              "\n",
              "    .dataframe thead th {\n",
              "        text-align: right;\n",
              "    }\n",
              "</style>\n",
              "<table border=\"1\" class=\"dataframe\">\n",
              "  <thead>\n",
              "    <tr style=\"text-align: right;\">\n",
              "      <th></th>\n",
              "      <th>Id</th>\n",
              "      <th>ProductId</th>\n",
              "      <th>UserId</th>\n",
              "      <th>ProfileName</th>\n",
              "      <th>HelpfulnessNumerator</th>\n",
              "      <th>HelpfulnessDenominator</th>\n",
              "      <th>Score</th>\n",
              "      <th>Time</th>\n",
              "      <th>Summary</th>\n",
              "      <th>Text</th>\n",
              "    </tr>\n",
              "  </thead>\n",
              "  <tbody>\n",
              "    <tr>\n",
              "      <th>0</th>\n",
              "      <td>1</td>\n",
              "      <td>B001E4KFG0</td>\n",
              "      <td>A3SGXH7AUHU8GW</td>\n",
              "      <td>delmartian</td>\n",
              "      <td>1</td>\n",
              "      <td>1</td>\n",
              "      <td>5</td>\n",
              "      <td>1303862400</td>\n",
              "      <td>Good Quality Dog Food</td>\n",
              "      <td>I have bought several of the Vitality canned d...</td>\n",
              "    </tr>\n",
              "    <tr>\n",
              "      <th>1</th>\n",
              "      <td>2</td>\n",
              "      <td>B00813GRG4</td>\n",
              "      <td>A1D87F6ZCVE5NK</td>\n",
              "      <td>dll pa</td>\n",
              "      <td>0</td>\n",
              "      <td>0</td>\n",
              "      <td>1</td>\n",
              "      <td>1346976000</td>\n",
              "      <td>Not as Advertised</td>\n",
              "      <td>Product arrived labeled as Jumbo Salted Peanut...</td>\n",
              "    </tr>\n",
              "    <tr>\n",
              "      <th>2</th>\n",
              "      <td>3</td>\n",
              "      <td>B000LQOCH0</td>\n",
              "      <td>ABXLMWJIXXAIN</td>\n",
              "      <td>Natalia Corres \"Natalia Corres\"</td>\n",
              "      <td>1</td>\n",
              "      <td>1</td>\n",
              "      <td>4</td>\n",
              "      <td>1219017600</td>\n",
              "      <td>\"Delight\" says it all</td>\n",
              "      <td>This is a confection that has been around a fe...</td>\n",
              "    </tr>\n",
              "    <tr>\n",
              "      <th>3</th>\n",
              "      <td>4</td>\n",
              "      <td>B000UA0QIQ</td>\n",
              "      <td>A395BORC6FGVXV</td>\n",
              "      <td>Karl</td>\n",
              "      <td>3</td>\n",
              "      <td>3</td>\n",
              "      <td>2</td>\n",
              "      <td>1307923200</td>\n",
              "      <td>Cough Medicine</td>\n",
              "      <td>If you are looking for the secret ingredient i...</td>\n",
              "    </tr>\n",
              "    <tr>\n",
              "      <th>4</th>\n",
              "      <td>5</td>\n",
              "      <td>B006K2ZZ7K</td>\n",
              "      <td>A1UQRSCLF8GW1T</td>\n",
              "      <td>Michael D. Bigham \"M. Wassir\"</td>\n",
              "      <td>0</td>\n",
              "      <td>0</td>\n",
              "      <td>5</td>\n",
              "      <td>1350777600</td>\n",
              "      <td>Great taffy</td>\n",
              "      <td>Great taffy at a great price.  There was a wid...</td>\n",
              "    </tr>\n",
              "  </tbody>\n",
              "</table>\n",
              "</div>\n",
              "      <button class=\"colab-df-convert\" onclick=\"convertToInteractive('df-388eb1f2-8d49-4b1b-8fb3-1f61ec6ccb72')\"\n",
              "              title=\"Convert this dataframe to an interactive table.\"\n",
              "              style=\"display:none;\">\n",
              "        \n",
              "  <svg xmlns=\"http://www.w3.org/2000/svg\" height=\"24px\"viewBox=\"0 0 24 24\"\n",
              "       width=\"24px\">\n",
              "    <path d=\"M0 0h24v24H0V0z\" fill=\"none\"/>\n",
              "    <path d=\"M18.56 5.44l.94 2.06.94-2.06 2.06-.94-2.06-.94-.94-2.06-.94 2.06-2.06.94zm-11 1L8.5 8.5l.94-2.06 2.06-.94-2.06-.94L8.5 2.5l-.94 2.06-2.06.94zm10 10l.94 2.06.94-2.06 2.06-.94-2.06-.94-.94-2.06-.94 2.06-2.06.94z\"/><path d=\"M17.41 7.96l-1.37-1.37c-.4-.4-.92-.59-1.43-.59-.52 0-1.04.2-1.43.59L10.3 9.45l-7.72 7.72c-.78.78-.78 2.05 0 2.83L4 21.41c.39.39.9.59 1.41.59.51 0 1.02-.2 1.41-.59l7.78-7.78 2.81-2.81c.8-.78.8-2.07 0-2.86zM5.41 20L4 18.59l7.72-7.72 1.47 1.35L5.41 20z\"/>\n",
              "  </svg>\n",
              "      </button>\n",
              "      \n",
              "  <style>\n",
              "    .colab-df-container {\n",
              "      display:flex;\n",
              "      flex-wrap:wrap;\n",
              "      gap: 12px;\n",
              "    }\n",
              "\n",
              "    .colab-df-convert {\n",
              "      background-color: #E8F0FE;\n",
              "      border: none;\n",
              "      border-radius: 50%;\n",
              "      cursor: pointer;\n",
              "      display: none;\n",
              "      fill: #1967D2;\n",
              "      height: 32px;\n",
              "      padding: 0 0 0 0;\n",
              "      width: 32px;\n",
              "    }\n",
              "\n",
              "    .colab-df-convert:hover {\n",
              "      background-color: #E2EBFA;\n",
              "      box-shadow: 0px 1px 2px rgba(60, 64, 67, 0.3), 0px 1px 3px 1px rgba(60, 64, 67, 0.15);\n",
              "      fill: #174EA6;\n",
              "    }\n",
              "\n",
              "    [theme=dark] .colab-df-convert {\n",
              "      background-color: #3B4455;\n",
              "      fill: #D2E3FC;\n",
              "    }\n",
              "\n",
              "    [theme=dark] .colab-df-convert:hover {\n",
              "      background-color: #434B5C;\n",
              "      box-shadow: 0px 1px 3px 1px rgba(0, 0, 0, 0.15);\n",
              "      filter: drop-shadow(0px 1px 2px rgba(0, 0, 0, 0.3));\n",
              "      fill: #FFFFFF;\n",
              "    }\n",
              "  </style>\n",
              "\n",
              "      <script>\n",
              "        const buttonEl =\n",
              "          document.querySelector('#df-388eb1f2-8d49-4b1b-8fb3-1f61ec6ccb72 button.colab-df-convert');\n",
              "        buttonEl.style.display =\n",
              "          google.colab.kernel.accessAllowed ? 'block' : 'none';\n",
              "\n",
              "        async function convertToInteractive(key) {\n",
              "          const element = document.querySelector('#df-388eb1f2-8d49-4b1b-8fb3-1f61ec6ccb72');\n",
              "          const dataTable =\n",
              "            await google.colab.kernel.invokeFunction('convertToInteractive',\n",
              "                                                     [key], {});\n",
              "          if (!dataTable) return;\n",
              "\n",
              "          const docLinkHtml = 'Like what you see? Visit the ' +\n",
              "            '<a target=\"_blank\" href=https://colab.research.google.com/notebooks/data_table.ipynb>data table notebook</a>'\n",
              "            + ' to learn more about interactive tables.';\n",
              "          element.innerHTML = '';\n",
              "          dataTable['output_type'] = 'display_data';\n",
              "          await google.colab.output.renderOutput(dataTable, element);\n",
              "          const docLink = document.createElement('div');\n",
              "          docLink.innerHTML = docLinkHtml;\n",
              "          element.appendChild(docLink);\n",
              "        }\n",
              "      </script>\n",
              "    </div>\n",
              "  </div>\n",
              "  "
            ]
          },
          "metadata": {},
          "execution_count": 3
        }
      ],
      "source": [
        "df = pd.read_csv('/content/Reviews.csv')\n",
        "df = df.head(5000)\n",
        "df.head()"
      ],
      "id": "fc2dc1db"
    },
    {
      "cell_type": "code",
      "execution_count": 4,
      "metadata": {
        "colab": {
          "base_uri": "https://localhost:8080/"
        },
        "id": "c29d120b",
        "outputId": "39f01ac4-1732-4ccb-ab4a-f006c808f132"
      },
      "outputs": [
        {
          "output_type": "execute_result",
          "data": {
            "text/plain": [
              "(5000, 10)"
            ]
          },
          "metadata": {},
          "execution_count": 4
        }
      ],
      "source": [
        "df.shape"
      ],
      "id": "c29d120b"
    },
    {
      "cell_type": "code",
      "execution_count": 5,
      "metadata": {
        "colab": {
          "base_uri": "https://localhost:8080/",
          "height": 310
        },
        "id": "385a0bd5",
        "outputId": "43323972-9a05-4a25-97e1-167463b743ba"
      },
      "outputs": [
        {
          "output_type": "display_data",
          "data": {
            "text/plain": [
              "<Figure size 720x504 with 1 Axes>"
            ],
            "image/png": "[encoded data removed]"
          },
          "metadata": {
            "needs_background": "light"
          }
        }
      ],
      "source": [
        "from wordcloud import STOPWORDS\n",
        "all_text = \" \".join(df.Text)\n",
        "word_cloud = WordCloud(collocations = False, background_color = 'white', max_words=100, stopwords=['br']+list(STOPWORDS)).generate(all_text)\n",
        "plt.figure(figsize=(10,7))\n",
        "plt.imshow(word_cloud, interpolation='bilinear')\n",
        "plt.axis(\"off\")\n",
        "plt.show()"
      ],
      "id": "385a0bd5"
    },
    {
      "cell_type": "code",
      "execution_count": 6,
      "metadata": {
        "colab": {
          "base_uri": "https://localhost:8080/",
          "height": 350
        },
        "id": "ec0fce94",
        "outputId": "c6a06920-ebfd-4690-9763-5a7273470956"
      },
      "outputs": [
        {
          "output_type": "display_data",
          "data": {
            "text/plain": [
              "<Figure size 504x360 with 1 Axes>"
            ],
            "image/png": "[encoded data removed]"
          },
          "metadata": {
            "needs_background": "light"
          }
        }
      ],
      "source": [
        "# EDA\n",
        "ax = df['Score'].value_counts().sort_index().plot(\n",
        "    kind='bar', title='Count of Reviews by Stars', figsize=(7,5)\n",
        ")\n",
        "ax.set_xlabel('Review Stars')\n",
        "plt.xticks(rotation=0)\n",
        "plt.show()"
      ],
      "id": "ec0fce94"
    },
    {
      "cell_type": "code",
      "execution_count": 7,
      "metadata": {
        "colab": {
          "base_uri": "https://localhost:8080/"
        },
        "id": "493efc3e",
        "outputId": "55569144-f28c-4617-8392-67ad35925942"
      },
      "outputs": [
        {
          "output_type": "execute_result",
          "data": {
            "text/plain": [
              "0"
            ]
          },
          "metadata": {},
          "execution_count": 7
        }
      ],
      "source": [
        "df['Text'].isna().sum()"
      ],
      "id": "493efc3e"
    },
    {
      "cell_type": "code",
      "execution_count": 8,
      "metadata": {
        "colab": {
          "base_uri": "https://localhost:8080/",
          "height": 756
        },
        "id": "W88dX1Lieqr5",
        "outputId": "3ed01233-8cb5-4a9c-eb0c-e293b589e214"
      },
      "outputs": [
        {
          "output_type": "execute_result",
          "data": {
            "text/plain": [
              "   Id   ProductId          UserId                ProfileName  \\\n",
              "0   0  B005K4Q1VI   ALD467ZEFBPDF            DenDen \"Dennis\"   \n",
              "1   1  B000UZVPKO   A9GIGJUB98JNR   Chen Sun \"WebAndNet.com\"   \n",
              "2   2  B0076ZJ21K  A1DLYF1IJL2337                      S. He   \n",
              "3   3  B005K4Q1VI  A2CJKQ0DOE5ARF  Ross H. Reddick \"RossPDX\"   \n",
              "4   4  B005LURDB8  A2TTAGETIN1QEF                 Nelson Ray   \n",
              "\n",
              "   HelpfulnessNumerator  HelpfulnessDenominator  Score        Time  \\\n",
              "0                     0                       0      4  1327881600   \n",
              "1                     4                       5      5  1236816000   \n",
              "2                     1                       1      5  1344556800   \n",
              "3                     0                       0      1  1348099200   \n",
              "4                     0                       0      3  1346976000   \n",
              "\n",
              "                                             Summary  \\\n",
              "0                             Not bad for the price!   \n",
              "1  water low sodium sardines that actually taste ...   \n",
              "2                                    very nice plant   \n",
              "3                                         Disgusting   \n",
              "4                              Smaller Than Expected   \n",
              "\n",
              "                                                Text  \n",
              "0  I like to brew a k-cup cocoa into my coffee fo...  \n",
              "1  Water based sardines without salt is.... awwfu...  \n",
              "2  cool! I got it last weekend. I was suprised ab...  \n",
              "3  Looks like and tastes like chocolate colored w...  \n",
              "4  Thought these were the larger sized ones you s...  "
            ],
            "text/html": [
              "\n",
              "  <div id=\"df-0c7134f1-0538-433a-9c0d-193c55668ea9\">\n",
              "    <div class=\"colab-df-container\">\n",
              "      <div>\n",
              "<style scoped>\n",
              "    .dataframe tbody tr th:only-of-type {\n",
              "        vertical-align: middle;\n",
              "    }\n",
              "\n",
              "    .dataframe tbody tr th {\n",
              "        vertical-align: top;\n",
              "    }\n",
              "\n",
              "    .dataframe thead th {\n",
              "        text-align: right;\n",
              "    }\n",
              "</style>\n",
              "<table border=\"1\" class=\"dataframe\">\n",
              "  <thead>\n",
              "    <tr style=\"text-align: right;\">\n",
              "      <th></th>\n",
              "      <th>Id</th>\n",
              "      <th>ProductId</th>\n",
              "      <th>UserId</th>\n",
              "      <th>ProfileName</th>\n",
              "      <th>HelpfulnessNumerator</th>\n",
              "      <th>HelpfulnessDenominator</th>\n",
              "      <th>Score</th>\n",
              "      <th>Time</th>\n",
              "      <th>Summary</th>\n",
              "      <th>Text</th>\n",
              "    </tr>\n",
              "  </thead>\n",
              "  <tbody>\n",
              "    <tr>\n",
              "      <th>0</th>\n",
              "      <td>0</td>\n",
              "      <td>B005K4Q1VI</td>\n",
              "      <td>ALD467ZEFBPDF</td>\n",
              "      <td>DenDen \"Dennis\"</td>\n",
              "      <td>0</td>\n",
              "      <td>0</td>\n",
              "      <td>4</td>\n",
              "      <td>1327881600</td>\n",
              "      <td>Not bad for the price!</td>\n",
              "      <td>I like to brew a k-cup cocoa into my coffee fo...</td>\n",
              "    </tr>\n",
              "    <tr>\n",
              "      <th>1</th>\n",
              "      <td>1</td>\n",
              "      <td>B000UZVPKO</td>\n",
              "      <td>A9GIGJUB98JNR</td>\n",
              "      <td>Chen Sun \"WebAndNet.com\"</td>\n",
              "      <td>4</td>\n",
              "      <td>5</td>\n",
              "      <td>5</td>\n",
              "      <td>1236816000</td>\n",
              "      <td>water low sodium sardines that actually taste ...</td>\n",
              "      <td>Water based sardines without salt is.... awwfu...</td>\n",
              "    </tr>\n",
              "    <tr>\n",
              "      <th>2</th>\n",
              "      <td>2</td>\n",
              "      <td>B0076ZJ21K</td>\n",
              "      <td>A1DLYF1IJL2337</td>\n",
              "      <td>S. He</td>\n",
              "      <td>1</td>\n",
              "      <td>1</td>\n",
              "      <td>5</td>\n",
              "      <td>1344556800</td>\n",
              "      <td>very nice plant</td>\n",
              "      <td>cool! I got it last weekend. I was suprised ab...</td>\n",
              "    </tr>\n",
              "    <tr>\n",
              "      <th>3</th>\n",
              "      <td>3</td>\n",
              "      <td>B005K4Q1VI</td>\n",
              "      <td>A2CJKQ0DOE5ARF</td>\n",
              "      <td>Ross H. Reddick \"RossPDX\"</td>\n",
              "      <td>0</td>\n",
              "      <td>0</td>\n",
              "      <td>1</td>\n",
              "      <td>1348099200</td>\n",
              "      <td>Disgusting</td>\n",
              "      <td>Looks like and tastes like chocolate colored w...</td>\n",
              "    </tr>\n",
              "    <tr>\n",
              "      <th>4</th>\n",
              "      <td>4</td>\n",
              "      <td>B005LURDB8</td>\n",
              "      <td>A2TTAGETIN1QEF</td>\n",
              "      <td>Nelson Ray</td>\n",
              "      <td>0</td>\n",
              "      <td>0</td>\n",
              "      <td>3</td>\n",
              "      <td>1346976000</td>\n",
              "      <td>Smaller Than Expected</td>\n",
              "      <td>Thought these were the larger sized ones you s...</td>\n",
              "    </tr>\n",
              "  </tbody>\n",
              "</table>\n",
              "</div>\n",
              "      <button class=\"colab-df-convert\" onclick=\"convertToInteractive('df-0c7134f1-0538-433a-9c0d-193c55668ea9')\"\n",
              "              title=\"Convert this dataframe to an interactive table.\"\n",
              "              style=\"display:none;\">\n",
              "        \n",
              "  <svg xmlns=\"http://www.w3.org/2000/svg\" height=\"24px\"viewBox=\"0 0 24 24\"\n",
              "       width=\"24px\">\n",
              "    <path d=\"M0 0h24v24H0V0z\" fill=\"none\"/>\n",
              "    <path d=\"M18.56 5.44l.94 2.06.94-2.06 2.06-.94-2.06-.94-.94-2.06-.94 2.06-2.06.94zm-11 1L8.5 8.5l.94-2.06 2.06-.94-2.06-.94L8.5 2.5l-.94 2.06-2.06.94zm10 10l.94 2.06.94-2.06 2.06-.94-2.06-.94-.94-2.06-.94 2.06-2.06.94z\"/><path d=\"M17.41 7.96l-1.37-1.37c-.4-.4-.92-.59-1.43-.59-.52 0-1.04.2-1.43.59L10.3 9.45l-7.72 7.72c-.78.78-.78 2.05 0 2.83L4 21.41c.39.39.9.59 1.41.59.51 0 1.02-.2 1.41-.59l7.78-7.78 2.81-2.81c.8-.78.8-2.07 0-2.86zM5.41 20L4 18.59l7.72-7.72 1.47 1.35L5.41 20z\"/>\n",
              "  </svg>\n",
              "      </button>\n",
              "      \n",
              "  <style>\n",
              "    .colab-df-container {\n",
              "      display:flex;\n",
              "      flex-wrap:wrap;\n",
              "      gap: 12px;\n",
              "    }\n",
              "\n",
              "    .colab-df-convert {\n",
              "      background-color: #E8F0FE;\n",
              "      border: none;\n",
              "      border-radius: 50%;\n",
              "      cursor: pointer;\n",
              "      display: none;\n",
              "      fill: #1967D2;\n",
              "      height: 32px;\n",
              "      padding: 0 0 0 0;\n",
              "      width: 32px;\n",
              "    }\n",
              "\n",
              "    .colab-df-convert:hover {\n",
              "      background-color: #E2EBFA;\n",
              "      box-shadow: 0px 1px 2px rgba(60, 64, 67, 0.3), 0px 1px 3px 1px rgba(60, 64, 67, 0.15);\n",
              "      fill: #174EA6;\n",
              "    }\n",
              "\n",
              "    [theme=dark] .colab-df-convert {\n",
              "      background-color: #3B4455;\n",
              "      fill: #D2E3FC;\n",
              "    }\n",
              "\n",
              "    [theme=dark] .colab-df-convert:hover {\n",
              "      background-color: #434B5C;\n",
              "      box-shadow: 0px 1px 3px 1px rgba(0, 0, 0, 0.15);\n",
              "      filter: drop-shadow(0px 1px 2px rgba(0, 0, 0, 0.3));\n",
              "      fill: #FFFFFF;\n",
              "    }\n",
              "  </style>\n",
              "\n",
              "      <script>\n",
              "        const buttonEl =\n",
              "          document.querySelector('#df-0c7134f1-0538-433a-9c0d-193c55668ea9 button.colab-df-convert');\n",
              "        buttonEl.style.display =\n",
              "          google.colab.kernel.accessAllowed ? 'block' : 'none';\n",
              "\n",
              "        async function convertToInteractive(key) {\n",
              "          const element = document.querySelector('#df-0c7134f1-0538-433a-9c0d-193c55668ea9');\n",
              "          const dataTable =\n",
              "            await google.colab.kernel.invokeFunction('convertToInteractive',\n",
              "                                                     [key], {});\n",
              "          if (!dataTable) return;\n",
              "\n",
              "          const docLinkHtml = 'Like what you see? Visit the ' +\n",
              "            '<a target=\"_blank\" href=https://colab.research.google.com/notebooks/data_table.ipynb>data table notebook</a>'\n",
              "            + ' to learn more about interactive tables.';\n",
              "          element.innerHTML = '';\n",
              "          dataTable['output_type'] = 'display_data';\n",
              "          await google.colab.output.renderOutput(dataTable, element);\n",
              "          const docLink = document.createElement('div');\n",
              "          docLink.innerHTML = docLinkHtml;\n",
              "          element.appendChild(docLink);\n",
              "        }\n",
              "      </script>\n",
              "    </div>\n",
              "  </div>\n",
              "  "
            ]
          },
          "metadata": {},
          "execution_count": 8
        }
      ],
      "source": [
        "# How many 5 stars! Drop some 5 star rows!\n",
        "df = df.sample(frac=1)\n",
        "df_before = df.loc[(df['Score']!=5) & (df['Id']<3700),]\n",
        "df_after = df.loc[df['Id']>=3700,]\n",
        "df = pd.concat([df_before, df_after])\n",
        "df = df.sample(frac=1)\n",
        "df['Id'] = np.arange(0, len(df))\n",
        "df = df.reset_index()\n",
        "df = df.drop(columns=['index'])\n",
        "df.head(5)"
      ],
      "id": "W88dX1Lieqr5"
    },
    {
      "cell_type": "code",
      "execution_count": 9,
      "metadata": {
        "colab": {
          "base_uri": "https://localhost:8080/"
        },
        "id": "b3r8T-WxsU59",
        "outputId": "caa45afc-be3f-4f25-a070-74056bf64136"
      },
      "outputs": [
        {
          "output_type": "execute_result",
          "data": {
            "text/plain": [
              "(2682, 10)"
            ]
          },
          "metadata": {},
          "execution_count": 9
        }
      ],
      "source": [
        "df.shape"
      ],
      "id": "b3r8T-WxsU59"
    },
    {
      "cell_type": "code",
      "execution_count": 10,
      "metadata": {
        "colab": {
          "base_uri": "https://localhost:8080/",
          "height": 350
        },
        "id": "mb4_nlg3qqXD",
        "outputId": "551bfd9e-e304-44a6-ac0e-d9b56aa703ec"
      },
      "outputs": [
        {
          "output_type": "display_data",
          "data": {
            "text/plain": [
              "<Figure size 504x360 with 1 Axes>"
            ],
            "image/png": "[encoded data removed]"
          },
          "metadata": {
            "needs_background": "light"
          }
        }
      ],
      "source": [
        "ax = df['Score'].value_counts().sort_index().plot(\n",
        "    kind='bar', title='Count of Reviews by Stars', figsize=(7,5)\n",
        ")\n",
        "ax.set_xlabel('Review Stars')\n",
        "plt.xticks(rotation=0)\n",
        "plt.show()"
      ],
      "id": "mb4_nlg3qqXD"
    },
    {
      "cell_type": "code",
      "execution_count": 11,
      "metadata": {
        "colab": {
          "base_uri": "https://localhost:8080/"
        },
        "id": "f6375413",
        "outputId": "f9c41cac-7432-46c6-af52-dddca70039af"
      },
      "outputs": [
        {
          "output_type": "stream",
          "name": "stderr",
          "text": [
            "[nltk_data] Downloading package punkt to /root/nltk_data...\n",
            "[nltk_data]   Unzipping tokenizers/punkt.zip.\n"
          ]
        },
        {
          "output_type": "execute_result",
          "data": {
            "text/plain": [
              "['These',\n",
              " 'singles',\n",
              " 'sell',\n",
              " 'for',\n",
              " '$',\n",
              " '2.50',\n",
              " '-',\n",
              " '$',\n",
              " '3.36',\n",
              " 'at',\n",
              " 'the',\n",
              " 'store',\n",
              " 'for',\n",
              " '1',\n",
              " 'box',\n",
              " 'of',\n",
              " '24',\n",
              " 'singles',\n",
              " '.',\n",
              " 'I',\n",
              " \"'m\",\n",
              " 'not',\n",
              " 'sure',\n",
              " 'why',\n",
              " 'Amazon',\n",
              " 'is',\n",
              " 'selling',\n",
              " 'it',\n",
              " 'for',\n",
              " '$',\n",
              " '9.99',\n",
              " 'for',\n",
              " 'a',\n",
              " 'box',\n",
              " 'of',\n",
              " '24',\n",
              " 'singles',\n",
              " '.',\n",
              " 'Hazelnut',\n",
              " 'coffee',\n",
              " 'creamer',\n",
              " 'is',\n",
              " 'my',\n",
              " 'favorite',\n",
              " ',',\n",
              " 'but',\n",
              " 'truly',\n",
              " 'this',\n",
              " 'is',\n",
              " 'not',\n",
              " 'a',\n",
              " 'good',\n",
              " 'buy',\n",
              " '.']"
            ]
          },
          "metadata": {},
          "execution_count": 11
        }
      ],
      "source": [
        "# Basic NLTK\n",
        "nltk.download('punkt')\n",
        "example = df['Text'][50]\n",
        "ex_tk = nltk.word_tokenize(example)\n",
        "ex_tk"
      ],
      "id": "f6375413"
    },
    {
      "cell_type": "code",
      "execution_count": 12,
      "metadata": {
        "colab": {
          "base_uri": "https://localhost:8080/"
        },
        "id": "f3e8875b",
        "outputId": "9d596c22-603b-465d-8894-6b426bb67510"
      },
      "outputs": [
        {
          "output_type": "stream",
          "name": "stderr",
          "text": [
            "[nltk_data] Downloading package averaged_perceptron_tagger to\n",
            "[nltk_data]     /root/nltk_data...\n",
            "[nltk_data]   Unzipping taggers/averaged_perceptron_tagger.zip.\n"
          ]
        },
        {
          "output_type": "execute_result",
          "data": {
            "text/plain": [
              "[('These', 'DT'),\n",
              " ('singles', 'NNS'),\n",
              " ('sell', 'VBP'),\n",
              " ('for', 'IN'),\n",
              " ('$', '$'),\n",
              " ('2.50', 'CD'),\n",
              " ('-', ':'),\n",
              " ('$', '$'),\n",
              " ('3.36', 'CD'),\n",
              " ('at', 'IN'),\n",
              " ('the', 'DT'),\n",
              " ('store', 'NN'),\n",
              " ('for', 'IN'),\n",
              " ('1', 'CD'),\n",
              " ('box', 'NN'),\n",
              " ('of', 'IN'),\n",
              " ('24', 'CD'),\n",
              " ('singles', 'NNS'),\n",
              " ('.', '.'),\n",
              " ('I', 'PRP'),\n",
              " (\"'m\", 'VBP'),\n",
              " ('not', 'RB'),\n",
              " ('sure', 'JJ'),\n",
              " ('why', 'WRB'),\n",
              " ('Amazon', 'NNP'),\n",
              " ('is', 'VBZ'),\n",
              " ('selling', 'VBG'),\n",
              " ('it', 'PRP'),\n",
              " ('for', 'IN'),\n",
              " ('$', '$'),\n",
              " ('9.99', 'CD'),\n",
              " ('for', 'IN'),\n",
              " ('a', 'DT'),\n",
              " ('box', 'NN'),\n",
              " ('of', 'IN'),\n",
              " ('24', 'CD'),\n",
              " ('singles', 'NNS'),\n",
              " ('.', '.'),\n",
              " ('Hazelnut', 'NNP'),\n",
              " ('coffee', 'NN'),\n",
              " ('creamer', 'NN'),\n",
              " ('is', 'VBZ'),\n",
              " ('my', 'PRP$'),\n",
              " ('favorite', 'JJ'),\n",
              " (',', ','),\n",
              " ('but', 'CC'),\n",
              " ('truly', 'RB'),\n",
              " ('this', 'DT'),\n",
              " ('is', 'VBZ'),\n",
              " ('not', 'RB'),\n",
              " ('a', 'DT'),\n",
              " ('good', 'JJ'),\n",
              " ('buy', 'NN'),\n",
              " ('.', '.')]"
            ]
          },
          "metadata": {},
          "execution_count": 12
        }
      ],
      "source": [
        "nltk.download('averaged_perceptron_tagger')\n",
        "nltk.pos_tag(ex_tk)"
      ],
      "id": "f3e8875b"
    },
    {
      "cell_type": "code",
      "execution_count": 13,
      "metadata": {
        "id": "71638183"
      },
      "outputs": [],
      "source": [
        "# VADER\n",
        "from nltk.sentiment import SentimentIntensityAnalyzer\n",
        "from tqdm import tqdm"
      ],
      "id": "71638183"
    },
    {
      "cell_type": "code",
      "execution_count": 14,
      "metadata": {
        "colab": {
          "base_uri": "https://localhost:8080/"
        },
        "id": "bbb5adbd",
        "outputId": "f0898caf-95b4-4ff3-faf3-39a1a658db27"
      },
      "outputs": [
        {
          "output_type": "stream",
          "name": "stderr",
          "text": [
            "[nltk_data] Downloading package vader_lexicon to /root/nltk_data...\n"
          ]
        },
        {
          "output_type": "execute_result",
          "data": {
            "text/plain": [
              "{'neg': 0.12, 'neu': 0.76, 'pos': 0.12, 'compound': 0.2502}"
            ]
          },
          "metadata": {},
          "execution_count": 14
        }
      ],
      "source": [
        "nltk.download('vader_lexicon')\n",
        "my_sia = SentimentIntensityAnalyzer()\n",
        "my_sia.polarity_scores(df['Text'][50])"
      ],
      "id": "bbb5adbd"
    },
    {
      "cell_type": "code",
      "execution_count": 15,
      "metadata": {
        "colab": {
          "base_uri": "https://localhost:8080/"
        },
        "id": "ea05fd95",
        "outputId": "ba74d523-1a6e-4bff-d4a4-6184a4b87c67"
      },
      "outputs": [
        {
          "output_type": "stream",
          "name": "stderr",
          "text": [
            "100%|██████████| 2682/2682 [00:02<00:00, 1018.13it/s]\n"
          ]
        }
      ],
      "source": [
        "result = {}\n",
        "for i, row in tqdm(df.iterrows(), total=len(df)):\n",
        "    text = row['Text']\n",
        "    my_id = row['Id']\n",
        "    score = my_sia.polarity_scores(text)\n",
        "    result[my_id] = score"
      ],
      "id": "ea05fd95"
    },
    {
      "cell_type": "code",
      "execution_count": 16,
      "metadata": {
        "colab": {
          "base_uri": "https://localhost:8080/",
          "height": 206
        },
        "id": "38170066",
        "outputId": "b9905045-e7ec-4e28-aa61-513a2b3c6a49"
      },
      "outputs": [
        {
          "output_type": "execute_result",
          "data": {
            "text/plain": [
              "     neg    neu    pos  compound\n",
              "0  0.068  0.679  0.253    0.8323\n",
              "1  0.000  0.739  0.261    0.7469\n",
              "2  0.000  0.869  0.131    0.6116\n",
              "3  0.116  0.689  0.195    0.5859\n",
              "4  0.058  0.753  0.189    0.9675"
            ],
            "text/html": [
              "\n",
              "  <div id=\"df-84d44e79-b7a8-4b04-8768-af42f117b85c\">\n",
              "    <div class=\"colab-df-container\">\n",
              "      <div>\n",
              "<style scoped>\n",
              "    .dataframe tbody tr th:only-of-type {\n",
              "        vertical-align: middle;\n",
              "    }\n",
              "\n",
              "    .dataframe tbody tr th {\n",
              "        vertical-align: top;\n",
              "    }\n",
              "\n",
              "    .dataframe thead th {\n",
              "        text-align: right;\n",
              "    }\n",
              "</style>\n",
              "<table border=\"1\" class=\"dataframe\">\n",
              "  <thead>\n",
              "    <tr style=\"text-align: right;\">\n",
              "      <th></th>\n",
              "      <th>neg</th>\n",
              "      <th>neu</th>\n",
              "      <th>pos</th>\n",
              "      <th>compound</th>\n",
              "    </tr>\n",
              "  </thead>\n",
              "  <tbody>\n",
              "    <tr>\n",
              "      <th>0</th>\n",
              "      <td>0.068</td>\n",
              "      <td>0.679</td>\n",
              "      <td>0.253</td>\n",
              "      <td>0.8323</td>\n",
              "    </tr>\n",
              "    <tr>\n",
              "      <th>1</th>\n",
              "      <td>0.000</td>\n",
              "      <td>0.739</td>\n",
              "      <td>0.261</td>\n",
              "      <td>0.7469</td>\n",
              "    </tr>\n",
              "    <tr>\n",
              "      <th>2</th>\n",
              "      <td>0.000</td>\n",
              "      <td>0.869</td>\n",
              "      <td>0.131</td>\n",
              "      <td>0.6116</td>\n",
              "    </tr>\n",
              "    <tr>\n",
              "      <th>3</th>\n",
              "      <td>0.116</td>\n",
              "      <td>0.689</td>\n",
              "      <td>0.195</td>\n",
              "      <td>0.5859</td>\n",
              "    </tr>\n",
              "    <tr>\n",
              "      <th>4</th>\n",
              "      <td>0.058</td>\n",
              "      <td>0.753</td>\n",
              "      <td>0.189</td>\n",
              "      <td>0.9675</td>\n",
              "    </tr>\n",
              "  </tbody>\n",
              "</table>\n",
              "</div>\n",
              "      <button class=\"colab-df-convert\" onclick=\"convertToInteractive('df-84d44e79-b7a8-4b04-8768-af42f117b85c')\"\n",
              "              title=\"Convert this dataframe to an interactive table.\"\n",
              "              style=\"display:none;\">\n",
              "        \n",
              "  <svg xmlns=\"http://www.w3.org/2000/svg\" height=\"24px\"viewBox=\"0 0 24 24\"\n",
              "       width=\"24px\">\n",
              "    <path d=\"M0 0h24v24H0V0z\" fill=\"none\"/>\n",
              "    <path d=\"M18.56 5.44l.94 2.06.94-2.06 2.06-.94-2.06-.94-.94-2.06-.94 2.06-2.06.94zm-11 1L8.5 8.5l.94-2.06 2.06-.94-2.06-.94L8.5 2.5l-.94 2.06-2.06.94zm10 10l.94 2.06.94-2.06 2.06-.94-2.06-.94-.94-2.06-.94 2.06-2.06.94z\"/><path d=\"M17.41 7.96l-1.37-1.37c-.4-.4-.92-.59-1.43-.59-.52 0-1.04.2-1.43.59L10.3 9.45l-7.72 7.72c-.78.78-.78 2.05 0 2.83L4 21.41c.39.39.9.59 1.41.59.51 0 1.02-.2 1.41-.59l7.78-7.78 2.81-2.81c.8-.78.8-2.07 0-2.86zM5.41 20L4 18.59l7.72-7.72 1.47 1.35L5.41 20z\"/>\n",
              "  </svg>\n",
              "      </button>\n",
              "      \n",
              "  <style>\n",
              "    .colab-df-container {\n",
              "      display:flex;\n",
              "      flex-wrap:wrap;\n",
              "      gap: 12px;\n",
              "    }\n",
              "\n",
              "    .colab-df-convert {\n",
              "      background-color: #E8F0FE;\n",
              "      border: none;\n",
              "      border-radius: 50%;\n",
              "      cursor: pointer;\n",
              "      display: none;\n",
              "      fill: #1967D2;\n",
              "      height: 32px;\n",
              "      padding: 0 0 0 0;\n",
              "      width: 32px;\n",
              "    }\n",
              "\n",
              "    .colab-df-convert:hover {\n",
              "      background-color: #E2EBFA;\n",
              "      box-shadow: 0px 1px 2px rgba(60, 64, 67, 0.3), 0px 1px 3px 1px rgba(60, 64, 67, 0.15);\n",
              "      fill: #174EA6;\n",
              "    }\n",
              "\n",
              "    [theme=dark] .colab-df-convert {\n",
              "      background-color: #3B4455;\n",
              "      fill: #D2E3FC;\n",
              "    }\n",
              "\n",
              "    [theme=dark] .colab-df-convert:hover {\n",
              "      background-color: #434B5C;\n",
              "      box-shadow: 0px 1px 3px 1px rgba(0, 0, 0, 0.15);\n",
              "      filter: drop-shadow(0px 1px 2px rgba(0, 0, 0, 0.3));\n",
              "      fill: #FFFFFF;\n",
              "    }\n",
              "  </style>\n",
              "\n",
              "      <script>\n",
              "        const buttonEl =\n",
              "          document.querySelector('#df-84d44e79-b7a8-4b04-8768-af42f117b85c button.colab-df-convert');\n",
              "        buttonEl.style.display =\n",
              "          google.colab.kernel.accessAllowed ? 'block' : 'none';\n",
              "\n",
              "        async function convertToInteractive(key) {\n",
              "          const element = document.querySelector('#df-84d44e79-b7a8-4b04-8768-af42f117b85c');\n",
              "          const dataTable =\n",
              "            await google.colab.kernel.invokeFunction('convertToInteractive',\n",
              "                                                     [key], {});\n",
              "          if (!dataTable) return;\n",
              "\n",
              "          const docLinkHtml = 'Like what you see? Visit the ' +\n",
              "            '<a target=\"_blank\" href=https://colab.research.google.com/notebooks/data_table.ipynb>data table notebook</a>'\n",
              "            + ' to learn more about interactive tables.';\n",
              "          element.innerHTML = '';\n",
              "          dataTable['output_type'] = 'display_data';\n",
              "          await google.colab.output.renderOutput(dataTable, element);\n",
              "          const docLink = document.createElement('div');\n",
              "          docLink.innerHTML = docLinkHtml;\n",
              "          element.appendChild(docLink);\n",
              "        }\n",
              "      </script>\n",
              "    </div>\n",
              "  </div>\n",
              "  "
            ]
          },
          "metadata": {},
          "execution_count": 16
        }
      ],
      "source": [
        "result_df = pd.DataFrame(result).T\n",
        "result_df.head()"
      ],
      "id": "38170066"
    },
    {
      "cell_type": "code",
      "execution_count": 17,
      "metadata": {
        "colab": {
          "base_uri": "https://localhost:8080/",
          "height": 756
        },
        "id": "642dc9f2",
        "outputId": "9c432891-ae98-4615-e0d5-39681f626e87"
      },
      "outputs": [
        {
          "output_type": "execute_result",
          "data": {
            "text/plain": [
              "   Id    neg    neu    pos  compound   ProductId          UserId  \\\n",
              "0   0  0.068  0.679  0.253    0.8323  B005K4Q1VI   ALD467ZEFBPDF   \n",
              "1   1  0.000  0.739  0.261    0.7469  B000UZVPKO   A9GIGJUB98JNR   \n",
              "2   2  0.000  0.869  0.131    0.6116  B0076ZJ21K  A1DLYF1IJL2337   \n",
              "3   3  0.116  0.689  0.195    0.5859  B005K4Q1VI  A2CJKQ0DOE5ARF   \n",
              "4   4  0.058  0.753  0.189    0.9675  B005LURDB8  A2TTAGETIN1QEF   \n",
              "\n",
              "                 ProfileName  HelpfulnessNumerator  HelpfulnessDenominator  \\\n",
              "0            DenDen \"Dennis\"                     0                       0   \n",
              "1   Chen Sun \"WebAndNet.com\"                     4                       5   \n",
              "2                      S. He                     1                       1   \n",
              "3  Ross H. Reddick \"RossPDX\"                     0                       0   \n",
              "4                 Nelson Ray                     0                       0   \n",
              "\n",
              "   Score        Time                                            Summary  \\\n",
              "0      4  1327881600                             Not bad for the price!   \n",
              "1      5  1236816000  water low sodium sardines that actually taste ...   \n",
              "2      5  1344556800                                    very nice plant   \n",
              "3      1  1348099200                                         Disgusting   \n",
              "4      3  1346976000                              Smaller Than Expected   \n",
              "\n",
              "                                                Text  \n",
              "0  I like to brew a k-cup cocoa into my coffee fo...  \n",
              "1  Water based sardines without salt is.... awwfu...  \n",
              "2  cool! I got it last weekend. I was suprised ab...  \n",
              "3  Looks like and tastes like chocolate colored w...  \n",
              "4  Thought these were the larger sized ones you s...  "
            ],
            "text/html": [
              "\n",
              "  <div id=\"df-fb96c8e8-612c-438d-812c-1e474e7165d0\">\n",
              "    <div class=\"colab-df-container\">\n",
              "      <div>\n",
              "<style scoped>\n",
              "    .dataframe tbody tr th:only-of-type {\n",
              "        vertical-align: middle;\n",
              "    }\n",
              "\n",
              "    .dataframe tbody tr th {\n",
              "        vertical-align: top;\n",
              "    }\n",
              "\n",
              "    .dataframe thead th {\n",
              "        text-align: right;\n",
              "    }\n",
              "</style>\n",
              "<table border=\"1\" class=\"dataframe\">\n",
              "  <thead>\n",
              "    <tr style=\"text-align: right;\">\n",
              "      <th></th>\n",
              "      <th>Id</th>\n",
              "      <th>neg</th>\n",
              "      <th>neu</th>\n",
              "      <th>pos</th>\n",
              "      <th>compound</th>\n",
              "      <th>ProductId</th>\n",
              "      <th>UserId</th>\n",
              "      <th>ProfileName</th>\n",
              "      <th>HelpfulnessNumerator</th>\n",
              "      <th>HelpfulnessDenominator</th>\n",
              "      <th>Score</th>\n",
              "      <th>Time</th>\n",
              "      <th>Summary</th>\n",
              "      <th>Text</th>\n",
              "    </tr>\n",
              "  </thead>\n",
              "  <tbody>\n",
              "    <tr>\n",
              "      <th>0</th>\n",
              "      <td>0</td>\n",
              "      <td>0.068</td>\n",
              "      <td>0.679</td>\n",
              "      <td>0.253</td>\n",
              "      <td>0.8323</td>\n",
              "      <td>B005K4Q1VI</td>\n",
              "      <td>ALD467ZEFBPDF</td>\n",
              "      <td>DenDen \"Dennis\"</td>\n",
              "      <td>0</td>\n",
              "      <td>0</td>\n",
              "      <td>4</td>\n",
              "      <td>1327881600</td>\n",
              "      <td>Not bad for the price!</td>\n",
              "      <td>I like to brew a k-cup cocoa into my coffee fo...</td>\n",
              "    </tr>\n",
              "    <tr>\n",
              "      <th>1</th>\n",
              "      <td>1</td>\n",
              "      <td>0.000</td>\n",
              "      <td>0.739</td>\n",
              "      <td>0.261</td>\n",
              "      <td>0.7469</td>\n",
              "      <td>B000UZVPKO</td>\n",
              "      <td>A9GIGJUB98JNR</td>\n",
              "      <td>Chen Sun \"WebAndNet.com\"</td>\n",
              "      <td>4</td>\n",
              "      <td>5</td>\n",
              "      <td>5</td>\n",
              "      <td>1236816000</td>\n",
              "      <td>water low sodium sardines that actually taste ...</td>\n",
              "      <td>Water based sardines without salt is.... awwfu...</td>\n",
              "    </tr>\n",
              "    <tr>\n",
              "      <th>2</th>\n",
              "      <td>2</td>\n",
              "      <td>0.000</td>\n",
              "      <td>0.869</td>\n",
              "      <td>0.131</td>\n",
              "      <td>0.6116</td>\n",
              "      <td>B0076ZJ21K</td>\n",
              "      <td>A1DLYF1IJL2337</td>\n",
              "      <td>S. He</td>\n",
              "      <td>1</td>\n",
              "      <td>1</td>\n",
              "      <td>5</td>\n",
              "      <td>1344556800</td>\n",
              "      <td>very nice plant</td>\n",
              "      <td>cool! I got it last weekend. I was suprised ab...</td>\n",
              "    </tr>\n",
              "    <tr>\n",
              "      <th>3</th>\n",
              "      <td>3</td>\n",
              "      <td>0.116</td>\n",
              "      <td>0.689</td>\n",
              "      <td>0.195</td>\n",
              "      <td>0.5859</td>\n",
              "      <td>B005K4Q1VI</td>\n",
              "      <td>A2CJKQ0DOE5ARF</td>\n",
              "      <td>Ross H. Reddick \"RossPDX\"</td>\n",
              "      <td>0</td>\n",
              "      <td>0</td>\n",
              "      <td>1</td>\n",
              "      <td>1348099200</td>\n",
              "      <td>Disgusting</td>\n",
              "      <td>Looks like and tastes like chocolate colored w...</td>\n",
              "    </tr>\n",
              "    <tr>\n",
              "      <th>4</th>\n",
              "      <td>4</td>\n",
              "      <td>0.058</td>\n",
              "      <td>0.753</td>\n",
              "      <td>0.189</td>\n",
              "      <td>0.9675</td>\n",
              "      <td>B005LURDB8</td>\n",
              "      <td>A2TTAGETIN1QEF</td>\n",
              "      <td>Nelson Ray</td>\n",
              "      <td>0</td>\n",
              "      <td>0</td>\n",
              "      <td>3</td>\n",
              "      <td>1346976000</td>\n",
              "      <td>Smaller Than Expected</td>\n",
              "      <td>Thought these were the larger sized ones you s...</td>\n",
              "    </tr>\n",
              "  </tbody>\n",
              "</table>\n",
              "</div>\n",
              "      <button class=\"colab-df-convert\" onclick=\"convertToInteractive('df-fb96c8e8-612c-438d-812c-1e474e7165d0')\"\n",
              "              title=\"Convert this dataframe to an interactive table.\"\n",
              "              style=\"display:none;\">\n",
              "        \n",
              "  <svg xmlns=\"http://www.w3.org/2000/svg\" height=\"24px\"viewBox=\"0 0 24 24\"\n",
              "       width=\"24px\">\n",
              "    <path d=\"M0 0h24v24H0V0z\" fill=\"none\"/>\n",
              "    <path d=\"M18.56 5.44l.94 2.06.94-2.06 2.06-.94-2.06-.94-.94-2.06-.94 2.06-2.06.94zm-11 1L8.5 8.5l.94-2.06 2.06-.94-2.06-.94L8.5 2.5l-.94 2.06-2.06.94zm10 10l.94 2.06.94-2.06 2.06-.94-2.06-.94-.94-2.06-.94 2.06-2.06.94z\"/><path d=\"M17.41 7.96l-1.37-1.37c-.4-.4-.92-.59-1.43-.59-.52 0-1.04.2-1.43.59L10.3 9.45l-7.72 7.72c-.78.78-.78 2.05 0 2.83L4 21.41c.39.39.9.59 1.41.59.51 0 1.02-.2 1.41-.59l7.78-7.78 2.81-2.81c.8-.78.8-2.07 0-2.86zM5.41 20L4 18.59l7.72-7.72 1.47 1.35L5.41 20z\"/>\n",
              "  </svg>\n",
              "      </button>\n",
              "      \n",
              "  <style>\n",
              "    .colab-df-container {\n",
              "      display:flex;\n",
              "      flex-wrap:wrap;\n",
              "      gap: 12px;\n",
              "    }\n",
              "\n",
              "    .colab-df-convert {\n",
              "      background-color: #E8F0FE;\n",
              "      border: none;\n",
              "      border-radius: 50%;\n",
              "      cursor: pointer;\n",
              "      display: none;\n",
              "      fill: #1967D2;\n",
              "      height: 32px;\n",
              "      padding: 0 0 0 0;\n",
              "      width: 32px;\n",
              "    }\n",
              "\n",
              "    .colab-df-convert:hover {\n",
              "      background-color: #E2EBFA;\n",
              "      box-shadow: 0px 1px 2px rgba(60, 64, 67, 0.3), 0px 1px 3px 1px rgba(60, 64, 67, 0.15);\n",
              "      fill: #174EA6;\n",
              "    }\n",
              "\n",
              "    [theme=dark] .colab-df-convert {\n",
              "      background-color: #3B4455;\n",
              "      fill: #D2E3FC;\n",
              "    }\n",
              "\n",
              "    [theme=dark] .colab-df-convert:hover {\n",
              "      background-color: #434B5C;\n",
              "      box-shadow: 0px 1px 3px 1px rgba(0, 0, 0, 0.15);\n",
              "      filter: drop-shadow(0px 1px 2px rgba(0, 0, 0, 0.3));\n",
              "      fill: #FFFFFF;\n",
              "    }\n",
              "  </style>\n",
              "\n",
              "      <script>\n",
              "        const buttonEl =\n",
              "          document.querySelector('#df-fb96c8e8-612c-438d-812c-1e474e7165d0 button.colab-df-convert');\n",
              "        buttonEl.style.display =\n",
              "          google.colab.kernel.accessAllowed ? 'block' : 'none';\n",
              "\n",
              "        async function convertToInteractive(key) {\n",
              "          const element = document.querySelector('#df-fb96c8e8-612c-438d-812c-1e474e7165d0');\n",
              "          const dataTable =\n",
              "            await google.colab.kernel.invokeFunction('convertToInteractive',\n",
              "                                                     [key], {});\n",
              "          if (!dataTable) return;\n",
              "\n",
              "          const docLinkHtml = 'Like what you see? Visit the ' +\n",
              "            '<a target=\"_blank\" href=https://colab.research.google.com/notebooks/data_table.ipynb>data table notebook</a>'\n",
              "            + ' to learn more about interactive tables.';\n",
              "          element.innerHTML = '';\n",
              "          dataTable['output_type'] = 'display_data';\n",
              "          await google.colab.output.renderOutput(dataTable, element);\n",
              "          const docLink = document.createElement('div');\n",
              "          docLink.innerHTML = docLinkHtml;\n",
              "          element.appendChild(docLink);\n",
              "        }\n",
              "      </script>\n",
              "    </div>\n",
              "  </div>\n",
              "  "
            ]
          },
          "metadata": {},
          "execution_count": 17
        }
      ],
      "source": [
        "result_df = result_df.reset_index().rename(columns={'index': 'Id'})\n",
        "result_df = result_df.merge(df, how='left')\n",
        "result_df.head()"
      ],
      "id": "642dc9f2"
    },
    {
      "cell_type": "code",
      "execution_count": 18,
      "metadata": {
        "colab": {
          "base_uri": "https://localhost:8080/",
          "height": 295
        },
        "id": "4f6eeab1",
        "outputId": "870856a2-ddaf-4451-b472-2265052e471d"
      },
      "outputs": [
        {
          "output_type": "display_data",
          "data": {
            "text/plain": [
              "<Figure size 432x288 with 1 Axes>"
            ],
            "image/png": "[encoded data removed]"
          },
          "metadata": {
            "needs_background": "light"
          }
        }
      ],
      "source": [
        "sns.barplot(x=result_df['Score'], y=result_df['compound'])\n",
        "plt.title('Compount Score - Amazon Stars')\n",
        "plt.show()"
      ],
      "id": "4f6eeab1"
    },
    {
      "cell_type": "code",
      "execution_count": 19,
      "metadata": {
        "id": "c0b3ba6f",
        "colab": {
          "base_uri": "https://localhost:8080/",
          "height": 225
        },
        "outputId": "3b273170-e207-4bd1-f2d3-1d9e59591cfd"
      },
      "outputs": [
        {
          "output_type": "display_data",
          "data": {
            "text/plain": [
              "<Figure size 864x216 with 3 Axes>"
            ],
            "image/png": "[encoded data removed]"
          },
          "metadata": {
            "needs_background": "light"
          }
        }
      ],
      "source": [
        "fig, axs = plt.subplots(1, 3, figsize=(12, 3))\n",
        "sns.barplot(data=result_df, x='Score', y='pos', ax=axs[0])\n",
        "sns.barplot(data=result_df, x='Score', y='neu', ax=axs[1])\n",
        "sns.barplot(data=result_df, x='Score', y='neg', ax=axs[2])\n",
        "axs[0].set_title('Positive')\n",
        "axs[1].set_title('Neutral')\n",
        "axs[2].set_title('Negative')\n",
        "plt.tight_layout()\n",
        "plt.show()"
      ],
      "id": "c0b3ba6f"
    },
    {
      "cell_type": "code",
      "execution_count": 20,
      "metadata": {
        "id": "034d5f66"
      },
      "outputs": [],
      "source": [
        "# Roberta Pre-trained Model\n",
        "from transformers import AutoTokenizer\n",
        "from transformers import AutoModelForSequenceClassification\n",
        "from scipy.special import softmax\n",
        "import torch"
      ],
      "id": "034d5f66"
    },
    {
      "cell_type": "code",
      "execution_count": 21,
      "metadata": {
        "colab": {
          "base_uri": "https://localhost:8080/",
          "height": 177,
          "referenced_widgets": [
            "fa0985679bec4a12afb3165b9b201301",
            "17b7a79787b9420c8fef2fcfb4d5d756",
            "c2cf924edfc545a99a16ebbc2b86790e",
            "f7fdb6d282c442d1a307ba9db9ca7786",
            "91b44a7b368940fcb0c2989b83d7aa79",
            "91fb6c975f41487ebd9ea2b90fa02c1f",
            "8baee7e8ae244823bce3a9cb9c50f4b8",
            "35b01e5245c543e9b04cb5e077be7084",
            "55bc83ee05f74e3689b4800a260538c0",
            "01259df313884fedab936038ef05d255",
            "5f231178c6d94b51945d28c454494240",
            "d4dfc35b907c448bb112d6093ef5bc20",
            "7b6fcbe9e559458e9e7e3a1e99f7bafb",
            "cb8703054c7f40fb9dbb278a85d82fd6",
            "6e7719d25ccd4a74856ac5c2dd1870c7",
            "4012139f7f6f4d25a0dce6003b889fc0",
            "7d672925134841d19da25997fbee8f86",
            "9c608987cab9441abfc6b32e4bbf64f8",
            "c33ff410b43d4908adef96da731c16c8",
            "b06416944d054ec396580cf08f669c9d",
            "47963ad0b1e646dfa8ec274f87ff253c",
            "b064c6e584504e9987d5cf04a30a829e",
            "ec8ba401f4f34555b3f33cbce388901b",
            "c215f0ad8e644a55b16ea8efe57cdf23",
            "fd7c8ec62a1d483dac5ab00a6f6e5ec3",
            "803e5d2fb10641d9a7d7dd78d3b91b27",
            "4c1527f93d264f54a91701cd81a4e5d4",
            "ee0d736f4d9c4de9a30525b37aa9eea7",
            "061a04a5e0dc4f94ac04f7e4cb150680",
            "837894c35da947a99ed2c633edaf3760",
            "0920e7cf3f664260bf271d8d5d6de757",
            "70f7b4e0c4744f71b3f3fdd40239d702",
            "8396ff833ffe49eb8d6e9a1285862086",
            "c33c994d76434e1abe2ce4604cf628c1",
            "747a9f739da84c63a6ebb4b86fd3f6a3",
            "2b6add77cd6f49e9b3eb96dee497c4c0",
            "f72c71be2be041528e1518c51fcddd67",
            "30cd37bf407241ef88ce961a42af058e",
            "59e584b8bcf0463dba113263f9f06c37",
            "78284dae852b43779d4b55d76bd89a5a",
            "d57f5b2a036848edbe0380c96b04ca66",
            "83c5d9ea0a4047a8bdbb84cf2045553e",
            "3e82560b7d234fe48b78902b525c4f51",
            "7faadc88ddef470ab9aa3f03886999bf",
            "d9208704dfd949f0843f386bc26c9f3d",
            "525c1fe768a44977b3c83b1686bc7922",
            "3173d492e100442da997e53424800829",
            "12c8d8602ad845fe8cbbf72487922243",
            "2b6fb452f3f74532a67f1e3c73b4269c",
            "9ee32d43d75d46e48d83b955683238c1",
            "52e8b37387d246749b416f763714d631",
            "eb91686b4dd3462db34bef7162c13bf3",
            "7707afd2f12f4f21814c2d0a2035be16",
            "8239f0d324de4379ba5c3fe0f9848c75",
            "fc43f3d80c1948e1a16c14f51a69bba8"
          ]
        },
        "id": "58505028",
        "outputId": "595d89c6-187f-4daf-d970-88168693163d"
      },
      "outputs": [
        {
          "output_type": "display_data",
          "data": {
            "text/plain": [
              "Downloading:   0%|          | 0.00/747 [00:00<?, ?B/s]"
            ],
            "application/vnd.jupyter.widget-view+json": {
              "version_major": 2,
              "version_minor": 0,
              "model_id": "fa0985679bec4a12afb3165b9b201301"
            }
          },
          "metadata": {}
        },
        {
          "output_type": "display_data",
          "data": {
            "text/plain": [
              "Downloading:   0%|          | 0.00/899k [00:00<?, ?B/s]"
            ],
            "application/vnd.jupyter.widget-view+json": {
              "version_major": 2,
              "version_minor": 0,
              "model_id": "d4dfc35b907c448bb112d6093ef5bc20"
            }
          },
          "metadata": {}
        },
        {
          "output_type": "display_data",
          "data": {
            "text/plain": [
              "Downloading:   0%|          | 0.00/456k [00:00<?, ?B/s]"
            ],
            "application/vnd.jupyter.widget-view+json": {
              "version_major": 2,
              "version_minor": 0,
              "model_id": "ec8ba401f4f34555b3f33cbce388901b"
            }
          },
          "metadata": {}
        },
        {
          "output_type": "display_data",
          "data": {
            "text/plain": [
              "Downloading:   0%|          | 0.00/150 [00:00<?, ?B/s]"
            ],
            "application/vnd.jupyter.widget-view+json": {
              "version_major": 2,
              "version_minor": 0,
              "model_id": "c33c994d76434e1abe2ce4604cf628c1"
            }
          },
          "metadata": {}
        },
        {
          "output_type": "display_data",
          "data": {
            "text/plain": [
              "Downloading:   0%|          | 0.00/499M [00:00<?, ?B/s]"
            ],
            "application/vnd.jupyter.widget-view+json": {
              "version_major": 2,
              "version_minor": 0,
              "model_id": "d9208704dfd949f0843f386bc26c9f3d"
            }
          },
          "metadata": {}
        }
      ],
      "source": [
        "model = f\"cardiffnlp/twitter-roberta-base-sentiment\"\n",
        "tokenizer = AutoTokenizer.from_pretrained(model)\n",
        "my_model = AutoModelForSequenceClassification.from_pretrained(model)"
      ],
      "id": "58505028"
    },
    {
      "cell_type": "code",
      "source": [
        "print(example)"
      ],
      "metadata": {
        "colab": {
          "base_uri": "https://localhost:8080/"
        },
        "id": "L4hxvtKqySdb",
        "outputId": "71f463e3-6c80-4744-9575-3d1cefc6b17a"
      },
      "id": "L4hxvtKqySdb",
      "execution_count": 22,
      "outputs": [
        {
          "output_type": "stream",
          "name": "stdout",
          "text": [
            "These singles sell for $2.50 - $3.36 at the store for 1 box of 24 singles. I'm not sure why Amazon is selling it for $9.99 for a box of 24 singles.  Hazelnut coffee creamer is my favorite, but truly this is not a good buy.\n"
          ]
        }
      ]
    },
    {
      "cell_type": "code",
      "source": [
        "# Run for Roberta Model\n",
        "encoded_text = tokenizer(example, return_tensors='pt')\n",
        "output = my_model(**encoded_text)\n",
        "scores = output[0][0].detach().numpy()\n",
        "scores = softmax(scores)\n",
        "scores_dict = {\n",
        "    'roberta_neg' : scores[0],\n",
        "    'roberta_neu' : scores[1],\n",
        "    'roberta_pos' : scores[2]\n",
        "}\n",
        "print(scores_dict)"
      ],
      "metadata": {
        "colab": {
          "base_uri": "https://localhost:8080/"
        },
        "id": "mqmHq2JCsGCv",
        "outputId": "d51385a1-18cc-4bb7-ba4d-a2b138a879d3"
      },
      "id": "mqmHq2JCsGCv",
      "execution_count": 25,
      "outputs": [
        {
          "output_type": "stream",
          "name": "stdout",
          "text": [
            "{'roberta_neg': 0.70836955, 'roberta_neu': 0.23563279, 'roberta_pos': 0.055997476}\n"
          ]
        }
      ]
    },
    {
      "cell_type": "code",
      "source": [
        "# Remove all 3 star reviews because 3 star is considered as neutral\n",
        "df_new = pd.read_csv(\"/content/Reviews.csv\")\n",
        "df_new = df_new.loc[df_new['Score']!=3]\n",
        "df_new = df_new.head(10000)\n",
        "df_new.Score.value_counts()"
      ],
      "metadata": {
        "colab": {
          "base_uri": "https://localhost:8080/"
        },
        "id": "2y9Ad0Jy6Yzb",
        "outputId": "4f92fae7-3254-4ae7-d367-4961d15c2f90"
      },
      "id": "2y9Ad0Jy6Yzb",
      "execution_count": 26,
      "outputs": [
        {
          "output_type": "execute_result",
          "data": {
            "text/plain": [
              "5    6776\n",
              "4    1545\n",
              "1    1033\n",
              "2     646\n",
              "Name: Score, dtype: int64"
            ]
          },
          "metadata": {},
          "execution_count": 26
        }
      ]
    },
    {
      "cell_type": "code",
      "source": [
        "df_new = df_new.sample(frac=1)\n",
        "df_new_before = df_new.loc[(df_new['Score']<4) & (df_new['Id']<8000),]\n",
        "df_new_after = df_new.loc[df_new['Id']>=8000,]\n",
        "df_new = pd.concat([df_new_before, df_new_after])\n",
        "df_new = df_new.sample(frac=1)\n",
        "df_new['Id'] = np.arange(0, len(df_new))\n",
        "df_new = df_new.reset_index()\n",
        "df_new = df_new.drop(columns=['index'])\n",
        "df_new.head(5)"
      ],
      "metadata": {
        "colab": {
          "base_uri": "https://localhost:8080/",
          "height": 409
        },
        "id": "E9fS1tiU7znF",
        "outputId": "62a345fb-8ce1-4fa5-ea52-c0a20f9befd3"
      },
      "id": "E9fS1tiU7znF",
      "execution_count": 27,
      "outputs": [
        {
          "output_type": "execute_result",
          "data": {
            "text/plain": [
              "   Id   ProductId          UserId                 ProfileName  \\\n",
              "0   0  B006N3IG4K  A3J0QAR99EITWT                    J. Riggs   \n",
              "1   1  B001EQ5536  A1YWY8U6UZTRFJ           Barbara R. Harvey   \n",
              "2   2  B0001VWGWI  A1IWZAYY9GTLGL   concurrent1 \"concurrent1\"   \n",
              "3   3  B001LXYA5Q   A8J6QQIG6J6UB  Frank Griffith \"FGriffith\"   \n",
              "4   4  B001LNZG9U  A2VOXM69U838K0         Ret Hink \"Ret Hink\"   \n",
              "\n",
              "   HelpfulnessNumerator  HelpfulnessDenominator  Score        Time  \\\n",
              "0                     0                       0      5  1327363200   \n",
              "1                     0                       0      5  1300147200   \n",
              "2                     0                       0      5  1334966400   \n",
              "3                     4                       6      4  1233532800   \n",
              "4                     2                       6      1  1287792000   \n",
              "\n",
              "                                             Summary  \\\n",
              "0                                              Yum!!   \n",
              "1                                        Great stuff   \n",
              "2                    Best chili powder I ever tried!   \n",
              "3                                It works as stated.   \n",
              "4  PURE = 99%, Brilliant strategy from Lakewood's...   \n",
              "\n",
              "                                                Text  \n",
              "0  I am not a huge morning coffee person as this ...  \n",
              "1  <a href=\"http://www.amazon.com/gp/product/B001...  \n",
              "2  I had a recipe that called for a lot of dark c...  \n",
              "3  I tried two lemons after dissolving two tablet...  \n",
              "4  First Indiana Jones found the \"Lost Ark of the...  "
            ],
            "text/html": [
              "\n",
              "  <div id=\"df-f37fb480-57d9-4e2d-8b1c-683a1efb2fb8\">\n",
              "    <div class=\"colab-df-container\">\n",
              "      <div>\n",
              "<style scoped>\n",
              "    .dataframe tbody tr th:only-of-type {\n",
              "        vertical-align: middle;\n",
              "    }\n",
              "\n",
              "    .dataframe tbody tr th {\n",
              "        vertical-align: top;\n",
              "    }\n",
              "\n",
              "    .dataframe thead th {\n",
              "        text-align: right;\n",
              "    }\n",
              "</style>\n",
              "<table border=\"1\" class=\"dataframe\">\n",
              "  <thead>\n",
              "    <tr style=\"text-align: right;\">\n",
              "      <th></th>\n",
              "      <th>Id</th>\n",
              "      <th>ProductId</th>\n",
              "      <th>UserId</th>\n",
              "      <th>ProfileName</th>\n",
              "      <th>HelpfulnessNumerator</th>\n",
              "      <th>HelpfulnessDenominator</th>\n",
              "      <th>Score</th>\n",
              "      <th>Time</th>\n",
              "      <th>Summary</th>\n",
              "      <th>Text</th>\n",
              "    </tr>\n",
              "  </thead>\n",
              "  <tbody>\n",
              "    <tr>\n",
              "      <th>0</th>\n",
              "      <td>0</td>\n",
              "      <td>B006N3IG4K</td>\n",
              "      <td>A3J0QAR99EITWT</td>\n",
              "      <td>J. Riggs</td>\n",
              "      <td>0</td>\n",
              "      <td>0</td>\n",
              "      <td>5</td>\n",
              "      <td>1327363200</td>\n",
              "      <td>Yum!!</td>\n",
              "      <td>I am not a huge morning coffee person as this ...</td>\n",
              "    </tr>\n",
              "    <tr>\n",
              "      <th>1</th>\n",
              "      <td>1</td>\n",
              "      <td>B001EQ5536</td>\n",
              "      <td>A1YWY8U6UZTRFJ</td>\n",
              "      <td>Barbara R. Harvey</td>\n",
              "      <td>0</td>\n",
              "      <td>0</td>\n",
              "      <td>5</td>\n",
              "      <td>1300147200</td>\n",
              "      <td>Great stuff</td>\n",
              "      <td>&lt;a href=\"http://www.amazon.com/gp/product/B001...</td>\n",
              "    </tr>\n",
              "    <tr>\n",
              "      <th>2</th>\n",
              "      <td>2</td>\n",
              "      <td>B0001VWGWI</td>\n",
              "      <td>A1IWZAYY9GTLGL</td>\n",
              "      <td>concurrent1 \"concurrent1\"</td>\n",
              "      <td>0</td>\n",
              "      <td>0</td>\n",
              "      <td>5</td>\n",
              "      <td>1334966400</td>\n",
              "      <td>Best chili powder I ever tried!</td>\n",
              "      <td>I had a recipe that called for a lot of dark c...</td>\n",
              "    </tr>\n",
              "    <tr>\n",
              "      <th>3</th>\n",
              "      <td>3</td>\n",
              "      <td>B001LXYA5Q</td>\n",
              "      <td>A8J6QQIG6J6UB</td>\n",
              "      <td>Frank Griffith \"FGriffith\"</td>\n",
              "      <td>4</td>\n",
              "      <td>6</td>\n",
              "      <td>4</td>\n",
              "      <td>1233532800</td>\n",
              "      <td>It works as stated.</td>\n",
              "      <td>I tried two lemons after dissolving two tablet...</td>\n",
              "    </tr>\n",
              "    <tr>\n",
              "      <th>4</th>\n",
              "      <td>4</td>\n",
              "      <td>B001LNZG9U</td>\n",
              "      <td>A2VOXM69U838K0</td>\n",
              "      <td>Ret Hink \"Ret Hink\"</td>\n",
              "      <td>2</td>\n",
              "      <td>6</td>\n",
              "      <td>1</td>\n",
              "      <td>1287792000</td>\n",
              "      <td>PURE = 99%, Brilliant strategy from Lakewood's...</td>\n",
              "      <td>First Indiana Jones found the \"Lost Ark of the...</td>\n",
              "    </tr>\n",
              "  </tbody>\n",
              "</table>\n",
              "</div>\n",
              "      <button class=\"colab-df-convert\" onclick=\"convertToInteractive('df-f37fb480-57d9-4e2d-8b1c-683a1efb2fb8')\"\n",
              "              title=\"Convert this dataframe to an interactive table.\"\n",
              "              style=\"display:none;\">\n",
              "        \n",
              "  <svg xmlns=\"http://www.w3.org/2000/svg\" height=\"24px\"viewBox=\"0 0 24 24\"\n",
              "       width=\"24px\">\n",
              "    <path d=\"M0 0h24v24H0V0z\" fill=\"none\"/>\n",
              "    <path d=\"M18.56 5.44l.94 2.06.94-2.06 2.06-.94-2.06-.94-.94-2.06-.94 2.06-2.06.94zm-11 1L8.5 8.5l.94-2.06 2.06-.94-2.06-.94L8.5 2.5l-.94 2.06-2.06.94zm10 10l.94 2.06.94-2.06 2.06-.94-2.06-.94-.94-2.06-.94 2.06-2.06.94z\"/><path d=\"M17.41 7.96l-1.37-1.37c-.4-.4-.92-.59-1.43-.59-.52 0-1.04.2-1.43.59L10.3 9.45l-7.72 7.72c-.78.78-.78 2.05 0 2.83L4 21.41c.39.39.9.59 1.41.59.51 0 1.02-.2 1.41-.59l7.78-7.78 2.81-2.81c.8-.78.8-2.07 0-2.86zM5.41 20L4 18.59l7.72-7.72 1.47 1.35L5.41 20z\"/>\n",
              "  </svg>\n",
              "      </button>\n",
              "      \n",
              "  <style>\n",
              "    .colab-df-container {\n",
              "      display:flex;\n",
              "      flex-wrap:wrap;\n",
              "      gap: 12px;\n",
              "    }\n",
              "\n",
              "    .colab-df-convert {\n",
              "      background-color: #E8F0FE;\n",
              "      border: none;\n",
              "      border-radius: 50%;\n",
              "      cursor: pointer;\n",
              "      display: none;\n",
              "      fill: #1967D2;\n",
              "      height: 32px;\n",
              "      padding: 0 0 0 0;\n",
              "      width: 32px;\n",
              "    }\n",
              "\n",
              "    .colab-df-convert:hover {\n",
              "      background-color: #E2EBFA;\n",
              "      box-shadow: 0px 1px 2px rgba(60, 64, 67, 0.3), 0px 1px 3px 1px rgba(60, 64, 67, 0.15);\n",
              "      fill: #174EA6;\n",
              "    }\n",
              "\n",
              "    [theme=dark] .colab-df-convert {\n",
              "      background-color: #3B4455;\n",
              "      fill: #D2E3FC;\n",
              "    }\n",
              "\n",
              "    [theme=dark] .colab-df-convert:hover {\n",
              "      background-color: #434B5C;\n",
              "      box-shadow: 0px 1px 3px 1px rgba(0, 0, 0, 0.15);\n",
              "      filter: drop-shadow(0px 1px 2px rgba(0, 0, 0, 0.3));\n",
              "      fill: #FFFFFF;\n",
              "    }\n",
              "  </style>\n",
              "\n",
              "      <script>\n",
              "        const buttonEl =\n",
              "          document.querySelector('#df-f37fb480-57d9-4e2d-8b1c-683a1efb2fb8 button.colab-df-convert');\n",
              "        buttonEl.style.display =\n",
              "          google.colab.kernel.accessAllowed ? 'block' : 'none';\n",
              "\n",
              "        async function convertToInteractive(key) {\n",
              "          const element = document.querySelector('#df-f37fb480-57d9-4e2d-8b1c-683a1efb2fb8');\n",
              "          const dataTable =\n",
              "            await google.colab.kernel.invokeFunction('convertToInteractive',\n",
              "                                                     [key], {});\n",
              "          if (!dataTable) return;\n",
              "\n",
              "          const docLinkHtml = 'Like what you see? Visit the ' +\n",
              "            '<a target=\"_blank\" href=https://colab.research.google.com/notebooks/data_table.ipynb>data table notebook</a>'\n",
              "            + ' to learn more about interactive tables.';\n",
              "          element.innerHTML = '';\n",
              "          dataTable['output_type'] = 'display_data';\n",
              "          await google.colab.output.renderOutput(dataTable, element);\n",
              "          const docLink = document.createElement('div');\n",
              "          docLink.innerHTML = docLinkHtml;\n",
              "          element.appendChild(docLink);\n",
              "        }\n",
              "      </script>\n",
              "    </div>\n",
              "  </div>\n",
              "  "
            ]
          },
          "metadata": {},
          "execution_count": 27
        }
      ]
    },
    {
      "cell_type": "code",
      "source": [
        "df_new['Score'].value_counts().sort_index(ascending=False)"
      ],
      "metadata": {
        "colab": {
          "base_uri": "https://localhost:8080/"
        },
        "id": "6Udv3Krh9xu1",
        "outputId": "3e3daa1d-6b80-405f-f1ee-830dcbc7666b"
      },
      "id": "6Udv3Krh9xu1",
      "execution_count": 28,
      "outputs": [
        {
          "output_type": "execute_result",
          "data": {
            "text/plain": [
              "5    1779\n",
              "4     414\n",
              "2     646\n",
              "1    1033\n",
              "Name: Score, dtype: int64"
            ]
          },
          "metadata": {},
          "execution_count": 28
        }
      ]
    },
    {
      "cell_type": "code",
      "execution_count": 33,
      "metadata": {
        "colab": {
          "base_uri": "https://localhost:8080/"
        },
        "id": "5f8c9aad",
        "outputId": "227be374-5cec-4bd4-8a06-6bbd263b0ea6"
      },
      "outputs": [
        {
          "output_type": "stream",
          "name": "stdout",
          "text": [
            "   label                                               Text\n",
            "0      1  I am not a huge morning coffee person as this ...\n",
            "1      1  <a href=\"http://www.amazon.com/gp/product/B001...\n",
            "2      1  I had a recipe that called for a lot of dark c...\n",
            "3      1  I tried two lemons after dissolving two tablet...\n",
            "4      0  First Indiana Jones found the \"Lost Ark of the...\n"
          ]
        }
      ],
      "source": [
        "# Recurrent Neural Network\n",
        "import tensorflow as tf\n",
        "from keras.preprocessing.text import Tokenizer\n",
        "from keras.models import Sequential\n",
        "from keras.layers import Dense, Embedding, LSTM, SpatialDropout1D\n",
        "from keras_preprocessing.sequence import pad_sequences\n",
        "from sklearn.model_selection import train_test_split\n",
        "df = df_new\n",
        "df['label'] = (df['Score']>=4).astype(int)\n",
        "df2 = df[['label', 'Text']]\n",
        "print(df2.head())"
      ],
      "id": "5f8c9aad"
    },
    {
      "cell_type": "code",
      "source": [
        "df2['label'].value_counts()"
      ],
      "metadata": {
        "colab": {
          "base_uri": "https://localhost:8080/"
        },
        "id": "l8b50L9O8tL4",
        "outputId": "5df9c4b1-fbde-4a1d-b87a-52d7182d737c"
      },
      "id": "l8b50L9O8tL4",
      "execution_count": 34,
      "outputs": [
        {
          "output_type": "execute_result",
          "data": {
            "text/plain": [
              "1    2193\n",
              "0    1679\n",
              "Name: label, dtype: int64"
            ]
          },
          "metadata": {},
          "execution_count": 34
        }
      ]
    },
    {
      "cell_type": "code",
      "source": [
        "tokenizer = Tokenizer(num_words=5000, split=' ') # num_words: the number of mosst frequent words returned.\n",
        "tokenizer.fit_on_texts(df2['Text'].values)\n",
        "encoded_docs = tokenizer.texts_to_sequences(df2['Text'].values)\n",
        "X = pad_sequences(encoded_docs, maxlen = 1000) # maxlen: the mex length of sequence(vector) in this matrix.\n",
        "X.shape"
      ],
      "metadata": {
        "colab": {
          "base_uri": "https://localhost:8080/"
        },
        "id": "p7IZY3mq8UO4",
        "outputId": "8168c7ea-ad61-49a9-d726-2e1b81298baf"
      },
      "id": "p7IZY3mq8UO4",
      "execution_count": 35,
      "outputs": [
        {
          "output_type": "execute_result",
          "data": {
            "text/plain": [
              "(3872, 1000)"
            ]
          },
          "metadata": {},
          "execution_count": 35
        }
      ]
    },
    {
      "cell_type": "code",
      "execution_count": 36,
      "metadata": {
        "colab": {
          "base_uri": "https://localhost:8080/"
        },
        "id": "e9ef925d",
        "outputId": "35deff2d-f773-4349-b9f9-755d50531434"
      },
      "outputs": [
        {
          "output_type": "stream",
          "name": "stdout",
          "text": [
            "(3872,)\n",
            "(3097, 1000) (3097,) (775, 1000) (775,)\n"
          ]
        }
      ],
      "source": [
        "y = df2['label']\n",
        "print(y.shape)\n",
        "X_train, X_test, y_train, y_test = train_test_split(X, y, test_size = 0.2, random_state = 42)\n",
        "print(X_train.shape, y_train.shape, X_test.shape, y_test.shape)"
      ],
      "id": "e9ef925d"
    },
    {
      "cell_type": "code",
      "execution_count": 37,
      "metadata": {
        "id": "A5gZ7l_Wo9Uj",
        "colab": {
          "base_uri": "https://localhost:8080/"
        },
        "outputId": "def92958-af07-4159-b6db-8b45a36c2526"
      },
      "outputs": [
        {
          "output_type": "stream",
          "name": "stderr",
          "text": [
            "WARNING:tensorflow:Layer lstm will not use cuDNN kernels since it doesn't meet the criteria. It will use a generic GPU kernel as fallback when running on GPU.\n"
          ]
        },
        {
          "output_type": "stream",
          "name": "stdout",
          "text": [
            "Model: \"sequential\"\n",
            "_________________________________________________________________\n",
            " Layer (type)                Output Shape              Param #   \n",
            "=================================================================\n",
            " embedding (Embedding)       (None, 1000, 64)          64000     \n",
            "                                                                 \n",
            " lstm (LSTM)                 (None, 176)               169664    \n",
            "                                                                 \n",
            " dropout (Dropout)           (None, 176)               0         \n",
            "                                                                 \n",
            " dense (Dense)               (None, 32)                5664      \n",
            "                                                                 \n",
            " dense_1 (Dense)             (None, 1)                 33        \n",
            "                                                                 \n",
            "=================================================================\n",
            "Total params: 239,361\n",
            "Trainable params: 239,361\n",
            "Non-trainable params: 0\n",
            "_________________________________________________________________\n",
            "None\n"
          ]
        }
      ],
      "source": [
        "model = tf.keras.Sequential()\n",
        "model.add(Embedding(1000, 64, input_length = X.shape[1]))\n",
        "model.add(LSTM(176, dropout=0.4, recurrent_dropout=0.4))\n",
        "model.add(tf.keras.layers.Dropout(0.3))\n",
        "model.add(tf.keras.layers.Dense(32, activation='relu'))\n",
        "model.add(tf.keras.layers.Dense(1, activation='sigmoid'))\n",
        "print(model.summary())"
      ],
      "id": "A5gZ7l_Wo9Uj"
    },
    {
      "cell_type": "code",
      "execution_count": 38,
      "metadata": {
        "id": "6XtN53Z2pvC2"
      },
      "outputs": [],
      "source": [
        "model.compile(optimizer=tf.keras.optimizers.Adam(learning_rate=0.01),\n",
        "              loss=tf.keras.losses.BinaryCrossentropy(),\n",
        "              metrics=['accuracy'])"
      ],
      "id": "6XtN53Z2pvC2"
    },
    {
      "cell_type": "code",
      "execution_count": 39,
      "metadata": {
        "id": "UJ-8XEg9rNPY",
        "colab": {
          "base_uri": "https://localhost:8080/"
        },
        "outputId": "683fe0f2-5312-4e78-f6aa-4f02548c5245"
      },
      "outputs": [
        {
          "output_type": "stream",
          "name": "stdout",
          "text": [
            "Epoch 1/13\n",
            "25/25 [==============================] - 129s 5s/step - loss: 0.6838 - accuracy: 0.6048 - val_loss: 0.5597 - val_accuracy: 0.7303\n",
            "Epoch 2/13\n",
            "25/25 [==============================] - 107s 4s/step - loss: 0.4298 - accuracy: 0.8137 - val_loss: 0.5191 - val_accuracy: 0.7961\n",
            "Epoch 3/13\n",
            "25/25 [==============================] - 109s 4s/step - loss: 0.3624 - accuracy: 0.8582 - val_loss: 0.4406 - val_accuracy: 0.8168\n",
            "Epoch 4/13\n",
            "25/25 [==============================] - 109s 4s/step - loss: 0.3288 - accuracy: 0.8712 - val_loss: 0.4177 - val_accuracy: 0.8335\n",
            "Epoch 5/13\n",
            "25/25 [==============================] - 107s 4s/step - loss: 0.3446 - accuracy: 0.8644 - val_loss: 0.5500 - val_accuracy: 0.7574\n",
            "Epoch 6/13\n",
            "25/25 [==============================] - 110s 4s/step - loss: 0.2502 - accuracy: 0.9073 - val_loss: 0.4664 - val_accuracy: 0.8400\n",
            "Epoch 7/13\n",
            "25/25 [==============================] - 110s 4s/step - loss: 0.1870 - accuracy: 0.9248 - val_loss: 0.5592 - val_accuracy: 0.8065\n",
            "Epoch 8/13\n",
            "25/25 [==============================] - 107s 4s/step - loss: 0.1387 - accuracy: 0.9464 - val_loss: 0.5778 - val_accuracy: 0.8335\n",
            "Epoch 9/13\n",
            "25/25 [==============================] - 108s 4s/step - loss: 0.1113 - accuracy: 0.9645 - val_loss: 0.7221 - val_accuracy: 0.8297\n",
            "Epoch 10/13\n",
            "25/25 [==============================] - 108s 4s/step - loss: 0.0995 - accuracy: 0.9658 - val_loss: 0.6614 - val_accuracy: 0.8413\n",
            "Epoch 11/13\n",
            "25/25 [==============================] - 107s 4s/step - loss: 0.0986 - accuracy: 0.9648 - val_loss: 0.5841 - val_accuracy: 0.8452\n",
            "Epoch 12/13\n",
            "25/25 [==============================] - 108s 4s/step - loss: 0.1328 - accuracy: 0.9483 - val_loss: 0.5903 - val_accuracy: 0.8387\n",
            "Epoch 13/13\n",
            "25/25 [==============================] - 107s 4s/step - loss: 0.0907 - accuracy: 0.9677 - val_loss: 0.6767 - val_accuracy: 0.8142\n"
          ]
        }
      ],
      "source": [
        "batch_size=128\n",
        "history = model.fit(X_train, y_train, epochs=13, batch_size=batch_size, validation_data=(X_test, y_test))"
      ],
      "id": "UJ-8XEg9rNPY"
    },
    {
      "cell_type": "code",
      "execution_count": 40,
      "metadata": {
        "id": "W4jgvuXDtdwH",
        "colab": {
          "base_uri": "https://localhost:8080/",
          "height": 295
        },
        "outputId": "00457719-ecde-4c45-b62d-22686d0c1dab"
      },
      "outputs": [
        {
          "output_type": "display_data",
          "data": {
            "text/plain": [
              "<Figure size 432x288 with 1 Axes>"
            ],
            "image/png": "[encoded data removed]"
          },
          "metadata": {
            "needs_background": "light"
          }
        }
      ],
      "source": [
        "plt.plot(history.history['accuracy'], label='Train Accuracy')\n",
        "plt.plot(history.history['val_accuracy'], label='Validation Accuracy')\n",
        "plt.title('Accuracy')\n",
        "plt.xlabel('Epoch')\n",
        "plt.ylabel('Accuracy%')\n",
        "plt.legend()\n",
        "plt.show()"
      ],
      "id": "W4jgvuXDtdwH"
    },
    {
      "cell_type": "code",
      "source": [
        "def anal_sent(my_text, my_model, my_tokenizer):\n",
        "  encoded_text = my_tokenizer.texts_to_sequences(my_text)\n",
        "  X = pad_sequences(encoded_text, maxlen = 1000)\n",
        "  return (my_model.predict(X))"
      ],
      "metadata": {
        "id": "GoejkLfD354n"
      },
      "id": "GoejkLfD354n",
      "execution_count": 41,
      "outputs": []
    },
    {
      "cell_type": "code",
      "source": [
        "ex_review0 = [\"Nice but just a little bit pricy\"]\n",
        "print(anal_sent(ex_review0, model, tokenizer))"
      ],
      "metadata": {
        "colab": {
          "base_uri": "https://localhost:8080/"
        },
        "id": "EXsBFq0JamNj",
        "outputId": "a2a05fbe-e021-4e1d-e88b-99d8135b46f7"
      },
      "id": "EXsBFq0JamNj",
      "execution_count": 42,
      "outputs": [
        {
          "output_type": "stream",
          "name": "stdout",
          "text": [
            "1/1 [==============================] - 1s 516ms/step\n",
            "[[0.99849546]]\n"
          ]
        }
      ]
    },
    {
      "cell_type": "code",
      "source": [
        "ex_review1 = [\"I bought it for my son and he says he likes it.\"]\n",
        "print(anal_sent(ex_review1, model, tokenizer))"
      ],
      "metadata": {
        "id": "PS_PsDcKMJlq",
        "colab": {
          "base_uri": "https://localhost:8080/"
        },
        "outputId": "6e28b559-aedf-4fc7-856e-eb2c10b3a8a2"
      },
      "id": "PS_PsDcKMJlq",
      "execution_count": 43,
      "outputs": [
        {
          "output_type": "stream",
          "name": "stdout",
          "text": [
            "1/1 [==============================] - 0s 245ms/step\n",
            "[[0.99655956]]\n"
          ]
        }
      ]
    },
    {
      "cell_type": "code",
      "source": [
        "ex_review2 = [\"It actually tastes better than I expected.\"]\n",
        "print(anal_sent(ex_review2, model, tokenizer))"
      ],
      "metadata": {
        "id": "nOyJAIEkozqA",
        "colab": {
          "base_uri": "https://localhost:8080/"
        },
        "outputId": "7b0b8ee3-b414-4c96-f6fc-28530aac101a"
      },
      "id": "nOyJAIEkozqA",
      "execution_count": 44,
      "outputs": [
        {
          "output_type": "stream",
          "name": "stdout",
          "text": [
            "1/1 [==============================] - 0s 240ms/step\n",
            "[[0.9604544]]\n"
          ]
        }
      ]
    },
    {
      "cell_type": "code",
      "source": [
        "ex_review3 = [\"It tastes too sour. Not recommended!\"]\n",
        "print(anal_sent(ex_review3, model, tokenizer))"
      ],
      "metadata": {
        "id": "rtM7U6vw9gDU",
        "colab": {
          "base_uri": "https://localhost:8080/"
        },
        "outputId": "28f3508a-1c2c-4e24-ec92-495160c1f4b7"
      },
      "id": "rtM7U6vw9gDU",
      "execution_count": 45,
      "outputs": [
        {
          "output_type": "stream",
          "name": "stdout",
          "text": [
            "1/1 [==============================] - 0s 250ms/step\n",
            "[[0.6255139]]\n"
          ]
        }
      ]
    },
    {
      "cell_type": "code",
      "source": [
        "ex_review4 = [\"Even the dogs wouldn't eat it! Half star if I could.\"]\n",
        "print(anal_sent(ex_review4, model, tokenizer))"
      ],
      "metadata": {
        "id": "Ncm2ztqHDO60",
        "colab": {
          "base_uri": "https://localhost:8080/"
        },
        "outputId": "7a674e42-9710-49c7-ff87-7e4f334f1494"
      },
      "id": "Ncm2ztqHDO60",
      "execution_count": 46,
      "outputs": [
        {
          "output_type": "stream",
          "name": "stdout",
          "text": [
            "1/1 [==============================] - 0s 269ms/step\n",
            "[[0.1321918]]\n"
          ]
        }
      ]
    },
    {
      "cell_type": "code",
      "source": [
        "ex_review5 = ['This is too salty and has strange after taste, so I am not sure about whether it has artificial additives? I threw it all away after tasting just one slice!']\n",
        "print(anal_sent(ex_review5, model, tokenizer))"
      ],
      "metadata": {
        "colab": {
          "base_uri": "https://localhost:8080/"
        },
        "id": "h2RUe5JLaaQJ",
        "outputId": "b435ebb8-7a13-4d45-ec1b-fcd088f03a36"
      },
      "id": "h2RUe5JLaaQJ",
      "execution_count": 47,
      "outputs": [
        {
          "output_type": "stream",
          "name": "stdout",
          "text": [
            "1/1 [==============================] - 0s 237ms/step\n",
            "[[0.0011664]]\n"
          ]
        }
      ]
    },
    {
      "cell_type": "code",
      "source": [
        "ex_review6 = [\"Bought it for my husband. He loved it. Will re-order more.\"]\n",
        "print(anal_sent(ex_review6, model, tokenizer))"
      ],
      "metadata": {
        "colab": {
          "base_uri": "https://localhost:8080/"
        },
        "id": "v6dRF-Fih51G",
        "outputId": "232f57d6-7cd2-4d98-e4ba-ce9628a0f319"
      },
      "id": "v6dRF-Fih51G",
      "execution_count": 48,
      "outputs": [
        {
          "output_type": "stream",
          "name": "stdout",
          "text": [
            "1/1 [==============================] - 0s 237ms/step\n",
            "[[0.99996245]]\n"
          ]
        }
      ]
    },
    {
      "cell_type": "code",
      "source": [
        "ex_review7 = [\"Came with 4 peices all the same size. Wasnt as wet and juicy as the beef jerky but still good. Will definitely buy again. Only negative is because i don't live near the store front lol.\"]\n",
        "print(anal_sent(ex_review7, model, tokenizer))"
      ],
      "metadata": {
        "colab": {
          "base_uri": "https://localhost:8080/"
        },
        "id": "EvtAVhQyiCLg",
        "outputId": "a0abd399-496e-4e1a-9ebd-8f42c6f83eed"
      },
      "id": "EvtAVhQyiCLg",
      "execution_count": 49,
      "outputs": [
        {
          "output_type": "stream",
          "name": "stdout",
          "text": [
            "1/1 [==============================] - 0s 239ms/step\n",
            "[[0.99862766]]\n"
          ]
        }
      ]
    },
    {
      "cell_type": "code",
      "source": [
        "ex_review8 = [\"Absolutely loving this. Reminds me of home. Very glad that the product like this is being sold in the states.\"]\n",
        "print(anal_sent(ex_review8, model, tokenizer))"
      ],
      "metadata": {
        "colab": {
          "base_uri": "https://localhost:8080/"
        },
        "id": "fvIdYaoDiUDz",
        "outputId": "53f6161b-44f1-4722-8fc5-a6d8d05aa166"
      },
      "id": "fvIdYaoDiUDz",
      "execution_count": 50,
      "outputs": [
        {
          "output_type": "stream",
          "name": "stdout",
          "text": [
            "1/1 [==============================] - 0s 342ms/step\n",
            "[[0.00464825]]\n"
          ]
        }
      ]
    },
    {
      "cell_type": "code",
      "source": [
        "ex_review9 = [\"Good quality, good taste, a must-have snack while watching TV.\"]\n",
        "print(anal_sent(ex_review9, model, tokenizer))"
      ],
      "metadata": {
        "colab": {
          "base_uri": "https://localhost:8080/"
        },
        "id": "F9YXJJ5ajGZl",
        "outputId": "d31473d4-1288-4723-f5e7-78fd636e756a"
      },
      "id": "F9YXJJ5ajGZl",
      "execution_count": 51,
      "outputs": [
        {
          "output_type": "stream",
          "name": "stdout",
          "text": [
            "1/1 [==============================] - 0s 249ms/step\n",
            "[[0.9997993]]\n"
          ]
        }
      ]
    },
    {
      "cell_type": "code",
      "source": [
        "ex_review10 = [\"Excellent taste, great chew, fast service, somewhat expensive\"]\n",
        "print(anal_sent(ex_review10, model, tokenizer))"
      ],
      "metadata": {
        "colab": {
          "base_uri": "https://localhost:8080/"
        },
        "id": "46JRYxytjTWy",
        "outputId": "d8f83666-1bfc-4761-f769-4cb4660acc16"
      },
      "id": "46JRYxytjTWy",
      "execution_count": 52,
      "outputs": [
        {
          "output_type": "stream",
          "name": "stdout",
          "text": [
            "1/1 [==============================] - 0s 250ms/step\n",
            "[[0.9991917]]\n"
          ]
        }
      ]
    },
    {
      "cell_type": "code",
      "source": [
        "ex_review11 = [\"I do not like the texture. They’re too hard to chew, I’m from Thailand and know how they should taste.\"]\n",
        "print(anal_sent(ex_review11, model, tokenizer))"
      ],
      "metadata": {
        "colab": {
          "base_uri": "https://localhost:8080/"
        },
        "id": "uZ1Y_kZBjcn_",
        "outputId": "14e97a93-e55a-4fcf-94ba-c46804fa1e16"
      },
      "id": "uZ1Y_kZBjcn_",
      "execution_count": 53,
      "outputs": [
        {
          "output_type": "stream",
          "name": "stdout",
          "text": [
            "1/1 [==============================] - 0s 248ms/step\n",
            "[[0.01678935]]\n"
          ]
        }
      ]
    },
    {
      "cell_type": "code",
      "source": [
        "ex_review12 = [\"It is way too expensive. I only ate one piece and then soon abandoned it.\"]\n",
        "print(anal_sent(ex_review12, model, tokenizer))"
      ],
      "metadata": {
        "colab": {
          "base_uri": "https://localhost:8080/"
        },
        "id": "aQ5zjwYy6xRH",
        "outputId": "f3fb5e66-0b4e-426a-ec3a-66f919e14574"
      },
      "id": "aQ5zjwYy6xRH",
      "execution_count": 54,
      "outputs": [
        {
          "output_type": "stream",
          "name": "stdout",
          "text": [
            "1/1 [==============================] - 0s 398ms/step\n",
            "[[0.11712559]]\n"
          ]
        }
      ]
    },
    {
      "cell_type": "code",
      "source": [
        "# Bidirectional LSTM:\n",
        "from keras.layers import Bidirectional\n",
        "model2 = tf.keras.Sequential()\n",
        "model2.add(Embedding(1000, 64, input_length = X.shape[1]))\n",
        "model2.add(Bidirectional(LSTM(176, dropout=0.4, recurrent_dropout=0.4)))\n",
        "model2.add(tf.keras.layers.Dropout(0.3))\n",
        "model2.add(tf.keras.layers.Dense(32, activation='relu'))\n",
        "model2.add(tf.keras.layers.Dense(1, activation='sigmoid'))\n",
        "print(model2.summary())"
      ],
      "metadata": {
        "colab": {
          "base_uri": "https://localhost:8080/"
        },
        "id": "9goDBDOG7HSN",
        "outputId": "30e1d244-a851-4dde-fbf2-3232f2ac51ef"
      },
      "id": "9goDBDOG7HSN",
      "execution_count": 56,
      "outputs": [
        {
          "output_type": "stream",
          "name": "stderr",
          "text": [
            "WARNING:tensorflow:Layer lstm_1 will not use cuDNN kernels since it doesn't meet the criteria. It will use a generic GPU kernel as fallback when running on GPU.\n",
            "WARNING:tensorflow:Layer lstm_1 will not use cuDNN kernels since it doesn't meet the criteria. It will use a generic GPU kernel as fallback when running on GPU.\n",
            "WARNING:tensorflow:Layer lstm_1 will not use cuDNN kernels since it doesn't meet the criteria. It will use a generic GPU kernel as fallback when running on GPU.\n"
          ]
        },
        {
          "output_type": "stream",
          "name": "stdout",
          "text": [
            "Model: \"sequential_2\"\n",
            "_________________________________________________________________\n",
            " Layer (type)                Output Shape              Param #   \n",
            "=================================================================\n",
            " embedding_2 (Embedding)     (None, 1000, 64)          64000     \n",
            "                                                                 \n",
            " bidirectional (Bidirectiona  (None, 352)              339328    \n",
            " l)                                                              \n",
            "                                                                 \n",
            " dropout_1 (Dropout)         (None, 352)               0         \n",
            "                                                                 \n",
            " dense_2 (Dense)             (None, 32)                11296     \n",
            "                                                                 \n",
            " dense_3 (Dense)             (None, 1)                 33        \n",
            "                                                                 \n",
            "=================================================================\n",
            "Total params: 414,657\n",
            "Trainable params: 414,657\n",
            "Non-trainable params: 0\n",
            "_________________________________________________________________\n",
            "None\n"
          ]
        }
      ]
    },
    {
      "cell_type": "code",
      "source": [
        "model2.compile(optimizer=tf.keras.optimizers.Adam(learning_rate=0.01),\n",
        "              loss=tf.keras.losses.BinaryCrossentropy(),\n",
        "              metrics=['accuracy'])"
      ],
      "metadata": {
        "id": "-_Nr-fCw-LL1"
      },
      "id": "-_Nr-fCw-LL1",
      "execution_count": 59,
      "outputs": []
    },
    {
      "cell_type": "code",
      "source": [
        "batch_size=128\n",
        "history2 = model2.fit(X_train, y_train, epochs=10, batch_size=batch_size, validation_data=(X_test, y_test))"
      ],
      "metadata": {
        "colab": {
          "base_uri": "https://localhost:8080/"
        },
        "id": "IkB1KS5J-gU5",
        "outputId": "b04c0747-1b7d-4a5d-d9dc-3c731751008b"
      },
      "id": "IkB1KS5J-gU5",
      "execution_count": 60,
      "outputs": [
        {
          "output_type": "stream",
          "name": "stdout",
          "text": [
            "Epoch 1/10\n",
            "25/25 [==============================] - 222s 9s/step - loss: 0.4708 - accuracy: 0.7872 - val_loss: 0.4313 - val_accuracy: 0.8077\n",
            "Epoch 2/10\n",
            "25/25 [==============================] - 213s 9s/step - loss: 0.3388 - accuracy: 0.8628 - val_loss: 0.4806 - val_accuracy: 0.8000\n",
            "Epoch 3/10\n",
            "25/25 [==============================] - 215s 9s/step - loss: 0.2817 - accuracy: 0.8922 - val_loss: 0.4100 - val_accuracy: 0.8348\n",
            "Epoch 4/10\n",
            "25/25 [==============================] - 216s 9s/step - loss: 0.2535 - accuracy: 0.8999 - val_loss: 0.4780 - val_accuracy: 0.8323\n",
            "Epoch 5/10\n",
            "25/25 [==============================] - 215s 9s/step - loss: 0.2163 - accuracy: 0.9180 - val_loss: 0.4311 - val_accuracy: 0.8452\n",
            "Epoch 6/10\n",
            "25/25 [==============================] - 228s 9s/step - loss: 0.1666 - accuracy: 0.9354 - val_loss: 0.4252 - val_accuracy: 0.8632\n",
            "Epoch 7/10\n",
            "25/25 [==============================] - 214s 9s/step - loss: 0.1446 - accuracy: 0.9464 - val_loss: 0.4842 - val_accuracy: 0.8555\n",
            "Epoch 8/10\n",
            "25/25 [==============================] - 213s 9s/step - loss: 0.1161 - accuracy: 0.9571 - val_loss: 0.5182 - val_accuracy: 0.8542\n",
            "Epoch 9/10\n",
            "25/25 [==============================] - 212s 9s/step - loss: 0.1010 - accuracy: 0.9655 - val_loss: 0.5692 - val_accuracy: 0.8465\n",
            "Epoch 10/10\n",
            "25/25 [==============================] - 213s 9s/step - loss: 0.1041 - accuracy: 0.9625 - val_loss: 0.5378 - val_accuracy: 0.8594\n"
          ]
        }
      ]
    },
    {
      "cell_type": "code",
      "source": [
        "# Transformers Pipeline:\n",
        "from transformers import pipeline\n",
        "correct = 0\n",
        "total = 0\n",
        "sent_pipeline = pipeline(\"sentiment-analysis\")\n",
        "for i in tqdm(range(df2.shape[0])):\n",
        "  try:\n",
        "    pip_pred = sent_pipeline(df2['Text'][i])\n",
        "    if ((pip_pred[0]['label']=='POSITIVE') and (df2[\"label\"][i]==1)):\n",
        "      correct = correct+1\n",
        "    if ((pip_pred[0]['label']=='NEGATIVE') and (df2[\"label\"][i]==0)):\n",
        "      correct = correct+1\n",
        "    total = total+1\n",
        "  except:\n",
        "    print('Too long')\n",
        "print(correct/total)\n"
      ],
      "metadata": {
        "colab": {
          "base_uri": "https://localhost:8080/"
        },
        "id": "cX_R94QVEzY6",
        "outputId": "678284de-c634-42db-facd-410cb518a134"
      },
      "id": "cX_R94QVEzY6",
      "execution_count": 78,
      "outputs": [
        {
          "output_type": "stream",
          "name": "stderr",
          "text": [
            "No model was supplied, defaulted to distilbert-base-uncased-finetuned-sst-2-english and revision af0f99b (https://huggingface.co/distilbert-base-uncased-finetuned-sst-2-english).\n",
            "Using a pipeline without specifying a model name and revision in production is not recommended.\n",
            "Token indices sequence length is longer than the specified maximum sequence length for this model (726 > 512). Running this sequence through the model will result in indexing errors\n"
          ]
        },
        {
          "output_type": "stream",
          "name": "stdout",
          "text": [
            "Too long\n",
            "Too long\n",
            "Too long\n",
            "Too long\n",
            "Too long\n",
            "Too long\n",
            "Too long\n",
            "Too long\n",
            "Too long\n",
            "Too long\n",
            "Too long\n",
            "Too long\n",
            "Too long\n",
            "Too long\n",
            "Too long\n",
            "Too long\n",
            "Too long\n",
            "Too long\n",
            "Too long\n",
            "Too long\n",
            "Too long\n",
            "Too long\n",
            "Too long\n",
            "Too long\n",
            "Too long\n",
            "Too long\n",
            "Too long\n",
            "Too long\n",
            "Too long\n",
            "Too long\n",
            "Too long\n",
            "Too long\n",
            "Too long\n",
            "Too long\n",
            "Too long\n",
            "Too long\n",
            "Too long\n",
            "Too long\n",
            "Too long\n",
            "Too long\n",
            "Too long\n",
            "Too long\n",
            "Too long\n",
            "Too long\n",
            "Too long\n",
            "Too long\n",
            "Too long\n",
            "Too long\n",
            "Too long\n",
            "Too long\n",
            "Too long\n",
            "Too long\n",
            "0.8803664921465969\n"
          ]
        }
      ]
    }
  ],
  "metadata": {
    "colab": {
      "provenance": [],
      "collapsed_sections": []
    },
    "kernelspec": {
      "display_name": "Python 3 (ipykernel)",
      "language": "python",
      "name": "python3"
    },
    "language_info": {
      "codemirror_mode": {
        "name": "ipython",
        "version": 3
      },
      "file_extension": ".py",
      "mimetype": "text/x-python",
      "name": "python",
      "nbconvert_exporter": "python",
      "pygments_lexer": "ipython3",
      "version": "3.9.7"
    },
    "accelerator": "GPU",
    "widgets": {
      "application/vnd.jupyter.widget-state+json": {
        "fa0985679bec4a12afb3165b9b201301": {
          "model_module": "@jupyter-widgets/controls",
          "model_name": "HBoxModel",
          "model_module_version": "1.5.0",
          "state": {
            "_dom_classes": [],
            "_model_module": "@jupyter-widgets/controls",
            "_model_module_version": "1.5.0",
            "_model_name": "HBoxModel",
            "_view_count": null,
            "_view_module": "@jupyter-widgets/controls",
            "_view_module_version": "1.5.0",
            "_view_name": "HBoxView",
            "box_style": "",
            "children": [
              "IPY_MODEL_17b7a79787b9420c8fef2fcfb4d5d756",
              "IPY_MODEL_c2cf924edfc545a99a16ebbc2b86790e",
              "IPY_MODEL_f7fdb6d282c442d1a307ba9db9ca7786"
            ],
            "layout": "IPY_MODEL_91b44a7b368940fcb0c2989b83d7aa79"
          }
        },
        "17b7a79787b9420c8fef2fcfb4d5d756": {
          "model_module": "@jupyter-widgets/controls",
          "model_name": "HTMLModel",
          "model_module_version": "1.5.0",
          "state": {
            "_dom_classes": [],
            "_model_module": "@jupyter-widgets/controls",
            "_model_module_version": "1.5.0",
            "_model_name": "HTMLModel",
            "_view_count": null,
            "_view_module": "@jupyter-widgets/controls",
            "_view_module_version": "1.5.0",
            "_view_name": "HTMLView",
            "description": "",
            "description_tooltip": null,
            "layout": "IPY_MODEL_91fb6c975f41487ebd9ea2b90fa02c1f",
            "placeholder": "​",
            "style": "IPY_MODEL_8baee7e8ae244823bce3a9cb9c50f4b8",
            "value": "Downloading: 100%"
          }
        },
        "c2cf924edfc545a99a16ebbc2b86790e": {
          "model_module": "@jupyter-widgets/controls",
          "model_name": "FloatProgressModel",
          "model_module_version": "1.5.0",
          "state": {
            "_dom_classes": [],
            "_model_module": "@jupyter-widgets/controls",
            "_model_module_version": "1.5.0",
            "_model_name": "FloatProgressModel",
            "_view_count": null,
            "_view_module": "@jupyter-widgets/controls",
            "_view_module_version": "1.5.0",
            "_view_name": "ProgressView",
            "bar_style": "success",
            "description": "",
            "description_tooltip": null,
            "layout": "IPY_MODEL_35b01e5245c543e9b04cb5e077be7084",
            "max": 747,
            "min": 0,
            "orientation": "horizontal",
            "style": "IPY_MODEL_55bc83ee05f74e3689b4800a260538c0",
            "value": 747
          }
        },
        "f7fdb6d282c442d1a307ba9db9ca7786": {
          "model_module": "@jupyter-widgets/controls",
          "model_name": "HTMLModel",
          "model_module_version": "1.5.0",
          "state": {
            "_dom_classes": [],
            "_model_module": "@jupyter-widgets/controls",
            "_model_module_version": "1.5.0",
            "_model_name": "HTMLModel",
            "_view_count": null,
            "_view_module": "@jupyter-widgets/controls",
            "_view_module_version": "1.5.0",
            "_view_name": "HTMLView",
            "description": "",
            "description_tooltip": null,
            "layout": "IPY_MODEL_01259df313884fedab936038ef05d255",
            "placeholder": "​",
            "style": "IPY_MODEL_5f231178c6d94b51945d28c454494240",
            "value": " 747/747 [00:00&lt;00:00, 8.17kB/s]"
          }
        },
        "91b44a7b368940fcb0c2989b83d7aa79": {
          "model_module": "@jupyter-widgets/base",
          "model_name": "LayoutModel",
          "model_module_version": "1.2.0",
          "state": {
            "_model_module": "@jupyter-widgets/base",
            "_model_module_version": "1.2.0",
            "_model_name": "LayoutModel",
            "_view_count": null,
            "_view_module": "@jupyter-widgets/base",
            "_view_module_version": "1.2.0",
            "_view_name": "LayoutView",
            "align_content": null,
            "align_items": null,
            "align_self": null,
            "border": null,
            "bottom": null,
            "display": null,
            "flex": null,
            "flex_flow": null,
            "grid_area": null,
            "grid_auto_columns": null,
            "grid_auto_flow": null,
            "grid_auto_rows": null,
            "grid_column": null,
            "grid_gap": null,
            "grid_row": null,
            "grid_template_areas": null,
            "grid_template_columns": null,
            "grid_template_rows": null,
            "height": null,
            "justify_content": null,
            "justify_items": null,
            "left": null,
            "margin": null,
            "max_height": null,
            "max_width": null,
            "min_height": null,
            "min_width": null,
            "object_fit": null,
            "object_position": null,
            "order": null,
            "overflow": null,
            "overflow_x": null,
            "overflow_y": null,
            "padding": null,
            "right": null,
            "top": null,
            "visibility": null,
            "width": null
          }
        },
        "91fb6c975f41487ebd9ea2b90fa02c1f": {
          "model_module": "@jupyter-widgets/base",
          "model_name": "LayoutModel",
          "model_module_version": "1.2.0",
          "state": {
            "_model_module": "@jupyter-widgets/base",
            "_model_module_version": "1.2.0",
            "_model_name": "LayoutModel",
            "_view_count": null,
            "_view_module": "@jupyter-widgets/base",
            "_view_module_version": "1.2.0",
            "_view_name": "LayoutView",
            "align_content": null,
            "align_items": null,
            "align_self": null,
            "border": null,
            "bottom": null,
            "display": null,
            "flex": null,
            "flex_flow": null,
            "grid_area": null,
            "grid_auto_columns": null,
            "grid_auto_flow": null,
            "grid_auto_rows": null,
            "grid_column": null,
            "grid_gap": null,
            "grid_row": null,
            "grid_template_areas": null,
            "grid_template_columns": null,
            "grid_template_rows": null,
            "height": null,
            "justify_content": null,
            "justify_items": null,
            "left": null,
            "margin": null,
            "max_height": null,
            "max_width": null,
            "min_height": null,
            "min_width": null,
            "object_fit": null,
            "object_position": null,
            "order": null,
            "overflow": null,
            "overflow_x": null,
            "overflow_y": null,
            "padding": null,
            "right": null,
            "top": null,
            "visibility": null,
            "width": null
          }
        },
        "8baee7e8ae244823bce3a9cb9c50f4b8": {
          "model_module": "@jupyter-widgets/controls",
          "model_name": "DescriptionStyleModel",
          "model_module_version": "1.5.0",
          "state": {
            "_model_module": "@jupyter-widgets/controls",
            "_model_module_version": "1.5.0",
            "_model_name": "DescriptionStyleModel",
            "_view_count": null,
            "_view_module": "@jupyter-widgets/base",
            "_view_module_version": "1.2.0",
            "_view_name": "StyleView",
            "description_width": ""
          }
        },
        "35b01e5245c543e9b04cb5e077be7084": {
          "model_module": "@jupyter-widgets/base",
          "model_name": "LayoutModel",
          "model_module_version": "1.2.0",
          "state": {
            "_model_module": "@jupyter-widgets/base",
            "_model_module_version": "1.2.0",
            "_model_name": "LayoutModel",
            "_view_count": null,
            "_view_module": "@jupyter-widgets/base",
            "_view_module_version": "1.2.0",
            "_view_name": "LayoutView",
            "align_content": null,
            "align_items": null,
            "align_self": null,
            "border": null,
            "bottom": null,
            "display": null,
            "flex": null,
            "flex_flow": null,
            "grid_area": null,
            "grid_auto_columns": null,
            "grid_auto_flow": null,
            "grid_auto_rows": null,
            "grid_column": null,
            "grid_gap": null,
            "grid_row": null,
            "grid_template_areas": null,
            "grid_template_columns": null,
            "grid_template_rows": null,
            "height": null,
            "justify_content": null,
            "justify_items": null,
            "left": null,
            "margin": null,
            "max_height": null,
            "max_width": null,
            "min_height": null,
            "min_width": null,
            "object_fit": null,
            "object_position": null,
            "order": null,
            "overflow": null,
            "overflow_x": null,
            "overflow_y": null,
            "padding": null,
            "right": null,
            "top": null,
            "visibility": null,
            "width": null
          }
        },
        "55bc83ee05f74e3689b4800a260538c0": {
          "model_module": "@jupyter-widgets/controls",
          "model_name": "ProgressStyleModel",
          "model_module_version": "1.5.0",
          "state": {
            "_model_module": "@jupyter-widgets/controls",
            "_model_module_version": "1.5.0",
            "_model_name": "ProgressStyleModel",
            "_view_count": null,
            "_view_module": "@jupyter-widgets/base",
            "_view_module_version": "1.2.0",
            "_view_name": "StyleView",
            "bar_color": null,
            "description_width": ""
          }
        },
        "01259df313884fedab936038ef05d255": {
          "model_module": "@jupyter-widgets/base",
          "model_name": "LayoutModel",
          "model_module_version": "1.2.0",
          "state": {
            "_model_module": "@jupyter-widgets/base",
            "_model_module_version": "1.2.0",
            "_model_name": "LayoutModel",
            "_view_count": null,
            "_view_module": "@jupyter-widgets/base",
            "_view_module_version": "1.2.0",
            "_view_name": "LayoutView",
            "align_content": null,
            "align_items": null,
            "align_self": null,
            "border": null,
            "bottom": null,
            "display": null,
            "flex": null,
            "flex_flow": null,
            "grid_area": null,
            "grid_auto_columns": null,
            "grid_auto_flow": null,
            "grid_auto_rows": null,
            "grid_column": null,
            "grid_gap": null,
            "grid_row": null,
            "grid_template_areas": null,
            "grid_template_columns": null,
            "grid_template_rows": null,
            "height": null,
            "justify_content": null,
            "justify_items": null,
            "left": null,
            "margin": null,
            "max_height": null,
            "max_width": null,
            "min_height": null,
            "min_width": null,
            "object_fit": null,
            "object_position": null,
            "order": null,
            "overflow": null,
            "overflow_x": null,
            "overflow_y": null,
            "padding": null,
            "right": null,
            "top": null,
            "visibility": null,
            "width": null
          }
        },
        "5f231178c6d94b51945d28c454494240": {
          "model_module": "@jupyter-widgets/controls",
          "model_name": "DescriptionStyleModel",
          "model_module_version": "1.5.0",
          "state": {
            "_model_module": "@jupyter-widgets/controls",
            "_model_module_version": "1.5.0",
            "_model_name": "DescriptionStyleModel",
            "_view_count": null,
            "_view_module": "@jupyter-widgets/base",
            "_view_module_version": "1.2.0",
            "_view_name": "StyleView",
            "description_width": ""
          }
        },
        "d4dfc35b907c448bb112d6093ef5bc20": {
          "model_module": "@jupyter-widgets/controls",
          "model_name": "HBoxModel",
          "model_module_version": "1.5.0",
          "state": {
            "_dom_classes": [],
            "_model_module": "@jupyter-widgets/controls",
            "_model_module_version": "1.5.0",
            "_model_name": "HBoxModel",
            "_view_count": null,
            "_view_module": "@jupyter-widgets/controls",
            "_view_module_version": "1.5.0",
            "_view_name": "HBoxView",
            "box_style": "",
            "children": [
              "IPY_MODEL_7b6fcbe9e559458e9e7e3a1e99f7bafb",
              "IPY_MODEL_cb8703054c7f40fb9dbb278a85d82fd6",
              "IPY_MODEL_6e7719d25ccd4a74856ac5c2dd1870c7"
            ],
            "layout": "IPY_MODEL_4012139f7f6f4d25a0dce6003b889fc0"
          }
        },
        "7b6fcbe9e559458e9e7e3a1e99f7bafb": {
          "model_module": "@jupyter-widgets/controls",
          "model_name": "HTMLModel",
          "model_module_version": "1.5.0",
          "state": {
            "_dom_classes": [],
            "_model_module": "@jupyter-widgets/controls",
            "_model_module_version": "1.5.0",
            "_model_name": "HTMLModel",
            "_view_count": null,
            "_view_module": "@jupyter-widgets/controls",
            "_view_module_version": "1.5.0",
            "_view_name": "HTMLView",
            "description": "",
            "description_tooltip": null,
            "layout": "IPY_MODEL_7d672925134841d19da25997fbee8f86",
            "placeholder": "​",
            "style": "IPY_MODEL_9c608987cab9441abfc6b32e4bbf64f8",
            "value": "Downloading: 100%"
          }
        },
        "cb8703054c7f40fb9dbb278a85d82fd6": {
          "model_module": "@jupyter-widgets/controls",
          "model_name": "FloatProgressModel",
          "model_module_version": "1.5.0",
          "state": {
            "_dom_classes": [],
            "_model_module": "@jupyter-widgets/controls",
            "_model_module_version": "1.5.0",
            "_model_name": "FloatProgressModel",
            "_view_count": null,
            "_view_module": "@jupyter-widgets/controls",
            "_view_module_version": "1.5.0",
            "_view_name": "ProgressView",
            "bar_style": "success",
            "description": "",
            "description_tooltip": null,
            "layout": "IPY_MODEL_c33ff410b43d4908adef96da731c16c8",
            "max": 898822,
            "min": 0,
            "orientation": "horizontal",
            "style": "IPY_MODEL_b06416944d054ec396580cf08f669c9d",
            "value": 898822
          }
        },
        "6e7719d25ccd4a74856ac5c2dd1870c7": {
          "model_module": "@jupyter-widgets/controls",
          "model_name": "HTMLModel",
          "model_module_version": "1.5.0",
          "state": {
            "_dom_classes": [],
            "_model_module": "@jupyter-widgets/controls",
            "_model_module_version": "1.5.0",
            "_model_name": "HTMLModel",
            "_view_count": null,
            "_view_module": "@jupyter-widgets/controls",
            "_view_module_version": "1.5.0",
            "_view_name": "HTMLView",
            "description": "",
            "description_tooltip": null,
            "layout": "IPY_MODEL_47963ad0b1e646dfa8ec274f87ff253c",
            "placeholder": "​",
            "style": "IPY_MODEL_b064c6e584504e9987d5cf04a30a829e",
            "value": " 899k/899k [00:01&lt;00:00, 561kB/s]"
          }
        },
        "4012139f7f6f4d25a0dce6003b889fc0": {
          "model_module": "@jupyter-widgets/base",
          "model_name": "LayoutModel",
          "model_module_version": "1.2.0",
          "state": {
            "_model_module": "@jupyter-widgets/base",
            "_model_module_version": "1.2.0",
            "_model_name": "LayoutModel",
            "_view_count": null,
            "_view_module": "@jupyter-widgets/base",
            "_view_module_version": "1.2.0",
            "_view_name": "LayoutView",
            "align_content": null,
            "align_items": null,
            "align_self": null,
            "border": null,
            "bottom": null,
            "display": null,
            "flex": null,
            "flex_flow": null,
            "grid_area": null,
            "grid_auto_columns": null,
            "grid_auto_flow": null,
            "grid_auto_rows": null,
            "grid_column": null,
            "grid_gap": null,
            "grid_row": null,
            "grid_template_areas": null,
            "grid_template_columns": null,
            "grid_template_rows": null,
            "height": null,
            "justify_content": null,
            "justify_items": null,
            "left": null,
            "margin": null,
            "max_height": null,
            "max_width": null,
            "min_height": null,
            "min_width": null,
            "object_fit": null,
            "object_position": null,
            "order": null,
            "overflow": null,
            "overflow_x": null,
            "overflow_y": null,
            "padding": null,
            "right": null,
            "top": null,
            "visibility": null,
            "width": null
          }
        },
        "7d672925134841d19da25997fbee8f86": {
          "model_module": "@jupyter-widgets/base",
          "model_name": "LayoutModel",
          "model_module_version": "1.2.0",
          "state": {
            "_model_module": "@jupyter-widgets/base",
            "_model_module_version": "1.2.0",
            "_model_name": "LayoutModel",
            "_view_count": null,
            "_view_module": "@jupyter-widgets/base",
            "_view_module_version": "1.2.0",
            "_view_name": "LayoutView",
            "align_content": null,
            "align_items": null,
            "align_self": null,
            "border": null,
            "bottom": null,
            "display": null,
            "flex": null,
            "flex_flow": null,
            "grid_area": null,
            "grid_auto_columns": null,
            "grid_auto_flow": null,
            "grid_auto_rows": null,
            "grid_column": null,
            "grid_gap": null,
            "grid_row": null,
            "grid_template_areas": null,
            "grid_template_columns": null,
            "grid_template_rows": null,
            "height": null,
            "justify_content": null,
            "justify_items": null,
            "left": null,
            "margin": null,
            "max_height": null,
            "max_width": null,
            "min_height": null,
            "min_width": null,
            "object_fit": null,
            "object_position": null,
            "order": null,
            "overflow": null,
            "overflow_x": null,
            "overflow_y": null,
            "padding": null,
            "right": null,
            "top": null,
            "visibility": null,
            "width": null
          }
        },
        "9c608987cab9441abfc6b32e4bbf64f8": {
          "model_module": "@jupyter-widgets/controls",
          "model_name": "DescriptionStyleModel",
          "model_module_version": "1.5.0",
          "state": {
            "_model_module": "@jupyter-widgets/controls",
            "_model_module_version": "1.5.0",
            "_model_name": "DescriptionStyleModel",
            "_view_count": null,
            "_view_module": "@jupyter-widgets/base",
            "_view_module_version": "1.2.0",
            "_view_name": "StyleView",
            "description_width": ""
          }
        },
        "c33ff410b43d4908adef96da731c16c8": {
          "model_module": "@jupyter-widgets/base",
          "model_name": "LayoutModel",
          "model_module_version": "1.2.0",
          "state": {
            "_model_module": "@jupyter-widgets/base",
            "_model_module_version": "1.2.0",
            "_model_name": "LayoutModel",
            "_view_count": null,
            "_view_module": "@jupyter-widgets/base",
            "_view_module_version": "1.2.0",
            "_view_name": "LayoutView",
            "align_content": null,
            "align_items": null,
            "align_self": null,
            "border": null,
            "bottom": null,
            "display": null,
            "flex": null,
            "flex_flow": null,
            "grid_area": null,
            "grid_auto_columns": null,
            "grid_auto_flow": null,
            "grid_auto_rows": null,
            "grid_column": null,
            "grid_gap": null,
            "grid_row": null,
            "grid_template_areas": null,
            "grid_template_columns": null,
            "grid_template_rows": null,
            "height": null,
            "justify_content": null,
            "justify_items": null,
            "left": null,
            "margin": null,
            "max_height": null,
            "max_width": null,
            "min_height": null,
            "min_width": null,
            "object_fit": null,
            "object_position": null,
            "order": null,
            "overflow": null,
            "overflow_x": null,
            "overflow_y": null,
            "padding": null,
            "right": null,
            "top": null,
            "visibility": null,
            "width": null
          }
        },
        "b06416944d054ec396580cf08f669c9d": {
          "model_module": "@jupyter-widgets/controls",
          "model_name": "ProgressStyleModel",
          "model_module_version": "1.5.0",
          "state": {
            "_model_module": "@jupyter-widgets/controls",
            "_model_module_version": "1.5.0",
            "_model_name": "ProgressStyleModel",
            "_view_count": null,
            "_view_module": "@jupyter-widgets/base",
            "_view_module_version": "1.2.0",
            "_view_name": "StyleView",
            "bar_color": null,
            "description_width": ""
          }
        },
        "47963ad0b1e646dfa8ec274f87ff253c": {
          "model_module": "@jupyter-widgets/base",
          "model_name": "LayoutModel",
          "model_module_version": "1.2.0",
          "state": {
            "_model_module": "@jupyter-widgets/base",
            "_model_module_version": "1.2.0",
            "_model_name": "LayoutModel",
            "_view_count": null,
            "_view_module": "@jupyter-widgets/base",
            "_view_module_version": "1.2.0",
            "_view_name": "LayoutView",
            "align_content": null,
            "align_items": null,
            "align_self": null,
            "border": null,
            "bottom": null,
            "display": null,
            "flex": null,
            "flex_flow": null,
            "grid_area": null,
            "grid_auto_columns": null,
            "grid_auto_flow": null,
            "grid_auto_rows": null,
            "grid_column": null,
            "grid_gap": null,
            "grid_row": null,
            "grid_template_areas": null,
            "grid_template_columns": null,
            "grid_template_rows": null,
            "height": null,
            "justify_content": null,
            "justify_items": null,
            "left": null,
            "margin": null,
            "max_height": null,
            "max_width": null,
            "min_height": null,
            "min_width": null,
            "object_fit": null,
            "object_position": null,
            "order": null,
            "overflow": null,
            "overflow_x": null,
            "overflow_y": null,
            "padding": null,
            "right": null,
            "top": null,
            "visibility": null,
            "width": null
          }
        },
        "b064c6e584504e9987d5cf04a30a829e": {
          "model_module": "@jupyter-widgets/controls",
          "model_name": "DescriptionStyleModel",
          "model_module_version": "1.5.0",
          "state": {
            "_model_module": "@jupyter-widgets/controls",
            "_model_module_version": "1.5.0",
            "_model_name": "DescriptionStyleModel",
            "_view_count": null,
            "_view_module": "@jupyter-widgets/base",
            "_view_module_version": "1.2.0",
            "_view_name": "StyleView",
            "description_width": ""
          }
        },
        "ec8ba401f4f34555b3f33cbce388901b": {
          "model_module": "@jupyter-widgets/controls",
          "model_name": "HBoxModel",
          "model_module_version": "1.5.0",
          "state": {
            "_dom_classes": [],
            "_model_module": "@jupyter-widgets/controls",
            "_model_module_version": "1.5.0",
            "_model_name": "HBoxModel",
            "_view_count": null,
            "_view_module": "@jupyter-widgets/controls",
            "_view_module_version": "1.5.0",
            "_view_name": "HBoxView",
            "box_style": "",
            "children": [
              "IPY_MODEL_c215f0ad8e644a55b16ea8efe57cdf23",
              "IPY_MODEL_fd7c8ec62a1d483dac5ab00a6f6e5ec3",
              "IPY_MODEL_803e5d2fb10641d9a7d7dd78d3b91b27"
            ],
            "layout": "IPY_MODEL_4c1527f93d264f54a91701cd81a4e5d4"
          }
        },
        "c215f0ad8e644a55b16ea8efe57cdf23": {
          "model_module": "@jupyter-widgets/controls",
          "model_name": "HTMLModel",
          "model_module_version": "1.5.0",
          "state": {
            "_dom_classes": [],
            "_model_module": "@jupyter-widgets/controls",
            "_model_module_version": "1.5.0",
            "_model_name": "HTMLModel",
            "_view_count": null,
            "_view_module": "@jupyter-widgets/controls",
            "_view_module_version": "1.5.0",
            "_view_name": "HTMLView",
            "description": "",
            "description_tooltip": null,
            "layout": "IPY_MODEL_ee0d736f4d9c4de9a30525b37aa9eea7",
            "placeholder": "​",
            "style": "IPY_MODEL_061a04a5e0dc4f94ac04f7e4cb150680",
            "value": "Downloading: 100%"
          }
        },
        "fd7c8ec62a1d483dac5ab00a6f6e5ec3": {
          "model_module": "@jupyter-widgets/controls",
          "model_name": "FloatProgressModel",
          "model_module_version": "1.5.0",
          "state": {
            "_dom_classes": [],
            "_model_module": "@jupyter-widgets/controls",
            "_model_module_version": "1.5.0",
            "_model_name": "FloatProgressModel",
            "_view_count": null,
            "_view_module": "@jupyter-widgets/controls",
            "_view_module_version": "1.5.0",
            "_view_name": "ProgressView",
            "bar_style": "success",
            "description": "",
            "description_tooltip": null,
            "layout": "IPY_MODEL_837894c35da947a99ed2c633edaf3760",
            "max": 456318,
            "min": 0,
            "orientation": "horizontal",
            "style": "IPY_MODEL_0920e7cf3f664260bf271d8d5d6de757",
            "value": 456318
          }
        },
        "803e5d2fb10641d9a7d7dd78d3b91b27": {
          "model_module": "@jupyter-widgets/controls",
          "model_name": "HTMLModel",
          "model_module_version": "1.5.0",
          "state": {
            "_dom_classes": [],
            "_model_module": "@jupyter-widgets/controls",
            "_model_module_version": "1.5.0",
            "_model_name": "HTMLModel",
            "_view_count": null,
            "_view_module": "@jupyter-widgets/controls",
            "_view_module_version": "1.5.0",
            "_view_name": "HTMLView",
            "description": "",
            "description_tooltip": null,
            "layout": "IPY_MODEL_70f7b4e0c4744f71b3f3fdd40239d702",
            "placeholder": "​",
            "style": "IPY_MODEL_8396ff833ffe49eb8d6e9a1285862086",
            "value": " 456k/456k [00:01&lt;00:00, 489kB/s]"
          }
        },
        "4c1527f93d264f54a91701cd81a4e5d4": {
          "model_module": "@jupyter-widgets/base",
          "model_name": "LayoutModel",
          "model_module_version": "1.2.0",
          "state": {
            "_model_module": "@jupyter-widgets/base",
            "_model_module_version": "1.2.0",
            "_model_name": "LayoutModel",
            "_view_count": null,
            "_view_module": "@jupyter-widgets/base",
            "_view_module_version": "1.2.0",
            "_view_name": "LayoutView",
            "align_content": null,
            "align_items": null,
            "align_self": null,
            "border": null,
            "bottom": null,
            "display": null,
            "flex": null,
            "flex_flow": null,
            "grid_area": null,
            "grid_auto_columns": null,
            "grid_auto_flow": null,
            "grid_auto_rows": null,
            "grid_column": null,
            "grid_gap": null,
            "grid_row": null,
            "grid_template_areas": null,
            "grid_template_columns": null,
            "grid_template_rows": null,
            "height": null,
            "justify_content": null,
            "justify_items": null,
            "left": null,
            "margin": null,
            "max_height": null,
            "max_width": null,
            "min_height": null,
            "min_width": null,
            "object_fit": null,
            "object_position": null,
            "order": null,
            "overflow": null,
            "overflow_x": null,
            "overflow_y": null,
            "padding": null,
            "right": null,
            "top": null,
            "visibility": null,
            "width": null
          }
        },
        "ee0d736f4d9c4de9a30525b37aa9eea7": {
          "model_module": "@jupyter-widgets/base",
          "model_name": "LayoutModel",
          "model_module_version": "1.2.0",
          "state": {
            "_model_module": "@jupyter-widgets/base",
            "_model_module_version": "1.2.0",
            "_model_name": "LayoutModel",
            "_view_count": null,
            "_view_module": "@jupyter-widgets/base",
            "_view_module_version": "1.2.0",
            "_view_name": "LayoutView",
            "align_content": null,
            "align_items": null,
            "align_self": null,
            "border": null,
            "bottom": null,
            "display": null,
            "flex": null,
            "flex_flow": null,
            "grid_area": null,
            "grid_auto_columns": null,
            "grid_auto_flow": null,
            "grid_auto_rows": null,
            "grid_column": null,
            "grid_gap": null,
            "grid_row": null,
            "grid_template_areas": null,
            "grid_template_columns": null,
            "grid_template_rows": null,
            "height": null,
            "justify_content": null,
            "justify_items": null,
            "left": null,
            "margin": null,
            "max_height": null,
            "max_width": null,
            "min_height": null,
            "min_width": null,
            "object_fit": null,
            "object_position": null,
            "order": null,
            "overflow": null,
            "overflow_x": null,
            "overflow_y": null,
            "padding": null,
            "right": null,
            "top": null,
            "visibility": null,
            "width": null
          }
        },
        "061a04a5e0dc4f94ac04f7e4cb150680": {
          "model_module": "@jupyter-widgets/controls",
          "model_name": "DescriptionStyleModel",
          "model_module_version": "1.5.0",
          "state": {
            "_model_module": "@jupyter-widgets/controls",
            "_model_module_version": "1.5.0",
            "_model_name": "DescriptionStyleModel",
            "_view_count": null,
            "_view_module": "@jupyter-widgets/base",
            "_view_module_version": "1.2.0",
            "_view_name": "StyleView",
            "description_width": ""
          }
        },
        "837894c35da947a99ed2c633edaf3760": {
          "model_module": "@jupyter-widgets/base",
          "model_name": "LayoutModel",
          "model_module_version": "1.2.0",
          "state": {
            "_model_module": "@jupyter-widgets/base",
            "_model_module_version": "1.2.0",
            "_model_name": "LayoutModel",
            "_view_count": null,
            "_view_module": "@jupyter-widgets/base",
            "_view_module_version": "1.2.0",
            "_view_name": "LayoutView",
            "align_content": null,
            "align_items": null,
            "align_self": null,
            "border": null,
            "bottom": null,
            "display": null,
            "flex": null,
            "flex_flow": null,
            "grid_area": null,
            "grid_auto_columns": null,
            "grid_auto_flow": null,
            "grid_auto_rows": null,
            "grid_column": null,
            "grid_gap": null,
            "grid_row": null,
            "grid_template_areas": null,
            "grid_template_columns": null,
            "grid_template_rows": null,
            "height": null,
            "justify_content": null,
            "justify_items": null,
            "left": null,
            "margin": null,
            "max_height": null,
            "max_width": null,
            "min_height": null,
            "min_width": null,
            "object_fit": null,
            "object_position": null,
            "order": null,
            "overflow": null,
            "overflow_x": null,
            "overflow_y": null,
            "padding": null,
            "right": null,
            "top": null,
            "visibility": null,
            "width": null
          }
        },
        "0920e7cf3f664260bf271d8d5d6de757": {
          "model_module": "@jupyter-widgets/controls",
          "model_name": "ProgressStyleModel",
          "model_module_version": "1.5.0",
          "state": {
            "_model_module": "@jupyter-widgets/controls",
            "_model_module_version": "1.5.0",
            "_model_name": "ProgressStyleModel",
            "_view_count": null,
            "_view_module": "@jupyter-widgets/base",
            "_view_module_version": "1.2.0",
            "_view_name": "StyleView",
            "bar_color": null,
            "description_width": ""
          }
        },
        "70f7b4e0c4744f71b3f3fdd40239d702": {
          "model_module": "@jupyter-widgets/base",
          "model_name": "LayoutModel",
          "model_module_version": "1.2.0",
          "state": {
            "_model_module": "@jupyter-widgets/base",
            "_model_module_version": "1.2.0",
            "_model_name": "LayoutModel",
            "_view_count": null,
            "_view_module": "@jupyter-widgets/base",
            "_view_module_version": "1.2.0",
            "_view_name": "LayoutView",
            "align_content": null,
            "align_items": null,
            "align_self": null,
            "border": null,
            "bottom": null,
            "display": null,
            "flex": null,
            "flex_flow": null,
            "grid_area": null,
            "grid_auto_columns": null,
            "grid_auto_flow": null,
            "grid_auto_rows": null,
            "grid_column": null,
            "grid_gap": null,
            "grid_row": null,
            "grid_template_areas": null,
            "grid_template_columns": null,
            "grid_template_rows": null,
            "height": null,
            "justify_content": null,
            "justify_items": null,
            "left": null,
            "margin": null,
            "max_height": null,
            "max_width": null,
            "min_height": null,
            "min_width": null,
            "object_fit": null,
            "object_position": null,
            "order": null,
            "overflow": null,
            "overflow_x": null,
            "overflow_y": null,
            "padding": null,
            "right": null,
            "top": null,
            "visibility": null,
            "width": null
          }
        },
        "8396ff833ffe49eb8d6e9a1285862086": {
          "model_module": "@jupyter-widgets/controls",
          "model_name": "DescriptionStyleModel",
          "model_module_version": "1.5.0",
          "state": {
            "_model_module": "@jupyter-widgets/controls",
            "_model_module_version": "1.5.0",
            "_model_name": "DescriptionStyleModel",
            "_view_count": null,
            "_view_module": "@jupyter-widgets/base",
            "_view_module_version": "1.2.0",
            "_view_name": "StyleView",
            "description_width": ""
          }
        },
        "c33c994d76434e1abe2ce4604cf628c1": {
          "model_module": "@jupyter-widgets/controls",
          "model_name": "HBoxModel",
          "model_module_version": "1.5.0",
          "state": {
            "_dom_classes": [],
            "_model_module": "@jupyter-widgets/controls",
            "_model_module_version": "1.5.0",
            "_model_name": "HBoxModel",
            "_view_count": null,
            "_view_module": "@jupyter-widgets/controls",
            "_view_module_version": "1.5.0",
            "_view_name": "HBoxView",
            "box_style": "",
            "children": [
              "IPY_MODEL_747a9f739da84c63a6ebb4b86fd3f6a3",
              "IPY_MODEL_2b6add77cd6f49e9b3eb96dee497c4c0",
              "IPY_MODEL_f72c71be2be041528e1518c51fcddd67"
            ],
            "layout": "IPY_MODEL_30cd37bf407241ef88ce961a42af058e"
          }
        },
        "747a9f739da84c63a6ebb4b86fd3f6a3": {
          "model_module": "@jupyter-widgets/controls",
          "model_name": "HTMLModel",
          "model_module_version": "1.5.0",
          "state": {
            "_dom_classes": [],
            "_model_module": "@jupyter-widgets/controls",
            "_model_module_version": "1.5.0",
            "_model_name": "HTMLModel",
            "_view_count": null,
            "_view_module": "@jupyter-widgets/controls",
            "_view_module_version": "1.5.0",
            "_view_name": "HTMLView",
            "description": "",
            "description_tooltip": null,
            "layout": "IPY_MODEL_59e584b8bcf0463dba113263f9f06c37",
            "placeholder": "​",
            "style": "IPY_MODEL_78284dae852b43779d4b55d76bd89a5a",
            "value": "Downloading: 100%"
          }
        },
        "2b6add77cd6f49e9b3eb96dee497c4c0": {
          "model_module": "@jupyter-widgets/controls",
          "model_name": "FloatProgressModel",
          "model_module_version": "1.5.0",
          "state": {
            "_dom_classes": [],
            "_model_module": "@jupyter-widgets/controls",
            "_model_module_version": "1.5.0",
            "_model_name": "FloatProgressModel",
            "_view_count": null,
            "_view_module": "@jupyter-widgets/controls",
            "_view_module_version": "1.5.0",
            "_view_name": "ProgressView",
            "bar_style": "success",
            "description": "",
            "description_tooltip": null,
            "layout": "IPY_MODEL_d57f5b2a036848edbe0380c96b04ca66",
            "max": 150,
            "min": 0,
            "orientation": "horizontal",
            "style": "IPY_MODEL_83c5d9ea0a4047a8bdbb84cf2045553e",
            "value": 150
          }
        },
        "f72c71be2be041528e1518c51fcddd67": {
          "model_module": "@jupyter-widgets/controls",
          "model_name": "HTMLModel",
          "model_module_version": "1.5.0",
          "state": {
            "_dom_classes": [],
            "_model_module": "@jupyter-widgets/controls",
            "_model_module_version": "1.5.0",
            "_model_name": "HTMLModel",
            "_view_count": null,
            "_view_module": "@jupyter-widgets/controls",
            "_view_module_version": "1.5.0",
            "_view_name": "HTMLView",
            "description": "",
            "description_tooltip": null,
            "layout": "IPY_MODEL_3e82560b7d234fe48b78902b525c4f51",
            "placeholder": "​",
            "style": "IPY_MODEL_7faadc88ddef470ab9aa3f03886999bf",
            "value": " 150/150 [00:00&lt;00:00, 2.33kB/s]"
          }
        },
        "30cd37bf407241ef88ce961a42af058e": {
          "model_module": "@jupyter-widgets/base",
          "model_name": "LayoutModel",
          "model_module_version": "1.2.0",
          "state": {
            "_model_module": "@jupyter-widgets/base",
            "_model_module_version": "1.2.0",
            "_model_name": "LayoutModel",
            "_view_count": null,
            "_view_module": "@jupyter-widgets/base",
            "_view_module_version": "1.2.0",
            "_view_name": "LayoutView",
            "align_content": null,
            "align_items": null,
            "align_self": null,
            "border": null,
            "bottom": null,
            "display": null,
            "flex": null,
            "flex_flow": null,
            "grid_area": null,
            "grid_auto_columns": null,
            "grid_auto_flow": null,
            "grid_auto_rows": null,
            "grid_column": null,
            "grid_gap": null,
            "grid_row": null,
            "grid_template_areas": null,
            "grid_template_columns": null,
            "grid_template_rows": null,
            "height": null,
            "justify_content": null,
            "justify_items": null,
            "left": null,
            "margin": null,
            "max_height": null,
            "max_width": null,
            "min_height": null,
            "min_width": null,
            "object_fit": null,
            "object_position": null,
            "order": null,
            "overflow": null,
            "overflow_x": null,
            "overflow_y": null,
            "padding": null,
            "right": null,
            "top": null,
            "visibility": null,
            "width": null
          }
        },
        "59e584b8bcf0463dba113263f9f06c37": {
          "model_module": "@jupyter-widgets/base",
          "model_name": "LayoutModel",
          "model_module_version": "1.2.0",
          "state": {
            "_model_module": "@jupyter-widgets/base",
            "_model_module_version": "1.2.0",
            "_model_name": "LayoutModel",
            "_view_count": null,
            "_view_module": "@jupyter-widgets/base",
            "_view_module_version": "1.2.0",
            "_view_name": "LayoutView",
            "align_content": null,
            "align_items": null,
            "align_self": null,
            "border": null,
            "bottom": null,
            "display": null,
            "flex": null,
            "flex_flow": null,
            "grid_area": null,
            "grid_auto_columns": null,
            "grid_auto_flow": null,
            "grid_auto_rows": null,
            "grid_column": null,
            "grid_gap": null,
            "grid_row": null,
            "grid_template_areas": null,
            "grid_template_columns": null,
            "grid_template_rows": null,
            "height": null,
            "justify_content": null,
            "justify_items": null,
            "left": null,
            "margin": null,
            "max_height": null,
            "max_width": null,
            "min_height": null,
            "min_width": null,
            "object_fit": null,
            "object_position": null,
            "order": null,
            "overflow": null,
            "overflow_x": null,
            "overflow_y": null,
            "padding": null,
            "right": null,
            "top": null,
            "visibility": null,
            "width": null
          }
        },
        "78284dae852b43779d4b55d76bd89a5a": {
          "model_module": "@jupyter-widgets/controls",
          "model_name": "DescriptionStyleModel",
          "model_module_version": "1.5.0",
          "state": {
            "_model_module": "@jupyter-widgets/controls",
            "_model_module_version": "1.5.0",
            "_model_name": "DescriptionStyleModel",
            "_view_count": null,
            "_view_module": "@jupyter-widgets/base",
            "_view_module_version": "1.2.0",
            "_view_name": "StyleView",
            "description_width": ""
          }
        },
        "d57f5b2a036848edbe0380c96b04ca66": {
          "model_module": "@jupyter-widgets/base",
          "model_name": "LayoutModel",
          "model_module_version": "1.2.0",
          "state": {
            "_model_module": "@jupyter-widgets/base",
            "_model_module_version": "1.2.0",
            "_model_name": "LayoutModel",
            "_view_count": null,
            "_view_module": "@jupyter-widgets/base",
            "_view_module_version": "1.2.0",
            "_view_name": "LayoutView",
            "align_content": null,
            "align_items": null,
            "align_self": null,
            "border": null,
            "bottom": null,
            "display": null,
            "flex": null,
            "flex_flow": null,
            "grid_area": null,
            "grid_auto_columns": null,
            "grid_auto_flow": null,
            "grid_auto_rows": null,
            "grid_column": null,
            "grid_gap": null,
            "grid_row": null,
            "grid_template_areas": null,
            "grid_template_columns": null,
            "grid_template_rows": null,
            "height": null,
            "justify_content": null,
            "justify_items": null,
            "left": null,
            "margin": null,
            "max_height": null,
            "max_width": null,
            "min_height": null,
            "min_width": null,
            "object_fit": null,
            "object_position": null,
            "order": null,
            "overflow": null,
            "overflow_x": null,
            "overflow_y": null,
            "padding": null,
            "right": null,
            "top": null,
            "visibility": null,
            "width": null
          }
        },
        "83c5d9ea0a4047a8bdbb84cf2045553e": {
          "model_module": "@jupyter-widgets/controls",
          "model_name": "ProgressStyleModel",
          "model_module_version": "1.5.0",
          "state": {
            "_model_module": "@jupyter-widgets/controls",
            "_model_module_version": "1.5.0",
            "_model_name": "ProgressStyleModel",
            "_view_count": null,
            "_view_module": "@jupyter-widgets/base",
            "_view_module_version": "1.2.0",
            "_view_name": "StyleView",
            "bar_color": null,
            "description_width": ""
          }
        },
        "3e82560b7d234fe48b78902b525c4f51": {
          "model_module": "@jupyter-widgets/base",
          "model_name": "LayoutModel",
          "model_module_version": "1.2.0",
          "state": {
            "_model_module": "@jupyter-widgets/base",
            "_model_module_version": "1.2.0",
            "_model_name": "LayoutModel",
            "_view_count": null,
            "_view_module": "@jupyter-widgets/base",
            "_view_module_version": "1.2.0",
            "_view_name": "LayoutView",
            "align_content": null,
            "align_items": null,
            "align_self": null,
            "border": null,
            "bottom": null,
            "display": null,
            "flex": null,
            "flex_flow": null,
            "grid_area": null,
            "grid_auto_columns": null,
            "grid_auto_flow": null,
            "grid_auto_rows": null,
            "grid_column": null,
            "grid_gap": null,
            "grid_row": null,
            "grid_template_areas": null,
            "grid_template_columns": null,
            "grid_template_rows": null,
            "height": null,
            "justify_content": null,
            "justify_items": null,
            "left": null,
            "margin": null,
            "max_height": null,
            "max_width": null,
            "min_height": null,
            "min_width": null,
            "object_fit": null,
            "object_position": null,
            "order": null,
            "overflow": null,
            "overflow_x": null,
            "overflow_y": null,
            "padding": null,
            "right": null,
            "top": null,
            "visibility": null,
            "width": null
          }
        },
        "7faadc88ddef470ab9aa3f03886999bf": {
          "model_module": "@jupyter-widgets/controls",
          "model_name": "DescriptionStyleModel",
          "model_module_version": "1.5.0",
          "state": {
            "_model_module": "@jupyter-widgets/controls",
            "_model_module_version": "1.5.0",
            "_model_name": "DescriptionStyleModel",
            "_view_count": null,
            "_view_module": "@jupyter-widgets/base",
            "_view_module_version": "1.2.0",
            "_view_name": "StyleView",
            "description_width": ""
          }
        },
        "d9208704dfd949f0843f386bc26c9f3d": {
          "model_module": "@jupyter-widgets/controls",
          "model_name": "HBoxModel",
          "model_module_version": "1.5.0",
          "state": {
            "_dom_classes": [],
            "_model_module": "@jupyter-widgets/controls",
            "_model_module_version": "1.5.0",
            "_model_name": "HBoxModel",
            "_view_count": null,
            "_view_module": "@jupyter-widgets/controls",
            "_view_module_version": "1.5.0",
            "_view_name": "HBoxView",
            "box_style": "",
            "children": [
              "IPY_MODEL_525c1fe768a44977b3c83b1686bc7922",
              "IPY_MODEL_3173d492e100442da997e53424800829",
              "IPY_MODEL_12c8d8602ad845fe8cbbf72487922243"
            ],
            "layout": "IPY_MODEL_2b6fb452f3f74532a67f1e3c73b4269c"
          }
        },
        "525c1fe768a44977b3c83b1686bc7922": {
          "model_module": "@jupyter-widgets/controls",
          "model_name": "HTMLModel",
          "model_module_version": "1.5.0",
          "state": {
            "_dom_classes": [],
            "_model_module": "@jupyter-widgets/controls",
            "_model_module_version": "1.5.0",
            "_model_name": "HTMLModel",
            "_view_count": null,
            "_view_module": "@jupyter-widgets/controls",
            "_view_module_version": "1.5.0",
            "_view_name": "HTMLView",
            "description": "",
            "description_tooltip": null,
            "layout": "IPY_MODEL_9ee32d43d75d46e48d83b955683238c1",
            "placeholder": "​",
            "style": "IPY_MODEL_52e8b37387d246749b416f763714d631",
            "value": "Downloading: 100%"
          }
        },
        "3173d492e100442da997e53424800829": {
          "model_module": "@jupyter-widgets/controls",
          "model_name": "FloatProgressModel",
          "model_module_version": "1.5.0",
          "state": {
            "_dom_classes": [],
            "_model_module": "@jupyter-widgets/controls",
            "_model_module_version": "1.5.0",
            "_model_name": "FloatProgressModel",
            "_view_count": null,
            "_view_module": "@jupyter-widgets/controls",
            "_view_module_version": "1.5.0",
            "_view_name": "ProgressView",
            "bar_style": "success",
            "description": "",
            "description_tooltip": null,
            "layout": "IPY_MODEL_eb91686b4dd3462db34bef7162c13bf3",
            "max": 498679497,
            "min": 0,
            "orientation": "horizontal",
            "style": "IPY_MODEL_7707afd2f12f4f21814c2d0a2035be16",
            "value": 498679497
          }
        },
        "12c8d8602ad845fe8cbbf72487922243": {
          "model_module": "@jupyter-widgets/controls",
          "model_name": "HTMLModel",
          "model_module_version": "1.5.0",
          "state": {
            "_dom_classes": [],
            "_model_module": "@jupyter-widgets/controls",
            "_model_module_version": "1.5.0",
            "_model_name": "HTMLModel",
            "_view_count": null,
            "_view_module": "@jupyter-widgets/controls",
            "_view_module_version": "1.5.0",
            "_view_name": "HTMLView",
            "description": "",
            "description_tooltip": null,
            "layout": "IPY_MODEL_8239f0d324de4379ba5c3fe0f9848c75",
            "placeholder": "​",
            "style": "IPY_MODEL_fc43f3d80c1948e1a16c14f51a69bba8",
            "value": " 499M/499M [00:09&lt;00:00, 40.1MB/s]"
          }
        },
        "2b6fb452f3f74532a67f1e3c73b4269c": {
          "model_module": "@jupyter-widgets/base",
          "model_name": "LayoutModel",
          "model_module_version": "1.2.0",
          "state": {
            "_model_module": "@jupyter-widgets/base",
            "_model_module_version": "1.2.0",
            "_model_name": "LayoutModel",
            "_view_count": null,
            "_view_module": "@jupyter-widgets/base",
            "_view_module_version": "1.2.0",
            "_view_name": "LayoutView",
            "align_content": null,
            "align_items": null,
            "align_self": null,
            "border": null,
            "bottom": null,
            "display": null,
            "flex": null,
            "flex_flow": null,
            "grid_area": null,
            "grid_auto_columns": null,
            "grid_auto_flow": null,
            "grid_auto_rows": null,
            "grid_column": null,
            "grid_gap": null,
            "grid_row": null,
            "grid_template_areas": null,
            "grid_template_columns": null,
            "grid_template_rows": null,
            "height": null,
            "justify_content": null,
            "justify_items": null,
            "left": null,
            "margin": null,
            "max_height": null,
            "max_width": null,
            "min_height": null,
            "min_width": null,
            "object_fit": null,
            "object_position": null,
            "order": null,
            "overflow": null,
            "overflow_x": null,
            "overflow_y": null,
            "padding": null,
            "right": null,
            "top": null,
            "visibility": null,
            "width": null
          }
        },
        "9ee32d43d75d46e48d83b955683238c1": {
          "model_module": "@jupyter-widgets/base",
          "model_name": "LayoutModel",
          "model_module_version": "1.2.0",
          "state": {
            "_model_module": "@jupyter-widgets/base",
            "_model_module_version": "1.2.0",
            "_model_name": "LayoutModel",
            "_view_count": null,
            "_view_module": "@jupyter-widgets/base",
            "_view_module_version": "1.2.0",
            "_view_name": "LayoutView",
            "align_content": null,
            "align_items": null,
            "align_self": null,
            "border": null,
            "bottom": null,
            "display": null,
            "flex": null,
            "flex_flow": null,
            "grid_area": null,
            "grid_auto_columns": null,
            "grid_auto_flow": null,
            "grid_auto_rows": null,
            "grid_column": null,
            "grid_gap": null,
            "grid_row": null,
            "grid_template_areas": null,
            "grid_template_columns": null,
            "grid_template_rows": null,
            "height": null,
            "justify_content": null,
            "justify_items": null,
            "left": null,
            "margin": null,
            "max_height": null,
            "max_width": null,
            "min_height": null,
            "min_width": null,
            "object_fit": null,
            "object_position": null,
            "order": null,
            "overflow": null,
            "overflow_x": null,
            "overflow_y": null,
            "padding": null,
            "right": null,
            "top": null,
            "visibility": null,
            "width": null
          }
        },
        "52e8b37387d246749b416f763714d631": {
          "model_module": "@jupyter-widgets/controls",
          "model_name": "DescriptionStyleModel",
          "model_module_version": "1.5.0",
          "state": {
            "_model_module": "@jupyter-widgets/controls",
            "_model_module_version": "1.5.0",
            "_model_name": "DescriptionStyleModel",
            "_view_count": null,
            "_view_module": "@jupyter-widgets/base",
            "_view_module_version": "1.2.0",
            "_view_name": "StyleView",
            "description_width": ""
          }
        },
        "eb91686b4dd3462db34bef7162c13bf3": {
          "model_module": "@jupyter-widgets/base",
          "model_name": "LayoutModel",
          "model_module_version": "1.2.0",
          "state": {
            "_model_module": "@jupyter-widgets/base",
            "_model_module_version": "1.2.0",
            "_model_name": "LayoutModel",
            "_view_count": null,
            "_view_module": "@jupyter-widgets/base",
            "_view_module_version": "1.2.0",
            "_view_name": "LayoutView",
            "align_content": null,
            "align_items": null,
            "align_self": null,
            "border": null,
            "bottom": null,
            "display": null,
            "flex": null,
            "flex_flow": null,
            "grid_area": null,
            "grid_auto_columns": null,
            "grid_auto_flow": null,
            "grid_auto_rows": null,
            "grid_column": null,
            "grid_gap": null,
            "grid_row": null,
            "grid_template_areas": null,
            "grid_template_columns": null,
            "grid_template_rows": null,
            "height": null,
            "justify_content": null,
            "justify_items": null,
            "left": null,
            "margin": null,
            "max_height": null,
            "max_width": null,
            "min_height": null,
            "min_width": null,
            "object_fit": null,
            "object_position": null,
            "order": null,
            "overflow": null,
            "overflow_x": null,
            "overflow_y": null,
            "padding": null,
            "right": null,
            "top": null,
            "visibility": null,
            "width": null
          }
        },
        "7707afd2f12f4f21814c2d0a2035be16": {
          "model_module": "@jupyter-widgets/controls",
          "model_name": "ProgressStyleModel",
          "model_module_version": "1.5.0",
          "state": {
            "_model_module": "@jupyter-widgets/controls",
            "_model_module_version": "1.5.0",
            "_model_name": "ProgressStyleModel",
            "_view_count": null,
            "_view_module": "@jupyter-widgets/base",
            "_view_module_version": "1.2.0",
            "_view_name": "StyleView",
            "bar_color": null,
            "description_width": ""
          }
        },
        "8239f0d324de4379ba5c3fe0f9848c75": {
          "model_module": "@jupyter-widgets/base",
          "model_name": "LayoutModel",
          "model_module_version": "1.2.0",
          "state": {
            "_model_module": "@jupyter-widgets/base",
            "_model_module_version": "1.2.0",
            "_model_name": "LayoutModel",
            "_view_count": null,
            "_view_module": "@jupyter-widgets/base",
            "_view_module_version": "1.2.0",
            "_view_name": "LayoutView",
            "align_content": null,
            "align_items": null,
            "align_self": null,
            "border": null,
            "bottom": null,
            "display": null,
            "flex": null,
            "flex_flow": null,
            "grid_area": null,
            "grid_auto_columns": null,
            "grid_auto_flow": null,
            "grid_auto_rows": null,
            "grid_column": null,
            "grid_gap": null,
            "grid_row": null,
            "grid_template_areas": null,
            "grid_template_columns": null,
            "grid_template_rows": null,
            "height": null,
            "justify_content": null,
            "justify_items": null,
            "left": null,
            "margin": null,
            "max_height": null,
            "max_width": null,
            "min_height": null,
            "min_width": null,
            "object_fit": null,
            "object_position": null,
            "order": null,
            "overflow": null,
            "overflow_x": null,
            "overflow_y": null,
            "padding": null,
            "right": null,
            "top": null,
            "visibility": null,
            "width": null
          }
        },
        "fc43f3d80c1948e1a16c14f51a69bba8": {
          "model_module": "@jupyter-widgets/controls",
          "model_name": "DescriptionStyleModel",
          "model_module_version": "1.5.0",
          "state": {
            "_model_module": "@jupyter-widgets/controls",
            "_model_module_version": "1.5.0",
            "_model_name": "DescriptionStyleModel",
            "_view_count": null,
            "_view_module": "@jupyter-widgets/base",
            "_view_module_version": "1.2.0",
            "_view_name": "StyleView",
            "description_width": ""
          }
        }
      }
    }
  },
  "nbformat": 4,
  "nbformat_minor": 5
}