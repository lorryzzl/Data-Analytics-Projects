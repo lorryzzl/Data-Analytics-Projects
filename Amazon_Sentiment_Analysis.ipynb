{
  "cells": [
    {
      "cell_type": "code",
      "execution_count": null,
      "metadata": {
        "colab": {
          "base_uri": "https://localhost:8080/"
        },
        "id": "BdvZyEU203X-",
        "outputId": "fa46108b-2d30-4258-d4b4-95759bc7d833"
      },
      "outputs": [
        {
          "output_type": "stream",
          "name": "stdout",
          "text": [
            "Looking in indexes: https://pypi.org/simple, https://us-python.pkg.dev/colab-wheels/public/simple/\n",
            "Collecting transformers\n",
            "  Downloading transformers-4.22.1-py3-none-any.whl (4.9 MB)\n",
            "\u001b[K     |████████████████████████████████| 4.9 MB 4.6 MB/s \n",
            "\u001b[?25hCollecting tokenizers!=0.11.3,<0.13,>=0.11.1\n",
            "  Downloading tokenizers-0.12.1-cp37-cp37m-manylinux_2_12_x86_64.manylinux2010_x86_64.whl (6.6 MB)\n",
            "\u001b[K     |████████████████████████████████| 6.6 MB 47.3 MB/s \n",
            "\u001b[?25hRequirement already satisfied: pyyaml>=5.1 in /usr/local/lib/python3.7/dist-packages (from transformers) (6.0)\n",
            "Requirement already satisfied: packaging>=20.0 in /usr/local/lib/python3.7/dist-packages (from transformers) (21.3)\n",
            "Requirement already satisfied: filelock in /usr/local/lib/python3.7/dist-packages (from transformers) (3.8.0)\n",
            "Requirement already satisfied: regex!=2019.12.17 in /usr/local/lib/python3.7/dist-packages (from transformers) (2022.6.2)\n",
            "Requirement already satisfied: tqdm>=4.27 in /usr/local/lib/python3.7/dist-packages (from transformers) (4.64.1)\n",
            "Requirement already satisfied: numpy>=1.17 in /usr/local/lib/python3.7/dist-packages (from transformers) (1.21.6)\n",
            "Requirement already satisfied: importlib-metadata in /usr/local/lib/python3.7/dist-packages (from transformers) (4.12.0)\n",
            "Requirement already satisfied: requests in /usr/local/lib/python3.7/dist-packages (from transformers) (2.23.0)\n",
            "Collecting huggingface-hub<1.0,>=0.9.0\n",
            "  Downloading huggingface_hub-0.9.1-py3-none-any.whl (120 kB)\n",
            "\u001b[K     |████████████████████████████████| 120 kB 72.3 MB/s \n",
            "\u001b[?25hRequirement already satisfied: typing-extensions>=3.7.4.3 in /usr/local/lib/python3.7/dist-packages (from huggingface-hub<1.0,>=0.9.0->transformers) (4.1.1)\n",
            "Requirement already satisfied: pyparsing!=3.0.5,>=2.0.2 in /usr/local/lib/python3.7/dist-packages (from packaging>=20.0->transformers) (3.0.9)\n",
            "Requirement already satisfied: zipp>=0.5 in /usr/local/lib/python3.7/dist-packages (from importlib-metadata->transformers) (3.8.1)\n",
            "Requirement already satisfied: idna<3,>=2.5 in /usr/local/lib/python3.7/dist-packages (from requests->transformers) (2.10)\n",
            "Requirement already satisfied: certifi>=2017.4.17 in /usr/local/lib/python3.7/dist-packages (from requests->transformers) (2022.6.15)\n",
            "Requirement already satisfied: chardet<4,>=3.0.2 in /usr/local/lib/python3.7/dist-packages (from requests->transformers) (3.0.4)\n",
            "Requirement already satisfied: urllib3!=1.25.0,!=1.25.1,<1.26,>=1.21.1 in /usr/local/lib/python3.7/dist-packages (from requests->transformers) (1.24.3)\n",
            "Installing collected packages: tokenizers, huggingface-hub, transformers\n",
            "Successfully installed huggingface-hub-0.9.1 tokenizers-0.12.1 transformers-4.22.1\n"
          ]
        }
      ],
      "source": [
        "!pip install transformers"
      ],
      "id": "BdvZyEU203X-"
    },
    {
      "cell_type": "code",
      "execution_count": null,
      "metadata": {
        "id": "b6f7100e"
      },
      "outputs": [],
      "source": [
        "import pandas as pd\n",
        "import numpy as np\n",
        "import matplotlib.pyplot as plt\n",
        "import seaborn as sns\n",
        "from wordcloud import WordCloud\n",
        "import nltk"
      ],
      "id": "b6f7100e"
    },
    {
      "cell_type": "code",
      "execution_count": null,
      "metadata": {
        "colab": {
          "base_uri": "https://localhost:8080/",
          "height": 614
        },
        "id": "fc2dc1db",
        "outputId": "2282b973-829b-4bcd-abf0-6cb09196f5af"
      },
      "outputs": [
        {
          "output_type": "execute_result",
          "data": {
            "text/plain": [
              "   Id   ProductId          UserId                      ProfileName  \\\n",
              "0   1  B001E4KFG0  A3SGXH7AUHU8GW                       delmartian   \n",
              "1   2  B00813GRG4  A1D87F6ZCVE5NK                           dll pa   \n",
              "2   3  B000LQOCH0   ABXLMWJIXXAIN  Natalia Corres \"Natalia Corres\"   \n",
              "3   4  B000UA0QIQ  A395BORC6FGVXV                             Karl   \n",
              "4   5  B006K2ZZ7K  A1UQRSCLF8GW1T    Michael D. Bigham \"M. Wassir\"   \n",
              "\n",
              "   HelpfulnessNumerator  HelpfulnessDenominator  Score        Time  \\\n",
              "0                     1                       1      5  1303862400   \n",
              "1                     0                       0      1  1346976000   \n",
              "2                     1                       1      4  1219017600   \n",
              "3                     3                       3      2  1307923200   \n",
              "4                     0                       0      5  1350777600   \n",
              "\n",
              "                 Summary                                               Text  \n",
              "0  Good Quality Dog Food  I have bought several of the Vitality canned d...  \n",
              "1      Not as Advertised  Product arrived labeled as Jumbo Salted Peanut...  \n",
              "2  \"Delight\" says it all  This is a confection that has been around a fe...  \n",
              "3         Cough Medicine  If you are looking for the secret ingredient i...  \n",
              "4            Great taffy  Great taffy at a great price.  There was a wid...  "
            ],
            "text/html": [
              "\n",
              "  <div id=\"df-4310da00-9dd9-4ad6-8280-3222a7ee50af\">\n",
              "    <div class=\"colab-df-container\">\n",
              "      <div>\n",
              "<style scoped>\n",
              "    .dataframe tbody tr th:only-of-type {\n",
              "        vertical-align: middle;\n",
              "    }\n",
              "\n",
              "    .dataframe tbody tr th {\n",
              "        vertical-align: top;\n",
              "    }\n",
              "\n",
              "    .dataframe thead th {\n",
              "        text-align: right;\n",
              "    }\n",
              "</style>\n",
              "<table border=\"1\" class=\"dataframe\">\n",
              "  <thead>\n",
              "    <tr style=\"text-align: right;\">\n",
              "      <th></th>\n",
              "      <th>Id</th>\n",
              "      <th>ProductId</th>\n",
              "      <th>UserId</th>\n",
              "      <th>ProfileName</th>\n",
              "      <th>HelpfulnessNumerator</th>\n",
              "      <th>HelpfulnessDenominator</th>\n",
              "      <th>Score</th>\n",
              "      <th>Time</th>\n",
              "      <th>Summary</th>\n",
              "      <th>Text</th>\n",
              "    </tr>\n",
              "  </thead>\n",
              "  <tbody>\n",
              "    <tr>\n",
              "      <th>0</th>\n",
              "      <td>1</td>\n",
              "      <td>B001E4KFG0</td>\n",
              "      <td>A3SGXH7AUHU8GW</td>\n",
              "      <td>delmartian</td>\n",
              "      <td>1</td>\n",
              "      <td>1</td>\n",
              "      <td>5</td>\n",
              "      <td>1303862400</td>\n",
              "      <td>Good Quality Dog Food</td>\n",
              "      <td>I have bought several of the Vitality canned d...</td>\n",
              "    </tr>\n",
              "    <tr>\n",
              "      <th>1</th>\n",
              "      <td>2</td>\n",
              "      <td>B00813GRG4</td>\n",
              "      <td>A1D87F6ZCVE5NK</td>\n",
              "      <td>dll pa</td>\n",
              "      <td>0</td>\n",
              "      <td>0</td>\n",
              "      <td>1</td>\n",
              "      <td>1346976000</td>\n",
              "      <td>Not as Advertised</td>\n",
              "      <td>Product arrived labeled as Jumbo Salted Peanut...</td>\n",
              "    </tr>\n",
              "    <tr>\n",
              "      <th>2</th>\n",
              "      <td>3</td>\n",
              "      <td>B000LQOCH0</td>\n",
              "      <td>ABXLMWJIXXAIN</td>\n",
              "      <td>Natalia Corres \"Natalia Corres\"</td>\n",
              "      <td>1</td>\n",
              "      <td>1</td>\n",
              "      <td>4</td>\n",
              "      <td>1219017600</td>\n",
              "      <td>\"Delight\" says it all</td>\n",
              "      <td>This is a confection that has been around a fe...</td>\n",
              "    </tr>\n",
              "    <tr>\n",
              "      <th>3</th>\n",
              "      <td>4</td>\n",
              "      <td>B000UA0QIQ</td>\n",
              "      <td>A395BORC6FGVXV</td>\n",
              "      <td>Karl</td>\n",
              "      <td>3</td>\n",
              "      <td>3</td>\n",
              "      <td>2</td>\n",
              "      <td>1307923200</td>\n",
              "      <td>Cough Medicine</td>\n",
              "      <td>If you are looking for the secret ingredient i...</td>\n",
              "    </tr>\n",
              "    <tr>\n",
              "      <th>4</th>\n",
              "      <td>5</td>\n",
              "      <td>B006K2ZZ7K</td>\n",
              "      <td>A1UQRSCLF8GW1T</td>\n",
              "      <td>Michael D. Bigham \"M. Wassir\"</td>\n",
              "      <td>0</td>\n",
              "      <td>0</td>\n",
              "      <td>5</td>\n",
              "      <td>1350777600</td>\n",
              "      <td>Great taffy</td>\n",
              "      <td>Great taffy at a great price.  There was a wid...</td>\n",
              "    </tr>\n",
              "  </tbody>\n",
              "</table>\n",
              "</div>\n",
              "      <button class=\"colab-df-convert\" onclick=\"convertToInteractive('df-4310da00-9dd9-4ad6-8280-3222a7ee50af')\"\n",
              "              title=\"Convert this dataframe to an interactive table.\"\n",
              "              style=\"display:none;\">\n",
              "        \n",
              "  <svg xmlns=\"http://www.w3.org/2000/svg\" height=\"24px\"viewBox=\"0 0 24 24\"\n",
              "       width=\"24px\">\n",
              "    <path d=\"M0 0h24v24H0V0z\" fill=\"none\"/>\n",
              "    <path d=\"M18.56 5.44l.94 2.06.94-2.06 2.06-.94-2.06-.94-.94-2.06-.94 2.06-2.06.94zm-11 1L8.5 8.5l.94-2.06 2.06-.94-2.06-.94L8.5 2.5l-.94 2.06-2.06.94zm10 10l.94 2.06.94-2.06 2.06-.94-2.06-.94-.94-2.06-.94 2.06-2.06.94z\"/><path d=\"M17.41 7.96l-1.37-1.37c-.4-.4-.92-.59-1.43-.59-.52 0-1.04.2-1.43.59L10.3 9.45l-7.72 7.72c-.78.78-.78 2.05 0 2.83L4 21.41c.39.39.9.59 1.41.59.51 0 1.02-.2 1.41-.59l7.78-7.78 2.81-2.81c.8-.78.8-2.07 0-2.86zM5.41 20L4 18.59l7.72-7.72 1.47 1.35L5.41 20z\"/>\n",
              "  </svg>\n",
              "      </button>\n",
              "      \n",
              "  <style>\n",
              "    .colab-df-container {\n",
              "      display:flex;\n",
              "      flex-wrap:wrap;\n",
              "      gap: 12px;\n",
              "    }\n",
              "\n",
              "    .colab-df-convert {\n",
              "      background-color: #E8F0FE;\n",
              "      border: none;\n",
              "      border-radius: 50%;\n",
              "      cursor: pointer;\n",
              "      display: none;\n",
              "      fill: #1967D2;\n",
              "      height: 32px;\n",
              "      padding: 0 0 0 0;\n",
              "      width: 32px;\n",
              "    }\n",
              "\n",
              "    .colab-df-convert:hover {\n",
              "      background-color: #E2EBFA;\n",
              "      box-shadow: 0px 1px 2px rgba(60, 64, 67, 0.3), 0px 1px 3px 1px rgba(60, 64, 67, 0.15);\n",
              "      fill: #174EA6;\n",
              "    }\n",
              "\n",
              "    [theme=dark] .colab-df-convert {\n",
              "      background-color: #3B4455;\n",
              "      fill: #D2E3FC;\n",
              "    }\n",
              "\n",
              "    [theme=dark] .colab-df-convert:hover {\n",
              "      background-color: #434B5C;\n",
              "      box-shadow: 0px 1px 3px 1px rgba(0, 0, 0, 0.15);\n",
              "      filter: drop-shadow(0px 1px 2px rgba(0, 0, 0, 0.3));\n",
              "      fill: #FFFFFF;\n",
              "    }\n",
              "  </style>\n",
              "\n",
              "      <script>\n",
              "        const buttonEl =\n",
              "          document.querySelector('#df-4310da00-9dd9-4ad6-8280-3222a7ee50af button.colab-df-convert');\n",
              "        buttonEl.style.display =\n",
              "          google.colab.kernel.accessAllowed ? 'block' : 'none';\n",
              "\n",
              "        async function convertToInteractive(key) {\n",
              "          const element = document.querySelector('#df-4310da00-9dd9-4ad6-8280-3222a7ee50af');\n",
              "          const dataTable =\n",
              "            await google.colab.kernel.invokeFunction('convertToInteractive',\n",
              "                                                     [key], {});\n",
              "          if (!dataTable) return;\n",
              "\n",
              "          const docLinkHtml = 'Like what you see? Visit the ' +\n",
              "            '<a target=\"_blank\" href=https://colab.research.google.com/notebooks/data_table.ipynb>data table notebook</a>'\n",
              "            + ' to learn more about interactive tables.';\n",
              "          element.innerHTML = '';\n",
              "          dataTable['output_type'] = 'display_data';\n",
              "          await google.colab.output.renderOutput(dataTable, element);\n",
              "          const docLink = document.createElement('div');\n",
              "          docLink.innerHTML = docLinkHtml;\n",
              "          element.appendChild(docLink);\n",
              "        }\n",
              "      </script>\n",
              "    </div>\n",
              "  </div>\n",
              "  "
            ]
          },
          "metadata": {},
          "execution_count": 2
        }
      ],
      "source": [
        "df = pd.read_csv('/content/Reviews.csv')\n",
        "df = df.head(5000)\n",
        "df.head()"
      ],
      "id": "fc2dc1db"
    },
    {
      "cell_type": "code",
      "execution_count": null,
      "metadata": {
        "colab": {
          "base_uri": "https://localhost:8080/"
        },
        "id": "c29d120b",
        "outputId": "756b130b-1f19-4454-a8c0-0ff223bc86e0"
      },
      "outputs": [
        {
          "output_type": "execute_result",
          "data": {
            "text/plain": [
              "(5000, 10)"
            ]
          },
          "metadata": {},
          "execution_count": 3
        }
      ],
      "source": [
        "df.shape"
      ],
      "id": "c29d120b"
    },
    {
      "cell_type": "code",
      "execution_count": null,
      "metadata": {
        "colab": {
          "base_uri": "https://localhost:8080/",
          "height": 310
        },
        "id": "385a0bd5",
        "outputId": "70d96e7f-0b32-4ade-a1ef-b3b3a410bfd8"
      },
      "outputs": [
        {
          "output_type": "display_data",
          "data": {
            "text/plain": [
              "<Figure size 720x504 with 1 Axes>"
            ],
            "image/png": "[encoded data removed]"
          },
          "metadata": {
            "needs_background": "light"
          }
        }
      ],
      "source": [
        "from wordcloud import STOPWORDS\n",
        "all_text = \" \".join(df.Text)\n",
        "word_cloud = WordCloud(collocations = False, background_color = 'white', max_words=100, stopwords=['br']+list(STOPWORDS)).generate(all_text)\n",
        "plt.figure(figsize=(10,7))\n",
        "plt.imshow(word_cloud, interpolation='bilinear')\n",
        "plt.axis(\"off\")\n",
        "plt.show()"
      ],
      "id": "385a0bd5"
    },
    {
      "cell_type": "code",
      "execution_count": null,
      "metadata": {
        "colab": {
          "base_uri": "https://localhost:8080/",
          "height": 350
        },
        "id": "ec0fce94",
        "outputId": "99139c84-c75a-49bf-d998-64f90b5fa908"
      },
      "outputs": [
        {
          "output_type": "display_data",
          "data": {
            "text/plain": [
              "<Figure size 504x360 with 1 Axes>"
            ],
            "image/png": "[encoded data removed]"
          },
          "metadata": {
            "needs_background": "light"
          }
        }
      ],
      "source": [
        "# EDA\n",
        "ax = df['Score'].value_counts().sort_index().plot(\n",
        "    kind='bar', title='Count of Reviews by Stars', figsize=(7,5)\n",
        ")\n",
        "ax.set_xlabel('Review Stars')\n",
        "plt.xticks(rotation=0)\n",
        "plt.show()"
      ],
      "id": "ec0fce94"
    },
    {
      "cell_type": "code",
      "execution_count": null,
      "metadata": {
        "colab": {
          "base_uri": "https://localhost:8080/"
        },
        "id": "493efc3e",
        "outputId": "8fb340ec-5d36-4508-d12e-ed25cae8e4c8"
      },
      "outputs": [
        {
          "output_type": "execute_result",
          "data": {
            "text/plain": [
              "0"
            ]
          },
          "metadata": {},
          "execution_count": 6
        }
      ],
      "source": [
        "df['Text'].isna().sum()"
      ],
      "id": "493efc3e"
    },
    {
      "cell_type": "code",
      "execution_count": null,
      "metadata": {
        "colab": {
          "base_uri": "https://localhost:8080/",
          "height": 634
        },
        "id": "W88dX1Lieqr5",
        "outputId": "c769652e-6a88-40f2-fb84-b11671132ad9"
      },
      "outputs": [
        {
          "output_type": "execute_result",
          "data": {
            "text/plain": [
              "   Id   ProductId          UserId       ProfileName  HelpfulnessNumerator  \\\n",
              "0   0  B0009P68JI  A2RKR9HDFZSWZE  Charles R. Runzo                     3   \n",
              "1   1  B002X9JNYU   AVPSSODZIDABZ         HELfromBL                     1   \n",
              "2   2  B000B9SFP2   A1I4NHYX40MFD         C. Keeney                     3   \n",
              "3   3  B001L8DOFI  A1C8X2JEK3K1D4          MattBull                     1   \n",
              "4   4  B004WJAUBE  A2DYZJ8D7QD1KE              Debs                     0   \n",
              "\n",
              "   HelpfulnessDenominator  Score        Time  \\\n",
              "0                       3      5  1249257600   \n",
              "1                       3      1  1323388800   \n",
              "2                       3      3  1310428800   \n",
              "3                       1      5  1338681600   \n",
              "4                       0      2  1327536000   \n",
              "\n",
              "                                    Summary  \\\n",
              "0                 MC CORMICKS ALFREDO SAUCE   \n",
              "1                      what quantity is it!   \n",
              "2      Easy and portable...but a few issues   \n",
              "3                       Above user is wrong   \n",
              "4  City Steam, not much steam in this brew.   \n",
              "\n",
              "                                                Text  \n",
              "0  THANKS TO AMAZON FOR CARRYING THIS WONDERFUL P...  \n",
              "1  I wouldn't even think of buying this product u...  \n",
              "2  Although I think this pen is great...I didn't ...  \n",
              "3  Wagyu beef is a kobe beef Japanese cow crossbr...  \n",
              "4  My husband and I were very disappointed in thi...  "
            ],
            "text/html": [
              "\n",
              "  <div id=\"df-2741fe11-074a-4a48-88ad-551ae51cdac3\">\n",
              "    <div class=\"colab-df-container\">\n",
              "      <div>\n",
              "<style scoped>\n",
              "    .dataframe tbody tr th:only-of-type {\n",
              "        vertical-align: middle;\n",
              "    }\n",
              "\n",
              "    .dataframe tbody tr th {\n",
              "        vertical-align: top;\n",
              "    }\n",
              "\n",
              "    .dataframe thead th {\n",
              "        text-align: right;\n",
              "    }\n",
              "</style>\n",
              "<table border=\"1\" class=\"dataframe\">\n",
              "  <thead>\n",
              "    <tr style=\"text-align: right;\">\n",
              "      <th></th>\n",
              "      <th>Id</th>\n",
              "      <th>ProductId</th>\n",
              "      <th>UserId</th>\n",
              "      <th>ProfileName</th>\n",
              "      <th>HelpfulnessNumerator</th>\n",
              "      <th>HelpfulnessDenominator</th>\n",
              "      <th>Score</th>\n",
              "      <th>Time</th>\n",
              "      <th>Summary</th>\n",
              "      <th>Text</th>\n",
              "    </tr>\n",
              "  </thead>\n",
              "  <tbody>\n",
              "    <tr>\n",
              "      <th>0</th>\n",
              "      <td>0</td>\n",
              "      <td>B0009P68JI</td>\n",
              "      <td>A2RKR9HDFZSWZE</td>\n",
              "      <td>Charles R. Runzo</td>\n",
              "      <td>3</td>\n",
              "      <td>3</td>\n",
              "      <td>5</td>\n",
              "      <td>1249257600</td>\n",
              "      <td>MC CORMICKS ALFREDO SAUCE</td>\n",
              "      <td>THANKS TO AMAZON FOR CARRYING THIS WONDERFUL P...</td>\n",
              "    </tr>\n",
              "    <tr>\n",
              "      <th>1</th>\n",
              "      <td>1</td>\n",
              "      <td>B002X9JNYU</td>\n",
              "      <td>AVPSSODZIDABZ</td>\n",
              "      <td>HELfromBL</td>\n",
              "      <td>1</td>\n",
              "      <td>3</td>\n",
              "      <td>1</td>\n",
              "      <td>1323388800</td>\n",
              "      <td>what quantity is it!</td>\n",
              "      <td>I wouldn't even think of buying this product u...</td>\n",
              "    </tr>\n",
              "    <tr>\n",
              "      <th>2</th>\n",
              "      <td>2</td>\n",
              "      <td>B000B9SFP2</td>\n",
              "      <td>A1I4NHYX40MFD</td>\n",
              "      <td>C. Keeney</td>\n",
              "      <td>3</td>\n",
              "      <td>3</td>\n",
              "      <td>3</td>\n",
              "      <td>1310428800</td>\n",
              "      <td>Easy and portable...but a few issues</td>\n",
              "      <td>Although I think this pen is great...I didn't ...</td>\n",
              "    </tr>\n",
              "    <tr>\n",
              "      <th>3</th>\n",
              "      <td>3</td>\n",
              "      <td>B001L8DOFI</td>\n",
              "      <td>A1C8X2JEK3K1D4</td>\n",
              "      <td>MattBull</td>\n",
              "      <td>1</td>\n",
              "      <td>1</td>\n",
              "      <td>5</td>\n",
              "      <td>1338681600</td>\n",
              "      <td>Above user is wrong</td>\n",
              "      <td>Wagyu beef is a kobe beef Japanese cow crossbr...</td>\n",
              "    </tr>\n",
              "    <tr>\n",
              "      <th>4</th>\n",
              "      <td>4</td>\n",
              "      <td>B004WJAUBE</td>\n",
              "      <td>A2DYZJ8D7QD1KE</td>\n",
              "      <td>Debs</td>\n",
              "      <td>0</td>\n",
              "      <td>0</td>\n",
              "      <td>2</td>\n",
              "      <td>1327536000</td>\n",
              "      <td>City Steam, not much steam in this brew.</td>\n",
              "      <td>My husband and I were very disappointed in thi...</td>\n",
              "    </tr>\n",
              "  </tbody>\n",
              "</table>\n",
              "</div>\n",
              "      <button class=\"colab-df-convert\" onclick=\"convertToInteractive('df-2741fe11-074a-4a48-88ad-551ae51cdac3')\"\n",
              "              title=\"Convert this dataframe to an interactive table.\"\n",
              "              style=\"display:none;\">\n",
              "        \n",
              "  <svg xmlns=\"http://www.w3.org/2000/svg\" height=\"24px\"viewBox=\"0 0 24 24\"\n",
              "       width=\"24px\">\n",
              "    <path d=\"M0 0h24v24H0V0z\" fill=\"none\"/>\n",
              "    <path d=\"M18.56 5.44l.94 2.06.94-2.06 2.06-.94-2.06-.94-.94-2.06-.94 2.06-2.06.94zm-11 1L8.5 8.5l.94-2.06 2.06-.94-2.06-.94L8.5 2.5l-.94 2.06-2.06.94zm10 10l.94 2.06.94-2.06 2.06-.94-2.06-.94-.94-2.06-.94 2.06-2.06.94z\"/><path d=\"M17.41 7.96l-1.37-1.37c-.4-.4-.92-.59-1.43-.59-.52 0-1.04.2-1.43.59L10.3 9.45l-7.72 7.72c-.78.78-.78 2.05 0 2.83L4 21.41c.39.39.9.59 1.41.59.51 0 1.02-.2 1.41-.59l7.78-7.78 2.81-2.81c.8-.78.8-2.07 0-2.86zM5.41 20L4 18.59l7.72-7.72 1.47 1.35L5.41 20z\"/>\n",
              "  </svg>\n",
              "      </button>\n",
              "      \n",
              "  <style>\n",
              "    .colab-df-container {\n",
              "      display:flex;\n",
              "      flex-wrap:wrap;\n",
              "      gap: 12px;\n",
              "    }\n",
              "\n",
              "    .colab-df-convert {\n",
              "      background-color: #E8F0FE;\n",
              "      border: none;\n",
              "      border-radius: 50%;\n",
              "      cursor: pointer;\n",
              "      display: none;\n",
              "      fill: #1967D2;\n",
              "      height: 32px;\n",
              "      padding: 0 0 0 0;\n",
              "      width: 32px;\n",
              "    }\n",
              "\n",
              "    .colab-df-convert:hover {\n",
              "      background-color: #E2EBFA;\n",
              "      box-shadow: 0px 1px 2px rgba(60, 64, 67, 0.3), 0px 1px 3px 1px rgba(60, 64, 67, 0.15);\n",
              "      fill: #174EA6;\n",
              "    }\n",
              "\n",
              "    [theme=dark] .colab-df-convert {\n",
              "      background-color: #3B4455;\n",
              "      fill: #D2E3FC;\n",
              "    }\n",
              "\n",
              "    [theme=dark] .colab-df-convert:hover {\n",
              "      background-color: #434B5C;\n",
              "      box-shadow: 0px 1px 3px 1px rgba(0, 0, 0, 0.15);\n",
              "      filter: drop-shadow(0px 1px 2px rgba(0, 0, 0, 0.3));\n",
              "      fill: #FFFFFF;\n",
              "    }\n",
              "  </style>\n",
              "\n",
              "      <script>\n",
              "        const buttonEl =\n",
              "          document.querySelector('#df-2741fe11-074a-4a48-88ad-551ae51cdac3 button.colab-df-convert');\n",
              "        buttonEl.style.display =\n",
              "          google.colab.kernel.accessAllowed ? 'block' : 'none';\n",
              "\n",
              "        async function convertToInteractive(key) {\n",
              "          const element = document.querySelector('#df-2741fe11-074a-4a48-88ad-551ae51cdac3');\n",
              "          const dataTable =\n",
              "            await google.colab.kernel.invokeFunction('convertToInteractive',\n",
              "                                                     [key], {});\n",
              "          if (!dataTable) return;\n",
              "\n",
              "          const docLinkHtml = 'Like what you see? Visit the ' +\n",
              "            '<a target=\"_blank\" href=https://colab.research.google.com/notebooks/data_table.ipynb>data table notebook</a>'\n",
              "            + ' to learn more about interactive tables.';\n",
              "          element.innerHTML = '';\n",
              "          dataTable['output_type'] = 'display_data';\n",
              "          await google.colab.output.renderOutput(dataTable, element);\n",
              "          const docLink = document.createElement('div');\n",
              "          docLink.innerHTML = docLinkHtml;\n",
              "          element.appendChild(docLink);\n",
              "        }\n",
              "      </script>\n",
              "    </div>\n",
              "  </div>\n",
              "  "
            ]
          },
          "metadata": {},
          "execution_count": 7
        }
      ],
      "source": [
        "# How many 5 stars! Drop some 5 star rows!\n",
        "df = df.sample(frac=1)\n",
        "df_before = df.loc[(df['Score']!=5) & (df['Id']<3700),]\n",
        "df_after = df.loc[df['Id']>=3700,]\n",
        "df = pd.concat([df_before, df_after])\n",
        "df = df.sample(frac=1)\n",
        "df['Id'] = np.arange(0, len(df))\n",
        "df = df.reset_index()\n",
        "df = df.drop(columns=['index'])\n",
        "df.head(5)"
      ],
      "id": "W88dX1Lieqr5"
    },
    {
      "cell_type": "code",
      "execution_count": null,
      "metadata": {
        "colab": {
          "base_uri": "https://localhost:8080/"
        },
        "id": "b3r8T-WxsU59",
        "outputId": "02e0c4cc-ea9d-4de5-a516-48fda25bc147"
      },
      "outputs": [
        {
          "output_type": "execute_result",
          "data": {
            "text/plain": [
              "(2682, 10)"
            ]
          },
          "metadata": {},
          "execution_count": 8
        }
      ],
      "source": [
        "df.shape"
      ],
      "id": "b3r8T-WxsU59"
    },
    {
      "cell_type": "code",
      "execution_count": null,
      "metadata": {
        "colab": {
          "base_uri": "https://localhost:8080/",
          "height": 350
        },
        "id": "mb4_nlg3qqXD",
        "outputId": "2df9a854-26db-4240-dd6e-deceb24a1833"
      },
      "outputs": [
        {
          "output_type": "display_data",
          "data": {
            "text/plain": [
              "<Figure size 504x360 with 1 Axes>"
            ],
            "image/png": "[encoded data removed]"
          },
          "metadata": {
            "needs_background": "light"
          }
        }
      ],
      "source": [
        "ax = df['Score'].value_counts().sort_index().plot(\n",
        "    kind='bar', title='Count of Reviews by Stars', figsize=(7,5)\n",
        ")\n",
        "ax.set_xlabel('Review Stars')\n",
        "plt.xticks(rotation=0)\n",
        "plt.show()"
      ],
      "id": "mb4_nlg3qqXD"
    },
    {
      "cell_type": "code",
      "execution_count": null,
      "metadata": {
        "colab": {
          "base_uri": "https://localhost:8080/"
        },
        "id": "f6375413",
        "outputId": "8bc4f0e9-a3e1-4886-fba0-e6f3e6b087c1"
      },
      "outputs": [
        {
          "output_type": "stream",
          "name": "stderr",
          "text": [
            "[nltk_data] Downloading package punkt to /root/nltk_data...\n",
            "[nltk_data]   Unzipping tokenizers/punkt.zip.\n"
          ]
        },
        {
          "output_type": "execute_result",
          "data": {
            "text/plain": [
              "['I',\n",
              " 'have',\n",
              " 'had',\n",
              " 'the',\n",
              " 'regular',\n",
              " 'Donut',\n",
              " 'House',\n",
              " 'coffee',\n",
              " 'before',\n",
              " 'and',\n",
              " 'enjoyed',\n",
              " 'it',\n",
              " ',',\n",
              " 'but',\n",
              " 'I',\n",
              " 'had',\n",
              " 'never',\n",
              " 'had',\n",
              " 'the',\n",
              " 'flavored',\n",
              " 'kind',\n",
              " '.',\n",
              " 'I',\n",
              " 'was',\n",
              " 'looking',\n",
              " 'for',\n",
              " 'a',\n",
              " 'sampler',\n",
              " 'pack',\n",
              " 'to',\n",
              " 'so',\n",
              " 'my',\n",
              " 'roommate',\n",
              " 'and',\n",
              " 'I',\n",
              " 'could',\n",
              " 'try',\n",
              " 'the',\n",
              " 'flavors',\n",
              " 'as',\n",
              " 'well',\n",
              " 'as',\n",
              " 'get',\n",
              " 'some',\n",
              " 'of',\n",
              " 'the',\n",
              " 'regular',\n",
              " 'stuff',\n",
              " '.',\n",
              " 'I',\n",
              " 'do',\n",
              " \"n't\",\n",
              " 'drink',\n",
              " 'decaf',\n",
              " ',',\n",
              " 'so',\n",
              " 'I',\n",
              " 'knew',\n",
              " 'that',\n",
              " 'some',\n",
              " 'of',\n",
              " 'this',\n",
              " 'pack',\n",
              " 'would',\n",
              " 'not',\n",
              " 'be',\n",
              " 'used',\n",
              " '.',\n",
              " 'I',\n",
              " 'figured',\n",
              " 'that',\n",
              " 'the',\n",
              " 'rest',\n",
              " 'of',\n",
              " 'the',\n",
              " 'cups',\n",
              " 'would',\n",
              " 'make',\n",
              " 'up',\n",
              " 'for',\n",
              " 'the',\n",
              " 'loss',\n",
              " 'on',\n",
              " 'the',\n",
              " 'decaf',\n",
              " '.',\n",
              " 'I',\n",
              " 'was',\n",
              " 'wrong',\n",
              " '.',\n",
              " 'This',\n",
              " '``',\n",
              " 'Sampler',\n",
              " \"''\",\n",
              " 'pack',\n",
              " 'was',\n",
              " 'a',\n",
              " 'joke',\n",
              " '.',\n",
              " '18',\n",
              " 'of',\n",
              " 'the',\n",
              " 'cups',\n",
              " 'were',\n",
              " 'decaf',\n",
              " ',',\n",
              " 'and',\n",
              " '15',\n",
              " 'of',\n",
              " 'them',\n",
              " 'were',\n",
              " 'the',\n",
              " 'standard',\n",
              " 'house',\n",
              " 'brew',\n",
              " '.',\n",
              " 'I',\n",
              " 'got',\n",
              " '1',\n",
              " 'cup',\n",
              " 'of',\n",
              " 'Chocolate',\n",
              " 'Glazed',\n",
              " 'Donut',\n",
              " 'and',\n",
              " '1',\n",
              " 'cup',\n",
              " 'of',\n",
              " 'Cinnamon',\n",
              " 'Roll',\n",
              " '.',\n",
              " 'Now',\n",
              " ',',\n",
              " 'I',\n",
              " 'will',\n",
              " 'not',\n",
              " 'be',\n",
              " 'using',\n",
              " 'most',\n",
              " 'of',\n",
              " 'the',\n",
              " 'K-cups',\n",
              " 'in',\n",
              " 'this',\n",
              " 'package',\n",
              " 'because',\n",
              " 'it',\n",
              " 'was',\n",
              " ',',\n",
              " 'again',\n",
              " ',',\n",
              " 'MOSTLY',\n",
              " 'DECAF',\n",
              " '!',\n",
              " '!',\n",
              " '!',\n",
              " '!',\n",
              " '!',\n",
              " 'This',\n",
              " 'is',\n",
              " 'what',\n",
              " 'they',\n",
              " 'consider',\n",
              " 'a',\n",
              " 'sample',\n",
              " 'pack',\n",
              " ':',\n",
              " '<',\n",
              " 'br',\n",
              " '/',\n",
              " '>',\n",
              " '<',\n",
              " 'br',\n",
              " '/',\n",
              " '>',\n",
              " '8',\n",
              " 'Donut',\n",
              " 'House',\n",
              " 'Regular',\n",
              " '<',\n",
              " 'br',\n",
              " '/',\n",
              " '>',\n",
              " '9',\n",
              " 'Donut',\n",
              " 'House',\n",
              " 'Decaf',\n",
              " '<',\n",
              " 'br',\n",
              " '/',\n",
              " '>',\n",
              " '7',\n",
              " 'Donut',\n",
              " 'Shop',\n",
              " 'Regular',\n",
              " '<',\n",
              " 'br',\n",
              " '/',\n",
              " '>',\n",
              " '9',\n",
              " 'Donut',\n",
              " 'Shop',\n",
              " 'Decaf',\n",
              " '<',\n",
              " 'br',\n",
              " '/',\n",
              " '>',\n",
              " '1',\n",
              " 'Donut',\n",
              " 'House',\n",
              " 'Chocolate',\n",
              " 'Glazed',\n",
              " 'Donut',\n",
              " '<',\n",
              " 'br',\n",
              " '/',\n",
              " '>',\n",
              " '1',\n",
              " 'Donut',\n",
              " 'House',\n",
              " 'Cinnamon',\n",
              " 'Roll',\n",
              " '<',\n",
              " 'br',\n",
              " '/',\n",
              " '>',\n",
              " '<',\n",
              " 'br',\n",
              " '/',\n",
              " '>',\n",
              " 'Some',\n",
              " 'sample',\n",
              " '.....']"
            ]
          },
          "metadata": {},
          "execution_count": 10
        }
      ],
      "source": [
        "# Basic NLTK\n",
        "nltk.download('punkt')\n",
        "example = df['Text'][50]\n",
        "ex_tk = nltk.word_tokenize(example)\n",
        "ex_tk"
      ],
      "id": "f6375413"
    },
    {
      "cell_type": "code",
      "execution_count": null,
      "metadata": {
        "colab": {
          "base_uri": "https://localhost:8080/"
        },
        "id": "f3e8875b",
        "outputId": "f488bddc-1e45-433f-c7f1-96e963df5218"
      },
      "outputs": [
        {
          "output_type": "stream",
          "name": "stderr",
          "text": [
            "[nltk_data] Downloading package averaged_perceptron_tagger to\n",
            "[nltk_data]     /root/nltk_data...\n",
            "[nltk_data]   Unzipping taggers/averaged_perceptron_tagger.zip.\n"
          ]
        },
        {
          "output_type": "execute_result",
          "data": {
            "text/plain": [
              "[('I', 'PRP'),\n",
              " ('have', 'VBP'),\n",
              " ('had', 'VBD'),\n",
              " ('the', 'DT'),\n",
              " ('regular', 'JJ'),\n",
              " ('Donut', 'NNP'),\n",
              " ('House', 'NNP'),\n",
              " ('coffee', 'NN'),\n",
              " ('before', 'IN'),\n",
              " ('and', 'CC'),\n",
              " ('enjoyed', 'VBD'),\n",
              " ('it', 'PRP'),\n",
              " (',', ','),\n",
              " ('but', 'CC'),\n",
              " ('I', 'PRP'),\n",
              " ('had', 'VBD'),\n",
              " ('never', 'RB'),\n",
              " ('had', 'VBD'),\n",
              " ('the', 'DT'),\n",
              " ('flavored', 'VBN'),\n",
              " ('kind', 'NN'),\n",
              " ('.', '.'),\n",
              " ('I', 'PRP'),\n",
              " ('was', 'VBD'),\n",
              " ('looking', 'VBG'),\n",
              " ('for', 'IN'),\n",
              " ('a', 'DT'),\n",
              " ('sampler', 'NN'),\n",
              " ('pack', 'NN'),\n",
              " ('to', 'TO'),\n",
              " ('so', 'VB'),\n",
              " ('my', 'PRP$'),\n",
              " ('roommate', 'NN'),\n",
              " ('and', 'CC'),\n",
              " ('I', 'PRP'),\n",
              " ('could', 'MD'),\n",
              " ('try', 'VB'),\n",
              " ('the', 'DT'),\n",
              " ('flavors', 'NNS'),\n",
              " ('as', 'RB'),\n",
              " ('well', 'RB'),\n",
              " ('as', 'IN'),\n",
              " ('get', 'VB'),\n",
              " ('some', 'DT'),\n",
              " ('of', 'IN'),\n",
              " ('the', 'DT'),\n",
              " ('regular', 'JJ'),\n",
              " ('stuff', 'NN'),\n",
              " ('.', '.'),\n",
              " ('I', 'PRP'),\n",
              " ('do', 'VBP'),\n",
              " (\"n't\", 'RB'),\n",
              " ('drink', 'VB'),\n",
              " ('decaf', 'NN'),\n",
              " (',', ','),\n",
              " ('so', 'IN'),\n",
              " ('I', 'PRP'),\n",
              " ('knew', 'VBD'),\n",
              " ('that', 'IN'),\n",
              " ('some', 'DT'),\n",
              " ('of', 'IN'),\n",
              " ('this', 'DT'),\n",
              " ('pack', 'NN'),\n",
              " ('would', 'MD'),\n",
              " ('not', 'RB'),\n",
              " ('be', 'VB'),\n",
              " ('used', 'VBN'),\n",
              " ('.', '.'),\n",
              " ('I', 'PRP'),\n",
              " ('figured', 'VBD'),\n",
              " ('that', 'IN'),\n",
              " ('the', 'DT'),\n",
              " ('rest', 'NN'),\n",
              " ('of', 'IN'),\n",
              " ('the', 'DT'),\n",
              " ('cups', 'NNS'),\n",
              " ('would', 'MD'),\n",
              " ('make', 'VB'),\n",
              " ('up', 'RP'),\n",
              " ('for', 'IN'),\n",
              " ('the', 'DT'),\n",
              " ('loss', 'NN'),\n",
              " ('on', 'IN'),\n",
              " ('the', 'DT'),\n",
              " ('decaf', 'NN'),\n",
              " ('.', '.'),\n",
              " ('I', 'PRP'),\n",
              " ('was', 'VBD'),\n",
              " ('wrong', 'RB'),\n",
              " ('.', '.'),\n",
              " ('This', 'DT'),\n",
              " ('``', '``'),\n",
              " ('Sampler', 'NNP'),\n",
              " (\"''\", \"''\"),\n",
              " ('pack', 'NN'),\n",
              " ('was', 'VBD'),\n",
              " ('a', 'DT'),\n",
              " ('joke', 'NN'),\n",
              " ('.', '.'),\n",
              " ('18', 'CD'),\n",
              " ('of', 'IN'),\n",
              " ('the', 'DT'),\n",
              " ('cups', 'NNS'),\n",
              " ('were', 'VBD'),\n",
              " ('decaf', 'JJ'),\n",
              " (',', ','),\n",
              " ('and', 'CC'),\n",
              " ('15', 'CD'),\n",
              " ('of', 'IN'),\n",
              " ('them', 'PRP'),\n",
              " ('were', 'VBD'),\n",
              " ('the', 'DT'),\n",
              " ('standard', 'JJ'),\n",
              " ('house', 'NN'),\n",
              " ('brew', 'NN'),\n",
              " ('.', '.'),\n",
              " ('I', 'PRP'),\n",
              " ('got', 'VBD'),\n",
              " ('1', 'CD'),\n",
              " ('cup', 'NN'),\n",
              " ('of', 'IN'),\n",
              " ('Chocolate', 'NNP'),\n",
              " ('Glazed', 'NNP'),\n",
              " ('Donut', 'NNP'),\n",
              " ('and', 'CC'),\n",
              " ('1', 'CD'),\n",
              " ('cup', 'NN'),\n",
              " ('of', 'IN'),\n",
              " ('Cinnamon', 'NNP'),\n",
              " ('Roll', 'NNP'),\n",
              " ('.', '.'),\n",
              " ('Now', 'RB'),\n",
              " (',', ','),\n",
              " ('I', 'PRP'),\n",
              " ('will', 'MD'),\n",
              " ('not', 'RB'),\n",
              " ('be', 'VB'),\n",
              " ('using', 'VBG'),\n",
              " ('most', 'JJS'),\n",
              " ('of', 'IN'),\n",
              " ('the', 'DT'),\n",
              " ('K-cups', 'NNP'),\n",
              " ('in', 'IN'),\n",
              " ('this', 'DT'),\n",
              " ('package', 'NN'),\n",
              " ('because', 'IN'),\n",
              " ('it', 'PRP'),\n",
              " ('was', 'VBD'),\n",
              " (',', ','),\n",
              " ('again', 'RB'),\n",
              " (',', ','),\n",
              " ('MOSTLY', 'NNP'),\n",
              " ('DECAF', 'NNP'),\n",
              " ('!', '.'),\n",
              " ('!', '.'),\n",
              " ('!', '.'),\n",
              " ('!', '.'),\n",
              " ('!', '.'),\n",
              " ('This', 'DT'),\n",
              " ('is', 'VBZ'),\n",
              " ('what', 'WP'),\n",
              " ('they', 'PRP'),\n",
              " ('consider', 'VBP'),\n",
              " ('a', 'DT'),\n",
              " ('sample', 'NN'),\n",
              " ('pack', 'NN'),\n",
              " (':', ':'),\n",
              " ('<', 'JJ'),\n",
              " ('br', 'NN'),\n",
              " ('/', 'NNP'),\n",
              " ('>', 'NNP'),\n",
              " ('<', 'NNP'),\n",
              " ('br', 'NN'),\n",
              " ('/', 'NNP'),\n",
              " ('>', 'VBZ'),\n",
              " ('8', 'CD'),\n",
              " ('Donut', 'NNP'),\n",
              " ('House', 'NNP'),\n",
              " ('Regular', 'NNP'),\n",
              " ('<', 'NNP'),\n",
              " ('br', 'NN'),\n",
              " ('/', 'NNP'),\n",
              " ('>', 'VBZ'),\n",
              " ('9', 'CD'),\n",
              " ('Donut', 'NNP'),\n",
              " ('House', 'NNP'),\n",
              " ('Decaf', 'NNP'),\n",
              " ('<', 'NNP'),\n",
              " ('br', 'NN'),\n",
              " ('/', 'NNP'),\n",
              " ('>', 'VBZ'),\n",
              " ('7', 'CD'),\n",
              " ('Donut', 'NNP'),\n",
              " ('Shop', 'NNP'),\n",
              " ('Regular', 'NNP'),\n",
              " ('<', 'NNP'),\n",
              " ('br', 'NN'),\n",
              " ('/', 'NNP'),\n",
              " ('>', 'VBZ'),\n",
              " ('9', 'CD'),\n",
              " ('Donut', 'NNP'),\n",
              " ('Shop', 'NNP'),\n",
              " ('Decaf', 'NNP'),\n",
              " ('<', 'NNP'),\n",
              " ('br', 'NN'),\n",
              " ('/', 'NNP'),\n",
              " ('>', 'VBZ'),\n",
              " ('1', 'CD'),\n",
              " ('Donut', 'NNP'),\n",
              " ('House', 'NNP'),\n",
              " ('Chocolate', 'NNP'),\n",
              " ('Glazed', 'NNP'),\n",
              " ('Donut', 'NNP'),\n",
              " ('<', 'NNP'),\n",
              " ('br', 'NN'),\n",
              " ('/', 'NNP'),\n",
              " ('>', 'VBZ'),\n",
              " ('1', 'CD'),\n",
              " ('Donut', 'NNP'),\n",
              " ('House', 'NNP'),\n",
              " ('Cinnamon', 'NNP'),\n",
              " ('Roll', 'NNP'),\n",
              " ('<', 'NNP'),\n",
              " ('br', 'NN'),\n",
              " ('/', 'NNP'),\n",
              " ('>', 'NNP'),\n",
              " ('<', 'NNP'),\n",
              " ('br', 'NN'),\n",
              " ('/', 'NNP'),\n",
              " ('>', 'NNP'),\n",
              " ('Some', 'DT'),\n",
              " ('sample', 'NN'),\n",
              " ('.....', 'VBP')]"
            ]
          },
          "metadata": {},
          "execution_count": 11
        }
      ],
      "source": [
        "nltk.download('averaged_perceptron_tagger')\n",
        "nltk.pos_tag(ex_tk)"
      ],
      "id": "f3e8875b"
    },
    {
      "cell_type": "code",
      "execution_count": null,
      "metadata": {
        "id": "71638183"
      },
      "outputs": [],
      "source": [
        "# VADER\n",
        "from nltk.sentiment import SentimentIntensityAnalyzer\n",
        "from tqdm import tqdm"
      ],
      "id": "71638183"
    },
    {
      "cell_type": "code",
      "execution_count": null,
      "metadata": {
        "colab": {
          "base_uri": "https://localhost:8080/"
        },
        "id": "bbb5adbd",
        "outputId": "b601152c-6aee-4af2-a949-4d24f008e930"
      },
      "outputs": [
        {
          "output_type": "stream",
          "name": "stderr",
          "text": [
            "[nltk_data] Downloading package vader_lexicon to /root/nltk_data...\n"
          ]
        },
        {
          "output_type": "execute_result",
          "data": {
            "text/plain": [
              "{'neg': 0.041, 'neu': 0.883, 'pos': 0.077, 'compound': 0.7405}"
            ]
          },
          "metadata": {},
          "execution_count": 13
        }
      ],
      "source": [
        "nltk.download('vader_lexicon')\n",
        "my_sia = SentimentIntensityAnalyzer()\n",
        "my_sia.polarity_scores(df['Text'][50])"
      ],
      "id": "bbb5adbd"
    },
    {
      "cell_type": "code",
      "execution_count": null,
      "metadata": {
        "colab": {
          "base_uri": "https://localhost:8080/"
        },
        "id": "ea05fd95",
        "outputId": "181a4b37-2854-4041-933e-b6197424e2cd"
      },
      "outputs": [
        {
          "output_type": "stream",
          "name": "stderr",
          "text": [
            "100%|██████████| 2682/2682 [00:02<00:00, 1034.55it/s]\n"
          ]
        }
      ],
      "source": [
        "result = {}\n",
        "for i, row in tqdm(df.iterrows(), total=len(df)):\n",
        "    text = row['Text']\n",
        "    my_id = row['Id']\n",
        "    score = my_sia.polarity_scores(text)\n",
        "    result[my_id] = score"
      ],
      "id": "ea05fd95"
    },
    {
      "cell_type": "code",
      "execution_count": null,
      "metadata": {
        "colab": {
          "base_uri": "https://localhost:8080/",
          "height": 206
        },
        "id": "38170066",
        "outputId": "50e73951-b9ae-407c-9dc8-1bd5735ea5be"
      },
      "outputs": [
        {
          "output_type": "execute_result",
          "data": {
            "text/plain": [
              "     neg    neu    pos  compound\n",
              "0  0.020  0.718  0.262    0.9892\n",
              "1  0.000  1.000  0.000    0.0000\n",
              "2  0.049  0.871  0.080    0.9759\n",
              "3  0.000  0.778  0.222    0.7978\n",
              "4  0.354  0.566  0.079   -0.8067"
            ],
            "text/html": [
              "\n",
              "  <div id=\"df-a1feedf3-2695-4dcd-b548-52052c6bec32\">\n",
              "    <div class=\"colab-df-container\">\n",
              "      <div>\n",
              "<style scoped>\n",
              "    .dataframe tbody tr th:only-of-type {\n",
              "        vertical-align: middle;\n",
              "    }\n",
              "\n",
              "    .dataframe tbody tr th {\n",
              "        vertical-align: top;\n",
              "    }\n",
              "\n",
              "    .dataframe thead th {\n",
              "        text-align: right;\n",
              "    }\n",
              "</style>\n",
              "<table border=\"1\" class=\"dataframe\">\n",
              "  <thead>\n",
              "    <tr style=\"text-align: right;\">\n",
              "      <th></th>\n",
              "      <th>neg</th>\n",
              "      <th>neu</th>\n",
              "      <th>pos</th>\n",
              "      <th>compound</th>\n",
              "    </tr>\n",
              "  </thead>\n",
              "  <tbody>\n",
              "    <tr>\n",
              "      <th>0</th>\n",
              "      <td>0.020</td>\n",
              "      <td>0.718</td>\n",
              "      <td>0.262</td>\n",
              "      <td>0.9892</td>\n",
              "    </tr>\n",
              "    <tr>\n",
              "      <th>1</th>\n",
              "      <td>0.000</td>\n",
              "      <td>1.000</td>\n",
              "      <td>0.000</td>\n",
              "      <td>0.0000</td>\n",
              "    </tr>\n",
              "    <tr>\n",
              "      <th>2</th>\n",
              "      <td>0.049</td>\n",
              "      <td>0.871</td>\n",
              "      <td>0.080</td>\n",
              "      <td>0.9759</td>\n",
              "    </tr>\n",
              "    <tr>\n",
              "      <th>3</th>\n",
              "      <td>0.000</td>\n",
              "      <td>0.778</td>\n",
              "      <td>0.222</td>\n",
              "      <td>0.7978</td>\n",
              "    </tr>\n",
              "    <tr>\n",
              "      <th>4</th>\n",
              "      <td>0.354</td>\n",
              "      <td>0.566</td>\n",
              "      <td>0.079</td>\n",
              "      <td>-0.8067</td>\n",
              "    </tr>\n",
              "  </tbody>\n",
              "</table>\n",
              "</div>\n",
              "      <button class=\"colab-df-convert\" onclick=\"convertToInteractive('df-a1feedf3-2695-4dcd-b548-52052c6bec32')\"\n",
              "              title=\"Convert this dataframe to an interactive table.\"\n",
              "              style=\"display:none;\">\n",
              "        \n",
              "  <svg xmlns=\"http://www.w3.org/2000/svg\" height=\"24px\"viewBox=\"0 0 24 24\"\n",
              "       width=\"24px\">\n",
              "    <path d=\"M0 0h24v24H0V0z\" fill=\"none\"/>\n",
              "    <path d=\"M18.56 5.44l.94 2.06.94-2.06 2.06-.94-2.06-.94-.94-2.06-.94 2.06-2.06.94zm-11 1L8.5 8.5l.94-2.06 2.06-.94-2.06-.94L8.5 2.5l-.94 2.06-2.06.94zm10 10l.94 2.06.94-2.06 2.06-.94-2.06-.94-.94-2.06-.94 2.06-2.06.94z\"/><path d=\"M17.41 7.96l-1.37-1.37c-.4-.4-.92-.59-1.43-.59-.52 0-1.04.2-1.43.59L10.3 9.45l-7.72 7.72c-.78.78-.78 2.05 0 2.83L4 21.41c.39.39.9.59 1.41.59.51 0 1.02-.2 1.41-.59l7.78-7.78 2.81-2.81c.8-.78.8-2.07 0-2.86zM5.41 20L4 18.59l7.72-7.72 1.47 1.35L5.41 20z\"/>\n",
              "  </svg>\n",
              "      </button>\n",
              "      \n",
              "  <style>\n",
              "    .colab-df-container {\n",
              "      display:flex;\n",
              "      flex-wrap:wrap;\n",
              "      gap: 12px;\n",
              "    }\n",
              "\n",
              "    .colab-df-convert {\n",
              "      background-color: #E8F0FE;\n",
              "      border: none;\n",
              "      border-radius: 50%;\n",
              "      cursor: pointer;\n",
              "      display: none;\n",
              "      fill: #1967D2;\n",
              "      height: 32px;\n",
              "      padding: 0 0 0 0;\n",
              "      width: 32px;\n",
              "    }\n",
              "\n",
              "    .colab-df-convert:hover {\n",
              "      background-color: #E2EBFA;\n",
              "      box-shadow: 0px 1px 2px rgba(60, 64, 67, 0.3), 0px 1px 3px 1px rgba(60, 64, 67, 0.15);\n",
              "      fill: #174EA6;\n",
              "    }\n",
              "\n",
              "    [theme=dark] .colab-df-convert {\n",
              "      background-color: #3B4455;\n",
              "      fill: #D2E3FC;\n",
              "    }\n",
              "\n",
              "    [theme=dark] .colab-df-convert:hover {\n",
              "      background-color: #434B5C;\n",
              "      box-shadow: 0px 1px 3px 1px rgba(0, 0, 0, 0.15);\n",
              "      filter: drop-shadow(0px 1px 2px rgba(0, 0, 0, 0.3));\n",
              "      fill: #FFFFFF;\n",
              "    }\n",
              "  </style>\n",
              "\n",
              "      <script>\n",
              "        const buttonEl =\n",
              "          document.querySelector('#df-a1feedf3-2695-4dcd-b548-52052c6bec32 button.colab-df-convert');\n",
              "        buttonEl.style.display =\n",
              "          google.colab.kernel.accessAllowed ? 'block' : 'none';\n",
              "\n",
              "        async function convertToInteractive(key) {\n",
              "          const element = document.querySelector('#df-a1feedf3-2695-4dcd-b548-52052c6bec32');\n",
              "          const dataTable =\n",
              "            await google.colab.kernel.invokeFunction('convertToInteractive',\n",
              "                                                     [key], {});\n",
              "          if (!dataTable) return;\n",
              "\n",
              "          const docLinkHtml = 'Like what you see? Visit the ' +\n",
              "            '<a target=\"_blank\" href=https://colab.research.google.com/notebooks/data_table.ipynb>data table notebook</a>'\n",
              "            + ' to learn more about interactive tables.';\n",
              "          element.innerHTML = '';\n",
              "          dataTable['output_type'] = 'display_data';\n",
              "          await google.colab.output.renderOutput(dataTable, element);\n",
              "          const docLink = document.createElement('div');\n",
              "          docLink.innerHTML = docLinkHtml;\n",
              "          element.appendChild(docLink);\n",
              "        }\n",
              "      </script>\n",
              "    </div>\n",
              "  </div>\n",
              "  "
            ]
          },
          "metadata": {},
          "execution_count": 15
        }
      ],
      "source": [
        "result_df = pd.DataFrame(result).T\n",
        "result_df.head()"
      ],
      "id": "38170066"
    },
    {
      "cell_type": "code",
      "execution_count": null,
      "metadata": {
        "colab": {
          "base_uri": "https://localhost:8080/",
          "height": 634
        },
        "id": "642dc9f2",
        "outputId": "e11a0e1b-46fe-4c14-d285-d67685517379"
      },
      "outputs": [
        {
          "output_type": "execute_result",
          "data": {
            "text/plain": [
              "   Id    neg    neu    pos  compound   ProductId          UserId  \\\n",
              "0   0  0.020  0.718  0.262    0.9892  B0009P68JI  A2RKR9HDFZSWZE   \n",
              "1   1  0.000  1.000  0.000    0.0000  B002X9JNYU   AVPSSODZIDABZ   \n",
              "2   2  0.049  0.871  0.080    0.9759  B000B9SFP2   A1I4NHYX40MFD   \n",
              "3   3  0.000  0.778  0.222    0.7978  B001L8DOFI  A1C8X2JEK3K1D4   \n",
              "4   4  0.354  0.566  0.079   -0.8067  B004WJAUBE  A2DYZJ8D7QD1KE   \n",
              "\n",
              "        ProfileName  HelpfulnessNumerator  HelpfulnessDenominator  Score  \\\n",
              "0  Charles R. Runzo                     3                       3      5   \n",
              "1         HELfromBL                     1                       3      1   \n",
              "2         C. Keeney                     3                       3      3   \n",
              "3          MattBull                     1                       1      5   \n",
              "4              Debs                     0                       0      2   \n",
              "\n",
              "         Time                                   Summary  \\\n",
              "0  1249257600                 MC CORMICKS ALFREDO SAUCE   \n",
              "1  1323388800                      what quantity is it!   \n",
              "2  1310428800      Easy and portable...but a few issues   \n",
              "3  1338681600                       Above user is wrong   \n",
              "4  1327536000  City Steam, not much steam in this brew.   \n",
              "\n",
              "                                                Text  \n",
              "0  THANKS TO AMAZON FOR CARRYING THIS WONDERFUL P...  \n",
              "1  I wouldn't even think of buying this product u...  \n",
              "2  Although I think this pen is great...I didn't ...  \n",
              "3  Wagyu beef is a kobe beef Japanese cow crossbr...  \n",
              "4  My husband and I were very disappointed in thi...  "
            ],
            "text/html": [
              "\n",
              "  <div id=\"df-61baa316-e441-49be-a7e7-82c8cd9f55b8\">\n",
              "    <div class=\"colab-df-container\">\n",
              "      <div>\n",
              "<style scoped>\n",
              "    .dataframe tbody tr th:only-of-type {\n",
              "        vertical-align: middle;\n",
              "    }\n",
              "\n",
              "    .dataframe tbody tr th {\n",
              "        vertical-align: top;\n",
              "    }\n",
              "\n",
              "    .dataframe thead th {\n",
              "        text-align: right;\n",
              "    }\n",
              "</style>\n",
              "<table border=\"1\" class=\"dataframe\">\n",
              "  <thead>\n",
              "    <tr style=\"text-align: right;\">\n",
              "      <th></th>\n",
              "      <th>Id</th>\n",
              "      <th>neg</th>\n",
              "      <th>neu</th>\n",
              "      <th>pos</th>\n",
              "      <th>compound</th>\n",
              "      <th>ProductId</th>\n",
              "      <th>UserId</th>\n",
              "      <th>ProfileName</th>\n",
              "      <th>HelpfulnessNumerator</th>\n",
              "      <th>HelpfulnessDenominator</th>\n",
              "      <th>Score</th>\n",
              "      <th>Time</th>\n",
              "      <th>Summary</th>\n",
              "      <th>Text</th>\n",
              "    </tr>\n",
              "  </thead>\n",
              "  <tbody>\n",
              "    <tr>\n",
              "      <th>0</th>\n",
              "      <td>0</td>\n",
              "      <td>0.020</td>\n",
              "      <td>0.718</td>\n",
              "      <td>0.262</td>\n",
              "      <td>0.9892</td>\n",
              "      <td>B0009P68JI</td>\n",
              "      <td>A2RKR9HDFZSWZE</td>\n",
              "      <td>Charles R. Runzo</td>\n",
              "      <td>3</td>\n",
              "      <td>3</td>\n",
              "      <td>5</td>\n",
              "      <td>1249257600</td>\n",
              "      <td>MC CORMICKS ALFREDO SAUCE</td>\n",
              "      <td>THANKS TO AMAZON FOR CARRYING THIS WONDERFUL P...</td>\n",
              "    </tr>\n",
              "    <tr>\n",
              "      <th>1</th>\n",
              "      <td>1</td>\n",
              "      <td>0.000</td>\n",
              "      <td>1.000</td>\n",
              "      <td>0.000</td>\n",
              "      <td>0.0000</td>\n",
              "      <td>B002X9JNYU</td>\n",
              "      <td>AVPSSODZIDABZ</td>\n",
              "      <td>HELfromBL</td>\n",
              "      <td>1</td>\n",
              "      <td>3</td>\n",
              "      <td>1</td>\n",
              "      <td>1323388800</td>\n",
              "      <td>what quantity is it!</td>\n",
              "      <td>I wouldn't even think of buying this product u...</td>\n",
              "    </tr>\n",
              "    <tr>\n",
              "      <th>2</th>\n",
              "      <td>2</td>\n",
              "      <td>0.049</td>\n",
              "      <td>0.871</td>\n",
              "      <td>0.080</td>\n",
              "      <td>0.9759</td>\n",
              "      <td>B000B9SFP2</td>\n",
              "      <td>A1I4NHYX40MFD</td>\n",
              "      <td>C. Keeney</td>\n",
              "      <td>3</td>\n",
              "      <td>3</td>\n",
              "      <td>3</td>\n",
              "      <td>1310428800</td>\n",
              "      <td>Easy and portable...but a few issues</td>\n",
              "      <td>Although I think this pen is great...I didn't ...</td>\n",
              "    </tr>\n",
              "    <tr>\n",
              "      <th>3</th>\n",
              "      <td>3</td>\n",
              "      <td>0.000</td>\n",
              "      <td>0.778</td>\n",
              "      <td>0.222</td>\n",
              "      <td>0.7978</td>\n",
              "      <td>B001L8DOFI</td>\n",
              "      <td>A1C8X2JEK3K1D4</td>\n",
              "      <td>MattBull</td>\n",
              "      <td>1</td>\n",
              "      <td>1</td>\n",
              "      <td>5</td>\n",
              "      <td>1338681600</td>\n",
              "      <td>Above user is wrong</td>\n",
              "      <td>Wagyu beef is a kobe beef Japanese cow crossbr...</td>\n",
              "    </tr>\n",
              "    <tr>\n",
              "      <th>4</th>\n",
              "      <td>4</td>\n",
              "      <td>0.354</td>\n",
              "      <td>0.566</td>\n",
              "      <td>0.079</td>\n",
              "      <td>-0.8067</td>\n",
              "      <td>B004WJAUBE</td>\n",
              "      <td>A2DYZJ8D7QD1KE</td>\n",
              "      <td>Debs</td>\n",
              "      <td>0</td>\n",
              "      <td>0</td>\n",
              "      <td>2</td>\n",
              "      <td>1327536000</td>\n",
              "      <td>City Steam, not much steam in this brew.</td>\n",
              "      <td>My husband and I were very disappointed in thi...</td>\n",
              "    </tr>\n",
              "  </tbody>\n",
              "</table>\n",
              "</div>\n",
              "      <button class=\"colab-df-convert\" onclick=\"convertToInteractive('df-61baa316-e441-49be-a7e7-82c8cd9f55b8')\"\n",
              "              title=\"Convert this dataframe to an interactive table.\"\n",
              "              style=\"display:none;\">\n",
              "        \n",
              "  <svg xmlns=\"http://www.w3.org/2000/svg\" height=\"24px\"viewBox=\"0 0 24 24\"\n",
              "       width=\"24px\">\n",
              "    <path d=\"M0 0h24v24H0V0z\" fill=\"none\"/>\n",
              "    <path d=\"M18.56 5.44l.94 2.06.94-2.06 2.06-.94-2.06-.94-.94-2.06-.94 2.06-2.06.94zm-11 1L8.5 8.5l.94-2.06 2.06-.94-2.06-.94L8.5 2.5l-.94 2.06-2.06.94zm10 10l.94 2.06.94-2.06 2.06-.94-2.06-.94-.94-2.06-.94 2.06-2.06.94z\"/><path d=\"M17.41 7.96l-1.37-1.37c-.4-.4-.92-.59-1.43-.59-.52 0-1.04.2-1.43.59L10.3 9.45l-7.72 7.72c-.78.78-.78 2.05 0 2.83L4 21.41c.39.39.9.59 1.41.59.51 0 1.02-.2 1.41-.59l7.78-7.78 2.81-2.81c.8-.78.8-2.07 0-2.86zM5.41 20L4 18.59l7.72-7.72 1.47 1.35L5.41 20z\"/>\n",
              "  </svg>\n",
              "      </button>\n",
              "      \n",
              "  <style>\n",
              "    .colab-df-container {\n",
              "      display:flex;\n",
              "      flex-wrap:wrap;\n",
              "      gap: 12px;\n",
              "    }\n",
              "\n",
              "    .colab-df-convert {\n",
              "      background-color: #E8F0FE;\n",
              "      border: none;\n",
              "      border-radius: 50%;\n",
              "      cursor: pointer;\n",
              "      display: none;\n",
              "      fill: #1967D2;\n",
              "      height: 32px;\n",
              "      padding: 0 0 0 0;\n",
              "      width: 32px;\n",
              "    }\n",
              "\n",
              "    .colab-df-convert:hover {\n",
              "      background-color: #E2EBFA;\n",
              "      box-shadow: 0px 1px 2px rgba(60, 64, 67, 0.3), 0px 1px 3px 1px rgba(60, 64, 67, 0.15);\n",
              "      fill: #174EA6;\n",
              "    }\n",
              "\n",
              "    [theme=dark] .colab-df-convert {\n",
              "      background-color: #3B4455;\n",
              "      fill: #D2E3FC;\n",
              "    }\n",
              "\n",
              "    [theme=dark] .colab-df-convert:hover {\n",
              "      background-color: #434B5C;\n",
              "      box-shadow: 0px 1px 3px 1px rgba(0, 0, 0, 0.15);\n",
              "      filter: drop-shadow(0px 1px 2px rgba(0, 0, 0, 0.3));\n",
              "      fill: #FFFFFF;\n",
              "    }\n",
              "  </style>\n",
              "\n",
              "      <script>\n",
              "        const buttonEl =\n",
              "          document.querySelector('#df-61baa316-e441-49be-a7e7-82c8cd9f55b8 button.colab-df-convert');\n",
              "        buttonEl.style.display =\n",
              "          google.colab.kernel.accessAllowed ? 'block' : 'none';\n",
              "\n",
              "        async function convertToInteractive(key) {\n",
              "          const element = document.querySelector('#df-61baa316-e441-49be-a7e7-82c8cd9f55b8');\n",
              "          const dataTable =\n",
              "            await google.colab.kernel.invokeFunction('convertToInteractive',\n",
              "                                                     [key], {});\n",
              "          if (!dataTable) return;\n",
              "\n",
              "          const docLinkHtml = 'Like what you see? Visit the ' +\n",
              "            '<a target=\"_blank\" href=https://colab.research.google.com/notebooks/data_table.ipynb>data table notebook</a>'\n",
              "            + ' to learn more about interactive tables.';\n",
              "          element.innerHTML = '';\n",
              "          dataTable['output_type'] = 'display_data';\n",
              "          await google.colab.output.renderOutput(dataTable, element);\n",
              "          const docLink = document.createElement('div');\n",
              "          docLink.innerHTML = docLinkHtml;\n",
              "          element.appendChild(docLink);\n",
              "        }\n",
              "      </script>\n",
              "    </div>\n",
              "  </div>\n",
              "  "
            ]
          },
          "metadata": {},
          "execution_count": 16
        }
      ],
      "source": [
        "result_df = result_df.reset_index().rename(columns={'index': 'Id'})\n",
        "result_df = result_df.merge(df, how='left')\n",
        "result_df.head()"
      ],
      "id": "642dc9f2"
    },
    {
      "cell_type": "code",
      "execution_count": null,
      "metadata": {
        "colab": {
          "base_uri": "https://localhost:8080/",
          "height": 295
        },
        "id": "4f6eeab1",
        "outputId": "1f1db3cc-6508-44b0-cb35-76fd876c4fde"
      },
      "outputs": [
        {
          "output_type": "display_data",
          "data": {
            "text/plain": [
              "<Figure size 432x288 with 1 Axes>"
            ],
            "image/png": "[encoded data removed]"
          },
          "metadata": {
            "needs_background": "light"
          }
        }
      ],
      "source": [
        "sns.barplot(x=result_df['Score'], y=result_df['compound'])\n",
        "plt.title('Compount Score - Amazon Stars')\n",
        "plt.show()"
      ],
      "id": "4f6eeab1"
    },
    {
      "cell_type": "code",
      "execution_count": null,
      "metadata": {
        "id": "c0b3ba6f"
      },
      "outputs": [],
      "source": [
        "fig, axs = plt.subplots(1, 3, figsize=(12, 3))\n",
        "sns.barplot(data=result_df, x='Score', y='pos', ax=axs[0])\n",
        "sns.barplot(data=result_df, x='Score', y='neu', ax=axs[1])\n",
        "sns.barplot(data=result_df, x='Score', y='neg', ax=axs[2])\n",
        "axs[0].set_title('Positive')\n",
        "axs[1].set_title('Neutral')\n",
        "axs[2].set_title('Negative')\n",
        "plt.tight_layout()\n",
        "plt.show()"
      ],
      "id": "c0b3ba6f"
    },
    {
      "cell_type": "code",
      "execution_count": null,
      "metadata": {
        "id": "034d5f66",
        "colab": {
          "base_uri": "https://localhost:8080/",
          "height": 104,
          "referenced_widgets": [
            "30239e4d536446ad9c5e7283ec047ec9",
            "e3253098e347490c9802a9f1481e8e56",
            "34c08397db0543dfbdaf00e06d495a76",
            "347a875d07ea47ddb635809313f34997",
            "5300b55a27184d3488e62701b9fd1fae",
            "203068f759ea4d50899a39fd49006c23",
            "89d659ed44914b8a825a45e1725dabaf",
            "d9cc6eb54e314761a324e9e036564c6b",
            "0eeb5b5d9bd04966875a97060a85e4f2",
            "eb019ae96fc247ad9ab740ee62264013",
            "f9caa6def6f441c7a067ec7d1502375d"
          ]
        },
        "outputId": "15cec982-2350-4a61-c0cc-05a4d93497d9"
      },
      "outputs": [
        {
          "output_type": "stream",
          "name": "stderr",
          "text": [
            "The cache for model files in Transformers v4.22.0 has been updated. Migrating your old cache. This is a one-time only operation. You can interrupt this and resume the migration later on by calling `transformers.utils.move_cache()`.\n"
          ]
        },
        {
          "output_type": "stream",
          "name": "stdout",
          "text": [
            "Moving 0 files to the new cache system\n"
          ]
        },
        {
          "output_type": "display_data",
          "data": {
            "text/plain": [
              "0it [00:00, ?it/s]"
            ],
            "application/vnd.jupyter.widget-view+json": {
              "version_major": 2,
              "version_minor": 0,
              "model_id": "30239e4d536446ad9c5e7283ec047ec9"
            }
          },
          "metadata": {}
        }
      ],
      "source": [
        "# Roberta Pre-trained Model\n",
        "from transformers import AutoTokenizer\n",
        "from transformers import TFAutoModelForSequenceClassification\n",
        "from scipy.special import softmax\n",
        "import torch"
      ],
      "id": "034d5f66"
    },
    {
      "cell_type": "code",
      "execution_count": null,
      "metadata": {
        "colab": {
          "base_uri": "https://localhost:8080/",
          "height": 266,
          "referenced_widgets": [
            "ff675697bf0a42c287be18686f473f71",
            "1eb4c67efd264f6ebaf043906596c9b7",
            "1de4f5bc6d8c4974acc638f3870387ed",
            "2a2bab351a5f43afa34fc2c69d4d0be1",
            "0a1cacde2d734bcfb6b7aa8ca767be71",
            "3d75d42d16654e3ea3bcd92d037ef4e5",
            "2a3acac78ea343bfa34d6de4cc48b565",
            "88a8ec906ed34d83b2c692b3e13cc591",
            "1492fb529542436c9dd9f71867991e26",
            "3d2867f17e5e4fbdb2b448259b6b3b8f",
            "910f3a5734ce46159a6af7650470dfe6",
            "b2315ef9d3e242c7b40948e15d46e0aa",
            "3d2ab850c0fc4d53a1b6809fb2ee9da4",
            "7a4c2e4c31a24b40b1c92cbb42302885",
            "38fcb0204a7048e291cd020fe95a46e8",
            "2099016d940848adb133d6b039a87930",
            "bf96c6d93a8648fabe62e71a519dba00",
            "bcecdb77f6d6425bacaa7fea56ff8db1",
            "af31f6b4f211404eb2668dfb1c33260f",
            "40962c7dd27b4c0c9debba786b813abd",
            "d170f284702c4216a0c11077cc454575",
            "d3b0d7414c4f4401909a2f95c4b9b214",
            "ad7178cef7cd40c38fbca8319f389924",
            "ba05205315204a3b90227ebbcec222a1",
            "8da8e681a0db4846977c0a124850d048",
            "0dea87bf88b24ad29da7c701103a0463",
            "7d4154f57cae49198837692dc9abb57e",
            "d75f8f0f51e24d7ebbbd71fc24b46180",
            "cad1cd265c2f445e9160de8855c5fdd7",
            "0859d6102f284eee9290cb069f569dc4",
            "c1554d387d924a658ece571e466d4074",
            "40ed1fbe7d75411ab8b9f34b00811c04",
            "1e29c842017f437db9dd95b80397bab3",
            "391558e6cc60464c8d9a68c8e7fa689f",
            "23f6a0f3859d44f7978b9677d62ecdc6",
            "67d9fe02aa8b4221a847fddc01075fc4",
            "16d840ba7b3240a98caad492af624170",
            "81e13902fc444e6d8b52c353f67ebd8d",
            "e5bb2f288b6f4fcd9843881f0a6ca267",
            "438d76aa14904370b180f8685d9a216d",
            "17b64b4be76c49c3b4c7da2b18709a60",
            "a81c76efcd5041e6bfc6855db3568b3b",
            "c4962e05c1f34d3d93dc5869951b0a9a",
            "84e6fa1a50f44749be2939e0b819f6f2",
            "81f6cbb9bc7d44daa46944632515ae49",
            "5310d7f4c6d74162827ac37346c017a8",
            "6c630b801a44496f9276657fa657d153",
            "374f28ba928e4cbba5bdf9721e77020c",
            "cef78220541c46af9980e6b1f90328aa",
            "0a3e44e43a094595b3f0004e530a8be8",
            "d678681507644b0d9c19891cf23b7553",
            "484346a1b78c4e9391ea58b7757b374b",
            "1dcd6d9ee31d4115826214f710d32324",
            "8730a0b53b3245e7ab26ae8ed8005bd6",
            "03b54df017ca4559a29d54d5646fa53c"
          ]
        },
        "id": "58505028",
        "outputId": "89f72cdc-774f-4569-cf29-0738fbe0cf52"
      },
      "outputs": [
        {
          "output_type": "display_data",
          "data": {
            "text/plain": [
              "Downloading:   0%|          | 0.00/747 [00:00<?, ?B/s]"
            ],
            "application/vnd.jupyter.widget-view+json": {
              "version_major": 2,
              "version_minor": 0,
              "model_id": "ff675697bf0a42c287be18686f473f71"
            }
          },
          "metadata": {}
        },
        {
          "output_type": "display_data",
          "data": {
            "text/plain": [
              "Downloading:   0%|          | 0.00/899k [00:00<?, ?B/s]"
            ],
            "application/vnd.jupyter.widget-view+json": {
              "version_major": 2,
              "version_minor": 0,
              "model_id": "b2315ef9d3e242c7b40948e15d46e0aa"
            }
          },
          "metadata": {}
        },
        {
          "output_type": "display_data",
          "data": {
            "text/plain": [
              "Downloading:   0%|          | 0.00/456k [00:00<?, ?B/s]"
            ],
            "application/vnd.jupyter.widget-view+json": {
              "version_major": 2,
              "version_minor": 0,
              "model_id": "ad7178cef7cd40c38fbca8319f389924"
            }
          },
          "metadata": {}
        },
        {
          "output_type": "display_data",
          "data": {
            "text/plain": [
              "Downloading:   0%|          | 0.00/150 [00:00<?, ?B/s]"
            ],
            "application/vnd.jupyter.widget-view+json": {
              "version_major": 2,
              "version_minor": 0,
              "model_id": "391558e6cc60464c8d9a68c8e7fa689f"
            }
          },
          "metadata": {}
        },
        {
          "output_type": "display_data",
          "data": {
            "text/plain": [
              "Downloading:   0%|          | 0.00/501M [00:00<?, ?B/s]"
            ],
            "application/vnd.jupyter.widget-view+json": {
              "version_major": 2,
              "version_minor": 0,
              "model_id": "81f6cbb9bc7d44daa46944632515ae49"
            }
          },
          "metadata": {}
        },
        {
          "output_type": "stream",
          "name": "stderr",
          "text": [
            "All model checkpoint layers were used when initializing TFRobertaForSequenceClassification.\n",
            "\n",
            "All the layers of TFRobertaForSequenceClassification were initialized from the model checkpoint at cardiffnlp/twitter-roberta-base-sentiment.\n",
            "If your task is similar to the task the model of the checkpoint was trained on, you can already use TFRobertaForSequenceClassification for predictions without further training.\n"
          ]
        }
      ],
      "source": [
        "model = f\"cardiffnlp/twitter-roberta-base-sentiment\"\n",
        "tokens = AutoTokenizer.from_pretrained(model)\n",
        "my_model = TFAutoModelForSequenceClassification.from_pretrained(model)"
      ],
      "id": "58505028"
    },
    {
      "cell_type": "code",
      "source": [
        "# Run for Roberta Model\n",
        "encoded_text = tokenizer(example, return_tensors='pt')\n",
        "output = model(**encoded_text)\n",
        "scores = output[0][0].detach().numpy()\n",
        "scores = softmax(scores)\n",
        "scores_dict = {\n",
        "    'roberta_neg' : scores[0],\n",
        "    'roberta_neu' : scores[1],\n",
        "    'roberta_pos' : scores[2]\n",
        "}\n",
        "print(scores_dict)"
      ],
      "metadata": {
        "colab": {
          "base_uri": "https://localhost:8080/",
          "height": 239
        },
        "id": "mqmHq2JCsGCv",
        "outputId": "241a2bb9-024e-4fc8-fb65-ea2205422e60"
      },
      "id": "mqmHq2JCsGCv",
      "execution_count": null,
      "outputs": [
        {
          "output_type": "error",
          "ename": "NameError",
          "evalue": "ignored",
          "traceback": [
            "\u001b[0;31m---------------------------------------------------------------------------\u001b[0m",
            "\u001b[0;31mNameError\u001b[0m                                 Traceback (most recent call last)",
            "\u001b[0;32m<ipython-input-1-032f6db3c850>\u001b[0m in \u001b[0;36m<module>\u001b[0;34m\u001b[0m\n\u001b[1;32m      1\u001b[0m \u001b[0;31m# Run for Roberta Model\u001b[0m\u001b[0;34m\u001b[0m\u001b[0;34m\u001b[0m\u001b[0;34m\u001b[0m\u001b[0m\n\u001b[0;32m----> 2\u001b[0;31m \u001b[0mencoded_text\u001b[0m \u001b[0;34m=\u001b[0m \u001b[0mtokenizer\u001b[0m\u001b[0;34m(\u001b[0m\u001b[0mexample\u001b[0m\u001b[0;34m,\u001b[0m \u001b[0mreturn_tensors\u001b[0m\u001b[0;34m=\u001b[0m\u001b[0;34m'pt'\u001b[0m\u001b[0;34m)\u001b[0m\u001b[0;34m\u001b[0m\u001b[0;34m\u001b[0m\u001b[0m\n\u001b[0m\u001b[1;32m      3\u001b[0m \u001b[0moutput\u001b[0m \u001b[0;34m=\u001b[0m \u001b[0mmodel\u001b[0m\u001b[0;34m(\u001b[0m\u001b[0;34m**\u001b[0m\u001b[0mencoded_text\u001b[0m\u001b[0;34m)\u001b[0m\u001b[0;34m\u001b[0m\u001b[0;34m\u001b[0m\u001b[0m\n\u001b[1;32m      4\u001b[0m \u001b[0mscores\u001b[0m \u001b[0;34m=\u001b[0m \u001b[0moutput\u001b[0m\u001b[0;34m[\u001b[0m\u001b[0;36m0\u001b[0m\u001b[0;34m]\u001b[0m\u001b[0;34m[\u001b[0m\u001b[0;36m0\u001b[0m\u001b[0;34m]\u001b[0m\u001b[0;34m.\u001b[0m\u001b[0mdetach\u001b[0m\u001b[0;34m(\u001b[0m\u001b[0;34m)\u001b[0m\u001b[0;34m.\u001b[0m\u001b[0mnumpy\u001b[0m\u001b[0;34m(\u001b[0m\u001b[0;34m)\u001b[0m\u001b[0;34m\u001b[0m\u001b[0;34m\u001b[0m\u001b[0m\n\u001b[1;32m      5\u001b[0m \u001b[0mscores\u001b[0m \u001b[0;34m=\u001b[0m \u001b[0msoftmax\u001b[0m\u001b[0;34m(\u001b[0m\u001b[0mscores\u001b[0m\u001b[0;34m)\u001b[0m\u001b[0;34m\u001b[0m\u001b[0;34m\u001b[0m\u001b[0m\n",
            "\u001b[0;31mNameError\u001b[0m: name 'tokenizer' is not defined"
          ]
        }
      ]
    },
    {
      "cell_type": "code",
      "source": [
        "# Remove all 3 star reviews because 3 star is considered as neutral\n",
        "df_new = pd.read_csv(\"/content/Reviews.csv\")\n",
        "df_new = df_new.loc[df_new['Score']!=3]\n",
        "df_new = df_new.head(10000)\n",
        "df_new.Score.value_counts()"
      ],
      "metadata": {
        "colab": {
          "base_uri": "https://localhost:8080/"
        },
        "id": "2y9Ad0Jy6Yzb",
        "outputId": "c3ef0ea2-c5d7-4fce-db45-815d24a4e1af"
      },
      "id": "2y9Ad0Jy6Yzb",
      "execution_count": null,
      "outputs": [
        {
          "output_type": "execute_result",
          "data": {
            "text/plain": [
              "5    6776\n",
              "4    1545\n",
              "1    1033\n",
              "2     646\n",
              "Name: Score, dtype: int64"
            ]
          },
          "metadata": {},
          "execution_count": 23
        }
      ]
    },
    {
      "cell_type": "code",
      "source": [
        "df_new = df_new.sample(frac=1)\n",
        "df_new_before = df_new.loc[(df_new['Score']<4) & (df_new['Id']<8000),]\n",
        "df_new_after = df_new.loc[df_new['Id']>=8000,]\n",
        "df_new = pd.concat([df_new_before, df_new_after])\n",
        "df_new = df_new.sample(frac=1)\n",
        "df_new['Id'] = np.arange(0, len(df_new))\n",
        "df_new = df_new.reset_index()\n",
        "df_new = df_new.drop(columns=['index'])\n",
        "df_new.head(5)"
      ],
      "metadata": {
        "colab": {
          "base_uri": "https://localhost:8080/",
          "height": 669
        },
        "id": "E9fS1tiU7znF",
        "outputId": "4a302bb5-b856-454a-e559-8d1f50b2fabd"
      },
      "id": "E9fS1tiU7znF",
      "execution_count": null,
      "outputs": [
        {
          "output_type": "execute_result",
          "data": {
            "text/plain": [
              "   Id   ProductId          UserId                  ProfileName  \\\n",
              "0   0  B003VXFK44  A1PMJ9FR4X1CP4                       Mare17   \n",
              "1   1  B001HTJEZ0   AOICA05J2T6ZQ                      leemaui   \n",
              "2   2  B0029NVMXA  A2SLZMD0UYRT5X                   cat's food   \n",
              "3   3  B000UBDKII  A1OKMWKTNUJ6L2  Bridget Young \"YoungMomof2\"   \n",
              "4   4  B007WFQ4EM  A3GRR3EKLYS5PP                 David Martin   \n",
              "\n",
              "   HelpfulnessNumerator  HelpfulnessDenominator  Score        Time  \\\n",
              "0                     2                       2      5  1332892800   \n",
              "1                     3                      11      1  1282780800   \n",
              "2                     0                       0      5  1323993600   \n",
              "3                     0                       0      4  1205625600   \n",
              "4                     1                       1      5  1344297600   \n",
              "\n",
              "                                          Summary  \\\n",
              "0                              Best K-cup Coffee!   \n",
              "1                       You've got to be kidding!   \n",
              "2                 They like em'....they like em'.   \n",
              "3  Wonderful aroma - flavor needs to be stronger.   \n",
              "4                                         Awesome   \n",
              "\n",
              "                                                Text  \n",
              "0  I bought the Kuerig because I love the Dunkin ...  \n",
              "1  The \"reviewer from Florida\" was being extremel...  \n",
              "2  My finicky cats are difficult to please partic...  \n",
              "3  Overall, this makes a great fast cup of coffee...  \n",
              "4  I was at a Walmart in South Carolina and just ...  "
            ],
            "text/html": [
              "\n",
              "  <div id=\"df-d0a29d64-fafe-430d-926f-a9e6eb1c7dfa\">\n",
              "    <div class=\"colab-df-container\">\n",
              "      <div>\n",
              "<style scoped>\n",
              "    .dataframe tbody tr th:only-of-type {\n",
              "        vertical-align: middle;\n",
              "    }\n",
              "\n",
              "    .dataframe tbody tr th {\n",
              "        vertical-align: top;\n",
              "    }\n",
              "\n",
              "    .dataframe thead th {\n",
              "        text-align: right;\n",
              "    }\n",
              "</style>\n",
              "<table border=\"1\" class=\"dataframe\">\n",
              "  <thead>\n",
              "    <tr style=\"text-align: right;\">\n",
              "      <th></th>\n",
              "      <th>Id</th>\n",
              "      <th>ProductId</th>\n",
              "      <th>UserId</th>\n",
              "      <th>ProfileName</th>\n",
              "      <th>HelpfulnessNumerator</th>\n",
              "      <th>HelpfulnessDenominator</th>\n",
              "      <th>Score</th>\n",
              "      <th>Time</th>\n",
              "      <th>Summary</th>\n",
              "      <th>Text</th>\n",
              "    </tr>\n",
              "  </thead>\n",
              "  <tbody>\n",
              "    <tr>\n",
              "      <th>0</th>\n",
              "      <td>0</td>\n",
              "      <td>B003VXFK44</td>\n",
              "      <td>A1PMJ9FR4X1CP4</td>\n",
              "      <td>Mare17</td>\n",
              "      <td>2</td>\n",
              "      <td>2</td>\n",
              "      <td>5</td>\n",
              "      <td>1332892800</td>\n",
              "      <td>Best K-cup Coffee!</td>\n",
              "      <td>I bought the Kuerig because I love the Dunkin ...</td>\n",
              "    </tr>\n",
              "    <tr>\n",
              "      <th>1</th>\n",
              "      <td>1</td>\n",
              "      <td>B001HTJEZ0</td>\n",
              "      <td>AOICA05J2T6ZQ</td>\n",
              "      <td>leemaui</td>\n",
              "      <td>3</td>\n",
              "      <td>11</td>\n",
              "      <td>1</td>\n",
              "      <td>1282780800</td>\n",
              "      <td>You've got to be kidding!</td>\n",
              "      <td>The \"reviewer from Florida\" was being extremel...</td>\n",
              "    </tr>\n",
              "    <tr>\n",
              "      <th>2</th>\n",
              "      <td>2</td>\n",
              "      <td>B0029NVMXA</td>\n",
              "      <td>A2SLZMD0UYRT5X</td>\n",
              "      <td>cat's food</td>\n",
              "      <td>0</td>\n",
              "      <td>0</td>\n",
              "      <td>5</td>\n",
              "      <td>1323993600</td>\n",
              "      <td>They like em'....they like em'.</td>\n",
              "      <td>My finicky cats are difficult to please partic...</td>\n",
              "    </tr>\n",
              "    <tr>\n",
              "      <th>3</th>\n",
              "      <td>3</td>\n",
              "      <td>B000UBDKII</td>\n",
              "      <td>A1OKMWKTNUJ6L2</td>\n",
              "      <td>Bridget Young \"YoungMomof2\"</td>\n",
              "      <td>0</td>\n",
              "      <td>0</td>\n",
              "      <td>4</td>\n",
              "      <td>1205625600</td>\n",
              "      <td>Wonderful aroma - flavor needs to be stronger.</td>\n",
              "      <td>Overall, this makes a great fast cup of coffee...</td>\n",
              "    </tr>\n",
              "    <tr>\n",
              "      <th>4</th>\n",
              "      <td>4</td>\n",
              "      <td>B007WFQ4EM</td>\n",
              "      <td>A3GRR3EKLYS5PP</td>\n",
              "      <td>David Martin</td>\n",
              "      <td>1</td>\n",
              "      <td>1</td>\n",
              "      <td>5</td>\n",
              "      <td>1344297600</td>\n",
              "      <td>Awesome</td>\n",
              "      <td>I was at a Walmart in South Carolina and just ...</td>\n",
              "    </tr>\n",
              "  </tbody>\n",
              "</table>\n",
              "</div>\n",
              "      <button class=\"colab-df-convert\" onclick=\"convertToInteractive('df-d0a29d64-fafe-430d-926f-a9e6eb1c7dfa')\"\n",
              "              title=\"Convert this dataframe to an interactive table.\"\n",
              "              style=\"display:none;\">\n",
              "        \n",
              "  <svg xmlns=\"http://www.w3.org/2000/svg\" height=\"24px\"viewBox=\"0 0 24 24\"\n",
              "       width=\"24px\">\n",
              "    <path d=\"M0 0h24v24H0V0z\" fill=\"none\"/>\n",
              "    <path d=\"M18.56 5.44l.94 2.06.94-2.06 2.06-.94-2.06-.94-.94-2.06-.94 2.06-2.06.94zm-11 1L8.5 8.5l.94-2.06 2.06-.94-2.06-.94L8.5 2.5l-.94 2.06-2.06.94zm10 10l.94 2.06.94-2.06 2.06-.94-2.06-.94-.94-2.06-.94 2.06-2.06.94z\"/><path d=\"M17.41 7.96l-1.37-1.37c-.4-.4-.92-.59-1.43-.59-.52 0-1.04.2-1.43.59L10.3 9.45l-7.72 7.72c-.78.78-.78 2.05 0 2.83L4 21.41c.39.39.9.59 1.41.59.51 0 1.02-.2 1.41-.59l7.78-7.78 2.81-2.81c.8-.78.8-2.07 0-2.86zM5.41 20L4 18.59l7.72-7.72 1.47 1.35L5.41 20z\"/>\n",
              "  </svg>\n",
              "      </button>\n",
              "      \n",
              "  <style>\n",
              "    .colab-df-container {\n",
              "      display:flex;\n",
              "      flex-wrap:wrap;\n",
              "      gap: 12px;\n",
              "    }\n",
              "\n",
              "    .colab-df-convert {\n",
              "      background-color: #E8F0FE;\n",
              "      border: none;\n",
              "      border-radius: 50%;\n",
              "      cursor: pointer;\n",
              "      display: none;\n",
              "      fill: #1967D2;\n",
              "      height: 32px;\n",
              "      padding: 0 0 0 0;\n",
              "      width: 32px;\n",
              "    }\n",
              "\n",
              "    .colab-df-convert:hover {\n",
              "      background-color: #E2EBFA;\n",
              "      box-shadow: 0px 1px 2px rgba(60, 64, 67, 0.3), 0px 1px 3px 1px rgba(60, 64, 67, 0.15);\n",
              "      fill: #174EA6;\n",
              "    }\n",
              "\n",
              "    [theme=dark] .colab-df-convert {\n",
              "      background-color: #3B4455;\n",
              "      fill: #D2E3FC;\n",
              "    }\n",
              "\n",
              "    [theme=dark] .colab-df-convert:hover {\n",
              "      background-color: #434B5C;\n",
              "      box-shadow: 0px 1px 3px 1px rgba(0, 0, 0, 0.15);\n",
              "      filter: drop-shadow(0px 1px 2px rgba(0, 0, 0, 0.3));\n",
              "      fill: #FFFFFF;\n",
              "    }\n",
              "  </style>\n",
              "\n",
              "      <script>\n",
              "        const buttonEl =\n",
              "          document.querySelector('#df-d0a29d64-fafe-430d-926f-a9e6eb1c7dfa button.colab-df-convert');\n",
              "        buttonEl.style.display =\n",
              "          google.colab.kernel.accessAllowed ? 'block' : 'none';\n",
              "\n",
              "        async function convertToInteractive(key) {\n",
              "          const element = document.querySelector('#df-d0a29d64-fafe-430d-926f-a9e6eb1c7dfa');\n",
              "          const dataTable =\n",
              "            await google.colab.kernel.invokeFunction('convertToInteractive',\n",
              "                                                     [key], {});\n",
              "          if (!dataTable) return;\n",
              "\n",
              "          const docLinkHtml = 'Like what you see? Visit the ' +\n",
              "            '<a target=\"_blank\" href=https://colab.research.google.com/notebooks/data_table.ipynb>data table notebook</a>'\n",
              "            + ' to learn more about interactive tables.';\n",
              "          element.innerHTML = '';\n",
              "          dataTable['output_type'] = 'display_data';\n",
              "          await google.colab.output.renderOutput(dataTable, element);\n",
              "          const docLink = document.createElement('div');\n",
              "          docLink.innerHTML = docLinkHtml;\n",
              "          element.appendChild(docLink);\n",
              "        }\n",
              "      </script>\n",
              "    </div>\n",
              "  </div>\n",
              "  "
            ]
          },
          "metadata": {},
          "execution_count": 24
        }
      ]
    },
    {
      "cell_type": "code",
      "source": [
        "df_new['Score'].value_counts().sort_index(ascending=False)"
      ],
      "metadata": {
        "colab": {
          "base_uri": "https://localhost:8080/"
        },
        "id": "6Udv3Krh9xu1",
        "outputId": "b8f336d4-e344-4579-fd19-7881afd7ce4a"
      },
      "id": "6Udv3Krh9xu1",
      "execution_count": null,
      "outputs": [
        {
          "output_type": "execute_result",
          "data": {
            "text/plain": [
              "5    1779\n",
              "4     414\n",
              "2     646\n",
              "1    1033\n",
              "Name: Score, dtype: int64"
            ]
          },
          "metadata": {},
          "execution_count": 25
        }
      ]
    },
    {
      "cell_type": "code",
      "execution_count": null,
      "metadata": {
        "colab": {
          "base_uri": "https://localhost:8080/"
        },
        "id": "5f8c9aad",
        "outputId": "dab2a09e-482a-4f39-ed45-70e746c7babb"
      },
      "outputs": [
        {
          "output_type": "stream",
          "name": "stdout",
          "text": [
            "   label                                               Text\n",
            "0      1  I bought the Kuerig because I love the Dunkin ...\n",
            "1      0  The \"reviewer from Florida\" was being extremel...\n",
            "2      1  My finicky cats are difficult to please partic...\n",
            "3      1  Overall, this makes a great fast cup of coffee...\n",
            "4      1  I was at a Walmart in South Carolina and just ...\n"
          ]
        }
      ],
      "source": [
        "# Recurrent Neural Network\n",
        "import tensorflow as tf\n",
        "from keras.preprocessing.text import Tokenizer\n",
        "from keras.models import Sequential\n",
        "from keras.preprocessing.sequence import pad_sequences\n",
        "from keras.layers import Dense, Embedding, LSTM, SpatialDropout1D\n",
        "from sklearn.model_selection import train_test_split\n",
        "df = df_new\n",
        "df['label'] = (df['Score']>=4).astype(int)\n",
        "df2 = df[['label', 'Text']]\n",
        "print(df2.head())"
      ],
      "id": "5f8c9aad"
    },
    {
      "cell_type": "code",
      "source": [
        "df2['label'].value_counts()"
      ],
      "metadata": {
        "colab": {
          "base_uri": "https://localhost:8080/"
        },
        "id": "l8b50L9O8tL4",
        "outputId": "6bb3ffe7-b8e0-41d4-c9ad-d4e7f1c55f29"
      },
      "id": "l8b50L9O8tL4",
      "execution_count": null,
      "outputs": [
        {
          "output_type": "execute_result",
          "data": {
            "text/plain": [
              "1    2193\n",
              "0    1679\n",
              "Name: label, dtype: int64"
            ]
          },
          "metadata": {},
          "execution_count": 27
        }
      ]
    },
    {
      "cell_type": "code",
      "source": [
        "tokenizer = Tokenizer(num_words=5000, split=' ') # num_words: the number of mosst frequent words returned.\n",
        "tokenizer.fit_on_texts(df2['Text'].values)\n",
        "encoded_docs = tokenizer.texts_to_sequences(df2['Text'].values)\n",
        "X = pad_sequences(encoded_docs, maxlen = 1000) # maxlen: the mex length of sequence(vector) in this matrix.\n",
        "X.shape"
      ],
      "metadata": {
        "colab": {
          "base_uri": "https://localhost:8080/"
        },
        "id": "p7IZY3mq8UO4",
        "outputId": "03ad504f-4c8d-4946-88e8-1e13d1183474"
      },
      "id": "p7IZY3mq8UO4",
      "execution_count": null,
      "outputs": [
        {
          "output_type": "execute_result",
          "data": {
            "text/plain": [
              "(3872, 1000)"
            ]
          },
          "metadata": {},
          "execution_count": 28
        }
      ]
    },
    {
      "cell_type": "code",
      "execution_count": null,
      "metadata": {
        "colab": {
          "base_uri": "https://localhost:8080/"
        },
        "id": "e9ef925d",
        "outputId": "4ad29306-e0ea-4a0b-d55f-efde205900cb"
      },
      "outputs": [
        {
          "output_type": "stream",
          "name": "stdout",
          "text": [
            "(3872,)\n",
            "(3097, 1000) (3097,) (775, 1000) (775,)\n"
          ]
        }
      ],
      "source": [
        "y = df2['label']\n",
        "print(y.shape)\n",
        "X_train, X_test, y_train, y_test = train_test_split(X, y, test_size = 0.2, random_state = 42)\n",
        "print(X_train.shape, y_train.shape, X_test.shape, y_test.shape)"
      ],
      "id": "e9ef925d"
    },
    {
      "cell_type": "code",
      "execution_count": null,
      "metadata": {
        "id": "A5gZ7l_Wo9Uj",
        "colab": {
          "base_uri": "https://localhost:8080/"
        },
        "outputId": "8ab54b86-6ad1-4ce7-88cc-a62655e43693"
      },
      "outputs": [
        {
          "output_type": "stream",
          "name": "stderr",
          "text": [
            "WARNING:tensorflow:Layer lstm will not use cuDNN kernels since it doesn't meet the criteria. It will use a generic GPU kernel as fallback when running on GPU.\n"
          ]
        },
        {
          "output_type": "stream",
          "name": "stdout",
          "text": [
            "Model: \"sequential\"\n",
            "_________________________________________________________________\n",
            " Layer (type)                Output Shape              Param #   \n",
            "=================================================================\n",
            " embedding (Embedding)       (None, 1000, 64)          64000     \n",
            "                                                                 \n",
            " lstm (LSTM)                 (None, 176)               169664    \n",
            "                                                                 \n",
            " dropout_38 (Dropout)        (None, 176)               0         \n",
            "                                                                 \n",
            " dense (Dense)               (None, 32)                5664      \n",
            "                                                                 \n",
            " dense_1 (Dense)             (None, 1)                 33        \n",
            "                                                                 \n",
            "=================================================================\n",
            "Total params: 239,361\n",
            "Trainable params: 239,361\n",
            "Non-trainable params: 0\n",
            "_________________________________________________________________\n",
            "None\n"
          ]
        }
      ],
      "source": [
        "model = tf.keras.Sequential()\n",
        "model.add(Embedding(1000, 64, input_length = X.shape[1]))\n",
        "model.add(LSTM(176, dropout=0.4, recurrent_dropout=0.4))\n",
        "model.add(tf.keras.layers.Dropout(0.3))\n",
        "model.add(tf.keras.layers.Dense(32, activation='relu'))\n",
        "model.add(tf.keras.layers.Dense(1, activation='sigmoid'))\n",
        "print(model.summary())"
      ],
      "id": "A5gZ7l_Wo9Uj"
    },
    {
      "cell_type": "code",
      "execution_count": null,
      "metadata": {
        "id": "6XtN53Z2pvC2"
      },
      "outputs": [],
      "source": [
        "model.compile(optimizer=tf.keras.optimizers.Adam(learning_rate=0.01),\n",
        "              loss=tf.keras.losses.BinaryCrossentropy(),\n",
        "              metrics=['accuracy'])"
      ],
      "id": "6XtN53Z2pvC2"
    },
    {
      "cell_type": "code",
      "execution_count": null,
      "metadata": {
        "id": "UJ-8XEg9rNPY",
        "colab": {
          "base_uri": "https://localhost:8080/"
        },
        "outputId": "27b61b73-e1db-428a-ce8d-acbd3df053ba"
      },
      "outputs": [
        {
          "output_type": "stream",
          "name": "stdout",
          "text": [
            "Epoch 1/13\n",
            "25/25 [==============================] - 113s 4s/step - loss: 0.6684 - accuracy: 0.5689 - val_loss: 0.5724 - val_accuracy: 0.7174\n",
            "Epoch 2/13\n",
            "25/25 [==============================] - 109s 4s/step - loss: 0.4608 - accuracy: 0.7940 - val_loss: 0.4726 - val_accuracy: 0.7974\n",
            "Epoch 3/13\n",
            "25/25 [==============================] - 109s 4s/step - loss: 0.3816 - accuracy: 0.8418 - val_loss: 0.4407 - val_accuracy: 0.7923\n",
            "Epoch 4/13\n",
            "25/25 [==============================] - 109s 4s/step - loss: 0.3275 - accuracy: 0.8644 - val_loss: 0.4069 - val_accuracy: 0.8258\n",
            "Epoch 5/13\n",
            "25/25 [==============================] - 120s 5s/step - loss: 0.2553 - accuracy: 0.8980 - val_loss: 0.4496 - val_accuracy: 0.8026\n",
            "Epoch 6/13\n",
            "25/25 [==============================] - 110s 4s/step - loss: 0.2464 - accuracy: 0.9044 - val_loss: 0.4376 - val_accuracy: 0.8206\n",
            "Epoch 7/13\n",
            "25/25 [==============================] - 109s 4s/step - loss: 0.2770 - accuracy: 0.8899 - val_loss: 0.4907 - val_accuracy: 0.7819\n",
            "Epoch 8/13\n",
            "25/25 [==============================] - 108s 4s/step - loss: 0.2099 - accuracy: 0.9135 - val_loss: 0.4938 - val_accuracy: 0.8619\n",
            "Epoch 9/13\n",
            "25/25 [==============================] - 108s 4s/step - loss: 0.1437 - accuracy: 0.9490 - val_loss: 0.4646 - val_accuracy: 0.8465\n",
            "Epoch 10/13\n",
            "25/25 [==============================] - 108s 4s/step - loss: 0.1239 - accuracy: 0.9516 - val_loss: 0.6475 - val_accuracy: 0.8116\n",
            "Epoch 11/13\n",
            "25/25 [==============================] - 108s 4s/step - loss: 0.1408 - accuracy: 0.9483 - val_loss: 0.5204 - val_accuracy: 0.8387\n",
            "Epoch 12/13\n",
            "25/25 [==============================] - 108s 4s/step - loss: 0.0974 - accuracy: 0.9661 - val_loss: 0.5855 - val_accuracy: 0.8452\n",
            "Epoch 13/13\n",
            "25/25 [==============================] - 108s 4s/step - loss: 0.0544 - accuracy: 0.9809 - val_loss: 0.7223 - val_accuracy: 0.8387\n"
          ]
        }
      ],
      "source": [
        "batch_size=128\n",
        "history = model.fit(X_train, y_train, epochs=13, batch_size=batch_size, validation_data=(X_test, y_test))"
      ],
      "id": "UJ-8XEg9rNPY"
    },
    {
      "cell_type": "code",
      "execution_count": null,
      "metadata": {
        "id": "W4jgvuXDtdwH",
        "colab": {
          "base_uri": "https://localhost:8080/",
          "height": 295
        },
        "outputId": "56bf3d35-5f04-4752-970c-13fc17788ec2"
      },
      "outputs": [
        {
          "output_type": "display_data",
          "data": {
            "text/plain": [
              "<Figure size 432x288 with 1 Axes>"
            ],
            "image/png": "[encoded data removed]"
          },
          "metadata": {
            "needs_background": "light"
          }
        }
      ],
      "source": [
        "plt.plot(history.history['accuracy'], label='Train Accuracy')\n",
        "plt.plot(history.history['val_accuracy'], label='Validation Accuracy')\n",
        "plt.title('Accuracy')\n",
        "plt.xlabel('Epoch')\n",
        "plt.ylabel('Accuracy%')\n",
        "plt.legend()\n",
        "plt.show()"
      ],
      "id": "W4jgvuXDtdwH"
    },
    {
      "cell_type": "code",
      "source": [
        "def anal_sent(my_text, my_model, my_tokenizer):\n",
        "  encoded_text = my_tokenizer.texts_to_sequences(my_text)\n",
        "  X = pad_sequences(encoded_text, maxlen = 1000)\n",
        "  return (my_model.predict(X))"
      ],
      "metadata": {
        "id": "GoejkLfD354n"
      },
      "id": "GoejkLfD354n",
      "execution_count": null,
      "outputs": []
    },
    {
      "cell_type": "code",
      "source": [
        "ex_review0 = [\"Nice but just a little bit pricy\"]\n",
        "print(anal_sent(ex_review0, model, tokenizer))"
      ],
      "metadata": {
        "colab": {
          "base_uri": "https://localhost:8080/"
        },
        "id": "EXsBFq0JamNj",
        "outputId": "5cdc94ea-5c93-40be-afc6-73709e3e784d"
      },
      "id": "EXsBFq0JamNj",
      "execution_count": null,
      "outputs": [
        {
          "output_type": "stream",
          "name": "stdout",
          "text": [
            "[[0.9952201]]\n"
          ]
        }
      ]
    },
    {
      "cell_type": "code",
      "source": [
        "ex_review1 = [\"I bought it for my son and he says he likes it.\"]\n",
        "print(anal_sent(ex_review1, model, tokenizer))"
      ],
      "metadata": {
        "id": "PS_PsDcKMJlq",
        "colab": {
          "base_uri": "https://localhost:8080/"
        },
        "outputId": "0e96af30-c446-4567-b70f-92b7337fded4"
      },
      "id": "PS_PsDcKMJlq",
      "execution_count": null,
      "outputs": [
        {
          "output_type": "stream",
          "name": "stdout",
          "text": [
            "[[0.9849193]]\n"
          ]
        }
      ]
    },
    {
      "cell_type": "code",
      "source": [
        "ex_review2 = [\"It actually tastes better than I expected.\"]\n",
        "print(anal_sent(ex_review2, model, tokenizer))"
      ],
      "metadata": {
        "id": "nOyJAIEkozqA",
        "colab": {
          "base_uri": "https://localhost:8080/"
        },
        "outputId": "16725e79-e3b0-404d-b64d-3ac3b907a42d"
      },
      "id": "nOyJAIEkozqA",
      "execution_count": null,
      "outputs": [
        {
          "output_type": "stream",
          "name": "stdout",
          "text": [
            "[[0.20806265]]\n"
          ]
        }
      ]
    },
    {
      "cell_type": "code",
      "source": [
        "ex_review3 = [\"It tastes too sour. Not recommended!\"]\n",
        "print(anal_sent(ex_review3, model, tokenizer))"
      ],
      "metadata": {
        "id": "rtM7U6vw9gDU",
        "colab": {
          "base_uri": "https://localhost:8080/"
        },
        "outputId": "50e76b85-764b-473a-b5cb-444db2a899fe"
      },
      "id": "rtM7U6vw9gDU",
      "execution_count": null,
      "outputs": [
        {
          "output_type": "stream",
          "name": "stdout",
          "text": [
            "[[0.00289819]]\n"
          ]
        }
      ]
    },
    {
      "cell_type": "code",
      "source": [
        "ex_review4 = [\"Even the dogs wouldn't eat it! Half star if I could.\"]\n",
        "print(anal_sent(ex_review4, model, tokenizer))"
      ],
      "metadata": {
        "id": "Ncm2ztqHDO60",
        "colab": {
          "base_uri": "https://localhost:8080/"
        },
        "outputId": "12b2bbe9-e041-47d9-de0a-fb6b3696909a"
      },
      "id": "Ncm2ztqHDO60",
      "execution_count": null,
      "outputs": [
        {
          "output_type": "stream",
          "name": "stdout",
          "text": [
            "[[0.0001295]]\n"
          ]
        }
      ]
    },
    {
      "cell_type": "code",
      "source": [
        "ex_review5 = ['This is too salty and has strange after taste, so I am not sure about whether it has artificial additives? I threw it all away after tasting just one slice!']\n",
        "print(anal_sent(ex_review5, model, tokenizer))"
      ],
      "metadata": {
        "colab": {
          "base_uri": "https://localhost:8080/"
        },
        "id": "h2RUe5JLaaQJ",
        "outputId": "bc28b3f3-1fc0-4d9b-8632-804fe9249e85"
      },
      "id": "h2RUe5JLaaQJ",
      "execution_count": null,
      "outputs": [
        {
          "output_type": "stream",
          "name": "stdout",
          "text": [
            "[[4.113077e-05]]\n"
          ]
        }
      ]
    },
    {
      "cell_type": "code",
      "source": [
        "ex_review6 = [\"Bought it for my husband. He loved it. Will re-order more.\"]\n",
        "print(anal_sent(ex_review6, model, tokenizer))"
      ],
      "metadata": {
        "colab": {
          "base_uri": "https://localhost:8080/"
        },
        "id": "v6dRF-Fih51G",
        "outputId": "3b775a77-e3da-4e6f-af40-b6471fd67877"
      },
      "id": "v6dRF-Fih51G",
      "execution_count": null,
      "outputs": [
        {
          "output_type": "stream",
          "name": "stdout",
          "text": [
            "[[0.9999999]]\n"
          ]
        }
      ]
    },
    {
      "cell_type": "code",
      "source": [
        "ex_review7 = [\"Came with 4 peices all the same size. Wasnt as wet and juicy as the beef jerky but still good. Will definitely buy again. Only negative is because i don't live near the store front lol.\"]\n",
        "print(anal_sent(ex_review7, model, tokenizer))"
      ],
      "metadata": {
        "colab": {
          "base_uri": "https://localhost:8080/"
        },
        "id": "EvtAVhQyiCLg",
        "outputId": "fcf1dd36-513c-46b0-fbd9-5fde31496c67"
      },
      "id": "EvtAVhQyiCLg",
      "execution_count": null,
      "outputs": [
        {
          "output_type": "stream",
          "name": "stdout",
          "text": [
            "[[0.12580383]]\n"
          ]
        }
      ]
    },
    {
      "cell_type": "code",
      "source": [
        "ex_review8 = [\"Absolutely loving this. Reminds me of home. Very glad that the product like this is being sold in the states.\"]\n",
        "print(anal_sent(ex_review8, model, tokenizer))"
      ],
      "metadata": {
        "colab": {
          "base_uri": "https://localhost:8080/"
        },
        "id": "fvIdYaoDiUDz",
        "outputId": "81a33a45-a2ca-4419-d987-7d2654e4f578"
      },
      "id": "fvIdYaoDiUDz",
      "execution_count": null,
      "outputs": [
        {
          "output_type": "stream",
          "name": "stdout",
          "text": [
            "[[0.10297598]]\n"
          ]
        }
      ]
    },
    {
      "cell_type": "code",
      "source": [
        "ex_review9 = [\"Good quality, good taste, a must-have snack while watching TV.\"]\n",
        "print(anal_sent(ex_review9, model, tokenizer))"
      ],
      "metadata": {
        "colab": {
          "base_uri": "https://localhost:8080/"
        },
        "id": "F9YXJJ5ajGZl",
        "outputId": "1031e5d5-4364-494b-9104-3c6a7f862df2"
      },
      "id": "F9YXJJ5ajGZl",
      "execution_count": null,
      "outputs": [
        {
          "output_type": "stream",
          "name": "stdout",
          "text": [
            "[[0.9999924]]\n"
          ]
        }
      ]
    },
    {
      "cell_type": "code",
      "source": [
        "ex_review10 = [\"Excellent taste, great chew, fast service, somewhat expensive\"]\n",
        "print(anal_sent(ex_review10, model, tokenizer))"
      ],
      "metadata": {
        "colab": {
          "base_uri": "https://localhost:8080/"
        },
        "id": "46JRYxytjTWy",
        "outputId": "fb74b0a6-29cc-4872-9188-f07c1d4f280d"
      },
      "id": "46JRYxytjTWy",
      "execution_count": null,
      "outputs": [
        {
          "output_type": "stream",
          "name": "stdout",
          "text": [
            "[[0.9999522]]\n"
          ]
        }
      ]
    },
    {
      "cell_type": "code",
      "source": [
        "ex_review11 = [\"I do not like the texture. They’re too hard to chew, I’m from Thailand and know how they should taste.\"]\n",
        "print(anal_sent(ex_review11, model, tokenizer))"
      ],
      "metadata": {
        "colab": {
          "base_uri": "https://localhost:8080/"
        },
        "id": "uZ1Y_kZBjcn_",
        "outputId": "cb98a2d2-1389-4037-85cc-f7f75d5ccdd1"
      },
      "id": "uZ1Y_kZBjcn_",
      "execution_count": null,
      "outputs": [
        {
          "output_type": "stream",
          "name": "stdout",
          "text": [
            "[[4.6042005e-05]]\n"
          ]
        }
      ]
    }
  ],
  "metadata": {
    "colab": {
      "provenance": [],
      "collapsed_sections": []
    },
    "kernelspec": {
      "display_name": "Python 3 (ipykernel)",
      "language": "python",
      "name": "python3"
    },
    "language_info": {
      "codemirror_mode": {
        "name": "ipython",
        "version": 3
      },
      "file_extension": ".py",
      "mimetype": "text/x-python",
      "name": "python",
      "nbconvert_exporter": "python",
      "pygments_lexer": "ipython3",
      "version": "3.9.7"
    },
    "accelerator": "GPU",
    "widgets": {
      "application/vnd.jupyter.widget-state+json": {
        "30239e4d536446ad9c5e7283ec047ec9": {
          "model_module": "@jupyter-widgets/controls",
          "model_name": "HBoxModel",
          "model_module_version": "1.5.0",
          "state": {
            "_dom_classes": [],
            "_model_module": "@jupyter-widgets/controls",
            "_model_module_version": "1.5.0",
            "_model_name": "HBoxModel",
            "_view_count": null,
            "_view_module": "@jupyter-widgets/controls",
            "_view_module_version": "1.5.0",
            "_view_name": "HBoxView",
            "box_style": "",
            "children": [
              "IPY_MODEL_e3253098e347490c9802a9f1481e8e56",
              "IPY_MODEL_34c08397db0543dfbdaf00e06d495a76",
              "IPY_MODEL_347a875d07ea47ddb635809313f34997"
            ],
            "layout": "IPY_MODEL_5300b55a27184d3488e62701b9fd1fae"
          }
        },
        "e3253098e347490c9802a9f1481e8e56": {
          "model_module": "@jupyter-widgets/controls",
          "model_name": "HTMLModel",
          "model_module_version": "1.5.0",
          "state": {
            "_dom_classes": [],
            "_model_module": "@jupyter-widgets/controls",
            "_model_module_version": "1.5.0",
            "_model_name": "HTMLModel",
            "_view_count": null,
            "_view_module": "@jupyter-widgets/controls",
            "_view_module_version": "1.5.0",
            "_view_name": "HTMLView",
            "description": "",
            "description_tooltip": null,
            "layout": "IPY_MODEL_203068f759ea4d50899a39fd49006c23",
            "placeholder": "​",
            "style": "IPY_MODEL_89d659ed44914b8a825a45e1725dabaf",
            "value": ""
          }
        },
        "34c08397db0543dfbdaf00e06d495a76": {
          "model_module": "@jupyter-widgets/controls",
          "model_name": "FloatProgressModel",
          "model_module_version": "1.5.0",
          "state": {
            "_dom_classes": [],
            "_model_module": "@jupyter-widgets/controls",
            "_model_module_version": "1.5.0",
            "_model_name": "FloatProgressModel",
            "_view_count": null,
            "_view_module": "@jupyter-widgets/controls",
            "_view_module_version": "1.5.0",
            "_view_name": "ProgressView",
            "bar_style": "success",
            "description": "",
            "description_tooltip": null,
            "layout": "IPY_MODEL_d9cc6eb54e314761a324e9e036564c6b",
            "max": 1,
            "min": 0,
            "orientation": "horizontal",
            "style": "IPY_MODEL_0eeb5b5d9bd04966875a97060a85e4f2",
            "value": 0
          }
        },
        "347a875d07ea47ddb635809313f34997": {
          "model_module": "@jupyter-widgets/controls",
          "model_name": "HTMLModel",
          "model_module_version": "1.5.0",
          "state": {
            "_dom_classes": [],
            "_model_module": "@jupyter-widgets/controls",
            "_model_module_version": "1.5.0",
            "_model_name": "HTMLModel",
            "_view_count": null,
            "_view_module": "@jupyter-widgets/controls",
            "_view_module_version": "1.5.0",
            "_view_name": "HTMLView",
            "description": "",
            "description_tooltip": null,
            "layout": "IPY_MODEL_eb019ae96fc247ad9ab740ee62264013",
            "placeholder": "​",
            "style": "IPY_MODEL_f9caa6def6f441c7a067ec7d1502375d",
            "value": " 0/0 [00:00&lt;?, ?it/s]"
          }
        },
        "5300b55a27184d3488e62701b9fd1fae": {
          "model_module": "@jupyter-widgets/base",
          "model_name": "LayoutModel",
          "model_module_version": "1.2.0",
          "state": {
            "_model_module": "@jupyter-widgets/base",
            "_model_module_version": "1.2.0",
            "_model_name": "LayoutModel",
            "_view_count": null,
            "_view_module": "@jupyter-widgets/base",
            "_view_module_version": "1.2.0",
            "_view_name": "LayoutView",
            "align_content": null,
            "align_items": null,
            "align_self": null,
            "border": null,
            "bottom": null,
            "display": null,
            "flex": null,
            "flex_flow": null,
            "grid_area": null,
            "grid_auto_columns": null,
            "grid_auto_flow": null,
            "grid_auto_rows": null,
            "grid_column": null,
            "grid_gap": null,
            "grid_row": null,
            "grid_template_areas": null,
            "grid_template_columns": null,
            "grid_template_rows": null,
            "height": null,
            "justify_content": null,
            "justify_items": null,
            "left": null,
            "margin": null,
            "max_height": null,
            "max_width": null,
            "min_height": null,
            "min_width": null,
            "object_fit": null,
            "object_position": null,
            "order": null,
            "overflow": null,
            "overflow_x": null,
            "overflow_y": null,
            "padding": null,
            "right": null,
            "top": null,
            "visibility": null,
            "width": null
          }
        },
        "203068f759ea4d50899a39fd49006c23": {
          "model_module": "@jupyter-widgets/base",
          "model_name": "LayoutModel",
          "model_module_version": "1.2.0",
          "state": {
            "_model_module": "@jupyter-widgets/base",
            "_model_module_version": "1.2.0",
            "_model_name": "LayoutModel",
            "_view_count": null,
            "_view_module": "@jupyter-widgets/base",
            "_view_module_version": "1.2.0",
            "_view_name": "LayoutView",
            "align_content": null,
            "align_items": null,
            "align_self": null,
            "border": null,
            "bottom": null,
            "display": null,
            "flex": null,
            "flex_flow": null,
            "grid_area": null,
            "grid_auto_columns": null,
            "grid_auto_flow": null,
            "grid_auto_rows": null,
            "grid_column": null,
            "grid_gap": null,
            "grid_row": null,
            "grid_template_areas": null,
            "grid_template_columns": null,
            "grid_template_rows": null,
            "height": null,
            "justify_content": null,
            "justify_items": null,
            "left": null,
            "margin": null,
            "max_height": null,
            "max_width": null,
            "min_height": null,
            "min_width": null,
            "object_fit": null,
            "object_position": null,
            "order": null,
            "overflow": null,
            "overflow_x": null,
            "overflow_y": null,
            "padding": null,
            "right": null,
            "top": null,
            "visibility": null,
            "width": null
          }
        },
        "89d659ed44914b8a825a45e1725dabaf": {
          "model_module": "@jupyter-widgets/controls",
          "model_name": "DescriptionStyleModel",
          "model_module_version": "1.5.0",
          "state": {
            "_model_module": "@jupyter-widgets/controls",
            "_model_module_version": "1.5.0",
            "_model_name": "DescriptionStyleModel",
            "_view_count": null,
            "_view_module": "@jupyter-widgets/base",
            "_view_module_version": "1.2.0",
            "_view_name": "StyleView",
            "description_width": ""
          }
        },
        "d9cc6eb54e314761a324e9e036564c6b": {
          "model_module": "@jupyter-widgets/base",
          "model_name": "LayoutModel",
          "model_module_version": "1.2.0",
          "state": {
            "_model_module": "@jupyter-widgets/base",
            "_model_module_version": "1.2.0",
            "_model_name": "LayoutModel",
            "_view_count": null,
            "_view_module": "@jupyter-widgets/base",
            "_view_module_version": "1.2.0",
            "_view_name": "LayoutView",
            "align_content": null,
            "align_items": null,
            "align_self": null,
            "border": null,
            "bottom": null,
            "display": null,
            "flex": null,
            "flex_flow": null,
            "grid_area": null,
            "grid_auto_columns": null,
            "grid_auto_flow": null,
            "grid_auto_rows": null,
            "grid_column": null,
            "grid_gap": null,
            "grid_row": null,
            "grid_template_areas": null,
            "grid_template_columns": null,
            "grid_template_rows": null,
            "height": null,
            "justify_content": null,
            "justify_items": null,
            "left": null,
            "margin": null,
            "max_height": null,
            "max_width": null,
            "min_height": null,
            "min_width": null,
            "object_fit": null,
            "object_position": null,
            "order": null,
            "overflow": null,
            "overflow_x": null,
            "overflow_y": null,
            "padding": null,
            "right": null,
            "top": null,
            "visibility": null,
            "width": "20px"
          }
        },
        "0eeb5b5d9bd04966875a97060a85e4f2": {
          "model_module": "@jupyter-widgets/controls",
          "model_name": "ProgressStyleModel",
          "model_module_version": "1.5.0",
          "state": {
            "_model_module": "@jupyter-widgets/controls",
            "_model_module_version": "1.5.0",
            "_model_name": "ProgressStyleModel",
            "_view_count": null,
            "_view_module": "@jupyter-widgets/base",
            "_view_module_version": "1.2.0",
            "_view_name": "StyleView",
            "bar_color": null,
            "description_width": ""
          }
        },
        "eb019ae96fc247ad9ab740ee62264013": {
          "model_module": "@jupyter-widgets/base",
          "model_name": "LayoutModel",
          "model_module_version": "1.2.0",
          "state": {
            "_model_module": "@jupyter-widgets/base",
            "_model_module_version": "1.2.0",
            "_model_name": "LayoutModel",
            "_view_count": null,
            "_view_module": "@jupyter-widgets/base",
            "_view_module_version": "1.2.0",
            "_view_name": "LayoutView",
            "align_content": null,
            "align_items": null,
            "align_self": null,
            "border": null,
            "bottom": null,
            "display": null,
            "flex": null,
            "flex_flow": null,
            "grid_area": null,
            "grid_auto_columns": null,
            "grid_auto_flow": null,
            "grid_auto_rows": null,
            "grid_column": null,
            "grid_gap": null,
            "grid_row": null,
            "grid_template_areas": null,
            "grid_template_columns": null,
            "grid_template_rows": null,
            "height": null,
            "justify_content": null,
            "justify_items": null,
            "left": null,
            "margin": null,
            "max_height": null,
            "max_width": null,
            "min_height": null,
            "min_width": null,
            "object_fit": null,
            "object_position": null,
            "order": null,
            "overflow": null,
            "overflow_x": null,
            "overflow_y": null,
            "padding": null,
            "right": null,
            "top": null,
            "visibility": null,
            "width": null
          }
        },
        "f9caa6def6f441c7a067ec7d1502375d": {
          "model_module": "@jupyter-widgets/controls",
          "model_name": "DescriptionStyleModel",
          "model_module_version": "1.5.0",
          "state": {
            "_model_module": "@jupyter-widgets/controls",
            "_model_module_version": "1.5.0",
            "_model_name": "DescriptionStyleModel",
            "_view_count": null,
            "_view_module": "@jupyter-widgets/base",
            "_view_module_version": "1.2.0",
            "_view_name": "StyleView",
            "description_width": ""
          }
        },
        "ff675697bf0a42c287be18686f473f71": {
          "model_module": "@jupyter-widgets/controls",
          "model_name": "HBoxModel",
          "model_module_version": "1.5.0",
          "state": {
            "_dom_classes": [],
            "_model_module": "@jupyter-widgets/controls",
            "_model_module_version": "1.5.0",
            "_model_name": "HBoxModel",
            "_view_count": null,
            "_view_module": "@jupyter-widgets/controls",
            "_view_module_version": "1.5.0",
            "_view_name": "HBoxView",
            "box_style": "",
            "children": [
              "IPY_MODEL_1eb4c67efd264f6ebaf043906596c9b7",
              "IPY_MODEL_1de4f5bc6d8c4974acc638f3870387ed",
              "IPY_MODEL_2a2bab351a5f43afa34fc2c69d4d0be1"
            ],
            "layout": "IPY_MODEL_0a1cacde2d734bcfb6b7aa8ca767be71"
          }
        },
        "1eb4c67efd264f6ebaf043906596c9b7": {
          "model_module": "@jupyter-widgets/controls",
          "model_name": "HTMLModel",
          "model_module_version": "1.5.0",
          "state": {
            "_dom_classes": [],
            "_model_module": "@jupyter-widgets/controls",
            "_model_module_version": "1.5.0",
            "_model_name": "HTMLModel",
            "_view_count": null,
            "_view_module": "@jupyter-widgets/controls",
            "_view_module_version": "1.5.0",
            "_view_name": "HTMLView",
            "description": "",
            "description_tooltip": null,
            "layout": "IPY_MODEL_3d75d42d16654e3ea3bcd92d037ef4e5",
            "placeholder": "​",
            "style": "IPY_MODEL_2a3acac78ea343bfa34d6de4cc48b565",
            "value": "Downloading: 100%"
          }
        },
        "1de4f5bc6d8c4974acc638f3870387ed": {
          "model_module": "@jupyter-widgets/controls",
          "model_name": "FloatProgressModel",
          "model_module_version": "1.5.0",
          "state": {
            "_dom_classes": [],
            "_model_module": "@jupyter-widgets/controls",
            "_model_module_version": "1.5.0",
            "_model_name": "FloatProgressModel",
            "_view_count": null,
            "_view_module": "@jupyter-widgets/controls",
            "_view_module_version": "1.5.0",
            "_view_name": "ProgressView",
            "bar_style": "success",
            "description": "",
            "description_tooltip": null,
            "layout": "IPY_MODEL_88a8ec906ed34d83b2c692b3e13cc591",
            "max": 747,
            "min": 0,
            "orientation": "horizontal",
            "style": "IPY_MODEL_1492fb529542436c9dd9f71867991e26",
            "value": 747
          }
        },
        "2a2bab351a5f43afa34fc2c69d4d0be1": {
          "model_module": "@jupyter-widgets/controls",
          "model_name": "HTMLModel",
          "model_module_version": "1.5.0",
          "state": {
            "_dom_classes": [],
            "_model_module": "@jupyter-widgets/controls",
            "_model_module_version": "1.5.0",
            "_model_name": "HTMLModel",
            "_view_count": null,
            "_view_module": "@jupyter-widgets/controls",
            "_view_module_version": "1.5.0",
            "_view_name": "HTMLView",
            "description": "",
            "description_tooltip": null,
            "layout": "IPY_MODEL_3d2867f17e5e4fbdb2b448259b6b3b8f",
            "placeholder": "​",
            "style": "IPY_MODEL_910f3a5734ce46159a6af7650470dfe6",
            "value": " 747/747 [00:00&lt;00:00, 21.7kB/s]"
          }
        },
        "0a1cacde2d734bcfb6b7aa8ca767be71": {
          "model_module": "@jupyter-widgets/base",
          "model_name": "LayoutModel",
          "model_module_version": "1.2.0",
          "state": {
            "_model_module": "@jupyter-widgets/base",
            "_model_module_version": "1.2.0",
            "_model_name": "LayoutModel",
            "_view_count": null,
            "_view_module": "@jupyter-widgets/base",
            "_view_module_version": "1.2.0",
            "_view_name": "LayoutView",
            "align_content": null,
            "align_items": null,
            "align_self": null,
            "border": null,
            "bottom": null,
            "display": null,
            "flex": null,
            "flex_flow": null,
            "grid_area": null,
            "grid_auto_columns": null,
            "grid_auto_flow": null,
            "grid_auto_rows": null,
            "grid_column": null,
            "grid_gap": null,
            "grid_row": null,
            "grid_template_areas": null,
            "grid_template_columns": null,
            "grid_template_rows": null,
            "height": null,
            "justify_content": null,
            "justify_items": null,
            "left": null,
            "margin": null,
            "max_height": null,
            "max_width": null,
            "min_height": null,
            "min_width": null,
            "object_fit": null,
            "object_position": null,
            "order": null,
            "overflow": null,
            "overflow_x": null,
            "overflow_y": null,
            "padding": null,
            "right": null,
            "top": null,
            "visibility": null,
            "width": null
          }
        },
        "3d75d42d16654e3ea3bcd92d037ef4e5": {
          "model_module": "@jupyter-widgets/base",
          "model_name": "LayoutModel",
          "model_module_version": "1.2.0",
          "state": {
            "_model_module": "@jupyter-widgets/base",
            "_model_module_version": "1.2.0",
            "_model_name": "LayoutModel",
            "_view_count": null,
            "_view_module": "@jupyter-widgets/base",
            "_view_module_version": "1.2.0",
            "_view_name": "LayoutView",
            "align_content": null,
            "align_items": null,
            "align_self": null,
            "border": null,
            "bottom": null,
            "display": null,
            "flex": null,
            "flex_flow": null,
            "grid_area": null,
            "grid_auto_columns": null,
            "grid_auto_flow": null,
            "grid_auto_rows": null,
            "grid_column": null,
            "grid_gap": null,
            "grid_row": null,
            "grid_template_areas": null,
            "grid_template_columns": null,
            "grid_template_rows": null,
            "height": null,
            "justify_content": null,
            "justify_items": null,
            "left": null,
            "margin": null,
            "max_height": null,
            "max_width": null,
            "min_height": null,
            "min_width": null,
            "object_fit": null,
            "object_position": null,
            "order": null,
            "overflow": null,
            "overflow_x": null,
            "overflow_y": null,
            "padding": null,
            "right": null,
            "top": null,
            "visibility": null,
            "width": null
          }
        },
        "2a3acac78ea343bfa34d6de4cc48b565": {
          "model_module": "@jupyter-widgets/controls",
          "model_name": "DescriptionStyleModel",
          "model_module_version": "1.5.0",
          "state": {
            "_model_module": "@jupyter-widgets/controls",
            "_model_module_version": "1.5.0",
            "_model_name": "DescriptionStyleModel",
            "_view_count": null,
            "_view_module": "@jupyter-widgets/base",
            "_view_module_version": "1.2.0",
            "_view_name": "StyleView",
            "description_width": ""
          }
        },
        "88a8ec906ed34d83b2c692b3e13cc591": {
          "model_module": "@jupyter-widgets/base",
          "model_name": "LayoutModel",
          "model_module_version": "1.2.0",
          "state": {
            "_model_module": "@jupyter-widgets/base",
            "_model_module_version": "1.2.0",
            "_model_name": "LayoutModel",
            "_view_count": null,
            "_view_module": "@jupyter-widgets/base",
            "_view_module_version": "1.2.0",
            "_view_name": "LayoutView",
            "align_content": null,
            "align_items": null,
            "align_self": null,
            "border": null,
            "bottom": null,
            "display": null,
            "flex": null,
            "flex_flow": null,
            "grid_area": null,
            "grid_auto_columns": null,
            "grid_auto_flow": null,
            "grid_auto_rows": null,
            "grid_column": null,
            "grid_gap": null,
            "grid_row": null,
            "grid_template_areas": null,
            "grid_template_columns": null,
            "grid_template_rows": null,
            "height": null,
            "justify_content": null,
            "justify_items": null,
            "left": null,
            "margin": null,
            "max_height": null,
            "max_width": null,
            "min_height": null,
            "min_width": null,
            "object_fit": null,
            "object_position": null,
            "order": null,
            "overflow": null,
            "overflow_x": null,
            "overflow_y": null,
            "padding": null,
            "right": null,
            "top": null,
            "visibility": null,
            "width": null
          }
        },
        "1492fb529542436c9dd9f71867991e26": {
          "model_module": "@jupyter-widgets/controls",
          "model_name": "ProgressStyleModel",
          "model_module_version": "1.5.0",
          "state": {
            "_model_module": "@jupyter-widgets/controls",
            "_model_module_version": "1.5.0",
            "_model_name": "ProgressStyleModel",
            "_view_count": null,
            "_view_module": "@jupyter-widgets/base",
            "_view_module_version": "1.2.0",
            "_view_name": "StyleView",
            "bar_color": null,
            "description_width": ""
          }
        },
        "3d2867f17e5e4fbdb2b448259b6b3b8f": {
          "model_module": "@jupyter-widgets/base",
          "model_name": "LayoutModel",
          "model_module_version": "1.2.0",
          "state": {
            "_model_module": "@jupyter-widgets/base",
            "_model_module_version": "1.2.0",
            "_model_name": "LayoutModel",
            "_view_count": null,
            "_view_module": "@jupyter-widgets/base",
            "_view_module_version": "1.2.0",
            "_view_name": "LayoutView",
            "align_content": null,
            "align_items": null,
            "align_self": null,
            "border": null,
            "bottom": null,
            "display": null,
            "flex": null,
            "flex_flow": null,
            "grid_area": null,
            "grid_auto_columns": null,
            "grid_auto_flow": null,
            "grid_auto_rows": null,
            "grid_column": null,
            "grid_gap": null,
            "grid_row": null,
            "grid_template_areas": null,
            "grid_template_columns": null,
            "grid_template_rows": null,
            "height": null,
            "justify_content": null,
            "justify_items": null,
            "left": null,
            "margin": null,
            "max_height": null,
            "max_width": null,
            "min_height": null,
            "min_width": null,
            "object_fit": null,
            "object_position": null,
            "order": null,
            "overflow": null,
            "overflow_x": null,
            "overflow_y": null,
            "padding": null,
            "right": null,
            "top": null,
            "visibility": null,
            "width": null
          }
        },
        "910f3a5734ce46159a6af7650470dfe6": {
          "model_module": "@jupyter-widgets/controls",
          "model_name": "DescriptionStyleModel",
          "model_module_version": "1.5.0",
          "state": {
            "_model_module": "@jupyter-widgets/controls",
            "_model_module_version": "1.5.0",
            "_model_name": "DescriptionStyleModel",
            "_view_count": null,
            "_view_module": "@jupyter-widgets/base",
            "_view_module_version": "1.2.0",
            "_view_name": "StyleView",
            "description_width": ""
          }
        },
        "b2315ef9d3e242c7b40948e15d46e0aa": {
          "model_module": "@jupyter-widgets/controls",
          "model_name": "HBoxModel",
          "model_module_version": "1.5.0",
          "state": {
            "_dom_classes": [],
            "_model_module": "@jupyter-widgets/controls",
            "_model_module_version": "1.5.0",
            "_model_name": "HBoxModel",
            "_view_count": null,
            "_view_module": "@jupyter-widgets/controls",
            "_view_module_version": "1.5.0",
            "_view_name": "HBoxView",
            "box_style": "",
            "children": [
              "IPY_MODEL_3d2ab850c0fc4d53a1b6809fb2ee9da4",
              "IPY_MODEL_7a4c2e4c31a24b40b1c92cbb42302885",
              "IPY_MODEL_38fcb0204a7048e291cd020fe95a46e8"
            ],
            "layout": "IPY_MODEL_2099016d940848adb133d6b039a87930"
          }
        },
        "3d2ab850c0fc4d53a1b6809fb2ee9da4": {
          "model_module": "@jupyter-widgets/controls",
          "model_name": "HTMLModel",
          "model_module_version": "1.5.0",
          "state": {
            "_dom_classes": [],
            "_model_module": "@jupyter-widgets/controls",
            "_model_module_version": "1.5.0",
            "_model_name": "HTMLModel",
            "_view_count": null,
            "_view_module": "@jupyter-widgets/controls",
            "_view_module_version": "1.5.0",
            "_view_name": "HTMLView",
            "description": "",
            "description_tooltip": null,
            "layout": "IPY_MODEL_bf96c6d93a8648fabe62e71a519dba00",
            "placeholder": "​",
            "style": "IPY_MODEL_bcecdb77f6d6425bacaa7fea56ff8db1",
            "value": "Downloading: 100%"
          }
        },
        "7a4c2e4c31a24b40b1c92cbb42302885": {
          "model_module": "@jupyter-widgets/controls",
          "model_name": "FloatProgressModel",
          "model_module_version": "1.5.0",
          "state": {
            "_dom_classes": [],
            "_model_module": "@jupyter-widgets/controls",
            "_model_module_version": "1.5.0",
            "_model_name": "FloatProgressModel",
            "_view_count": null,
            "_view_module": "@jupyter-widgets/controls",
            "_view_module_version": "1.5.0",
            "_view_name": "ProgressView",
            "bar_style": "success",
            "description": "",
            "description_tooltip": null,
            "layout": "IPY_MODEL_af31f6b4f211404eb2668dfb1c33260f",
            "max": 898822,
            "min": 0,
            "orientation": "horizontal",
            "style": "IPY_MODEL_40962c7dd27b4c0c9debba786b813abd",
            "value": 898822
          }
        },
        "38fcb0204a7048e291cd020fe95a46e8": {
          "model_module": "@jupyter-widgets/controls",
          "model_name": "HTMLModel",
          "model_module_version": "1.5.0",
          "state": {
            "_dom_classes": [],
            "_model_module": "@jupyter-widgets/controls",
            "_model_module_version": "1.5.0",
            "_model_name": "HTMLModel",
            "_view_count": null,
            "_view_module": "@jupyter-widgets/controls",
            "_view_module_version": "1.5.0",
            "_view_name": "HTMLView",
            "description": "",
            "description_tooltip": null,
            "layout": "IPY_MODEL_d170f284702c4216a0c11077cc454575",
            "placeholder": "​",
            "style": "IPY_MODEL_d3b0d7414c4f4401909a2f95c4b9b214",
            "value": " 899k/899k [00:00&lt;00:00, 1.61MB/s]"
          }
        },
        "2099016d940848adb133d6b039a87930": {
          "model_module": "@jupyter-widgets/base",
          "model_name": "LayoutModel",
          "model_module_version": "1.2.0",
          "state": {
            "_model_module": "@jupyter-widgets/base",
            "_model_module_version": "1.2.0",
            "_model_name": "LayoutModel",
            "_view_count": null,
            "_view_module": "@jupyter-widgets/base",
            "_view_module_version": "1.2.0",
            "_view_name": "LayoutView",
            "align_content": null,
            "align_items": null,
            "align_self": null,
            "border": null,
            "bottom": null,
            "display": null,
            "flex": null,
            "flex_flow": null,
            "grid_area": null,
            "grid_auto_columns": null,
            "grid_auto_flow": null,
            "grid_auto_rows": null,
            "grid_column": null,
            "grid_gap": null,
            "grid_row": null,
            "grid_template_areas": null,
            "grid_template_columns": null,
            "grid_template_rows": null,
            "height": null,
            "justify_content": null,
            "justify_items": null,
            "left": null,
            "margin": null,
            "max_height": null,
            "max_width": null,
            "min_height": null,
            "min_width": null,
            "object_fit": null,
            "object_position": null,
            "order": null,
            "overflow": null,
            "overflow_x": null,
            "overflow_y": null,
            "padding": null,
            "right": null,
            "top": null,
            "visibility": null,
            "width": null
          }
        },
        "bf96c6d93a8648fabe62e71a519dba00": {
          "model_module": "@jupyter-widgets/base",
          "model_name": "LayoutModel",
          "model_module_version": "1.2.0",
          "state": {
            "_model_module": "@jupyter-widgets/base",
            "_model_module_version": "1.2.0",
            "_model_name": "LayoutModel",
            "_view_count": null,
            "_view_module": "@jupyter-widgets/base",
            "_view_module_version": "1.2.0",
            "_view_name": "LayoutView",
            "align_content": null,
            "align_items": null,
            "align_self": null,
            "border": null,
            "bottom": null,
            "display": null,
            "flex": null,
            "flex_flow": null,
            "grid_area": null,
            "grid_auto_columns": null,
            "grid_auto_flow": null,
            "grid_auto_rows": null,
            "grid_column": null,
            "grid_gap": null,
            "grid_row": null,
            "grid_template_areas": null,
            "grid_template_columns": null,
            "grid_template_rows": null,
            "height": null,
            "justify_content": null,
            "justify_items": null,
            "left": null,
            "margin": null,
            "max_height": null,
            "max_width": null,
            "min_height": null,
            "min_width": null,
            "object_fit": null,
            "object_position": null,
            "order": null,
            "overflow": null,
            "overflow_x": null,
            "overflow_y": null,
            "padding": null,
            "right": null,
            "top": null,
            "visibility": null,
            "width": null
          }
        },
        "bcecdb77f6d6425bacaa7fea56ff8db1": {
          "model_module": "@jupyter-widgets/controls",
          "model_name": "DescriptionStyleModel",
          "model_module_version": "1.5.0",
          "state": {
            "_model_module": "@jupyter-widgets/controls",
            "_model_module_version": "1.5.0",
            "_model_name": "DescriptionStyleModel",
            "_view_count": null,
            "_view_module": "@jupyter-widgets/base",
            "_view_module_version": "1.2.0",
            "_view_name": "StyleView",
            "description_width": ""
          }
        },
        "af31f6b4f211404eb2668dfb1c33260f": {
          "model_module": "@jupyter-widgets/base",
          "model_name": "LayoutModel",
          "model_module_version": "1.2.0",
          "state": {
            "_model_module": "@jupyter-widgets/base",
            "_model_module_version": "1.2.0",
            "_model_name": "LayoutModel",
            "_view_count": null,
            "_view_module": "@jupyter-widgets/base",
            "_view_module_version": "1.2.0",
            "_view_name": "LayoutView",
            "align_content": null,
            "align_items": null,
            "align_self": null,
            "border": null,
            "bottom": null,
            "display": null,
            "flex": null,
            "flex_flow": null,
            "grid_area": null,
            "grid_auto_columns": null,
            "grid_auto_flow": null,
            "grid_auto_rows": null,
            "grid_column": null,
            "grid_gap": null,
            "grid_row": null,
            "grid_template_areas": null,
            "grid_template_columns": null,
            "grid_template_rows": null,
            "height": null,
            "justify_content": null,
            "justify_items": null,
            "left": null,
            "margin": null,
            "max_height": null,
            "max_width": null,
            "min_height": null,
            "min_width": null,
            "object_fit": null,
            "object_position": null,
            "order": null,
            "overflow": null,
            "overflow_x": null,
            "overflow_y": null,
            "padding": null,
            "right": null,
            "top": null,
            "visibility": null,
            "width": null
          }
        },
        "40962c7dd27b4c0c9debba786b813abd": {
          "model_module": "@jupyter-widgets/controls",
          "model_name": "ProgressStyleModel",
          "model_module_version": "1.5.0",
          "state": {
            "_model_module": "@jupyter-widgets/controls",
            "_model_module_version": "1.5.0",
            "_model_name": "ProgressStyleModel",
            "_view_count": null,
            "_view_module": "@jupyter-widgets/base",
            "_view_module_version": "1.2.0",
            "_view_name": "StyleView",
            "bar_color": null,
            "description_width": ""
          }
        },
        "d170f284702c4216a0c11077cc454575": {
          "model_module": "@jupyter-widgets/base",
          "model_name": "LayoutModel",
          "model_module_version": "1.2.0",
          "state": {
            "_model_module": "@jupyter-widgets/base",
            "_model_module_version": "1.2.0",
            "_model_name": "LayoutModel",
            "_view_count": null,
            "_view_module": "@jupyter-widgets/base",
            "_view_module_version": "1.2.0",
            "_view_name": "LayoutView",
            "align_content": null,
            "align_items": null,
            "align_self": null,
            "border": null,
            "bottom": null,
            "display": null,
            "flex": null,
            "flex_flow": null,
            "grid_area": null,
            "grid_auto_columns": null,
            "grid_auto_flow": null,
            "grid_auto_rows": null,
            "grid_column": null,
            "grid_gap": null,
            "grid_row": null,
            "grid_template_areas": null,
            "grid_template_columns": null,
            "grid_template_rows": null,
            "height": null,
            "justify_content": null,
            "justify_items": null,
            "left": null,
            "margin": null,
            "max_height": null,
            "max_width": null,
            "min_height": null,
            "min_width": null,
            "object_fit": null,
            "object_position": null,
            "order": null,
            "overflow": null,
            "overflow_x": null,
            "overflow_y": null,
            "padding": null,
            "right": null,
            "top": null,
            "visibility": null,
            "width": null
          }
        },
        "d3b0d7414c4f4401909a2f95c4b9b214": {
          "model_module": "@jupyter-widgets/controls",
          "model_name": "DescriptionStyleModel",
          "model_module_version": "1.5.0",
          "state": {
            "_model_module": "@jupyter-widgets/controls",
            "_model_module_version": "1.5.0",
            "_model_name": "DescriptionStyleModel",
            "_view_count": null,
            "_view_module": "@jupyter-widgets/base",
            "_view_module_version": "1.2.0",
            "_view_name": "StyleView",
            "description_width": ""
          }
        },
        "ad7178cef7cd40c38fbca8319f389924": {
          "model_module": "@jupyter-widgets/controls",
          "model_name": "HBoxModel",
          "model_module_version": "1.5.0",
          "state": {
            "_dom_classes": [],
            "_model_module": "@jupyter-widgets/controls",
            "_model_module_version": "1.5.0",
            "_model_name": "HBoxModel",
            "_view_count": null,
            "_view_module": "@jupyter-widgets/controls",
            "_view_module_version": "1.5.0",
            "_view_name": "HBoxView",
            "box_style": "",
            "children": [
              "IPY_MODEL_ba05205315204a3b90227ebbcec222a1",
              "IPY_MODEL_8da8e681a0db4846977c0a124850d048",
              "IPY_MODEL_0dea87bf88b24ad29da7c701103a0463"
            ],
            "layout": "IPY_MODEL_7d4154f57cae49198837692dc9abb57e"
          }
        },
        "ba05205315204a3b90227ebbcec222a1": {
          "model_module": "@jupyter-widgets/controls",
          "model_name": "HTMLModel",
          "model_module_version": "1.5.0",
          "state": {
            "_dom_classes": [],
            "_model_module": "@jupyter-widgets/controls",
            "_model_module_version": "1.5.0",
            "_model_name": "HTMLModel",
            "_view_count": null,
            "_view_module": "@jupyter-widgets/controls",
            "_view_module_version": "1.5.0",
            "_view_name": "HTMLView",
            "description": "",
            "description_tooltip": null,
            "layout": "IPY_MODEL_d75f8f0f51e24d7ebbbd71fc24b46180",
            "placeholder": "​",
            "style": "IPY_MODEL_cad1cd265c2f445e9160de8855c5fdd7",
            "value": "Downloading: 100%"
          }
        },
        "8da8e681a0db4846977c0a124850d048": {
          "model_module": "@jupyter-widgets/controls",
          "model_name": "FloatProgressModel",
          "model_module_version": "1.5.0",
          "state": {
            "_dom_classes": [],
            "_model_module": "@jupyter-widgets/controls",
            "_model_module_version": "1.5.0",
            "_model_name": "FloatProgressModel",
            "_view_count": null,
            "_view_module": "@jupyter-widgets/controls",
            "_view_module_version": "1.5.0",
            "_view_name": "ProgressView",
            "bar_style": "success",
            "description": "",
            "description_tooltip": null,
            "layout": "IPY_MODEL_0859d6102f284eee9290cb069f569dc4",
            "max": 456318,
            "min": 0,
            "orientation": "horizontal",
            "style": "IPY_MODEL_c1554d387d924a658ece571e466d4074",
            "value": 456318
          }
        },
        "0dea87bf88b24ad29da7c701103a0463": {
          "model_module": "@jupyter-widgets/controls",
          "model_name": "HTMLModel",
          "model_module_version": "1.5.0",
          "state": {
            "_dom_classes": [],
            "_model_module": "@jupyter-widgets/controls",
            "_model_module_version": "1.5.0",
            "_model_name": "HTMLModel",
            "_view_count": null,
            "_view_module": "@jupyter-widgets/controls",
            "_view_module_version": "1.5.0",
            "_view_name": "HTMLView",
            "description": "",
            "description_tooltip": null,
            "layout": "IPY_MODEL_40ed1fbe7d75411ab8b9f34b00811c04",
            "placeholder": "​",
            "style": "IPY_MODEL_1e29c842017f437db9dd95b80397bab3",
            "value": " 456k/456k [00:00&lt;00:00, 1.42MB/s]"
          }
        },
        "7d4154f57cae49198837692dc9abb57e": {
          "model_module": "@jupyter-widgets/base",
          "model_name": "LayoutModel",
          "model_module_version": "1.2.0",
          "state": {
            "_model_module": "@jupyter-widgets/base",
            "_model_module_version": "1.2.0",
            "_model_name": "LayoutModel",
            "_view_count": null,
            "_view_module": "@jupyter-widgets/base",
            "_view_module_version": "1.2.0",
            "_view_name": "LayoutView",
            "align_content": null,
            "align_items": null,
            "align_self": null,
            "border": null,
            "bottom": null,
            "display": null,
            "flex": null,
            "flex_flow": null,
            "grid_area": null,
            "grid_auto_columns": null,
            "grid_auto_flow": null,
            "grid_auto_rows": null,
            "grid_column": null,
            "grid_gap": null,
            "grid_row": null,
            "grid_template_areas": null,
            "grid_template_columns": null,
            "grid_template_rows": null,
            "height": null,
            "justify_content": null,
            "justify_items": null,
            "left": null,
            "margin": null,
            "max_height": null,
            "max_width": null,
            "min_height": null,
            "min_width": null,
            "object_fit": null,
            "object_position": null,
            "order": null,
            "overflow": null,
            "overflow_x": null,
            "overflow_y": null,
            "padding": null,
            "right": null,
            "top": null,
            "visibility": null,
            "width": null
          }
        },
        "d75f8f0f51e24d7ebbbd71fc24b46180": {
          "model_module": "@jupyter-widgets/base",
          "model_name": "LayoutModel",
          "model_module_version": "1.2.0",
          "state": {
            "_model_module": "@jupyter-widgets/base",
            "_model_module_version": "1.2.0",
            "_model_name": "LayoutModel",
            "_view_count": null,
            "_view_module": "@jupyter-widgets/base",
            "_view_module_version": "1.2.0",
            "_view_name": "LayoutView",
            "align_content": null,
            "align_items": null,
            "align_self": null,
            "border": null,
            "bottom": null,
            "display": null,
            "flex": null,
            "flex_flow": null,
            "grid_area": null,
            "grid_auto_columns": null,
            "grid_auto_flow": null,
            "grid_auto_rows": null,
            "grid_column": null,
            "grid_gap": null,
            "grid_row": null,
            "grid_template_areas": null,
            "grid_template_columns": null,
            "grid_template_rows": null,
            "height": null,
            "justify_content": null,
            "justify_items": null,
            "left": null,
            "margin": null,
            "max_height": null,
            "max_width": null,
            "min_height": null,
            "min_width": null,
            "object_fit": null,
            "object_position": null,
            "order": null,
            "overflow": null,
            "overflow_x": null,
            "overflow_y": null,
            "padding": null,
            "right": null,
            "top": null,
            "visibility": null,
            "width": null
          }
        },
        "cad1cd265c2f445e9160de8855c5fdd7": {
          "model_module": "@jupyter-widgets/controls",
          "model_name": "DescriptionStyleModel",
          "model_module_version": "1.5.0",
          "state": {
            "_model_module": "@jupyter-widgets/controls",
            "_model_module_version": "1.5.0",
            "_model_name": "DescriptionStyleModel",
            "_view_count": null,
            "_view_module": "@jupyter-widgets/base",
            "_view_module_version": "1.2.0",
            "_view_name": "StyleView",
            "description_width": ""
          }
        },
        "0859d6102f284eee9290cb069f569dc4": {
          "model_module": "@jupyter-widgets/base",
          "model_name": "LayoutModel",
          "model_module_version": "1.2.0",
          "state": {
            "_model_module": "@jupyter-widgets/base",
            "_model_module_version": "1.2.0",
            "_model_name": "LayoutModel",
            "_view_count": null,
            "_view_module": "@jupyter-widgets/base",
            "_view_module_version": "1.2.0",
            "_view_name": "LayoutView",
            "align_content": null,
            "align_items": null,
            "align_self": null,
            "border": null,
            "bottom": null,
            "display": null,
            "flex": null,
            "flex_flow": null,
            "grid_area": null,
            "grid_auto_columns": null,
            "grid_auto_flow": null,
            "grid_auto_rows": null,
            "grid_column": null,
            "grid_gap": null,
            "grid_row": null,
            "grid_template_areas": null,
            "grid_template_columns": null,
            "grid_template_rows": null,
            "height": null,
            "justify_content": null,
            "justify_items": null,
            "left": null,
            "margin": null,
            "max_height": null,
            "max_width": null,
            "min_height": null,
            "min_width": null,
            "object_fit": null,
            "object_position": null,
            "order": null,
            "overflow": null,
            "overflow_x": null,
            "overflow_y": null,
            "padding": null,
            "right": null,
            "top": null,
            "visibility": null,
            "width": null
          }
        },
        "c1554d387d924a658ece571e466d4074": {
          "model_module": "@jupyter-widgets/controls",
          "model_name": "ProgressStyleModel",
          "model_module_version": "1.5.0",
          "state": {
            "_model_module": "@jupyter-widgets/controls",
            "_model_module_version": "1.5.0",
            "_model_name": "ProgressStyleModel",
            "_view_count": null,
            "_view_module": "@jupyter-widgets/base",
            "_view_module_version": "1.2.0",
            "_view_name": "StyleView",
            "bar_color": null,
            "description_width": ""
          }
        },
        "40ed1fbe7d75411ab8b9f34b00811c04": {
          "model_module": "@jupyter-widgets/base",
          "model_name": "LayoutModel",
          "model_module_version": "1.2.0",
          "state": {
            "_model_module": "@jupyter-widgets/base",
            "_model_module_version": "1.2.0",
            "_model_name": "LayoutModel",
            "_view_count": null,
            "_view_module": "@jupyter-widgets/base",
            "_view_module_version": "1.2.0",
            "_view_name": "LayoutView",
            "align_content": null,
            "align_items": null,
            "align_self": null,
            "border": null,
            "bottom": null,
            "display": null,
            "flex": null,
            "flex_flow": null,
            "grid_area": null,
            "grid_auto_columns": null,
            "grid_auto_flow": null,
            "grid_auto_rows": null,
            "grid_column": null,
            "grid_gap": null,
            "grid_row": null,
            "grid_template_areas": null,
            "grid_template_columns": null,
            "grid_template_rows": null,
            "height": null,
            "justify_content": null,
            "justify_items": null,
            "left": null,
            "margin": null,
            "max_height": null,
            "max_width": null,
            "min_height": null,
            "min_width": null,
            "object_fit": null,
            "object_position": null,
            "order": null,
            "overflow": null,
            "overflow_x": null,
            "overflow_y": null,
            "padding": null,
            "right": null,
            "top": null,
            "visibility": null,
            "width": null
          }
        },
        "1e29c842017f437db9dd95b80397bab3": {
          "model_module": "@jupyter-widgets/controls",
          "model_name": "DescriptionStyleModel",
          "model_module_version": "1.5.0",
          "state": {
            "_model_module": "@jupyter-widgets/controls",
            "_model_module_version": "1.5.0",
            "_model_name": "DescriptionStyleModel",
            "_view_count": null,
            "_view_module": "@jupyter-widgets/base",
            "_view_module_version": "1.2.0",
            "_view_name": "StyleView",
            "description_width": ""
          }
        },
        "391558e6cc60464c8d9a68c8e7fa689f": {
          "model_module": "@jupyter-widgets/controls",
          "model_name": "HBoxModel",
          "model_module_version": "1.5.0",
          "state": {
            "_dom_classes": [],
            "_model_module": "@jupyter-widgets/controls",
            "_model_module_version": "1.5.0",
            "_model_name": "HBoxModel",
            "_view_count": null,
            "_view_module": "@jupyter-widgets/controls",
            "_view_module_version": "1.5.0",
            "_view_name": "HBoxView",
            "box_style": "",
            "children": [
              "IPY_MODEL_23f6a0f3859d44f7978b9677d62ecdc6",
              "IPY_MODEL_67d9fe02aa8b4221a847fddc01075fc4",
              "IPY_MODEL_16d840ba7b3240a98caad492af624170"
            ],
            "layout": "IPY_MODEL_81e13902fc444e6d8b52c353f67ebd8d"
          }
        },
        "23f6a0f3859d44f7978b9677d62ecdc6": {
          "model_module": "@jupyter-widgets/controls",
          "model_name": "HTMLModel",
          "model_module_version": "1.5.0",
          "state": {
            "_dom_classes": [],
            "_model_module": "@jupyter-widgets/controls",
            "_model_module_version": "1.5.0",
            "_model_name": "HTMLModel",
            "_view_count": null,
            "_view_module": "@jupyter-widgets/controls",
            "_view_module_version": "1.5.0",
            "_view_name": "HTMLView",
            "description": "",
            "description_tooltip": null,
            "layout": "IPY_MODEL_e5bb2f288b6f4fcd9843881f0a6ca267",
            "placeholder": "​",
            "style": "IPY_MODEL_438d76aa14904370b180f8685d9a216d",
            "value": "Downloading: 100%"
          }
        },
        "67d9fe02aa8b4221a847fddc01075fc4": {
          "model_module": "@jupyter-widgets/controls",
          "model_name": "FloatProgressModel",
          "model_module_version": "1.5.0",
          "state": {
            "_dom_classes": [],
            "_model_module": "@jupyter-widgets/controls",
            "_model_module_version": "1.5.0",
            "_model_name": "FloatProgressModel",
            "_view_count": null,
            "_view_module": "@jupyter-widgets/controls",
            "_view_module_version": "1.5.0",
            "_view_name": "ProgressView",
            "bar_style": "success",
            "description": "",
            "description_tooltip": null,
            "layout": "IPY_MODEL_17b64b4be76c49c3b4c7da2b18709a60",
            "max": 150,
            "min": 0,
            "orientation": "horizontal",
            "style": "IPY_MODEL_a81c76efcd5041e6bfc6855db3568b3b",
            "value": 150
          }
        },
        "16d840ba7b3240a98caad492af624170": {
          "model_module": "@jupyter-widgets/controls",
          "model_name": "HTMLModel",
          "model_module_version": "1.5.0",
          "state": {
            "_dom_classes": [],
            "_model_module": "@jupyter-widgets/controls",
            "_model_module_version": "1.5.0",
            "_model_name": "HTMLModel",
            "_view_count": null,
            "_view_module": "@jupyter-widgets/controls",
            "_view_module_version": "1.5.0",
            "_view_name": "HTMLView",
            "description": "",
            "description_tooltip": null,
            "layout": "IPY_MODEL_c4962e05c1f34d3d93dc5869951b0a9a",
            "placeholder": "​",
            "style": "IPY_MODEL_84e6fa1a50f44749be2939e0b819f6f2",
            "value": " 150/150 [00:00&lt;00:00, 4.67kB/s]"
          }
        },
        "81e13902fc444e6d8b52c353f67ebd8d": {
          "model_module": "@jupyter-widgets/base",
          "model_name": "LayoutModel",
          "model_module_version": "1.2.0",
          "state": {
            "_model_module": "@jupyter-widgets/base",
            "_model_module_version": "1.2.0",
            "_model_name": "LayoutModel",
            "_view_count": null,
            "_view_module": "@jupyter-widgets/base",
            "_view_module_version": "1.2.0",
            "_view_name": "LayoutView",
            "align_content": null,
            "align_items": null,
            "align_self": null,
            "border": null,
            "bottom": null,
            "display": null,
            "flex": null,
            "flex_flow": null,
            "grid_area": null,
            "grid_auto_columns": null,
            "grid_auto_flow": null,
            "grid_auto_rows": null,
            "grid_column": null,
            "grid_gap": null,
            "grid_row": null,
            "grid_template_areas": null,
            "grid_template_columns": null,
            "grid_template_rows": null,
            "height": null,
            "justify_content": null,
            "justify_items": null,
            "left": null,
            "margin": null,
            "max_height": null,
            "max_width": null,
            "min_height": null,
            "min_width": null,
            "object_fit": null,
            "object_position": null,
            "order": null,
            "overflow": null,
            "overflow_x": null,
            "overflow_y": null,
            "padding": null,
            "right": null,
            "top": null,
            "visibility": null,
            "width": null
          }
        },
        "e5bb2f288b6f4fcd9843881f0a6ca267": {
          "model_module": "@jupyter-widgets/base",
          "model_name": "LayoutModel",
          "model_module_version": "1.2.0",
          "state": {
            "_model_module": "@jupyter-widgets/base",
            "_model_module_version": "1.2.0",
            "_model_name": "LayoutModel",
            "_view_count": null,
            "_view_module": "@jupyter-widgets/base",
            "_view_module_version": "1.2.0",
            "_view_name": "LayoutView",
            "align_content": null,
            "align_items": null,
            "align_self": null,
            "border": null,
            "bottom": null,
            "display": null,
            "flex": null,
            "flex_flow": null,
            "grid_area": null,
            "grid_auto_columns": null,
            "grid_auto_flow": null,
            "grid_auto_rows": null,
            "grid_column": null,
            "grid_gap": null,
            "grid_row": null,
            "grid_template_areas": null,
            "grid_template_columns": null,
            "grid_template_rows": null,
            "height": null,
            "justify_content": null,
            "justify_items": null,
            "left": null,
            "margin": null,
            "max_height": null,
            "max_width": null,
            "min_height": null,
            "min_width": null,
            "object_fit": null,
            "object_position": null,
            "order": null,
            "overflow": null,
            "overflow_x": null,
            "overflow_y": null,
            "padding": null,
            "right": null,
            "top": null,
            "visibility": null,
            "width": null
          }
        },
        "438d76aa14904370b180f8685d9a216d": {
          "model_module": "@jupyter-widgets/controls",
          "model_name": "DescriptionStyleModel",
          "model_module_version": "1.5.0",
          "state": {
            "_model_module": "@jupyter-widgets/controls",
            "_model_module_version": "1.5.0",
            "_model_name": "DescriptionStyleModel",
            "_view_count": null,
            "_view_module": "@jupyter-widgets/base",
            "_view_module_version": "1.2.0",
            "_view_name": "StyleView",
            "description_width": ""
          }
        },
        "17b64b4be76c49c3b4c7da2b18709a60": {
          "model_module": "@jupyter-widgets/base",
          "model_name": "LayoutModel",
          "model_module_version": "1.2.0",
          "state": {
            "_model_module": "@jupyter-widgets/base",
            "_model_module_version": "1.2.0",
            "_model_name": "LayoutModel",
            "_view_count": null,
            "_view_module": "@jupyter-widgets/base",
            "_view_module_version": "1.2.0",
            "_view_name": "LayoutView",
            "align_content": null,
            "align_items": null,
            "align_self": null,
            "border": null,
            "bottom": null,
            "display": null,
            "flex": null,
            "flex_flow": null,
            "grid_area": null,
            "grid_auto_columns": null,
            "grid_auto_flow": null,
            "grid_auto_rows": null,
            "grid_column": null,
            "grid_gap": null,
            "grid_row": null,
            "grid_template_areas": null,
            "grid_template_columns": null,
            "grid_template_rows": null,
            "height": null,
            "justify_content": null,
            "justify_items": null,
            "left": null,
            "margin": null,
            "max_height": null,
            "max_width": null,
            "min_height": null,
            "min_width": null,
            "object_fit": null,
            "object_position": null,
            "order": null,
            "overflow": null,
            "overflow_x": null,
            "overflow_y": null,
            "padding": null,
            "right": null,
            "top": null,
            "visibility": null,
            "width": null
          }
        },
        "a81c76efcd5041e6bfc6855db3568b3b": {
          "model_module": "@jupyter-widgets/controls",
          "model_name": "ProgressStyleModel",
          "model_module_version": "1.5.0",
          "state": {
            "_model_module": "@jupyter-widgets/controls",
            "_model_module_version": "1.5.0",
            "_model_name": "ProgressStyleModel",
            "_view_count": null,
            "_view_module": "@jupyter-widgets/base",
            "_view_module_version": "1.2.0",
            "_view_name": "StyleView",
            "bar_color": null,
            "description_width": ""
          }
        },
        "c4962e05c1f34d3d93dc5869951b0a9a": {
          "model_module": "@jupyter-widgets/base",
          "model_name": "LayoutModel",
          "model_module_version": "1.2.0",
          "state": {
            "_model_module": "@jupyter-widgets/base",
            "_model_module_version": "1.2.0",
            "_model_name": "LayoutModel",
            "_view_count": null,
            "_view_module": "@jupyter-widgets/base",
            "_view_module_version": "1.2.0",
            "_view_name": "LayoutView",
            "align_content": null,
            "align_items": null,
            "align_self": null,
            "border": null,
            "bottom": null,
            "display": null,
            "flex": null,
            "flex_flow": null,
            "grid_area": null,
            "grid_auto_columns": null,
            "grid_auto_flow": null,
            "grid_auto_rows": null,
            "grid_column": null,
            "grid_gap": null,
            "grid_row": null,
            "grid_template_areas": null,
            "grid_template_columns": null,
            "grid_template_rows": null,
            "height": null,
            "justify_content": null,
            "justify_items": null,
            "left": null,
            "margin": null,
            "max_height": null,
            "max_width": null,
            "min_height": null,
            "min_width": null,
            "object_fit": null,
            "object_position": null,
            "order": null,
            "overflow": null,
            "overflow_x": null,
            "overflow_y": null,
            "padding": null,
            "right": null,
            "top": null,
            "visibility": null,
            "width": null
          }
        },
        "84e6fa1a50f44749be2939e0b819f6f2": {
          "model_module": "@jupyter-widgets/controls",
          "model_name": "DescriptionStyleModel",
          "model_module_version": "1.5.0",
          "state": {
            "_model_module": "@jupyter-widgets/controls",
            "_model_module_version": "1.5.0",
            "_model_name": "DescriptionStyleModel",
            "_view_count": null,
            "_view_module": "@jupyter-widgets/base",
            "_view_module_version": "1.2.0",
            "_view_name": "StyleView",
            "description_width": ""
          }
        },
        "81f6cbb9bc7d44daa46944632515ae49": {
          "model_module": "@jupyter-widgets/controls",
          "model_name": "HBoxModel",
          "model_module_version": "1.5.0",
          "state": {
            "_dom_classes": [],
            "_model_module": "@jupyter-widgets/controls",
            "_model_module_version": "1.5.0",
            "_model_name": "HBoxModel",
            "_view_count": null,
            "_view_module": "@jupyter-widgets/controls",
            "_view_module_version": "1.5.0",
            "_view_name": "HBoxView",
            "box_style": "",
            "children": [
              "IPY_MODEL_5310d7f4c6d74162827ac37346c017a8",
              "IPY_MODEL_6c630b801a44496f9276657fa657d153",
              "IPY_MODEL_374f28ba928e4cbba5bdf9721e77020c"
            ],
            "layout": "IPY_MODEL_cef78220541c46af9980e6b1f90328aa"
          }
        },
        "5310d7f4c6d74162827ac37346c017a8": {
          "model_module": "@jupyter-widgets/controls",
          "model_name": "HTMLModel",
          "model_module_version": "1.5.0",
          "state": {
            "_dom_classes": [],
            "_model_module": "@jupyter-widgets/controls",
            "_model_module_version": "1.5.0",
            "_model_name": "HTMLModel",
            "_view_count": null,
            "_view_module": "@jupyter-widgets/controls",
            "_view_module_version": "1.5.0",
            "_view_name": "HTMLView",
            "description": "",
            "description_tooltip": null,
            "layout": "IPY_MODEL_0a3e44e43a094595b3f0004e530a8be8",
            "placeholder": "​",
            "style": "IPY_MODEL_d678681507644b0d9c19891cf23b7553",
            "value": "Downloading: 100%"
          }
        },
        "6c630b801a44496f9276657fa657d153": {
          "model_module": "@jupyter-widgets/controls",
          "model_name": "FloatProgressModel",
          "model_module_version": "1.5.0",
          "state": {
            "_dom_classes": [],
            "_model_module": "@jupyter-widgets/controls",
            "_model_module_version": "1.5.0",
            "_model_name": "FloatProgressModel",
            "_view_count": null,
            "_view_module": "@jupyter-widgets/controls",
            "_view_module_version": "1.5.0",
            "_view_name": "ProgressView",
            "bar_style": "success",
            "description": "",
            "description_tooltip": null,
            "layout": "IPY_MODEL_484346a1b78c4e9391ea58b7757b374b",
            "max": 501229896,
            "min": 0,
            "orientation": "horizontal",
            "style": "IPY_MODEL_1dcd6d9ee31d4115826214f710d32324",
            "value": 501229896
          }
        },
        "374f28ba928e4cbba5bdf9721e77020c": {
          "model_module": "@jupyter-widgets/controls",
          "model_name": "HTMLModel",
          "model_module_version": "1.5.0",
          "state": {
            "_dom_classes": [],
            "_model_module": "@jupyter-widgets/controls",
            "_model_module_version": "1.5.0",
            "_model_name": "HTMLModel",
            "_view_count": null,
            "_view_module": "@jupyter-widgets/controls",
            "_view_module_version": "1.5.0",
            "_view_name": "HTMLView",
            "description": "",
            "description_tooltip": null,
            "layout": "IPY_MODEL_8730a0b53b3245e7ab26ae8ed8005bd6",
            "placeholder": "​",
            "style": "IPY_MODEL_03b54df017ca4559a29d54d5646fa53c",
            "value": " 501M/501M [00:08&lt;00:00, 59.1MB/s]"
          }
        },
        "cef78220541c46af9980e6b1f90328aa": {
          "model_module": "@jupyter-widgets/base",
          "model_name": "LayoutModel",
          "model_module_version": "1.2.0",
          "state": {
            "_model_module": "@jupyter-widgets/base",
            "_model_module_version": "1.2.0",
            "_model_name": "LayoutModel",
            "_view_count": null,
            "_view_module": "@jupyter-widgets/base",
            "_view_module_version": "1.2.0",
            "_view_name": "LayoutView",
            "align_content": null,
            "align_items": null,
            "align_self": null,
            "border": null,
            "bottom": null,
            "display": null,
            "flex": null,
            "flex_flow": null,
            "grid_area": null,
            "grid_auto_columns": null,
            "grid_auto_flow": null,
            "grid_auto_rows": null,
            "grid_column": null,
            "grid_gap": null,
            "grid_row": null,
            "grid_template_areas": null,
            "grid_template_columns": null,
            "grid_template_rows": null,
            "height": null,
            "justify_content": null,
            "justify_items": null,
            "left": null,
            "margin": null,
            "max_height": null,
            "max_width": null,
            "min_height": null,
            "min_width": null,
            "object_fit": null,
            "object_position": null,
            "order": null,
            "overflow": null,
            "overflow_x": null,
            "overflow_y": null,
            "padding": null,
            "right": null,
            "top": null,
            "visibility": null,
            "width": null
          }
        },
        "0a3e44e43a094595b3f0004e530a8be8": {
          "model_module": "@jupyter-widgets/base",
          "model_name": "LayoutModel",
          "model_module_version": "1.2.0",
          "state": {
            "_model_module": "@jupyter-widgets/base",
            "_model_module_version": "1.2.0",
            "_model_name": "LayoutModel",
            "_view_count": null,
            "_view_module": "@jupyter-widgets/base",
            "_view_module_version": "1.2.0",
            "_view_name": "LayoutView",
            "align_content": null,
            "align_items": null,
            "align_self": null,
            "border": null,
            "bottom": null,
            "display": null,
            "flex": null,
            "flex_flow": null,
            "grid_area": null,
            "grid_auto_columns": null,
            "grid_auto_flow": null,
            "grid_auto_rows": null,
            "grid_column": null,
            "grid_gap": null,
            "grid_row": null,
            "grid_template_areas": null,
            "grid_template_columns": null,
            "grid_template_rows": null,
            "height": null,
            "justify_content": null,
            "justify_items": null,
            "left": null,
            "margin": null,
            "max_height": null,
            "max_width": null,
            "min_height": null,
            "min_width": null,
            "object_fit": null,
            "object_position": null,
            "order": null,
            "overflow": null,
            "overflow_x": null,
            "overflow_y": null,
            "padding": null,
            "right": null,
            "top": null,
            "visibility": null,
            "width": null
          }
        },
        "d678681507644b0d9c19891cf23b7553": {
          "model_module": "@jupyter-widgets/controls",
          "model_name": "DescriptionStyleModel",
          "model_module_version": "1.5.0",
          "state": {
            "_model_module": "@jupyter-widgets/controls",
            "_model_module_version": "1.5.0",
            "_model_name": "DescriptionStyleModel",
            "_view_count": null,
            "_view_module": "@jupyter-widgets/base",
            "_view_module_version": "1.2.0",
            "_view_name": "StyleView",
            "description_width": ""
          }
        },
        "484346a1b78c4e9391ea58b7757b374b": {
          "model_module": "@jupyter-widgets/base",
          "model_name": "LayoutModel",
          "model_module_version": "1.2.0",
          "state": {
            "_model_module": "@jupyter-widgets/base",
            "_model_module_version": "1.2.0",
            "_model_name": "LayoutModel",
            "_view_count": null,
            "_view_module": "@jupyter-widgets/base",
            "_view_module_version": "1.2.0",
            "_view_name": "LayoutView",
            "align_content": null,
            "align_items": null,
            "align_self": null,
            "border": null,
            "bottom": null,
            "display": null,
            "flex": null,
            "flex_flow": null,
            "grid_area": null,
            "grid_auto_columns": null,
            "grid_auto_flow": null,
            "grid_auto_rows": null,
            "grid_column": null,
            "grid_gap": null,
            "grid_row": null,
            "grid_template_areas": null,
            "grid_template_columns": null,
            "grid_template_rows": null,
            "height": null,
            "justify_content": null,
            "justify_items": null,
            "left": null,
            "margin": null,
            "max_height": null,
            "max_width": null,
            "min_height": null,
            "min_width": null,
            "object_fit": null,
            "object_position": null,
            "order": null,
            "overflow": null,
            "overflow_x": null,
            "overflow_y": null,
            "padding": null,
            "right": null,
            "top": null,
            "visibility": null,
            "width": null
          }
        },
        "1dcd6d9ee31d4115826214f710d32324": {
          "model_module": "@jupyter-widgets/controls",
          "model_name": "ProgressStyleModel",
          "model_module_version": "1.5.0",
          "state": {
            "_model_module": "@jupyter-widgets/controls",
            "_model_module_version": "1.5.0",
            "_model_name": "ProgressStyleModel",
            "_view_count": null,
            "_view_module": "@jupyter-widgets/base",
            "_view_module_version": "1.2.0",
            "_view_name": "StyleView",
            "bar_color": null,
            "description_width": ""
          }
        },
        "8730a0b53b3245e7ab26ae8ed8005bd6": {
          "model_module": "@jupyter-widgets/base",
          "model_name": "LayoutModel",
          "model_module_version": "1.2.0",
          "state": {
            "_model_module": "@jupyter-widgets/base",
            "_model_module_version": "1.2.0",
            "_model_name": "LayoutModel",
            "_view_count": null,
            "_view_module": "@jupyter-widgets/base",
            "_view_module_version": "1.2.0",
            "_view_name": "LayoutView",
            "align_content": null,
            "align_items": null,
            "align_self": null,
            "border": null,
            "bottom": null,
            "display": null,
            "flex": null,
            "flex_flow": null,
            "grid_area": null,
            "grid_auto_columns": null,
            "grid_auto_flow": null,
            "grid_auto_rows": null,
            "grid_column": null,
            "grid_gap": null,
            "grid_row": null,
            "grid_template_areas": null,
            "grid_template_columns": null,
            "grid_template_rows": null,
            "height": null,
            "justify_content": null,
            "justify_items": null,
            "left": null,
            "margin": null,
            "max_height": null,
            "max_width": null,
            "min_height": null,
            "min_width": null,
            "object_fit": null,
            "object_position": null,
            "order": null,
            "overflow": null,
            "overflow_x": null,
            "overflow_y": null,
            "padding": null,
            "right": null,
            "top": null,
            "visibility": null,
            "width": null
          }
        },
        "03b54df017ca4559a29d54d5646fa53c": {
          "model_module": "@jupyter-widgets/controls",
          "model_name": "DescriptionStyleModel",
          "model_module_version": "1.5.0",
          "state": {
            "_model_module": "@jupyter-widgets/controls",
            "_model_module_version": "1.5.0",
            "_model_name": "DescriptionStyleModel",
            "_view_count": null,
            "_view_module": "@jupyter-widgets/base",
            "_view_module_version": "1.2.0",
            "_view_name": "StyleView",
            "description_width": ""
          }
        }
      }
    }
  },
  "nbformat": 4,
  "nbformat_minor": 5
}